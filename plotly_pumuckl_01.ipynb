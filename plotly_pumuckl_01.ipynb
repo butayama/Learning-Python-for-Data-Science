{
 "cells": [
  {
   "cell_type": "code",
   "execution_count": 5,
   "metadata": {},
   "outputs": [
    {
     "data": {
      "text/html": "        <script type=\"text/javascript\">\n        window.PlotlyConfig = {MathJaxConfig: 'local'};\n        if (window.MathJax) {MathJax.Hub.Config({SVG: {font: \"STIX-Web\"}});}\n        if (typeof require !== 'undefined') {\n        require.undef(\"plotly\");\n        requirejs.config({\n            paths: {\n                'plotly': ['https://cdn.plot.ly/plotly-latest.min']\n            }\n        });\n        require(['plotly'], function(Plotly) {\n            window._Plotly = Plotly;\n        });\n        }\n        </script>\n        "
     },
     "metadata": {},
     "output_type": "display_data"
    },
    {
     "data": {
      "text/html": "        <script type=\"text/javascript\">\n        window.PlotlyConfig = {MathJaxConfig: 'local'};\n        if (window.MathJax) {MathJax.Hub.Config({SVG: {font: \"STIX-Web\"}});}\n        if (typeof require !== 'undefined') {\n        require.undef(\"plotly\");\n        requirejs.config({\n            paths: {\n                'plotly': ['https://cdn.plot.ly/plotly-latest.min']\n            }\n        });\n        require(['plotly'], function(Plotly) {\n            window._Plotly = Plotly;\n        });\n        }\n        </script>\n        "
     },
     "metadata": {},
     "output_type": "display_data"
    }
   ],
   "source": [
    "import pandas as pd\n",
    "import numpy as np\n",
    "import matplotlib.pyplot as plt\n",
    "import seaborn as sns\n",
    "import warnings\n",
    "import statsmodels.formula.api as smf\n",
    "\n",
    "# Standard plotly imports\n",
    "import chart_studio.plotly as py\n",
    "import plotly.express as px\n",
    "import plotly.graph_objs as go\n",
    "import plotly.figure_factory as ff\n",
    "from plotly.offline import iplot, init_notebook_mode, plot\n",
    "# Using plotly + cufflinks in offline mode\n",
    "import cufflinks\n",
    "cufflinks.go_offline(connected=True)\n",
    "init_notebook_mode(connected=True)\n",
    "\n",
    "warnings.filterwarnings('ignore')\n",
    "%matplotlib inline"
   ]
  },
  {
   "cell_type": "code",
   "execution_count": 6,
   "metadata": {
    "pycharm": {
     "name": "#%%\n"
    }
   },
   "outputs": [],
   "source": [
    "# .ods Datei nach Geany kopieren\n",
    "# mit replace , durch . ersetzen\n",
    "# Neue .ods Datei erstellen\n",
    "# Inhalt von Geany nach .ods kopieren, Tabulator und , als Texttrenner\n",
    "# .ods als .csv speichern nur mit , als Texttrenner\n",
    "df = pd.read_csv('data_files/test02.csv')\n",
    "# df = pd.read_csv('data_files\\Berechung_dCS_02.csv')"
   ]
  },
  {
   "cell_type": "code",
   "execution_count": 7,
   "metadata": {},
   "outputs": [
    {
     "data": {
      "text/plain": "      C     S     T     A  Alpha  Theta  beta    dC    dS    zz    dCS    VCS  \\\n0   5.7 -23.4 -29.7  23.9  -77.0  140.4  38.0 -54.4 -11.3  73.3  55.56  24.08   \n1  14.0 -22.0 -29.7  25.4  -58.3  138.7  38.9 -29.5  -4.0  50.6  29.77  26.08   \n2  16.5 -20.0 -29.7  25.1  -50.9  139.0  38.7 -20.6   0.0  42.9  20.60  25.93   \n3  15.5 -17.2 -29.7  22.6  -48.1  142.1  37.1 -17.0   2.0  41.3  17.12  23.15   \n4  12.0 -14.5 -29.7  18.5  -50.6  147.6  34.9 -12.1   6.8  45.8  13.88  18.82   \n\n    C+S   C/S  dC-dS  \n0 -17.7 -0.24  -43.1  \n1  -8.0 -0.64  -25.5  \n2  -3.5 -0.83  -20.6  \n3  -1.7 -0.90  -19.0  \n4  -2.5 -0.83  -18.9  ",
      "text/html": "<div>\n<style scoped>\n    .dataframe tbody tr th:only-of-type {\n        vertical-align: middle;\n    }\n\n    .dataframe tbody tr th {\n        vertical-align: top;\n    }\n\n    .dataframe thead th {\n        text-align: right;\n    }\n</style>\n<table border=\"1\" class=\"dataframe\">\n  <thead>\n    <tr style=\"text-align: right;\">\n      <th></th>\n      <th>C</th>\n      <th>S</th>\n      <th>T</th>\n      <th>A</th>\n      <th>Alpha</th>\n      <th>Theta</th>\n      <th>beta</th>\n      <th>dC</th>\n      <th>dS</th>\n      <th>zz</th>\n      <th>dCS</th>\n      <th>VCS</th>\n      <th>C+S</th>\n      <th>C/S</th>\n      <th>dC-dS</th>\n    </tr>\n  </thead>\n  <tbody>\n    <tr>\n      <th>0</th>\n      <td>5.7</td>\n      <td>-23.4</td>\n      <td>-29.7</td>\n      <td>23.9</td>\n      <td>-77.0</td>\n      <td>140.4</td>\n      <td>38.0</td>\n      <td>-54.4</td>\n      <td>-11.3</td>\n      <td>73.3</td>\n      <td>55.56</td>\n      <td>24.08</td>\n      <td>-17.7</td>\n      <td>-0.24</td>\n      <td>-43.1</td>\n    </tr>\n    <tr>\n      <th>1</th>\n      <td>14.0</td>\n      <td>-22.0</td>\n      <td>-29.7</td>\n      <td>25.4</td>\n      <td>-58.3</td>\n      <td>138.7</td>\n      <td>38.9</td>\n      <td>-29.5</td>\n      <td>-4.0</td>\n      <td>50.6</td>\n      <td>29.77</td>\n      <td>26.08</td>\n      <td>-8.0</td>\n      <td>-0.64</td>\n      <td>-25.5</td>\n    </tr>\n    <tr>\n      <th>2</th>\n      <td>16.5</td>\n      <td>-20.0</td>\n      <td>-29.7</td>\n      <td>25.1</td>\n      <td>-50.9</td>\n      <td>139.0</td>\n      <td>38.7</td>\n      <td>-20.6</td>\n      <td>0.0</td>\n      <td>42.9</td>\n      <td>20.60</td>\n      <td>25.93</td>\n      <td>-3.5</td>\n      <td>-0.83</td>\n      <td>-20.6</td>\n    </tr>\n    <tr>\n      <th>3</th>\n      <td>15.5</td>\n      <td>-17.2</td>\n      <td>-29.7</td>\n      <td>22.6</td>\n      <td>-48.1</td>\n      <td>142.1</td>\n      <td>37.1</td>\n      <td>-17.0</td>\n      <td>2.0</td>\n      <td>41.3</td>\n      <td>17.12</td>\n      <td>23.15</td>\n      <td>-1.7</td>\n      <td>-0.90</td>\n      <td>-19.0</td>\n    </tr>\n    <tr>\n      <th>4</th>\n      <td>12.0</td>\n      <td>-14.5</td>\n      <td>-29.7</td>\n      <td>18.5</td>\n      <td>-50.6</td>\n      <td>147.6</td>\n      <td>34.9</td>\n      <td>-12.1</td>\n      <td>6.8</td>\n      <td>45.8</td>\n      <td>13.88</td>\n      <td>18.82</td>\n      <td>-2.5</td>\n      <td>-0.83</td>\n      <td>-18.9</td>\n    </tr>\n  </tbody>\n</table>\n</div>"
     },
     "execution_count": 7,
     "metadata": {},
     "output_type": "execute_result"
    }
   ],
   "source": [
    "df.head()"
   ]
  },
  {
   "cell_type": "code",
   "execution_count": 4,
   "metadata": {
    "pycharm": {
     "name": "#%%\n"
    }
   },
   "outputs": [
    {
     "ename": "KeyError",
     "evalue": "'dCS'",
     "output_type": "error",
     "traceback": [
      "\u001B[1;31m---------------------------------------------------------------------------\u001B[0m",
      "\u001B[1;31mKeyError\u001B[0m                                  Traceback (most recent call last)",
      "\u001B[1;32mc:\\users\\baust\\github\\learning-python-for-data-science\\venv\\lib\\site-packages\\pandas\\core\\indexes\\base.py\u001B[0m in \u001B[0;36mget_loc\u001B[1;34m(self, key, method, tolerance)\u001B[0m\n\u001B[0;32m   2645\u001B[0m             \u001B[1;32mtry\u001B[0m\u001B[1;33m:\u001B[0m\u001B[1;33m\u001B[0m\u001B[1;33m\u001B[0m\u001B[0m\n\u001B[1;32m-> 2646\u001B[1;33m                 \u001B[1;32mreturn\u001B[0m \u001B[0mself\u001B[0m\u001B[1;33m.\u001B[0m\u001B[0m_engine\u001B[0m\u001B[1;33m.\u001B[0m\u001B[0mget_loc\u001B[0m\u001B[1;33m(\u001B[0m\u001B[0mkey\u001B[0m\u001B[1;33m)\u001B[0m\u001B[1;33m\u001B[0m\u001B[1;33m\u001B[0m\u001B[0m\n\u001B[0m\u001B[0;32m   2647\u001B[0m             \u001B[1;32mexcept\u001B[0m \u001B[0mKeyError\u001B[0m\u001B[1;33m:\u001B[0m\u001B[1;33m\u001B[0m\u001B[1;33m\u001B[0m\u001B[0m\n",
      "\u001B[1;32mpandas\\_libs\\index.pyx\u001B[0m in \u001B[0;36mpandas._libs.index.IndexEngine.get_loc\u001B[1;34m()\u001B[0m\n",
      "\u001B[1;32mpandas\\_libs\\index.pyx\u001B[0m in \u001B[0;36mpandas._libs.index.IndexEngine.get_loc\u001B[1;34m()\u001B[0m\n",
      "\u001B[1;32mpandas\\_libs\\hashtable_class_helper.pxi\u001B[0m in \u001B[0;36mpandas._libs.hashtable.PyObjectHashTable.get_item\u001B[1;34m()\u001B[0m\n",
      "\u001B[1;32mpandas\\_libs\\hashtable_class_helper.pxi\u001B[0m in \u001B[0;36mpandas._libs.hashtable.PyObjectHashTable.get_item\u001B[1;34m()\u001B[0m\n",
      "\u001B[1;31mKeyError\u001B[0m: 'dCS'",
      "\nDuring handling of the above exception, another exception occurred:\n",
      "\u001B[1;31mKeyError\u001B[0m                                  Traceback (most recent call last)",
      "\u001B[1;32m<ipython-input-4-966c38130c6d>\u001B[0m in \u001B[0;36m<module>\u001B[1;34m\u001B[0m\n\u001B[1;32m----> 1\u001B[1;33m df['dCS'].iplot(size=0, kind='hist', xTitle='length',\n\u001B[0m\u001B[0;32m      2\u001B[0m yTitle='count', title='dCS Distribution')\n\u001B[0;32m      3\u001B[0m \u001B[0mplt\u001B[0m\u001B[1;33m.\u001B[0m\u001B[0mshow\u001B[0m\u001B[1;33m(\u001B[0m\u001B[1;33m)\u001B[0m\u001B[1;33m\u001B[0m\u001B[1;33m\u001B[0m\u001B[0m\n\u001B[0;32m      4\u001B[0m \u001B[1;33m\u001B[0m\u001B[0m\n",
      "\u001B[1;32mc:\\users\\baust\\github\\learning-python-for-data-science\\venv\\lib\\site-packages\\pandas\\core\\frame.py\u001B[0m in \u001B[0;36m__getitem__\u001B[1;34m(self, key)\u001B[0m\n\u001B[0;32m   2798\u001B[0m             \u001B[1;32mif\u001B[0m \u001B[0mself\u001B[0m\u001B[1;33m.\u001B[0m\u001B[0mcolumns\u001B[0m\u001B[1;33m.\u001B[0m\u001B[0mnlevels\u001B[0m \u001B[1;33m>\u001B[0m \u001B[1;36m1\u001B[0m\u001B[1;33m:\u001B[0m\u001B[1;33m\u001B[0m\u001B[1;33m\u001B[0m\u001B[0m\n\u001B[0;32m   2799\u001B[0m                 \u001B[1;32mreturn\u001B[0m \u001B[0mself\u001B[0m\u001B[1;33m.\u001B[0m\u001B[0m_getitem_multilevel\u001B[0m\u001B[1;33m(\u001B[0m\u001B[0mkey\u001B[0m\u001B[1;33m)\u001B[0m\u001B[1;33m\u001B[0m\u001B[1;33m\u001B[0m\u001B[0m\n\u001B[1;32m-> 2800\u001B[1;33m             \u001B[0mindexer\u001B[0m \u001B[1;33m=\u001B[0m \u001B[0mself\u001B[0m\u001B[1;33m.\u001B[0m\u001B[0mcolumns\u001B[0m\u001B[1;33m.\u001B[0m\u001B[0mget_loc\u001B[0m\u001B[1;33m(\u001B[0m\u001B[0mkey\u001B[0m\u001B[1;33m)\u001B[0m\u001B[1;33m\u001B[0m\u001B[1;33m\u001B[0m\u001B[0m\n\u001B[0m\u001B[0;32m   2801\u001B[0m             \u001B[1;32mif\u001B[0m \u001B[0mis_integer\u001B[0m\u001B[1;33m(\u001B[0m\u001B[0mindexer\u001B[0m\u001B[1;33m)\u001B[0m\u001B[1;33m:\u001B[0m\u001B[1;33m\u001B[0m\u001B[1;33m\u001B[0m\u001B[0m\n\u001B[0;32m   2802\u001B[0m                 \u001B[0mindexer\u001B[0m \u001B[1;33m=\u001B[0m \u001B[1;33m[\u001B[0m\u001B[0mindexer\u001B[0m\u001B[1;33m]\u001B[0m\u001B[1;33m\u001B[0m\u001B[1;33m\u001B[0m\u001B[0m\n",
      "\u001B[1;32mc:\\users\\baust\\github\\learning-python-for-data-science\\venv\\lib\\site-packages\\pandas\\core\\indexes\\base.py\u001B[0m in \u001B[0;36mget_loc\u001B[1;34m(self, key, method, tolerance)\u001B[0m\n\u001B[0;32m   2646\u001B[0m                 \u001B[1;32mreturn\u001B[0m \u001B[0mself\u001B[0m\u001B[1;33m.\u001B[0m\u001B[0m_engine\u001B[0m\u001B[1;33m.\u001B[0m\u001B[0mget_loc\u001B[0m\u001B[1;33m(\u001B[0m\u001B[0mkey\u001B[0m\u001B[1;33m)\u001B[0m\u001B[1;33m\u001B[0m\u001B[1;33m\u001B[0m\u001B[0m\n\u001B[0;32m   2647\u001B[0m             \u001B[1;32mexcept\u001B[0m \u001B[0mKeyError\u001B[0m\u001B[1;33m:\u001B[0m\u001B[1;33m\u001B[0m\u001B[1;33m\u001B[0m\u001B[0m\n\u001B[1;32m-> 2648\u001B[1;33m                 \u001B[1;32mreturn\u001B[0m \u001B[0mself\u001B[0m\u001B[1;33m.\u001B[0m\u001B[0m_engine\u001B[0m\u001B[1;33m.\u001B[0m\u001B[0mget_loc\u001B[0m\u001B[1;33m(\u001B[0m\u001B[0mself\u001B[0m\u001B[1;33m.\u001B[0m\u001B[0m_maybe_cast_indexer\u001B[0m\u001B[1;33m(\u001B[0m\u001B[0mkey\u001B[0m\u001B[1;33m)\u001B[0m\u001B[1;33m)\u001B[0m\u001B[1;33m\u001B[0m\u001B[1;33m\u001B[0m\u001B[0m\n\u001B[0m\u001B[0;32m   2649\u001B[0m         \u001B[0mindexer\u001B[0m \u001B[1;33m=\u001B[0m \u001B[0mself\u001B[0m\u001B[1;33m.\u001B[0m\u001B[0mget_indexer\u001B[0m\u001B[1;33m(\u001B[0m\u001B[1;33m[\u001B[0m\u001B[0mkey\u001B[0m\u001B[1;33m]\u001B[0m\u001B[1;33m,\u001B[0m \u001B[0mmethod\u001B[0m\u001B[1;33m=\u001B[0m\u001B[0mmethod\u001B[0m\u001B[1;33m,\u001B[0m \u001B[0mtolerance\u001B[0m\u001B[1;33m=\u001B[0m\u001B[0mtolerance\u001B[0m\u001B[1;33m)\u001B[0m\u001B[1;33m\u001B[0m\u001B[1;33m\u001B[0m\u001B[0m\n\u001B[0;32m   2650\u001B[0m         \u001B[1;32mif\u001B[0m \u001B[0mindexer\u001B[0m\u001B[1;33m.\u001B[0m\u001B[0mndim\u001B[0m \u001B[1;33m>\u001B[0m \u001B[1;36m1\u001B[0m \u001B[1;32mor\u001B[0m \u001B[0mindexer\u001B[0m\u001B[1;33m.\u001B[0m\u001B[0msize\u001B[0m \u001B[1;33m>\u001B[0m \u001B[1;36m1\u001B[0m\u001B[1;33m:\u001B[0m\u001B[1;33m\u001B[0m\u001B[1;33m\u001B[0m\u001B[0m\n",
      "\u001B[1;32mpandas\\_libs\\index.pyx\u001B[0m in \u001B[0;36mpandas._libs.index.IndexEngine.get_loc\u001B[1;34m()\u001B[0m\n",
      "\u001B[1;32mpandas\\_libs\\index.pyx\u001B[0m in \u001B[0;36mpandas._libs.index.IndexEngine.get_loc\u001B[1;34m()\u001B[0m\n",
      "\u001B[1;32mpandas\\_libs\\hashtable_class_helper.pxi\u001B[0m in \u001B[0;36mpandas._libs.hashtable.PyObjectHashTable.get_item\u001B[1;34m()\u001B[0m\n",
      "\u001B[1;32mpandas\\_libs\\hashtable_class_helper.pxi\u001B[0m in \u001B[0;36mpandas._libs.hashtable.PyObjectHashTable.get_item\u001B[1;34m()\u001B[0m\n",
      "\u001B[1;31mKeyError\u001B[0m: 'dCS'"
     ]
    }
   ],
   "source": [
    "df['dCS'].iplot(size=0, kind='hist', xTitle='length',\n",
    "yTitle='count', title='dCS Distribution')\n",
    "plt.show()"
   ]
  },
  {
   "cell_type": "code",
   "execution_count": null,
   "metadata": {},
   "outputs": [],
   "source": [
    "plt.figure(figsize=[10,6])\n",
    "sns.distplot(df['beta'], kde=False, bins=20)\n",
    "plt.show()"
   ]
  },
  {
   "cell_type": "code",
   "execution_count": null,
   "metadata": {},
   "outputs": [],
   "source": [
    "sns.lmplot('dCS', 'beta', data=df, fit_reg= False, aspect=2, size =5, hue='A')\n",
    "plt.show()"
   ]
  },
  {
   "cell_type": "code",
   "execution_count": null,
   "metadata": {},
   "outputs": [],
   "source": [
    "sns.lmplot('C', 'S', data=df, fit_reg= False, aspect=2, size =4, hue='Alpha')\n",
    "plt.show()"
   ]
  },
  {
   "cell_type": "code",
   "execution_count": null,
   "metadata": {
    "pycharm": {
     "name": "#%%\n"
    }
   },
   "outputs": [],
   "source": [
    "sns.lmplot('C', 'S', data=df, fit_reg= False, aspect=2, size =4, hue='Theta')\n",
    "plt.show()"
   ]
  },
  {
   "cell_type": "code",
   "execution_count": null,
   "metadata": {
    "pycharm": {
     "name": "#%%\n"
    }
   },
   "outputs": [],
   "source": [
    "sns.lmplot('C', 'S', data=df, fit_reg= False, aspect=2, size =4, hue='dC')\n",
    "plt.show()"
   ]
  },
  {
   "cell_type": "code",
   "execution_count": null,
   "metadata": {
    "pycharm": {
     "name": "#%%\n"
    }
   },
   "outputs": [],
   "source": [
    "sns.lmplot('C', 'S', data=df, fit_reg= False, aspect=2, size =4, hue='dS')\n",
    "plt.show()"
   ]
  },
  {
   "cell_type": "code",
   "execution_count": null,
   "metadata": {},
   "outputs": [],
   "source": [
    "sns.lmplot('C', 'S', data=df, fit_reg= False, aspect=1, size =6, hue='zz')\n",
    "plt.show()"
   ]
  },
  {
   "cell_type": "code",
   "execution_count": null,
   "metadata": {},
   "outputs": [],
   "source": [
    "sns.kdeplot(df['C'], df['S'], shade=True)\n",
    "plt.show()"
   ]
  },
  {
   "cell_type": "code",
   "execution_count": null,
   "metadata": {
    "pycharm": {
     "name": "#%%\n"
    }
   },
   "outputs": [],
   "source": [
    "sns.kdeplot(df['C'], df['dCS'], shade=True)\n",
    "plt.show()"
   ]
  },
  {
   "cell_type": "code",
   "execution_count": null,
   "metadata": {
    "pycharm": {
     "name": "#%%\n"
    }
   },
   "outputs": [],
   "source": [
    "sns.kdeplot(df['S'], df['dCS'], shade=True)\n",
    "plt.show()"
   ]
  },
  {
   "cell_type": "code",
   "execution_count": null,
   "metadata": {
    "pycharm": {
     "name": "#%%\n"
    }
   },
   "outputs": [],
   "source": [
    "sns.kdeplot(df['dCS'], shade=True)\n",
    "plt.show()"
   ]
  },
  {
   "cell_type": "code",
   "execution_count": null,
   "metadata": {
    "pycharm": {
     "name": "#%%\n"
    }
   },
   "outputs": [],
   "source": [
    "sns.kdeplot(df['C'], shade=True)\n",
    "plt.show()"
   ]
  },
  {
   "cell_type": "code",
   "execution_count": null,
   "metadata": {
    "pycharm": {
     "name": "#%%\n"
    }
   },
   "outputs": [],
   "source": [
    "sns.kdeplot(df['S'], shade=True)\n",
    "plt.show()"
   ]
  },
  {
   "cell_type": "code",
   "execution_count": null,
   "metadata": {},
   "outputs": [],
   "source": [
    "sns.jointplot('C', 'S', data=df, alpha=0.4)\n",
    "plt.show()\n",
    "\n"
   ]
  },
  {
   "cell_type": "code",
   "execution_count": null,
   "metadata": {
    "pycharm": {
     "name": "#%%\n"
    }
   },
   "outputs": [],
   "source": [
    "# data = [\n",
    "#     go.Bar(\n",
    "#         x=df['S'],\n",
    "#         y=df['dS'],\n",
    "#     )\n",
    "# ]\n",
    "#\n",
    "# layout = go.Layout(\n",
    "#     title='Abweichungen dS in Abhängigkeit von S'\n",
    "# )\n",
    "#\n",
    "# fig = go.Figure(data=data, layout=layout)\n",
    "# iplot(fig, filename='Abweichungen dS in Abhängigkeit von S')\n",
    "# plt.show()"
   ]
  },
  {
   "cell_type": "code",
   "execution_count": null,
   "metadata": {
    "pycharm": {
     "name": "#%%\n"
    }
   },
   "outputs": [],
   "source": [
    "# data = [\n",
    "#     go.Bar(\n",
    "#         x=df['S'],\n",
    "#         y=df['dS'],\n",
    "#     )\n",
    "# ]\n",
    "#\n",
    "# layout = go.Layout(\n",
    "#     title='Abweichungen dS in Abhängigkeit von S'\n",
    "# )\n",
    "#\n",
    "# fig = go.Figure(data=data, layout=layout)\n",
    "# iplot(fig, filename='test_chart_layout_01')\n",
    "# plt.show()"
   ]
  },
  {
   "cell_type": "code",
   "execution_count": null,
   "metadata": {
    "pycharm": {
     "name": "#%%\n"
    }
   },
   "outputs": [],
   "source": [
    "# p1 = df.iplot(\n",
    "# x='dC',\n",
    "# y='dS',\n",
    "# # Specify the category\n",
    "# categories='S',\n",
    "# xTitle='dC',\n",
    "# yTitle='dS',\n",
    "# title='Abweichungen dC und dS in Abhängigkeit von S')\n",
    "# plt.show()"
   ]
  },
  {
   "cell_type": "code",
   "execution_count": null,
   "metadata": {
    "pycharm": {
     "name": "#%%\n"
    }
   },
   "outputs": [],
   "source": [
    "# df.iplot(\n",
    "# x='dC',\n",
    "# y='dS',\n",
    "# # Specify the category\n",
    "# categories='C',\n",
    "# xTitle='dC',\n",
    "# yTitle='dS',\n",
    "# title ='dC und dS in Abhängigkeit von C.html')\n",
    "# plt.show()"
   ]
  },
  {
   "cell_type": "code",
   "execution_count": null,
   "metadata": {
    "pycharm": {
     "name": "#%%\n"
    }
   },
   "outputs": [],
   "source": [
    "figure = ff.create_scatterplotmatrix(\n",
    "df[['C','S','T','A','Alpha','Theta','beta','dC','dS', 'zz', 'dCS', 'VCS', 'C+S', 'C/S']],\n",
    "width=2000, height=2000,\n",
    "diag='histogram',\n",
    "index='dCS',\n",
    "title='Scatterplot Matrix dCS')\n",
    "plot(figure, filename='plotly_scatterplot_dCS.html')\n",
    "figure.show()"
   ]
  },
  {
   "cell_type": "code",
   "execution_count": null,
   "metadata": {
    "pycharm": {
     "name": "#%%\n"
    }
   },
   "outputs": [],
   "source": [
    "# figure = ff.create_scatterplotmatrix(\n",
    "# df[['C','S','T','A','Alpha','Theta','beta','dC','dS', 'zz', 'dCS', 'VCS', 'C+S', 'C/S']],\n",
    "# width=2000, height=2000,\n",
    "# diag='histogram',\n",
    "# index='dS',\n",
    "# title='Scatterplot Matrix dS')\n",
    "# plot(figure, filename='plotly_scatterplot_dS.html')\n",
    "# figure.show()"
   ]
  },
  {
   "cell_type": "code",
   "execution_count": null,
   "metadata": {
    "pycharm": {
     "name": "#%%\n"
    }
   },
   "outputs": [],
   "source": [
    "# figure = ff.create_scatterplotmatrix(\n",
    "# df[['C','S','T','A','Alpha','Theta','beta','dC','dS', 'zz', 'dCS', 'VCS', 'C+S', 'C/S']],\n",
    "# width=2000, height=2000,\n",
    "# diag='histogram',\n",
    "# index='A')\n",
    "# plot(figure, filename='plotly_scatterplot_A.html')\n",
    "# figure.show()"
   ]
  },
  {
   "cell_type": "code",
   "execution_count": null,
   "metadata": {
    "pycharm": {
     "name": "#%%\n"
    }
   },
   "outputs": [],
   "source": [
    "# figure = ff.create_scatterplotmatrix(\n",
    "# df[['C','S','T','A','Alpha','Theta','beta','dC','dS', 'zz', 'dCS', 'VCS', 'C+S', 'C/S']],\n",
    "# width=2000, height=2000,\n",
    "# diag='histogram',\n",
    "# index='Alpha')\n",
    "# plot(figure, filename='plotly_scatterplot_Alpha.html')\n",
    "# figure.show()"
   ]
  },
  {
   "cell_type": "code",
   "execution_count": null,
   "metadata": {
    "pycharm": {
     "name": "#%%\n"
    }
   },
   "outputs": [],
   "source": [
    "# figure = ff.create_scatterplotmatrix(\n",
    "# df[['C','S','T','A','Alpha','Theta','beta','dC','dS', 'zz', 'dCS', 'VCS', 'C+S', 'C/S']],\n",
    "# width=2000, height=2000,\n",
    "# diag='histogram',\n",
    "# index='beta')\n",
    "# plot(figure, filename='plotly_scatterplot_beta.html')\n",
    "# figure.show()"
   ]
  },
  {
   "cell_type": "code",
   "execution_count": null,
   "metadata": {
    "pycharm": {
     "name": "#%%\n"
    }
   },
   "outputs": [],
   "source": [
    "# figure = ff.create_scatterplotmatrix(\n",
    "# df[['C','S','T','A','Alpha','Theta','beta','dC','dS', 'zz', 'dCS', 'VCS', 'C+S', 'C/S']],\n",
    "# # df[['C','S','A','Alpha','Theta','dC']],\n",
    "# width=2000, height=2000,\n",
    "# diag='histogram',\n",
    "# index='C')\n",
    "# plot(figure, filename='plotly_scatterplot_C.html')\n",
    "# figure.show()"
   ]
  },
  {
   "cell_type": "code",
   "execution_count": null,
   "metadata": {
    "pycharm": {
     "name": "#%%\n"
    }
   },
   "outputs": [],
   "source": [
    "# figure = ff.create_scatterplotmatrix(\n",
    "# df[['C','S','T','A','Alpha','Theta','beta','dC','dS', 'zz', 'dCS', 'VCS', 'C+S', 'C/S']],\n",
    "# width=2000, height=2000,\n",
    "# diag='histogram',\n",
    "# index='S')\n",
    "# plot(figure, filename='plotly_scatterplot_S.html')\n",
    "# figure.show()"
   ]
  },
  {
   "cell_type": "code",
   "execution_count": null,
   "metadata": {
    "pycharm": {
     "name": "#%%\n"
    }
   },
   "outputs": [],
   "source": [
    "figure = ff.create_scatterplotmatrix(\n",
    "df[['C','S','T','A','Alpha','Theta','beta','dC','dS', 'zz', 'dCS', 'VCS', 'C+S', 'C/S']],\n",
    "width=2000, height=2000,\n",
    "diag='histogram',\n",
    "index='T')\n",
    "plot(figure, filename='plotly_scatterplot_T.html')\n",
    "figure.show()"
   ]
  },
  {
   "cell_type": "code",
   "execution_count": null,
   "metadata": {
    "pycharm": {
     "name": "#%%\n"
    }
   },
   "outputs": [],
   "source": [
    "# g = sns.PairGrid(df, diag_sharey=False)\n",
    "# g.map_lower(sns.kdeplot, )\n",
    "# g.map_upper(plt.scatter)\n",
    "# g.map_diag(sns.kdeplot)\n",
    "# plt.show()\n",
    "# g.savefig(\"pair_grid_C_S\")"
   ]
  },
  {
   "cell_type": "code",
   "execution_count": null,
   "metadata": {},
   "outputs": [],
   "source": [
    "# sns.countplot(y = 'A', data=df)\n",
    "# plt.show()"
   ]
  },
  {
   "cell_type": "code",
   "execution_count": null,
   "metadata": {
    "pycharm": {
     "name": "#%%\n"
    }
   },
   "outputs": [],
   "source": [
    "# sns.countplot(y = 'dCS', data=df)\n",
    "# plt.show()"
   ]
  },
  {
   "cell_type": "code",
   "execution_count": null,
   "metadata": {},
   "outputs": [],
   "source": [
    "# fig = go.Figure(go.Box(\n",
    "#         x=df.C,\n",
    "#         y=df.S))\n",
    "# py.iplot(fig, filename='sns_boxplot_C_S.html')\n",
    "# fig.show()"
   ]
  },
  {
   "cell_type": "code",
   "execution_count": null,
   "metadata": {
    "pycharm": {
     "name": "#%%\n"
    }
   },
   "outputs": [],
   "source": [
    "corrs = df.corr()\n",
    "figure = ff.create_annotated_heatmap(\n",
    "z=corrs.values,\n",
    "x=list(corrs.columns),\n",
    "y=list(corrs.index),\n",
    "annotation_text=corrs.round(2).values,\n",
    "showscale=True)\n",
    "figure['layout']['yaxis']['autorange'] = \"reversed\"\n",
    "plot(figure, filename='heatmap_corr.html')\n",
    "figure.show()"
   ]
  },
  {
   "cell_type": "code",
   "execution_count": null,
   "metadata": {},
   "outputs": [],
   "source": [
    "# Correlation Matrix Heatmap\n",
    "f, ax = plt.subplots(figsize=(10, 6))\n",
    "corr = df.corr()\n",
    "hm = sns.heatmap(round(corr,2), annot=True, ax=ax, cmap=\"coolwarm\",fmt='.2f',\n",
    "linewidths=.05)\n",
    "f.subplots_adjust(top=0.93)\n",
    "t= f.suptitle('C-S Attributes Correlation Heatmap', fontsize=14)\n",
    "f.savefig(\"heatmap_C_S\")"
   ]
  },
  {
   "cell_type": "code",
   "execution_count": null,
   "metadata": {},
   "outputs": [],
   "source": [
    "model = smf.ols(formula='dS ~ S', data=df)\n",
    "results = model.fit()\n",
    "print(results.summary())\n",
    "print(results.params)\n",
    "print(results.conf_int())\n",
    "\n"
   ]
  },
  {
   "cell_type": "code",
   "execution_count": null,
   "metadata": {},
   "outputs": [],
   "source": [
    "model = smf.ols(formula='dC ~ C', data=df)\n",
    "results = model.fit()\n",
    "print(results.summary())\n",
    "print(results.params)\n",
    "print(results.conf_int())\n"
   ]
  },
  {
   "cell_type": "code",
   "execution_count": null,
   "metadata": {},
   "outputs": [],
   "source": [
    "model = smf.ols(formula='dCS ~ C + S', data=df)\n",
    "results = model.fit()\n",
    "print(results.summary())\n",
    "print(results.params)\n",
    "print(results.conf_int())\n"
   ]
  },
  {
   "cell_type": "code",
   "execution_count": null,
   "metadata": {},
   "outputs": [],
   "source": [
    "model = smf.ols(formula='dC ~ Alpha', data=df)\n",
    "results = model.fit()\n",
    "print(results.summary())\n",
    "print(results.params)\n",
    "print(results.conf_int())"
   ]
  },
  {
   "cell_type": "code",
   "execution_count": null,
   "metadata": {
    "pycharm": {
     "name": "#%%\n"
    }
   },
   "outputs": [],
   "source": [
    "model = smf.ols(formula='dS ~ Alpha', data=df)\n",
    "results = model.fit()\n",
    "print(results.summary())\n",
    "print(results.params)\n",
    "print(results.conf_int())"
   ]
  },
  {
   "cell_type": "code",
   "execution_count": null,
   "metadata": {},
   "outputs": [],
   "source": [
    "model = smf.ols(formula='Alpha ~ dC + dS ', data=df)\n",
    "results = model.fit()\n",
    "print(results.summary())\n",
    "print(results.params)\n",
    "print(results.conf_int())\n"
   ]
  },
  {
   "cell_type": "code",
   "execution_count": null,
   "metadata": {},
   "outputs": [],
   "source": [
    "model = smf.ols(formula='C ~ Alpha + S ', data=df)\n",
    "results = model.fit()\n",
    "print(results.summary())\n",
    "print(results.params)\n",
    "print(results.conf_int())\n"
   ]
  }
 ],
 "metadata": {
  "kernelspec": {
   "display_name": "Python 3",
   "language": "python",
   "name": "python3"
  },
  "language_info": {
   "codemirror_mode": {
    "name": "ipython",
    "version": 3
   },
   "file_extension": ".py",
   "mimetype": "text/x-python",
   "name": "python",
   "nbconvert_exporter": "python",
   "pygments_lexer": "ipython3",
   "version": "3.8.2"
  }
 },
 "nbformat": 4,
 "nbformat_minor": 2
}