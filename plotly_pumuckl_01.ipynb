{
 "cells": [
  {
   "cell_type": "code",
   "execution_count": 1,
   "metadata": {},
   "outputs": [
    {
     "data": {
      "text/html": "        <script type=\"text/javascript\">\n        window.PlotlyConfig = {MathJaxConfig: 'local'};\n        if (window.MathJax) {MathJax.Hub.Config({SVG: {font: \"STIX-Web\"}});}\n        if (typeof require !== 'undefined') {\n        require.undef(\"plotly\");\n        requirejs.config({\n            paths: {\n                'plotly': ['https://cdn.plot.ly/plotly-latest.min']\n            }\n        });\n        require(['plotly'], function(Plotly) {\n            window._Plotly = Plotly;\n        });\n        }\n        </script>\n        "
     },
     "metadata": {},
     "output_type": "display_data"
    },
    {
     "data": {
      "text/html": "        <script type=\"text/javascript\">\n        window.PlotlyConfig = {MathJaxConfig: 'local'};\n        if (window.MathJax) {MathJax.Hub.Config({SVG: {font: \"STIX-Web\"}});}\n        if (typeof require !== 'undefined') {\n        require.undef(\"plotly\");\n        requirejs.config({\n            paths: {\n                'plotly': ['https://cdn.plot.ly/plotly-latest.min']\n            }\n        });\n        require(['plotly'], function(Plotly) {\n            window._Plotly = Plotly;\n        });\n        }\n        </script>\n        "
     },
     "metadata": {},
     "output_type": "display_data"
    }
   ],
   "source": [
    "import pandas as pd\n",
    "import numpy as np\n",
    "import matplotlib.pyplot as plt\n",
    "import seaborn as sns\n",
    "import warnings\n",
    "import statsmodels.formula.api as smf\n",
    "\n",
    "# Standard plotly imports\n",
    "import chart_studio.plotly as py\n",
    "import plotly.graph_objs as go\n",
    "import plotly.figure_factory as ff\n",
    "from plotly.offline import iplot, init_notebook_mode, plot\n",
    "# Using plotly + cufflinks in offline mode\n",
    "import cufflinks\n",
    "cufflinks.go_offline(connected=True)\n",
    "init_notebook_mode(connected=True)\n",
    "\n",
    "warnings.filterwarnings('ignore')\n",
    "%matplotlib inline"
   ]
  },
  {
   "cell_type": "code",
   "execution_count": 2,
   "metadata": {},
   "outputs": [],
   "source": [
    "df = pd.read_csv('data_files/Berechnung_dCS.csv')"
   ]
  },
  {
   "cell_type": "code",
   "execution_count": 3,
   "metadata": {},
   "outputs": [
    {
     "data": {
      "text/plain": "      C     S     T     A  Alpha  Theta  beta    dC     dS    zz    dCS\n0  27.1  -8.2 -29.7  28.0  -15.7  135.8  40.6  33.0  20.00  11.4  38.59\n1  25.5 -17.3 -29.7  29.7  -33.1  134.1  41.7   6.0   8.00  24.4  10.00\n2  22.0 -17.3 -29.7  27.0  -37.6  136.8  40.0   1.0   8.59  29.3   8.65\n3  21.5 -16.5 -29.7  26.2  -36.9  137.7  39.4   0.0   7.00  28.5   7.00\n4  22.0 -16.0 -29.7  25.6  -36.8  138.4  39.0   0.0   7.00  29.2   7.00",
      "text/html": "<div>\n<style scoped>\n    .dataframe tbody tr th:only-of-type {\n        vertical-align: middle;\n    }\n\n    .dataframe tbody tr th {\n        vertical-align: top;\n    }\n\n    .dataframe thead th {\n        text-align: right;\n    }\n</style>\n<table border=\"1\" class=\"dataframe\">\n  <thead>\n    <tr style=\"text-align: right;\">\n      <th></th>\n      <th>C</th>\n      <th>S</th>\n      <th>T</th>\n      <th>A</th>\n      <th>Alpha</th>\n      <th>Theta</th>\n      <th>beta</th>\n      <th>dC</th>\n      <th>dS</th>\n      <th>zz</th>\n      <th>dCS</th>\n    </tr>\n  </thead>\n  <tbody>\n    <tr>\n      <th>0</th>\n      <td>27.1</td>\n      <td>-8.2</td>\n      <td>-29.7</td>\n      <td>28.0</td>\n      <td>-15.7</td>\n      <td>135.8</td>\n      <td>40.6</td>\n      <td>33.0</td>\n      <td>20.00</td>\n      <td>11.4</td>\n      <td>38.59</td>\n    </tr>\n    <tr>\n      <th>1</th>\n      <td>25.5</td>\n      <td>-17.3</td>\n      <td>-29.7</td>\n      <td>29.7</td>\n      <td>-33.1</td>\n      <td>134.1</td>\n      <td>41.7</td>\n      <td>6.0</td>\n      <td>8.00</td>\n      <td>24.4</td>\n      <td>10.00</td>\n    </tr>\n    <tr>\n      <th>2</th>\n      <td>22.0</td>\n      <td>-17.3</td>\n      <td>-29.7</td>\n      <td>27.0</td>\n      <td>-37.6</td>\n      <td>136.8</td>\n      <td>40.0</td>\n      <td>1.0</td>\n      <td>8.59</td>\n      <td>29.3</td>\n      <td>8.65</td>\n    </tr>\n    <tr>\n      <th>3</th>\n      <td>21.5</td>\n      <td>-16.5</td>\n      <td>-29.7</td>\n      <td>26.2</td>\n      <td>-36.9</td>\n      <td>137.7</td>\n      <td>39.4</td>\n      <td>0.0</td>\n      <td>7.00</td>\n      <td>28.5</td>\n      <td>7.00</td>\n    </tr>\n    <tr>\n      <th>4</th>\n      <td>22.0</td>\n      <td>-16.0</td>\n      <td>-29.7</td>\n      <td>25.6</td>\n      <td>-36.8</td>\n      <td>138.4</td>\n      <td>39.0</td>\n      <td>0.0</td>\n      <td>7.00</td>\n      <td>29.2</td>\n      <td>7.00</td>\n    </tr>\n  </tbody>\n</table>\n</div>"
     },
     "execution_count": 3,
     "metadata": {},
     "output_type": "execute_result"
    }
   ],
   "source": [
    "df.head()"
   ]
  },
  {
   "cell_type": "code",
   "execution_count": 9,
   "metadata": {
    "pycharm": {
     "name": "#%%\n"
    }
   },
   "outputs": [
    {
     "data": {
      "application/vnd.plotly.v1+json": {
       "config": {
        "linkText": "Export to plot.ly",
        "plotlyServerURL": "https://plot.ly",
        "showLink": true
       },
       "data": [
        {
         "histfunc": "count",
         "histnorm": "",
         "marker": {
          "color": "rgba(255, 153, 51, 1.0)",
          "line": {
           "color": "#4D5663",
           "width": 1.3
          }
         },
         "name": "dCS",
         "opacity": 0.8,
         "orientation": "v",
         "type": "histogram",
         "x": [
          38.59,
          10.0,
          8.65,
          7.0,
          7.0,
          6.8,
          16.6,
          6.72,
          7.08,
          6.4,
          6.0,
          11.27,
          12.74,
          9.75,
          11.6,
          11.8,
          12.6,
          16.6,
          17.12,
          10.0,
          10.7,
          9.18,
          6.0,
          4.47,
          5.33,
          4.29,
          6.37,
          10.7,
          10.2,
          55.56
         ]
        }
       ],
       "layout": {
        "barmode": "overlay",
        "legend": {
         "bgcolor": "#F5F6F9",
         "font": {
          "color": "#4D5663"
         }
        },
        "paper_bgcolor": "#F5F6F9",
        "plot_bgcolor": "#F5F6F9",
        "template": {
         "data": {
          "bar": [
           {
            "error_x": {
             "color": "#2a3f5f"
            },
            "error_y": {
             "color": "#2a3f5f"
            },
            "marker": {
             "line": {
              "color": "#E5ECF6",
              "width": 0.5
             }
            },
            "type": "bar"
           }
          ],
          "barpolar": [
           {
            "marker": {
             "line": {
              "color": "#E5ECF6",
              "width": 0.5
             }
            },
            "type": "barpolar"
           }
          ],
          "carpet": [
           {
            "aaxis": {
             "endlinecolor": "#2a3f5f",
             "gridcolor": "white",
             "linecolor": "white",
             "minorgridcolor": "white",
             "startlinecolor": "#2a3f5f"
            },
            "baxis": {
             "endlinecolor": "#2a3f5f",
             "gridcolor": "white",
             "linecolor": "white",
             "minorgridcolor": "white",
             "startlinecolor": "#2a3f5f"
            },
            "type": "carpet"
           }
          ],
          "choropleth": [
           {
            "colorbar": {
             "outlinewidth": 0,
             "ticks": ""
            },
            "type": "choropleth"
           }
          ],
          "contour": [
           {
            "colorbar": {
             "outlinewidth": 0,
             "ticks": ""
            },
            "colorscale": [
             [
              0.0,
              "#0d0887"
             ],
             [
              0.1111111111111111,
              "#46039f"
             ],
             [
              0.2222222222222222,
              "#7201a8"
             ],
             [
              0.3333333333333333,
              "#9c179e"
             ],
             [
              0.4444444444444444,
              "#bd3786"
             ],
             [
              0.5555555555555556,
              "#d8576b"
             ],
             [
              0.6666666666666666,
              "#ed7953"
             ],
             [
              0.7777777777777778,
              "#fb9f3a"
             ],
             [
              0.8888888888888888,
              "#fdca26"
             ],
             [
              1.0,
              "#f0f921"
             ]
            ],
            "type": "contour"
           }
          ],
          "contourcarpet": [
           {
            "colorbar": {
             "outlinewidth": 0,
             "ticks": ""
            },
            "type": "contourcarpet"
           }
          ],
          "heatmap": [
           {
            "colorbar": {
             "outlinewidth": 0,
             "ticks": ""
            },
            "colorscale": [
             [
              0.0,
              "#0d0887"
             ],
             [
              0.1111111111111111,
              "#46039f"
             ],
             [
              0.2222222222222222,
              "#7201a8"
             ],
             [
              0.3333333333333333,
              "#9c179e"
             ],
             [
              0.4444444444444444,
              "#bd3786"
             ],
             [
              0.5555555555555556,
              "#d8576b"
             ],
             [
              0.6666666666666666,
              "#ed7953"
             ],
             [
              0.7777777777777778,
              "#fb9f3a"
             ],
             [
              0.8888888888888888,
              "#fdca26"
             ],
             [
              1.0,
              "#f0f921"
             ]
            ],
            "type": "heatmap"
           }
          ],
          "heatmapgl": [
           {
            "colorbar": {
             "outlinewidth": 0,
             "ticks": ""
            },
            "colorscale": [
             [
              0.0,
              "#0d0887"
             ],
             [
              0.1111111111111111,
              "#46039f"
             ],
             [
              0.2222222222222222,
              "#7201a8"
             ],
             [
              0.3333333333333333,
              "#9c179e"
             ],
             [
              0.4444444444444444,
              "#bd3786"
             ],
             [
              0.5555555555555556,
              "#d8576b"
             ],
             [
              0.6666666666666666,
              "#ed7953"
             ],
             [
              0.7777777777777778,
              "#fb9f3a"
             ],
             [
              0.8888888888888888,
              "#fdca26"
             ],
             [
              1.0,
              "#f0f921"
             ]
            ],
            "type": "heatmapgl"
           }
          ],
          "histogram": [
           {
            "marker": {
             "colorbar": {
              "outlinewidth": 0,
              "ticks": ""
             }
            },
            "type": "histogram"
           }
          ],
          "histogram2d": [
           {
            "colorbar": {
             "outlinewidth": 0,
             "ticks": ""
            },
            "colorscale": [
             [
              0.0,
              "#0d0887"
             ],
             [
              0.1111111111111111,
              "#46039f"
             ],
             [
              0.2222222222222222,
              "#7201a8"
             ],
             [
              0.3333333333333333,
              "#9c179e"
             ],
             [
              0.4444444444444444,
              "#bd3786"
             ],
             [
              0.5555555555555556,
              "#d8576b"
             ],
             [
              0.6666666666666666,
              "#ed7953"
             ],
             [
              0.7777777777777778,
              "#fb9f3a"
             ],
             [
              0.8888888888888888,
              "#fdca26"
             ],
             [
              1.0,
              "#f0f921"
             ]
            ],
            "type": "histogram2d"
           }
          ],
          "histogram2dcontour": [
           {
            "colorbar": {
             "outlinewidth": 0,
             "ticks": ""
            },
            "colorscale": [
             [
              0.0,
              "#0d0887"
             ],
             [
              0.1111111111111111,
              "#46039f"
             ],
             [
              0.2222222222222222,
              "#7201a8"
             ],
             [
              0.3333333333333333,
              "#9c179e"
             ],
             [
              0.4444444444444444,
              "#bd3786"
             ],
             [
              0.5555555555555556,
              "#d8576b"
             ],
             [
              0.6666666666666666,
              "#ed7953"
             ],
             [
              0.7777777777777778,
              "#fb9f3a"
             ],
             [
              0.8888888888888888,
              "#fdca26"
             ],
             [
              1.0,
              "#f0f921"
             ]
            ],
            "type": "histogram2dcontour"
           }
          ],
          "mesh3d": [
           {
            "colorbar": {
             "outlinewidth": 0,
             "ticks": ""
            },
            "type": "mesh3d"
           }
          ],
          "parcoords": [
           {
            "line": {
             "colorbar": {
              "outlinewidth": 0,
              "ticks": ""
             }
            },
            "type": "parcoords"
           }
          ],
          "pie": [
           {
            "automargin": true,
            "type": "pie"
           }
          ],
          "scatter": [
           {
            "marker": {
             "colorbar": {
              "outlinewidth": 0,
              "ticks": ""
             }
            },
            "type": "scatter"
           }
          ],
          "scatter3d": [
           {
            "line": {
             "colorbar": {
              "outlinewidth": 0,
              "ticks": ""
             }
            },
            "marker": {
             "colorbar": {
              "outlinewidth": 0,
              "ticks": ""
             }
            },
            "type": "scatter3d"
           }
          ],
          "scattercarpet": [
           {
            "marker": {
             "colorbar": {
              "outlinewidth": 0,
              "ticks": ""
             }
            },
            "type": "scattercarpet"
           }
          ],
          "scattergeo": [
           {
            "marker": {
             "colorbar": {
              "outlinewidth": 0,
              "ticks": ""
             }
            },
            "type": "scattergeo"
           }
          ],
          "scattergl": [
           {
            "marker": {
             "colorbar": {
              "outlinewidth": 0,
              "ticks": ""
             }
            },
            "type": "scattergl"
           }
          ],
          "scattermapbox": [
           {
            "marker": {
             "colorbar": {
              "outlinewidth": 0,
              "ticks": ""
             }
            },
            "type": "scattermapbox"
           }
          ],
          "scatterpolar": [
           {
            "marker": {
             "colorbar": {
              "outlinewidth": 0,
              "ticks": ""
             }
            },
            "type": "scatterpolar"
           }
          ],
          "scatterpolargl": [
           {
            "marker": {
             "colorbar": {
              "outlinewidth": 0,
              "ticks": ""
             }
            },
            "type": "scatterpolargl"
           }
          ],
          "scatterternary": [
           {
            "marker": {
             "colorbar": {
              "outlinewidth": 0,
              "ticks": ""
             }
            },
            "type": "scatterternary"
           }
          ],
          "surface": [
           {
            "colorbar": {
             "outlinewidth": 0,
             "ticks": ""
            },
            "colorscale": [
             [
              0.0,
              "#0d0887"
             ],
             [
              0.1111111111111111,
              "#46039f"
             ],
             [
              0.2222222222222222,
              "#7201a8"
             ],
             [
              0.3333333333333333,
              "#9c179e"
             ],
             [
              0.4444444444444444,
              "#bd3786"
             ],
             [
              0.5555555555555556,
              "#d8576b"
             ],
             [
              0.6666666666666666,
              "#ed7953"
             ],
             [
              0.7777777777777778,
              "#fb9f3a"
             ],
             [
              0.8888888888888888,
              "#fdca26"
             ],
             [
              1.0,
              "#f0f921"
             ]
            ],
            "type": "surface"
           }
          ],
          "table": [
           {
            "cells": {
             "fill": {
              "color": "#EBF0F8"
             },
             "line": {
              "color": "white"
             }
            },
            "header": {
             "fill": {
              "color": "#C8D4E3"
             },
             "line": {
              "color": "white"
             }
            },
            "type": "table"
           }
          ]
         },
         "layout": {
          "annotationdefaults": {
           "arrowcolor": "#2a3f5f",
           "arrowhead": 0,
           "arrowwidth": 1
          },
          "coloraxis": {
           "colorbar": {
            "outlinewidth": 0,
            "ticks": ""
           }
          },
          "colorscale": {
           "diverging": [
            [
             0,
             "#8e0152"
            ],
            [
             0.1,
             "#c51b7d"
            ],
            [
             0.2,
             "#de77ae"
            ],
            [
             0.3,
             "#f1b6da"
            ],
            [
             0.4,
             "#fde0ef"
            ],
            [
             0.5,
             "#f7f7f7"
            ],
            [
             0.6,
             "#e6f5d0"
            ],
            [
             0.7,
             "#b8e186"
            ],
            [
             0.8,
             "#7fbc41"
            ],
            [
             0.9,
             "#4d9221"
            ],
            [
             1,
             "#276419"
            ]
           ],
           "sequential": [
            [
             0.0,
             "#0d0887"
            ],
            [
             0.1111111111111111,
             "#46039f"
            ],
            [
             0.2222222222222222,
             "#7201a8"
            ],
            [
             0.3333333333333333,
             "#9c179e"
            ],
            [
             0.4444444444444444,
             "#bd3786"
            ],
            [
             0.5555555555555556,
             "#d8576b"
            ],
            [
             0.6666666666666666,
             "#ed7953"
            ],
            [
             0.7777777777777778,
             "#fb9f3a"
            ],
            [
             0.8888888888888888,
             "#fdca26"
            ],
            [
             1.0,
             "#f0f921"
            ]
           ],
           "sequentialminus": [
            [
             0.0,
             "#0d0887"
            ],
            [
             0.1111111111111111,
             "#46039f"
            ],
            [
             0.2222222222222222,
             "#7201a8"
            ],
            [
             0.3333333333333333,
             "#9c179e"
            ],
            [
             0.4444444444444444,
             "#bd3786"
            ],
            [
             0.5555555555555556,
             "#d8576b"
            ],
            [
             0.6666666666666666,
             "#ed7953"
            ],
            [
             0.7777777777777778,
             "#fb9f3a"
            ],
            [
             0.8888888888888888,
             "#fdca26"
            ],
            [
             1.0,
             "#f0f921"
            ]
           ]
          },
          "colorway": [
           "#636efa",
           "#EF553B",
           "#00cc96",
           "#ab63fa",
           "#FFA15A",
           "#19d3f3",
           "#FF6692",
           "#B6E880",
           "#FF97FF",
           "#FECB52"
          ],
          "font": {
           "color": "#2a3f5f"
          },
          "geo": {
           "bgcolor": "white",
           "lakecolor": "white",
           "landcolor": "#E5ECF6",
           "showlakes": true,
           "showland": true,
           "subunitcolor": "white"
          },
          "hoverlabel": {
           "align": "left"
          },
          "hovermode": "closest",
          "mapbox": {
           "style": "light"
          },
          "paper_bgcolor": "white",
          "plot_bgcolor": "#E5ECF6",
          "polar": {
           "angularaxis": {
            "gridcolor": "white",
            "linecolor": "white",
            "ticks": ""
           },
           "bgcolor": "#E5ECF6",
           "radialaxis": {
            "gridcolor": "white",
            "linecolor": "white",
            "ticks": ""
           }
          },
          "scene": {
           "xaxis": {
            "backgroundcolor": "#E5ECF6",
            "gridcolor": "white",
            "gridwidth": 2,
            "linecolor": "white",
            "showbackground": true,
            "ticks": "",
            "zerolinecolor": "white"
           },
           "yaxis": {
            "backgroundcolor": "#E5ECF6",
            "gridcolor": "white",
            "gridwidth": 2,
            "linecolor": "white",
            "showbackground": true,
            "ticks": "",
            "zerolinecolor": "white"
           },
           "zaxis": {
            "backgroundcolor": "#E5ECF6",
            "gridcolor": "white",
            "gridwidth": 2,
            "linecolor": "white",
            "showbackground": true,
            "ticks": "",
            "zerolinecolor": "white"
           }
          },
          "shapedefaults": {
           "line": {
            "color": "#2a3f5f"
           }
          },
          "ternary": {
           "aaxis": {
            "gridcolor": "white",
            "linecolor": "white",
            "ticks": ""
           },
           "baxis": {
            "gridcolor": "white",
            "linecolor": "white",
            "ticks": ""
           },
           "bgcolor": "#E5ECF6",
           "caxis": {
            "gridcolor": "white",
            "linecolor": "white",
            "ticks": ""
           }
          },
          "title": {
           "x": 0.05
          },
          "xaxis": {
           "automargin": true,
           "gridcolor": "white",
           "linecolor": "white",
           "ticks": "",
           "title": {
            "standoff": 15
           },
           "zerolinecolor": "white",
           "zerolinewidth": 2
          },
          "yaxis": {
           "automargin": true,
           "gridcolor": "white",
           "linecolor": "white",
           "ticks": "",
           "title": {
            "standoff": 15
           },
           "zerolinecolor": "white",
           "zerolinewidth": 2
          }
         }
        },
        "title": {
         "font": {
          "color": "#4D5663"
         },
         "text": "dCS Distribution"
        },
        "xaxis": {
         "gridcolor": "#E1E5ED",
         "showgrid": true,
         "tickfont": {
          "color": "#4D5663"
         },
         "title": {
          "font": {
           "color": "#4D5663"
          },
          "text": "degrees"
         },
         "zerolinecolor": "#E1E5ED"
        },
        "yaxis": {
         "gridcolor": "#E1E5ED",
         "showgrid": true,
         "tickfont": {
          "color": "#4D5663"
         },
         "title": {
          "font": {
           "color": "#4D5663"
          },
          "text": "count"
         },
         "zerolinecolor": "#E1E5ED"
        }
       }
      },
      "text/html": "<div>\n        \n        \n            <div id=\"b0f536e1-0b6c-47ac-b8d8-60662b4c6137\" class=\"plotly-graph-div\" style=\"height:525px; width:100%;\"></div>\n            <script type=\"text/javascript\">\n                require([\"plotly\"], function(Plotly) {\n                    window.PLOTLYENV=window.PLOTLYENV || {};\n                    window.PLOTLYENV.BASE_URL='https://plot.ly';\n                    \n                if (document.getElementById(\"b0f536e1-0b6c-47ac-b8d8-60662b4c6137\")) {\n                    Plotly.newPlot(\n                        'b0f536e1-0b6c-47ac-b8d8-60662b4c6137',\n                        [{\"histfunc\": \"count\", \"histnorm\": \"\", \"marker\": {\"color\": \"rgba(255, 153, 51, 1.0)\", \"line\": {\"color\": \"#4D5663\", \"width\": 1.3}}, \"name\": \"dCS\", \"opacity\": 0.8, \"orientation\": \"v\", \"type\": \"histogram\", \"x\": [38.59, 10.0, 8.65, 7.0, 7.0, 6.8, 16.6, 6.72, 7.08, 6.4, 6.0, 11.27, 12.74, 9.75, 11.6, 11.8, 12.6, 16.6, 17.12, 10.0, 10.7, 9.18, 6.0, 4.47, 5.33, 4.29, 6.37, 10.7, 10.2, 55.56]}],\n                        {\"barmode\": \"overlay\", \"legend\": {\"bgcolor\": \"#F5F6F9\", \"font\": {\"color\": \"#4D5663\"}}, \"paper_bgcolor\": \"#F5F6F9\", \"plot_bgcolor\": \"#F5F6F9\", \"template\": {\"data\": {\"bar\": [{\"error_x\": {\"color\": \"#2a3f5f\"}, \"error_y\": {\"color\": \"#2a3f5f\"}, \"marker\": {\"line\": {\"color\": \"#E5ECF6\", \"width\": 0.5}}, \"type\": \"bar\"}], \"barpolar\": [{\"marker\": {\"line\": {\"color\": \"#E5ECF6\", \"width\": 0.5}}, \"type\": \"barpolar\"}], \"carpet\": [{\"aaxis\": {\"endlinecolor\": \"#2a3f5f\", \"gridcolor\": \"white\", \"linecolor\": \"white\", \"minorgridcolor\": \"white\", \"startlinecolor\": \"#2a3f5f\"}, \"baxis\": {\"endlinecolor\": \"#2a3f5f\", \"gridcolor\": \"white\", \"linecolor\": \"white\", \"minorgridcolor\": \"white\", \"startlinecolor\": \"#2a3f5f\"}, \"type\": \"carpet\"}], \"choropleth\": [{\"colorbar\": {\"outlinewidth\": 0, \"ticks\": \"\"}, \"type\": \"choropleth\"}], \"contour\": [{\"colorbar\": {\"outlinewidth\": 0, \"ticks\": \"\"}, \"colorscale\": [[0.0, \"#0d0887\"], [0.1111111111111111, \"#46039f\"], [0.2222222222222222, \"#7201a8\"], [0.3333333333333333, \"#9c179e\"], [0.4444444444444444, \"#bd3786\"], [0.5555555555555556, \"#d8576b\"], [0.6666666666666666, \"#ed7953\"], [0.7777777777777778, \"#fb9f3a\"], [0.8888888888888888, \"#fdca26\"], [1.0, \"#f0f921\"]], \"type\": \"contour\"}], \"contourcarpet\": [{\"colorbar\": {\"outlinewidth\": 0, \"ticks\": \"\"}, \"type\": \"contourcarpet\"}], \"heatmap\": [{\"colorbar\": {\"outlinewidth\": 0, \"ticks\": \"\"}, \"colorscale\": [[0.0, \"#0d0887\"], [0.1111111111111111, \"#46039f\"], [0.2222222222222222, \"#7201a8\"], [0.3333333333333333, \"#9c179e\"], [0.4444444444444444, \"#bd3786\"], [0.5555555555555556, \"#d8576b\"], [0.6666666666666666, \"#ed7953\"], [0.7777777777777778, \"#fb9f3a\"], [0.8888888888888888, \"#fdca26\"], [1.0, \"#f0f921\"]], \"type\": \"heatmap\"}], \"heatmapgl\": [{\"colorbar\": {\"outlinewidth\": 0, \"ticks\": \"\"}, \"colorscale\": [[0.0, \"#0d0887\"], [0.1111111111111111, \"#46039f\"], [0.2222222222222222, \"#7201a8\"], [0.3333333333333333, \"#9c179e\"], [0.4444444444444444, \"#bd3786\"], [0.5555555555555556, \"#d8576b\"], [0.6666666666666666, \"#ed7953\"], [0.7777777777777778, \"#fb9f3a\"], [0.8888888888888888, \"#fdca26\"], [1.0, \"#f0f921\"]], \"type\": \"heatmapgl\"}], \"histogram\": [{\"marker\": {\"colorbar\": {\"outlinewidth\": 0, \"ticks\": \"\"}}, \"type\": \"histogram\"}], \"histogram2d\": [{\"colorbar\": {\"outlinewidth\": 0, \"ticks\": \"\"}, \"colorscale\": [[0.0, \"#0d0887\"], [0.1111111111111111, \"#46039f\"], [0.2222222222222222, \"#7201a8\"], [0.3333333333333333, \"#9c179e\"], [0.4444444444444444, \"#bd3786\"], [0.5555555555555556, \"#d8576b\"], [0.6666666666666666, \"#ed7953\"], [0.7777777777777778, \"#fb9f3a\"], [0.8888888888888888, \"#fdca26\"], [1.0, \"#f0f921\"]], \"type\": \"histogram2d\"}], \"histogram2dcontour\": [{\"colorbar\": {\"outlinewidth\": 0, \"ticks\": \"\"}, \"colorscale\": [[0.0, \"#0d0887\"], [0.1111111111111111, \"#46039f\"], [0.2222222222222222, \"#7201a8\"], [0.3333333333333333, \"#9c179e\"], [0.4444444444444444, \"#bd3786\"], [0.5555555555555556, \"#d8576b\"], [0.6666666666666666, \"#ed7953\"], [0.7777777777777778, \"#fb9f3a\"], [0.8888888888888888, \"#fdca26\"], [1.0, \"#f0f921\"]], \"type\": \"histogram2dcontour\"}], \"mesh3d\": [{\"colorbar\": {\"outlinewidth\": 0, \"ticks\": \"\"}, \"type\": \"mesh3d\"}], \"parcoords\": [{\"line\": {\"colorbar\": {\"outlinewidth\": 0, \"ticks\": \"\"}}, \"type\": \"parcoords\"}], \"pie\": [{\"automargin\": true, \"type\": \"pie\"}], \"scatter\": [{\"marker\": {\"colorbar\": {\"outlinewidth\": 0, \"ticks\": \"\"}}, \"type\": \"scatter\"}], \"scatter3d\": [{\"line\": {\"colorbar\": {\"outlinewidth\": 0, \"ticks\": \"\"}}, \"marker\": {\"colorbar\": {\"outlinewidth\": 0, \"ticks\": \"\"}}, \"type\": \"scatter3d\"}], \"scattercarpet\": [{\"marker\": {\"colorbar\": {\"outlinewidth\": 0, \"ticks\": \"\"}}, \"type\": \"scattercarpet\"}], \"scattergeo\": [{\"marker\": {\"colorbar\": {\"outlinewidth\": 0, \"ticks\": \"\"}}, \"type\": \"scattergeo\"}], \"scattergl\": [{\"marker\": {\"colorbar\": {\"outlinewidth\": 0, \"ticks\": \"\"}}, \"type\": \"scattergl\"}], \"scattermapbox\": [{\"marker\": {\"colorbar\": {\"outlinewidth\": 0, \"ticks\": \"\"}}, \"type\": \"scattermapbox\"}], \"scatterpolar\": [{\"marker\": {\"colorbar\": {\"outlinewidth\": 0, \"ticks\": \"\"}}, \"type\": \"scatterpolar\"}], \"scatterpolargl\": [{\"marker\": {\"colorbar\": {\"outlinewidth\": 0, \"ticks\": \"\"}}, \"type\": \"scatterpolargl\"}], \"scatterternary\": [{\"marker\": {\"colorbar\": {\"outlinewidth\": 0, \"ticks\": \"\"}}, \"type\": \"scatterternary\"}], \"surface\": [{\"colorbar\": {\"outlinewidth\": 0, \"ticks\": \"\"}, \"colorscale\": [[0.0, \"#0d0887\"], [0.1111111111111111, \"#46039f\"], [0.2222222222222222, \"#7201a8\"], [0.3333333333333333, \"#9c179e\"], [0.4444444444444444, \"#bd3786\"], [0.5555555555555556, \"#d8576b\"], [0.6666666666666666, \"#ed7953\"], [0.7777777777777778, \"#fb9f3a\"], [0.8888888888888888, \"#fdca26\"], [1.0, \"#f0f921\"]], \"type\": \"surface\"}], \"table\": [{\"cells\": {\"fill\": {\"color\": \"#EBF0F8\"}, \"line\": {\"color\": \"white\"}}, \"header\": {\"fill\": {\"color\": \"#C8D4E3\"}, \"line\": {\"color\": \"white\"}}, \"type\": \"table\"}]}, \"layout\": {\"annotationdefaults\": {\"arrowcolor\": \"#2a3f5f\", \"arrowhead\": 0, \"arrowwidth\": 1}, \"coloraxis\": {\"colorbar\": {\"outlinewidth\": 0, \"ticks\": \"\"}}, \"colorscale\": {\"diverging\": [[0, \"#8e0152\"], [0.1, \"#c51b7d\"], [0.2, \"#de77ae\"], [0.3, \"#f1b6da\"], [0.4, \"#fde0ef\"], [0.5, \"#f7f7f7\"], [0.6, \"#e6f5d0\"], [0.7, \"#b8e186\"], [0.8, \"#7fbc41\"], [0.9, \"#4d9221\"], [1, \"#276419\"]], \"sequential\": [[0.0, \"#0d0887\"], [0.1111111111111111, \"#46039f\"], [0.2222222222222222, \"#7201a8\"], [0.3333333333333333, \"#9c179e\"], [0.4444444444444444, \"#bd3786\"], [0.5555555555555556, \"#d8576b\"], [0.6666666666666666, \"#ed7953\"], [0.7777777777777778, \"#fb9f3a\"], [0.8888888888888888, \"#fdca26\"], [1.0, \"#f0f921\"]], \"sequentialminus\": [[0.0, \"#0d0887\"], [0.1111111111111111, \"#46039f\"], [0.2222222222222222, \"#7201a8\"], [0.3333333333333333, \"#9c179e\"], [0.4444444444444444, \"#bd3786\"], [0.5555555555555556, \"#d8576b\"], [0.6666666666666666, \"#ed7953\"], [0.7777777777777778, \"#fb9f3a\"], [0.8888888888888888, \"#fdca26\"], [1.0, \"#f0f921\"]]}, \"colorway\": [\"#636efa\", \"#EF553B\", \"#00cc96\", \"#ab63fa\", \"#FFA15A\", \"#19d3f3\", \"#FF6692\", \"#B6E880\", \"#FF97FF\", \"#FECB52\"], \"font\": {\"color\": \"#2a3f5f\"}, \"geo\": {\"bgcolor\": \"white\", \"lakecolor\": \"white\", \"landcolor\": \"#E5ECF6\", \"showlakes\": true, \"showland\": true, \"subunitcolor\": \"white\"}, \"hoverlabel\": {\"align\": \"left\"}, \"hovermode\": \"closest\", \"mapbox\": {\"style\": \"light\"}, \"paper_bgcolor\": \"white\", \"plot_bgcolor\": \"#E5ECF6\", \"polar\": {\"angularaxis\": {\"gridcolor\": \"white\", \"linecolor\": \"white\", \"ticks\": \"\"}, \"bgcolor\": \"#E5ECF6\", \"radialaxis\": {\"gridcolor\": \"white\", \"linecolor\": \"white\", \"ticks\": \"\"}}, \"scene\": {\"xaxis\": {\"backgroundcolor\": \"#E5ECF6\", \"gridcolor\": \"white\", \"gridwidth\": 2, \"linecolor\": \"white\", \"showbackground\": true, \"ticks\": \"\", \"zerolinecolor\": \"white\"}, \"yaxis\": {\"backgroundcolor\": \"#E5ECF6\", \"gridcolor\": \"white\", \"gridwidth\": 2, \"linecolor\": \"white\", \"showbackground\": true, \"ticks\": \"\", \"zerolinecolor\": \"white\"}, \"zaxis\": {\"backgroundcolor\": \"#E5ECF6\", \"gridcolor\": \"white\", \"gridwidth\": 2, \"linecolor\": \"white\", \"showbackground\": true, \"ticks\": \"\", \"zerolinecolor\": \"white\"}}, \"shapedefaults\": {\"line\": {\"color\": \"#2a3f5f\"}}, \"ternary\": {\"aaxis\": {\"gridcolor\": \"white\", \"linecolor\": \"white\", \"ticks\": \"\"}, \"baxis\": {\"gridcolor\": \"white\", \"linecolor\": \"white\", \"ticks\": \"\"}, \"bgcolor\": \"#E5ECF6\", \"caxis\": {\"gridcolor\": \"white\", \"linecolor\": \"white\", \"ticks\": \"\"}}, \"title\": {\"x\": 0.05}, \"xaxis\": {\"automargin\": true, \"gridcolor\": \"white\", \"linecolor\": \"white\", \"ticks\": \"\", \"title\": {\"standoff\": 15}, \"zerolinecolor\": \"white\", \"zerolinewidth\": 2}, \"yaxis\": {\"automargin\": true, \"gridcolor\": \"white\", \"linecolor\": \"white\", \"ticks\": \"\", \"title\": {\"standoff\": 15}, \"zerolinecolor\": \"white\", \"zerolinewidth\": 2}}}, \"title\": {\"font\": {\"color\": \"#4D5663\"}, \"text\": \"dCS Distribution\"}, \"xaxis\": {\"gridcolor\": \"#E1E5ED\", \"showgrid\": true, \"tickfont\": {\"color\": \"#4D5663\"}, \"title\": {\"font\": {\"color\": \"#4D5663\"}, \"text\": \"degrees\"}, \"zerolinecolor\": \"#E1E5ED\"}, \"yaxis\": {\"gridcolor\": \"#E1E5ED\", \"showgrid\": true, \"tickfont\": {\"color\": \"#4D5663\"}, \"title\": {\"font\": {\"color\": \"#4D5663\"}, \"text\": \"count\"}, \"zerolinecolor\": \"#E1E5ED\"}},\n                        {\"showLink\": true, \"linkText\": \"Export to plot.ly\", \"plotlyServerURL\": \"https://plot.ly\", \"responsive\": true}\n                    ).then(function(){\n                            \nvar gd = document.getElementById('b0f536e1-0b6c-47ac-b8d8-60662b4c6137');\nvar x = new MutationObserver(function (mutations, observer) {{\n        var display = window.getComputedStyle(gd).display;\n        if (!display || display === 'none') {{\n            console.log([gd, 'removed!']);\n            Plotly.purge(gd);\n            observer.disconnect();\n        }}\n}});\n\n// Listen for the removal of the full notebook cells\nvar notebookContainer = gd.closest('#notebook-container');\nif (notebookContainer) {{\n    x.observe(notebookContainer, {childList: true});\n}}\n\n// Listen for the clearing of the current output cell\nvar outputEl = gd.closest('.output');\nif (outputEl) {{\n    x.observe(outputEl, {childList: true});\n}}\n\n                        })\n                };\n                });\n            </script>\n        </div>"
     },
     "metadata": {},
     "output_type": "display_data"
    }
   ],
   "source": [
    "df['dCS'].iplot(size=0, kind='hist', xTitle='degrees',\n",
    "yTitle='count', title='dCS Distribution')\n",
    "plt.show()"
   ]
  },
  {
   "cell_type": "code",
   "execution_count": 11,
   "metadata": {},
   "outputs": [
    {
     "data": {
      "text/plain": "<Figure size 720x432 with 1 Axes>",
      "image/png": "[encoded data removed]"
     },
     "metadata": {
      "needs_background": "light"
     },
     "output_type": "display_data"
    }
   ],
   "source": [
    "plt.figure(figsize=[10,6])\n",
    "sns.distplot(df['beta'], kde=False, bins=20)\n",
    "plt.show()"
   ]
  },
  {
   "cell_type": "code",
   "execution_count": 24,
   "metadata": {},
   "outputs": [
    {
     "data": {
      "text/plain": "<Figure size 778.375x360 with 1 Axes>",
      "image/png": "[encoded data removed]"
     },
     "metadata": {
      "needs_background": "light"
     },
     "output_type": "display_data"
    }
   ],
   "source": [
    "sns.lmplot('dCS', 'beta', data=df, fit_reg= False, aspect=2, size =5, hue='A')\n",
    "plt.show()"
   ]
  },
  {
   "cell_type": "code",
   "execution_count": 19,
   "metadata": {},
   "outputs": [
    {
     "data": {
      "text/plain": "<Figure size 638x288 with 1 Axes>",
      "image/png": "[encoded data removed]"
     },
     "metadata": {
      "needs_background": "light"
     },
     "output_type": "display_data"
    }
   ],
   "source": [
    "sns.lmplot('C', 'S', data=df, fit_reg= False, aspect=2, size =4, hue='Alpha')\n",
    "plt.show()"
   ]
  },
  {
   "cell_type": "code",
   "execution_count": 23,
   "metadata": {
    "pycharm": {
     "name": "#%%\n"
    }
   },
   "outputs": [
    {
     "data": {
      "text/plain": "<Figure size 640.75x288 with 1 Axes>",
      "image/png": "[encoded data removed]"
     },
     "metadata": {
      "needs_background": "light"
     },
     "output_type": "display_data"
    }
   ],
   "source": [
    "sns.lmplot('C', 'S', data=df, fit_reg= False, aspect=2, size =4, hue='Theta')\n",
    "plt.show()"
   ]
  },
  {
   "cell_type": "code",
   "execution_count": 25,
   "metadata": {
    "pycharm": {
     "name": "#%%\n"
    }
   },
   "outputs": [
    {
     "data": {
      "text/plain": "<Figure size 638x288 with 1 Axes>",
      "image/png": "[encoded data removed]"
     },
     "metadata": {
      "needs_background": "light"
     },
     "output_type": "display_data"
    }
   ],
   "source": [
    "sns.lmplot('C', 'S', data=df, fit_reg= False, aspect=2, size =4, hue='dC')\n",
    "plt.show()"
   ]
  },
  {
   "cell_type": "code",
   "execution_count": 28,
   "metadata": {
    "pycharm": {
     "name": "#%%\n"
    }
   },
   "outputs": [
    {
     "data": {
      "text/plain": "<Figure size 638x288 with 1 Axes>",
      "image/png": "[encoded data removed]"
     },
     "metadata": {
      "needs_background": "light"
     },
     "output_type": "display_data"
    }
   ],
   "source": [
    "sns.lmplot('C', 'S', data=df, fit_reg= False, aspect=2, size =4, hue='dS')\n",
    "plt.show()"
   ]
  },
  {
   "cell_type": "code",
   "execution_count": 32,
   "metadata": {},
   "outputs": [
    {
     "data": {
      "text/plain": "<Figure size 490.375x432 with 1 Axes>",
      "image/png": "[encoded data removed]"
     },
     "metadata": {
      "needs_background": "light"
     },
     "output_type": "display_data"
    }
   ],
   "source": [
    "sns.lmplot('C', 'S', data=df, fit_reg= False, aspect=1, size =6, hue='zz')\n",
    "plt.show()"
   ]
  },
  {
   "cell_type": "code",
   "execution_count": 36,
   "metadata": {},
   "outputs": [
    {
     "data": {
      "text/plain": "<Figure size 432x288 with 1 Axes>",
      "image/png": "[encoded data removed]"
     },
     "metadata": {
      "needs_background": "light"
     },
     "output_type": "display_data"
    }
   ],
   "source": [
    "sns.kdeplot(df['C'], df['S'], shade=True)\n",
    "plt.show()"
   ]
  },
  {
   "cell_type": "code",
   "execution_count": 37,
   "metadata": {},
   "outputs": [
    {
     "data": {
      "text/plain": "<Figure size 432x432 with 3 Axes>",
      "image/png": "[encoded data removed]"
     },
     "metadata": {
      "needs_background": "light"
     },
     "output_type": "display_data"
    }
   ],
   "source": [
    "sns.jointplot('C', 'S', data=df, alpha=0.4)\n",
    "plt.show()"
   ]
  },
  {
   "cell_type": "code",
   "execution_count": 38,
   "metadata": {
    "pycharm": {
     "name": "#%%\n"
    }
   },
   "outputs": [
    {
     "data": {
      "application/vnd.plotly.v1+json": {
       "config": {
        "linkText": "Export to plot.ly",
        "plotlyServerURL": "https://plot.ly",
        "showLink": true
       },
       "data": [
        {
         "marker": {
          "color": "rgba(255, 153, 51, 1.0)",
          "line": {
           "width": 1.3
          },
          "opacity": 0.8,
          "size": 12,
          "symbol": "circle"
         },
         "mode": "markers",
         "name": "-8.2",
         "textfont": {
          "color": "#4D5663"
         },
         "type": "scatter",
         "x": [
          33.0
         ],
         "y": [
          20.0
         ]
        },
        {
         "marker": {
          "color": "rgba(55, 128, 191, 1.0)",
          "line": {
           "width": 1.3
          },
          "opacity": 0.8,
          "size": 12,
          "symbol": "circle"
         },
         "mode": "markers",
         "name": "-17.3",
         "textfont": {
          "color": "#4D5663"
         },
         "type": "scatter",
         "x": [
          6.0,
          1.0,
          -4.0,
          6.0
         ],
         "y": [
          8.0,
          8.59,
          5.0,
          8.0
         ]
        },
        {
         "marker": {
          "color": "rgba(50, 171, 96, 1.0)",
          "line": {
           "width": 1.3
          },
          "opacity": 0.8,
          "size": 12,
          "symbol": "circle"
         },
         "mode": "markers",
         "name": "-16.5",
         "textfont": {
          "color": "#4D5663"
         },
         "type": "scatter",
         "x": [
          0.0,
          -1.7
         ],
         "y": [
          7.0,
          6.5
         ]
        },
        {
         "marker": {
          "color": "rgba(128, 0, 128, 1.0)",
          "line": {
           "width": 1.3
          },
          "opacity": 0.8,
          "size": 12,
          "symbol": "circle"
         },
         "mode": "markers",
         "name": "-16.0",
         "textfont": {
          "color": "#4D5663"
         },
         "type": "scatter",
         "x": [
          0.0,
          0.0,
          0.0
         ],
         "y": [
          7.0,
          6.8,
          6.0
         ]
        },
        {
         "marker": {
          "color": "rgba(219, 64, 82, 1.0)",
          "line": {
           "width": 1.3
          },
          "opacity": 0.8,
          "size": 12,
          "symbol": "circle"
         },
         "mode": "markers",
         "name": "-10.0",
         "textfont": {
          "color": "#4D5663"
         },
         "type": "scatter",
         "x": [
          0.0
         ],
         "y": [
          16.6
         ]
        },
        {
         "marker": {
          "color": "rgba(0, 128, 128, 1.0)",
          "line": {
           "width": 1.3
          },
          "opacity": 0.8,
          "size": 12,
          "symbol": "circle"
         },
         "mode": "markers",
         "name": "-17.0",
         "textfont": {
          "color": "#4D5663"
         },
         "type": "scatter",
         "x": [
          -2.97
         ],
         "y": [
          6.43
         ]
        },
        {
         "marker": {
          "color": "rgba(255, 255, 51, 1.0)",
          "line": {
           "width": 1.3
          },
          "opacity": 0.8,
          "size": 12,
          "symbol": "circle"
         },
         "mode": "markers",
         "name": "-20.9",
         "textfont": {
          "color": "#4D5663"
         },
         "type": "scatter",
         "x": [
          -11.2
         ],
         "y": [
          1.29
         ]
        },
        {
         "marker": {
          "color": "rgba(128, 128, 0, 1.0)",
          "line": {
           "width": 1.3
          },
          "opacity": 0.8,
          "size": 12,
          "symbol": "circle"
         },
         "mode": "markers",
         "name": "-18.9",
         "textfont": {
          "color": "#4D5663"
         },
         "type": "scatter",
         "x": [
          -6.75
         ],
         "y": [
          10.8
         ]
        },
        {
         "marker": {
          "color": "rgba(251, 128, 114, 1.0)",
          "line": {
           "width": 1.3
          },
          "opacity": 0.8,
          "size": 12,
          "symbol": "circle"
         },
         "mode": "markers",
         "name": "-20.0",
         "textfont": {
          "color": "#4D5663"
         },
         "type": "scatter",
         "x": [
          -9.1,
          -11.8
         ],
         "y": [
          3.5,
          0.0
         ]
        },
        {
         "marker": {
          "color": "rgba(128, 177, 211, 1.0)",
          "line": {
           "width": 1.3
          },
          "opacity": 0.8,
          "size": 12,
          "symbol": "circle"
         },
         "mode": "markers",
         "name": "-22.0",
         "textfont": {
          "color": "#4D5663"
         },
         "type": "scatter",
         "x": [
          -11.6,
          -5.62
         ],
         "y": [
          0.0,
          3.0
         ]
        },
        {
         "marker": {
          "color": "rgba(128, 177, 211, 0.8999999999999999)",
          "line": {
           "width": 1.3
          },
          "opacity": 0.8,
          "size": 12,
          "symbol": "circle"
         },
         "mode": "markers",
         "name": "-22.4",
         "textfont": {
          "color": "#4D5663"
         },
         "type": "scatter",
         "x": [
          -12.6
         ],
         "y": [
          0.0
         ]
        },
        {
         "marker": {
          "color": "rgba(255, 153, 51, 0.8999999999999999)",
          "line": {
           "width": 1.3
          },
          "opacity": 0.8,
          "size": 12,
          "symbol": "circle"
         },
         "mode": "markers",
         "name": "-24.0",
         "textfont": {
          "color": "#4D5663"
         },
         "type": "scatter",
         "x": [
          -16.6
         ],
         "y": [
          0.0
         ]
        },
        {
         "marker": {
          "color": "rgba(55, 128, 191, 0.8999999999999999)",
          "line": {
           "width": 1.3
          },
          "opacity": 0.8,
          "size": 12,
          "symbol": "circle"
         },
         "mode": "markers",
         "name": "-17.2",
         "textfont": {
          "color": "#4D5663"
         },
         "type": "scatter",
         "x": [
          -17.0
         ],
         "y": [
          2.0
         ]
        },
        {
         "marker": {
          "color": "rgba(50, 171, 96, 0.8999999999999999)",
          "line": {
           "width": 1.3
          },
          "opacity": 0.8,
          "size": 12,
          "symbol": "circle"
         },
         "mode": "markers",
         "name": "-16.9",
         "textfont": {
          "color": "#4D5663"
         },
         "type": "scatter",
         "x": [
          6.5
         ],
         "y": [
          8.5
         ]
        },
        {
         "marker": {
          "color": "rgba(128, 0, 128, 0.8999999999999999)",
          "line": {
           "width": 1.3
          },
          "opacity": 0.8,
          "size": 12,
          "symbol": "circle"
         },
         "mode": "markers",
         "name": "-17.7",
         "textfont": {
          "color": "#4D5663"
         },
         "type": "scatter",
         "x": [
          5.0
         ],
         "y": [
          7.7
         ]
        },
        {
         "marker": {
          "color": "rgba(219, 64, 82, 0.8999999999999999)",
          "line": {
           "width": 1.3
          },
          "opacity": 0.8,
          "size": 12,
          "symbol": "circle"
         },
         "mode": "markers",
         "name": "-19.8",
         "textfont": {
          "color": "#4D5663"
         },
         "type": "scatter",
         "x": [
          0.0,
          -2.0,
          -2.0
         ],
         "y": [
          6.0,
          4.0,
          3.8
         ]
        },
        {
         "marker": {
          "color": "rgba(0, 128, 128, 0.8999999999999999)",
          "line": {
           "width": 1.3
          },
          "opacity": 0.8,
          "size": 12,
          "symbol": "circle"
         },
         "mode": "markers",
         "name": "-19.3",
         "textfont": {
          "color": "#4D5663"
         },
         "type": "scatter",
         "x": [
          -3.0
         ],
         "y": [
          4.4
         ]
        },
        {
         "marker": {
          "color": "rgba(255, 255, 51, 0.8999999999999999)",
          "line": {
           "width": 1.3
          },
          "opacity": 0.8,
          "size": 12,
          "symbol": "circle"
         },
         "mode": "markers",
         "name": "-23.4",
         "textfont": {
          "color": "#4D5663"
         },
         "type": "scatter",
         "x": [
          -10.7,
          -54.4
         ],
         "y": [
          0.0,
          -11.3
         ]
        },
        {
         "marker": {
          "color": "rgba(128, 128, 0, 0.8999999999999999)",
          "line": {
           "width": 1.3
          },
          "opacity": 0.8,
          "size": 12,
          "symbol": "circle"
         },
         "mode": "markers",
         "name": "-13.3",
         "textfont": {
          "color": "#4D5663"
         },
         "type": "scatter",
         "x": [
          0.0
         ],
         "y": [
          10.2
         ]
        }
       ],
       "layout": {
        "legend": {
         "bgcolor": "#F5F6F9",
         "font": {
          "color": "#4D5663"
         }
        },
        "paper_bgcolor": "#F5F6F9",
        "plot_bgcolor": "#F5F6F9",
        "template": {
         "data": {
          "bar": [
           {
            "error_x": {
             "color": "#2a3f5f"
            },
            "error_y": {
             "color": "#2a3f5f"
            },
            "marker": {
             "line": {
              "color": "#E5ECF6",
              "width": 0.5
             }
            },
            "type": "bar"
           }
          ],
          "barpolar": [
           {
            "marker": {
             "line": {
              "color": "#E5ECF6",
              "width": 0.5
             }
            },
            "type": "barpolar"
           }
          ],
          "carpet": [
           {
            "aaxis": {
             "endlinecolor": "#2a3f5f",
             "gridcolor": "white",
             "linecolor": "white",
             "minorgridcolor": "white",
             "startlinecolor": "#2a3f5f"
            },
            "baxis": {
             "endlinecolor": "#2a3f5f",
             "gridcolor": "white",
             "linecolor": "white",
             "minorgridcolor": "white",
             "startlinecolor": "#2a3f5f"
            },
            "type": "carpet"
           }
          ],
          "choropleth": [
           {
            "colorbar": {
             "outlinewidth": 0,
             "ticks": ""
            },
            "type": "choropleth"
           }
          ],
          "contour": [
           {
            "colorbar": {
             "outlinewidth": 0,
             "ticks": ""
            },
            "colorscale": [
             [
              0.0,
              "#0d0887"
             ],
             [
              0.1111111111111111,
              "#46039f"
             ],
             [
              0.2222222222222222,
              "#7201a8"
             ],
             [
              0.3333333333333333,
              "#9c179e"
             ],
             [
              0.4444444444444444,
              "#bd3786"
             ],
             [
              0.5555555555555556,
              "#d8576b"
             ],
             [
              0.6666666666666666,
              "#ed7953"
             ],
             [
              0.7777777777777778,
              "#fb9f3a"
             ],
             [
              0.8888888888888888,
              "#fdca26"
             ],
             [
              1.0,
              "#f0f921"
             ]
            ],
            "type": "contour"
           }
          ],
          "contourcarpet": [
           {
            "colorbar": {
             "outlinewidth": 0,
             "ticks": ""
            },
            "type": "contourcarpet"
           }
          ],
          "heatmap": [
           {
            "colorbar": {
             "outlinewidth": 0,
             "ticks": ""
            },
            "colorscale": [
             [
              0.0,
              "#0d0887"
             ],
             [
              0.1111111111111111,
              "#46039f"
             ],
             [
              0.2222222222222222,
              "#7201a8"
             ],
             [
              0.3333333333333333,
              "#9c179e"
             ],
             [
              0.4444444444444444,
              "#bd3786"
             ],
             [
              0.5555555555555556,
              "#d8576b"
             ],
             [
              0.6666666666666666,
              "#ed7953"
             ],
             [
              0.7777777777777778,
              "#fb9f3a"
             ],
             [
              0.8888888888888888,
              "#fdca26"
             ],
             [
              1.0,
              "#f0f921"
             ]
            ],
            "type": "heatmap"
           }
          ],
          "heatmapgl": [
           {
            "colorbar": {
             "outlinewidth": 0,
             "ticks": ""
            },
            "colorscale": [
             [
              0.0,
              "#0d0887"
             ],
             [
              0.1111111111111111,
              "#46039f"
             ],
             [
              0.2222222222222222,
              "#7201a8"
             ],
             [
              0.3333333333333333,
              "#9c179e"
             ],
             [
              0.4444444444444444,
              "#bd3786"
             ],
             [
              0.5555555555555556,
              "#d8576b"
             ],
             [
              0.6666666666666666,
              "#ed7953"
             ],
             [
              0.7777777777777778,
              "#fb9f3a"
             ],
             [
              0.8888888888888888,
              "#fdca26"
             ],
             [
              1.0,
              "#f0f921"
             ]
            ],
            "type": "heatmapgl"
           }
          ],
          "histogram": [
           {
            "marker": {
             "colorbar": {
              "outlinewidth": 0,
              "ticks": ""
             }
            },
            "type": "histogram"
           }
          ],
          "histogram2d": [
           {
            "colorbar": {
             "outlinewidth": 0,
             "ticks": ""
            },
            "colorscale": [
             [
              0.0,
              "#0d0887"
             ],
             [
              0.1111111111111111,
              "#46039f"
             ],
             [
              0.2222222222222222,
              "#7201a8"
             ],
             [
              0.3333333333333333,
              "#9c179e"
             ],
             [
              0.4444444444444444,
              "#bd3786"
             ],
             [
              0.5555555555555556,
              "#d8576b"
             ],
             [
              0.6666666666666666,
              "#ed7953"
             ],
             [
              0.7777777777777778,
              "#fb9f3a"
             ],
             [
              0.8888888888888888,
              "#fdca26"
             ],
             [
              1.0,
              "#f0f921"
             ]
            ],
            "type": "histogram2d"
           }
          ],
          "histogram2dcontour": [
           {
            "colorbar": {
             "outlinewidth": 0,
             "ticks": ""
            },
            "colorscale": [
             [
              0.0,
              "#0d0887"
             ],
             [
              0.1111111111111111,
              "#46039f"
             ],
             [
              0.2222222222222222,
              "#7201a8"
             ],
             [
              0.3333333333333333,
              "#9c179e"
             ],
             [
              0.4444444444444444,
              "#bd3786"
             ],
             [
              0.5555555555555556,
              "#d8576b"
             ],
             [
              0.6666666666666666,
              "#ed7953"
             ],
             [
              0.7777777777777778,
              "#fb9f3a"
             ],
             [
              0.8888888888888888,
              "#fdca26"
             ],
             [
              1.0,
              "#f0f921"
             ]
            ],
            "type": "histogram2dcontour"
           }
          ],
          "mesh3d": [
           {
            "colorbar": {
             "outlinewidth": 0,
             "ticks": ""
            },
            "type": "mesh3d"
           }
          ],
          "parcoords": [
           {
            "line": {
             "colorbar": {
              "outlinewidth": 0,
              "ticks": ""
             }
            },
            "type": "parcoords"
           }
          ],
          "pie": [
           {
            "automargin": true,
            "type": "pie"
           }
          ],
          "scatter": [
           {
            "marker": {
             "colorbar": {
              "outlinewidth": 0,
              "ticks": ""
             }
            },
            "type": "scatter"
           }
          ],
          "scatter3d": [
           {
            "line": {
             "colorbar": {
              "outlinewidth": 0,
              "ticks": ""
             }
            },
            "marker": {
             "colorbar": {
              "outlinewidth": 0,
              "ticks": ""
             }
            },
            "type": "scatter3d"
           }
          ],
          "scattercarpet": [
           {
            "marker": {
             "colorbar": {
              "outlinewidth": 0,
              "ticks": ""
             }
            },
            "type": "scattercarpet"
           }
          ],
          "scattergeo": [
           {
            "marker": {
             "colorbar": {
              "outlinewidth": 0,
              "ticks": ""
             }
            },
            "type": "scattergeo"
           }
          ],
          "scattergl": [
           {
            "marker": {
             "colorbar": {
              "outlinewidth": 0,
              "ticks": ""
             }
            },
            "type": "scattergl"
           }
          ],
          "scattermapbox": [
           {
            "marker": {
             "colorbar": {
              "outlinewidth": 0,
              "ticks": ""
             }
            },
            "type": "scattermapbox"
           }
          ],
          "scatterpolar": [
           {
            "marker": {
             "colorbar": {
              "outlinewidth": 0,
              "ticks": ""
             }
            },
            "type": "scatterpolar"
           }
          ],
          "scatterpolargl": [
           {
            "marker": {
             "colorbar": {
              "outlinewidth": 0,
              "ticks": ""
             }
            },
            "type": "scatterpolargl"
           }
          ],
          "scatterternary": [
           {
            "marker": {
             "colorbar": {
              "outlinewidth": 0,
              "ticks": ""
             }
            },
            "type": "scatterternary"
           }
          ],
          "surface": [
           {
            "colorbar": {
             "outlinewidth": 0,
             "ticks": ""
            },
            "colorscale": [
             [
              0.0,
              "#0d0887"
             ],
             [
              0.1111111111111111,
              "#46039f"
             ],
             [
              0.2222222222222222,
              "#7201a8"
             ],
             [
              0.3333333333333333,
              "#9c179e"
             ],
             [
              0.4444444444444444,
              "#bd3786"
             ],
             [
              0.5555555555555556,
              "#d8576b"
             ],
             [
              0.6666666666666666,
              "#ed7953"
             ],
             [
              0.7777777777777778,
              "#fb9f3a"
             ],
             [
              0.8888888888888888,
              "#fdca26"
             ],
             [
              1.0,
              "#f0f921"
             ]
            ],
            "type": "surface"
           }
          ],
          "table": [
           {
            "cells": {
             "fill": {
              "color": "#EBF0F8"
             },
             "line": {
              "color": "white"
             }
            },
            "header": {
             "fill": {
              "color": "#C8D4E3"
             },
             "line": {
              "color": "white"
             }
            },
            "type": "table"
           }
          ]
         },
         "layout": {
          "annotationdefaults": {
           "arrowcolor": "#2a3f5f",
           "arrowhead": 0,
           "arrowwidth": 1
          },
          "coloraxis": {
           "colorbar": {
            "outlinewidth": 0,
            "ticks": ""
           }
          },
          "colorscale": {
           "diverging": [
            [
             0,
             "#8e0152"
            ],
            [
             0.1,
             "#c51b7d"
            ],
            [
             0.2,
             "#de77ae"
            ],
            [
             0.3,
             "#f1b6da"
            ],
            [
             0.4,
             "#fde0ef"
            ],
            [
             0.5,
             "#f7f7f7"
            ],
            [
             0.6,
             "#e6f5d0"
            ],
            [
             0.7,
             "#b8e186"
            ],
            [
             0.8,
             "#7fbc41"
            ],
            [
             0.9,
             "#4d9221"
            ],
            [
             1,
             "#276419"
            ]
           ],
           "sequential": [
            [
             0.0,
             "#0d0887"
            ],
            [
             0.1111111111111111,
             "#46039f"
            ],
            [
             0.2222222222222222,
             "#7201a8"
            ],
            [
             0.3333333333333333,
             "#9c179e"
            ],
            [
             0.4444444444444444,
             "#bd3786"
            ],
            [
             0.5555555555555556,
             "#d8576b"
            ],
            [
             0.6666666666666666,
             "#ed7953"
            ],
            [
             0.7777777777777778,
             "#fb9f3a"
            ],
            [
             0.8888888888888888,
             "#fdca26"
            ],
            [
             1.0,
             "#f0f921"
            ]
           ],
           "sequentialminus": [
            [
             0.0,
             "#0d0887"
            ],
            [
             0.1111111111111111,
             "#46039f"
            ],
            [
             0.2222222222222222,
             "#7201a8"
            ],
            [
             0.3333333333333333,
             "#9c179e"
            ],
            [
             0.4444444444444444,
             "#bd3786"
            ],
            [
             0.5555555555555556,
             "#d8576b"
            ],
            [
             0.6666666666666666,
             "#ed7953"
            ],
            [
             0.7777777777777778,
             "#fb9f3a"
            ],
            [
             0.8888888888888888,
             "#fdca26"
            ],
            [
             1.0,
             "#f0f921"
            ]
           ]
          },
          "colorway": [
           "#636efa",
           "#EF553B",
           "#00cc96",
           "#ab63fa",
           "#FFA15A",
           "#19d3f3",
           "#FF6692",
           "#B6E880",
           "#FF97FF",
           "#FECB52"
          ],
          "font": {
           "color": "#2a3f5f"
          },
          "geo": {
           "bgcolor": "white",
           "lakecolor": "white",
           "landcolor": "#E5ECF6",
           "showlakes": true,
           "showland": true,
           "subunitcolor": "white"
          },
          "hoverlabel": {
           "align": "left"
          },
          "hovermode": "closest",
          "mapbox": {
           "style": "light"
          },
          "paper_bgcolor": "white",
          "plot_bgcolor": "#E5ECF6",
          "polar": {
           "angularaxis": {
            "gridcolor": "white",
            "linecolor": "white",
            "ticks": ""
           },
           "bgcolor": "#E5ECF6",
           "radialaxis": {
            "gridcolor": "white",
            "linecolor": "white",
            "ticks": ""
           }
          },
          "scene": {
           "xaxis": {
            "backgroundcolor": "#E5ECF6",
            "gridcolor": "white",
            "gridwidth": 2,
            "linecolor": "white",
            "showbackground": true,
            "ticks": "",
            "zerolinecolor": "white"
           },
           "yaxis": {
            "backgroundcolor": "#E5ECF6",
            "gridcolor": "white",
            "gridwidth": 2,
            "linecolor": "white",
            "showbackground": true,
            "ticks": "",
            "zerolinecolor": "white"
           },
           "zaxis": {
            "backgroundcolor": "#E5ECF6",
            "gridcolor": "white",
            "gridwidth": 2,
            "linecolor": "white",
            "showbackground": true,
            "ticks": "",
            "zerolinecolor": "white"
           }
          },
          "shapedefaults": {
           "line": {
            "color": "#2a3f5f"
           }
          },
          "ternary": {
           "aaxis": {
            "gridcolor": "white",
            "linecolor": "white",
            "ticks": ""
           },
           "baxis": {
            "gridcolor": "white",
            "linecolor": "white",
            "ticks": ""
           },
           "bgcolor": "#E5ECF6",
           "caxis": {
            "gridcolor": "white",
            "linecolor": "white",
            "ticks": ""
           }
          },
          "title": {
           "x": 0.05
          },
          "xaxis": {
           "automargin": true,
           "gridcolor": "white",
           "linecolor": "white",
           "ticks": "",
           "title": {
            "standoff": 15
           },
           "zerolinecolor": "white",
           "zerolinewidth": 2
          },
          "yaxis": {
           "automargin": true,
           "gridcolor": "white",
           "linecolor": "white",
           "ticks": "",
           "title": {
            "standoff": 15
           },
           "zerolinecolor": "white",
           "zerolinewidth": 2
          }
         }
        },
        "title": {
         "font": {
          "color": "#4D5663"
         },
         "text": "Abweichungen dC und dS in Abhängigkeit von S"
        },
        "xaxis": {
         "gridcolor": "#E1E5ED",
         "showgrid": true,
         "tickfont": {
          "color": "#4D5663"
         },
         "title": {
          "font": {
           "color": "#4D5663"
          },
          "text": "dC"
         },
         "zerolinecolor": "#E1E5ED"
        },
        "yaxis": {
         "gridcolor": "#E1E5ED",
         "showgrid": true,
         "tickfont": {
          "color": "#4D5663"
         },
         "title": {
          "font": {
           "color": "#4D5663"
          },
          "text": "dS"
         },
         "zerolinecolor": "#E1E5ED"
        }
       }
      },
      "text/html": "<div>\n        \n        \n            <div id=\"cc41fcb0-3ffb-4fa3-9bde-8fb2271e17a7\" class=\"plotly-graph-div\" style=\"height:525px; width:100%;\"></div>\n            <script type=\"text/javascript\">\n                require([\"plotly\"], function(Plotly) {\n                    window.PLOTLYENV=window.PLOTLYENV || {};\n                    window.PLOTLYENV.BASE_URL='https://plot.ly';\n                    \n                if (document.getElementById(\"cc41fcb0-3ffb-4fa3-9bde-8fb2271e17a7\")) {\n                    Plotly.newPlot(\n                        'cc41fcb0-3ffb-4fa3-9bde-8fb2271e17a7',\n                        [{\"marker\": {\"color\": \"rgba(255, 153, 51, 1.0)\", \"line\": {\"width\": 1.3}, \"opacity\": 0.8, \"size\": 12, \"symbol\": \"circle\"}, \"mode\": \"markers\", \"name\": \"-8.2\", \"textfont\": {\"color\": \"#4D5663\"}, \"type\": \"scatter\", \"x\": [33.0], \"y\": [20.0]}, {\"marker\": {\"color\": \"rgba(55, 128, 191, 1.0)\", \"line\": {\"width\": 1.3}, \"opacity\": 0.8, \"size\": 12, \"symbol\": \"circle\"}, \"mode\": \"markers\", \"name\": \"-17.3\", \"textfont\": {\"color\": \"#4D5663\"}, \"type\": \"scatter\", \"x\": [6.0, 1.0, -4.0, 6.0], \"y\": [8.0, 8.59, 5.0, 8.0]}, {\"marker\": {\"color\": \"rgba(50, 171, 96, 1.0)\", \"line\": {\"width\": 1.3}, \"opacity\": 0.8, \"size\": 12, \"symbol\": \"circle\"}, \"mode\": \"markers\", \"name\": \"-16.5\", \"textfont\": {\"color\": \"#4D5663\"}, \"type\": \"scatter\", \"x\": [0.0, -1.7], \"y\": [7.0, 6.5]}, {\"marker\": {\"color\": \"rgba(128, 0, 128, 1.0)\", \"line\": {\"width\": 1.3}, \"opacity\": 0.8, \"size\": 12, \"symbol\": \"circle\"}, \"mode\": \"markers\", \"name\": \"-16.0\", \"textfont\": {\"color\": \"#4D5663\"}, \"type\": \"scatter\", \"x\": [0.0, 0.0, 0.0], \"y\": [7.0, 6.8, 6.0]}, {\"marker\": {\"color\": \"rgba(219, 64, 82, 1.0)\", \"line\": {\"width\": 1.3}, \"opacity\": 0.8, \"size\": 12, \"symbol\": \"circle\"}, \"mode\": \"markers\", \"name\": \"-10.0\", \"textfont\": {\"color\": \"#4D5663\"}, \"type\": \"scatter\", \"x\": [0.0], \"y\": [16.6]}, {\"marker\": {\"color\": \"rgba(0, 128, 128, 1.0)\", \"line\": {\"width\": 1.3}, \"opacity\": 0.8, \"size\": 12, \"symbol\": \"circle\"}, \"mode\": \"markers\", \"name\": \"-17.0\", \"textfont\": {\"color\": \"#4D5663\"}, \"type\": \"scatter\", \"x\": [-2.97], \"y\": [6.43]}, {\"marker\": {\"color\": \"rgba(255, 255, 51, 1.0)\", \"line\": {\"width\": 1.3}, \"opacity\": 0.8, \"size\": 12, \"symbol\": \"circle\"}, \"mode\": \"markers\", \"name\": \"-20.9\", \"textfont\": {\"color\": \"#4D5663\"}, \"type\": \"scatter\", \"x\": [-11.2], \"y\": [1.29]}, {\"marker\": {\"color\": \"rgba(128, 128, 0, 1.0)\", \"line\": {\"width\": 1.3}, \"opacity\": 0.8, \"size\": 12, \"symbol\": \"circle\"}, \"mode\": \"markers\", \"name\": \"-18.9\", \"textfont\": {\"color\": \"#4D5663\"}, \"type\": \"scatter\", \"x\": [-6.75], \"y\": [10.8]}, {\"marker\": {\"color\": \"rgba(251, 128, 114, 1.0)\", \"line\": {\"width\": 1.3}, \"opacity\": 0.8, \"size\": 12, \"symbol\": \"circle\"}, \"mode\": \"markers\", \"name\": \"-20.0\", \"textfont\": {\"color\": \"#4D5663\"}, \"type\": \"scatter\", \"x\": [-9.1, -11.8], \"y\": [3.5, 0.0]}, {\"marker\": {\"color\": \"rgba(128, 177, 211, 1.0)\", \"line\": {\"width\": 1.3}, \"opacity\": 0.8, \"size\": 12, \"symbol\": \"circle\"}, \"mode\": \"markers\", \"name\": \"-22.0\", \"textfont\": {\"color\": \"#4D5663\"}, \"type\": \"scatter\", \"x\": [-11.6, -5.62], \"y\": [0.0, 3.0]}, {\"marker\": {\"color\": \"rgba(128, 177, 211, 0.8999999999999999)\", \"line\": {\"width\": 1.3}, \"opacity\": 0.8, \"size\": 12, \"symbol\": \"circle\"}, \"mode\": \"markers\", \"name\": \"-22.4\", \"textfont\": {\"color\": \"#4D5663\"}, \"type\": \"scatter\", \"x\": [-12.6], \"y\": [0.0]}, {\"marker\": {\"color\": \"rgba(255, 153, 51, 0.8999999999999999)\", \"line\": {\"width\": 1.3}, \"opacity\": 0.8, \"size\": 12, \"symbol\": \"circle\"}, \"mode\": \"markers\", \"name\": \"-24.0\", \"textfont\": {\"color\": \"#4D5663\"}, \"type\": \"scatter\", \"x\": [-16.6], \"y\": [0.0]}, {\"marker\": {\"color\": \"rgba(55, 128, 191, 0.8999999999999999)\", \"line\": {\"width\": 1.3}, \"opacity\": 0.8, \"size\": 12, \"symbol\": \"circle\"}, \"mode\": \"markers\", \"name\": \"-17.2\", \"textfont\": {\"color\": \"#4D5663\"}, \"type\": \"scatter\", \"x\": [-17.0], \"y\": [2.0]}, {\"marker\": {\"color\": \"rgba(50, 171, 96, 0.8999999999999999)\", \"line\": {\"width\": 1.3}, \"opacity\": 0.8, \"size\": 12, \"symbol\": \"circle\"}, \"mode\": \"markers\", \"name\": \"-16.9\", \"textfont\": {\"color\": \"#4D5663\"}, \"type\": \"scatter\", \"x\": [6.5], \"y\": [8.5]}, {\"marker\": {\"color\": \"rgba(128, 0, 128, 0.8999999999999999)\", \"line\": {\"width\": 1.3}, \"opacity\": 0.8, \"size\": 12, \"symbol\": \"circle\"}, \"mode\": \"markers\", \"name\": \"-17.7\", \"textfont\": {\"color\": \"#4D5663\"}, \"type\": \"scatter\", \"x\": [5.0], \"y\": [7.7]}, {\"marker\": {\"color\": \"rgba(219, 64, 82, 0.8999999999999999)\", \"line\": {\"width\": 1.3}, \"opacity\": 0.8, \"size\": 12, \"symbol\": \"circle\"}, \"mode\": \"markers\", \"name\": \"-19.8\", \"textfont\": {\"color\": \"#4D5663\"}, \"type\": \"scatter\", \"x\": [0.0, -2.0, -2.0], \"y\": [6.0, 4.0, 3.8]}, {\"marker\": {\"color\": \"rgba(0, 128, 128, 0.8999999999999999)\", \"line\": {\"width\": 1.3}, \"opacity\": 0.8, \"size\": 12, \"symbol\": \"circle\"}, \"mode\": \"markers\", \"name\": \"-19.3\", \"textfont\": {\"color\": \"#4D5663\"}, \"type\": \"scatter\", \"x\": [-3.0], \"y\": [4.4]}, {\"marker\": {\"color\": \"rgba(255, 255, 51, 0.8999999999999999)\", \"line\": {\"width\": 1.3}, \"opacity\": 0.8, \"size\": 12, \"symbol\": \"circle\"}, \"mode\": \"markers\", \"name\": \"-23.4\", \"textfont\": {\"color\": \"#4D5663\"}, \"type\": \"scatter\", \"x\": [-10.7, -54.4], \"y\": [0.0, -11.3]}, {\"marker\": {\"color\": \"rgba(128, 128, 0, 0.8999999999999999)\", \"line\": {\"width\": 1.3}, \"opacity\": 0.8, \"size\": 12, \"symbol\": \"circle\"}, \"mode\": \"markers\", \"name\": \"-13.3\", \"textfont\": {\"color\": \"#4D5663\"}, \"type\": \"scatter\", \"x\": [0.0], \"y\": [10.2]}],\n                        {\"legend\": {\"bgcolor\": \"#F5F6F9\", \"font\": {\"color\": \"#4D5663\"}}, \"paper_bgcolor\": \"#F5F6F9\", \"plot_bgcolor\": \"#F5F6F9\", \"template\": {\"data\": {\"bar\": [{\"error_x\": {\"color\": \"#2a3f5f\"}, \"error_y\": {\"color\": \"#2a3f5f\"}, \"marker\": {\"line\": {\"color\": \"#E5ECF6\", \"width\": 0.5}}, \"type\": \"bar\"}], \"barpolar\": [{\"marker\": {\"line\": {\"color\": \"#E5ECF6\", \"width\": 0.5}}, \"type\": \"barpolar\"}], \"carpet\": [{\"aaxis\": {\"endlinecolor\": \"#2a3f5f\", \"gridcolor\": \"white\", \"linecolor\": \"white\", \"minorgridcolor\": \"white\", \"startlinecolor\": \"#2a3f5f\"}, \"baxis\": {\"endlinecolor\": \"#2a3f5f\", \"gridcolor\": \"white\", \"linecolor\": \"white\", \"minorgridcolor\": \"white\", \"startlinecolor\": \"#2a3f5f\"}, \"type\": \"carpet\"}], \"choropleth\": [{\"colorbar\": {\"outlinewidth\": 0, \"ticks\": \"\"}, \"type\": \"choropleth\"}], \"contour\": [{\"colorbar\": {\"outlinewidth\": 0, \"ticks\": \"\"}, \"colorscale\": [[0.0, \"#0d0887\"], [0.1111111111111111, \"#46039f\"], [0.2222222222222222, \"#7201a8\"], [0.3333333333333333, \"#9c179e\"], [0.4444444444444444, \"#bd3786\"], [0.5555555555555556, \"#d8576b\"], [0.6666666666666666, \"#ed7953\"], [0.7777777777777778, \"#fb9f3a\"], [0.8888888888888888, \"#fdca26\"], [1.0, \"#f0f921\"]], \"type\": \"contour\"}], \"contourcarpet\": [{\"colorbar\": {\"outlinewidth\": 0, \"ticks\": \"\"}, \"type\": \"contourcarpet\"}], \"heatmap\": [{\"colorbar\": {\"outlinewidth\": 0, \"ticks\": \"\"}, \"colorscale\": [[0.0, \"#0d0887\"], [0.1111111111111111, \"#46039f\"], [0.2222222222222222, \"#7201a8\"], [0.3333333333333333, \"#9c179e\"], [0.4444444444444444, \"#bd3786\"], [0.5555555555555556, \"#d8576b\"], [0.6666666666666666, \"#ed7953\"], [0.7777777777777778, \"#fb9f3a\"], [0.8888888888888888, \"#fdca26\"], [1.0, \"#f0f921\"]], \"type\": \"heatmap\"}], \"heatmapgl\": [{\"colorbar\": {\"outlinewidth\": 0, \"ticks\": \"\"}, \"colorscale\": [[0.0, \"#0d0887\"], [0.1111111111111111, \"#46039f\"], [0.2222222222222222, \"#7201a8\"], [0.3333333333333333, \"#9c179e\"], [0.4444444444444444, \"#bd3786\"], [0.5555555555555556, \"#d8576b\"], [0.6666666666666666, \"#ed7953\"], [0.7777777777777778, \"#fb9f3a\"], [0.8888888888888888, \"#fdca26\"], [1.0, \"#f0f921\"]], \"type\": \"heatmapgl\"}], \"histogram\": [{\"marker\": {\"colorbar\": {\"outlinewidth\": 0, \"ticks\": \"\"}}, \"type\": \"histogram\"}], \"histogram2d\": [{\"colorbar\": {\"outlinewidth\": 0, \"ticks\": \"\"}, \"colorscale\": [[0.0, \"#0d0887\"], [0.1111111111111111, \"#46039f\"], [0.2222222222222222, \"#7201a8\"], [0.3333333333333333, \"#9c179e\"], [0.4444444444444444, \"#bd3786\"], [0.5555555555555556, \"#d8576b\"], [0.6666666666666666, \"#ed7953\"], [0.7777777777777778, \"#fb9f3a\"], [0.8888888888888888, \"#fdca26\"], [1.0, \"#f0f921\"]], \"type\": \"histogram2d\"}], \"histogram2dcontour\": [{\"colorbar\": {\"outlinewidth\": 0, \"ticks\": \"\"}, \"colorscale\": [[0.0, \"#0d0887\"], [0.1111111111111111, \"#46039f\"], [0.2222222222222222, \"#7201a8\"], [0.3333333333333333, \"#9c179e\"], [0.4444444444444444, \"#bd3786\"], [0.5555555555555556, \"#d8576b\"], [0.6666666666666666, \"#ed7953\"], [0.7777777777777778, \"#fb9f3a\"], [0.8888888888888888, \"#fdca26\"], [1.0, \"#f0f921\"]], \"type\": \"histogram2dcontour\"}], \"mesh3d\": [{\"colorbar\": {\"outlinewidth\": 0, \"ticks\": \"\"}, \"type\": \"mesh3d\"}], \"parcoords\": [{\"line\": {\"colorbar\": {\"outlinewidth\": 0, \"ticks\": \"\"}}, \"type\": \"parcoords\"}], \"pie\": [{\"automargin\": true, \"type\": \"pie\"}], \"scatter\": [{\"marker\": {\"colorbar\": {\"outlinewidth\": 0, \"ticks\": \"\"}}, \"type\": \"scatter\"}], \"scatter3d\": [{\"line\": {\"colorbar\": {\"outlinewidth\": 0, \"ticks\": \"\"}}, \"marker\": {\"colorbar\": {\"outlinewidth\": 0, \"ticks\": \"\"}}, \"type\": \"scatter3d\"}], \"scattercarpet\": [{\"marker\": {\"colorbar\": {\"outlinewidth\": 0, \"ticks\": \"\"}}, \"type\": \"scattercarpet\"}], \"scattergeo\": [{\"marker\": {\"colorbar\": {\"outlinewidth\": 0, \"ticks\": \"\"}}, \"type\": \"scattergeo\"}], \"scattergl\": [{\"marker\": {\"colorbar\": {\"outlinewidth\": 0, \"ticks\": \"\"}}, \"type\": \"scattergl\"}], \"scattermapbox\": [{\"marker\": {\"colorbar\": {\"outlinewidth\": 0, \"ticks\": \"\"}}, \"type\": \"scattermapbox\"}], \"scatterpolar\": [{\"marker\": {\"colorbar\": {\"outlinewidth\": 0, \"ticks\": \"\"}}, \"type\": \"scatterpolar\"}], \"scatterpolargl\": [{\"marker\": {\"colorbar\": {\"outlinewidth\": 0, \"ticks\": \"\"}}, \"type\": \"scatterpolargl\"}], \"scatterternary\": [{\"marker\": {\"colorbar\": {\"outlinewidth\": 0, \"ticks\": \"\"}}, \"type\": \"scatterternary\"}], \"surface\": [{\"colorbar\": {\"outlinewidth\": 0, \"ticks\": \"\"}, \"colorscale\": [[0.0, \"#0d0887\"], [0.1111111111111111, \"#46039f\"], [0.2222222222222222, \"#7201a8\"], [0.3333333333333333, \"#9c179e\"], [0.4444444444444444, \"#bd3786\"], [0.5555555555555556, \"#d8576b\"], [0.6666666666666666, \"#ed7953\"], [0.7777777777777778, \"#fb9f3a\"], [0.8888888888888888, \"#fdca26\"], [1.0, \"#f0f921\"]], \"type\": \"surface\"}], \"table\": [{\"cells\": {\"fill\": {\"color\": \"#EBF0F8\"}, \"line\": {\"color\": \"white\"}}, \"header\": {\"fill\": {\"color\": \"#C8D4E3\"}, \"line\": {\"color\": \"white\"}}, \"type\": \"table\"}]}, \"layout\": {\"annotationdefaults\": {\"arrowcolor\": \"#2a3f5f\", \"arrowhead\": 0, \"arrowwidth\": 1}, \"coloraxis\": {\"colorbar\": {\"outlinewidth\": 0, \"ticks\": \"\"}}, \"colorscale\": {\"diverging\": [[0, \"#8e0152\"], [0.1, \"#c51b7d\"], [0.2, \"#de77ae\"], [0.3, \"#f1b6da\"], [0.4, \"#fde0ef\"], [0.5, \"#f7f7f7\"], [0.6, \"#e6f5d0\"], [0.7, \"#b8e186\"], [0.8, \"#7fbc41\"], [0.9, \"#4d9221\"], [1, \"#276419\"]], \"sequential\": [[0.0, \"#0d0887\"], [0.1111111111111111, \"#46039f\"], [0.2222222222222222, \"#7201a8\"], [0.3333333333333333, \"#9c179e\"], [0.4444444444444444, \"#bd3786\"], [0.5555555555555556, \"#d8576b\"], [0.6666666666666666, \"#ed7953\"], [0.7777777777777778, \"#fb9f3a\"], [0.8888888888888888, \"#fdca26\"], [1.0, \"#f0f921\"]], \"sequentialminus\": [[0.0, \"#0d0887\"], [0.1111111111111111, \"#46039f\"], [0.2222222222222222, \"#7201a8\"], [0.3333333333333333, \"#9c179e\"], [0.4444444444444444, \"#bd3786\"], [0.5555555555555556, \"#d8576b\"], [0.6666666666666666, \"#ed7953\"], [0.7777777777777778, \"#fb9f3a\"], [0.8888888888888888, \"#fdca26\"], [1.0, \"#f0f921\"]]}, \"colorway\": [\"#636efa\", \"#EF553B\", \"#00cc96\", \"#ab63fa\", \"#FFA15A\", \"#19d3f3\", \"#FF6692\", \"#B6E880\", \"#FF97FF\", \"#FECB52\"], \"font\": {\"color\": \"#2a3f5f\"}, \"geo\": {\"bgcolor\": \"white\", \"lakecolor\": \"white\", \"landcolor\": \"#E5ECF6\", \"showlakes\": true, \"showland\": true, \"subunitcolor\": \"white\"}, \"hoverlabel\": {\"align\": \"left\"}, \"hovermode\": \"closest\", \"mapbox\": {\"style\": \"light\"}, \"paper_bgcolor\": \"white\", \"plot_bgcolor\": \"#E5ECF6\", \"polar\": {\"angularaxis\": {\"gridcolor\": \"white\", \"linecolor\": \"white\", \"ticks\": \"\"}, \"bgcolor\": \"#E5ECF6\", \"radialaxis\": {\"gridcolor\": \"white\", \"linecolor\": \"white\", \"ticks\": \"\"}}, \"scene\": {\"xaxis\": {\"backgroundcolor\": \"#E5ECF6\", \"gridcolor\": \"white\", \"gridwidth\": 2, \"linecolor\": \"white\", \"showbackground\": true, \"ticks\": \"\", \"zerolinecolor\": \"white\"}, \"yaxis\": {\"backgroundcolor\": \"#E5ECF6\", \"gridcolor\": \"white\", \"gridwidth\": 2, \"linecolor\": \"white\", \"showbackground\": true, \"ticks\": \"\", \"zerolinecolor\": \"white\"}, \"zaxis\": {\"backgroundcolor\": \"#E5ECF6\", \"gridcolor\": \"white\", \"gridwidth\": 2, \"linecolor\": \"white\", \"showbackground\": true, \"ticks\": \"\", \"zerolinecolor\": \"white\"}}, \"shapedefaults\": {\"line\": {\"color\": \"#2a3f5f\"}}, \"ternary\": {\"aaxis\": {\"gridcolor\": \"white\", \"linecolor\": \"white\", \"ticks\": \"\"}, \"baxis\": {\"gridcolor\": \"white\", \"linecolor\": \"white\", \"ticks\": \"\"}, \"bgcolor\": \"#E5ECF6\", \"caxis\": {\"gridcolor\": \"white\", \"linecolor\": \"white\", \"ticks\": \"\"}}, \"title\": {\"x\": 0.05}, \"xaxis\": {\"automargin\": true, \"gridcolor\": \"white\", \"linecolor\": \"white\", \"ticks\": \"\", \"title\": {\"standoff\": 15}, \"zerolinecolor\": \"white\", \"zerolinewidth\": 2}, \"yaxis\": {\"automargin\": true, \"gridcolor\": \"white\", \"linecolor\": \"white\", \"ticks\": \"\", \"title\": {\"standoff\": 15}, \"zerolinecolor\": \"white\", \"zerolinewidth\": 2}}}, \"title\": {\"font\": {\"color\": \"#4D5663\"}, \"text\": \"Abweichungen dC und dS in Abh\\u00e4ngigkeit von S\"}, \"xaxis\": {\"gridcolor\": \"#E1E5ED\", \"showgrid\": true, \"tickfont\": {\"color\": \"#4D5663\"}, \"title\": {\"font\": {\"color\": \"#4D5663\"}, \"text\": \"dC\"}, \"zerolinecolor\": \"#E1E5ED\"}, \"yaxis\": {\"gridcolor\": \"#E1E5ED\", \"showgrid\": true, \"tickfont\": {\"color\": \"#4D5663\"}, \"title\": {\"font\": {\"color\": \"#4D5663\"}, \"text\": \"dS\"}, \"zerolinecolor\": \"#E1E5ED\"}},\n                        {\"showLink\": true, \"linkText\": \"Export to plot.ly\", \"plotlyServerURL\": \"https://plot.ly\", \"responsive\": true}\n                    ).then(function(){\n                            \nvar gd = document.getElementById('cc41fcb0-3ffb-4fa3-9bde-8fb2271e17a7');\nvar x = new MutationObserver(function (mutations, observer) {{\n        var display = window.getComputedStyle(gd).display;\n        if (!display || display === 'none') {{\n            console.log([gd, 'removed!']);\n            Plotly.purge(gd);\n            observer.disconnect();\n        }}\n}});\n\n// Listen for the removal of the full notebook cells\nvar notebookContainer = gd.closest('#notebook-container');\nif (notebookContainer) {{\n    x.observe(notebookContainer, {childList: true});\n}}\n\n// Listen for the clearing of the current output cell\nvar outputEl = gd.closest('.output');\nif (outputEl) {{\n    x.observe(outputEl, {childList: true});\n}}\n\n                        })\n                };\n                });\n            </script>\n        </div>"
     },
     "metadata": {},
     "output_type": "display_data"
    }
   ],
   "source": [
    "df.iplot(\n",
    "x='dC',\n",
    "y='dS',\n",
    "# Specify the category\n",
    "categories='S',\n",
    "xTitle='dC',\n",
    "yTitle='dS',\n",
    "title='Abweichungen dC und dS in Abhängigkeit von S')\n",
    "plt.show()"
   ]
  },
  {
   "cell_type": "code",
   "execution_count": 39,
   "metadata": {
    "pycharm": {
     "name": "#%%\n"
    }
   },
   "outputs": [
    {
     "data": {
      "application/vnd.plotly.v1+json": {
       "config": {
        "linkText": "Export to plot.ly",
        "plotlyServerURL": "https://plot.ly",
        "showLink": true
       },
       "data": [
        {
         "marker": {
          "color": "rgba(255, 153, 51, 1.0)",
          "line": {
           "width": 1.3
          },
          "opacity": 0.8,
          "size": 12,
          "symbol": "circle"
         },
         "mode": "markers",
         "name": "27.1",
         "textfont": {
          "color": "#4D5663"
         },
         "type": "scatter",
         "x": [
          33.0
         ],
         "y": [
          20.0
         ]
        },
        {
         "marker": {
          "color": "rgba(55, 128, 191, 1.0)",
          "line": {
           "width": 1.3
          },
          "opacity": 0.8,
          "size": 12,
          "symbol": "circle"
         },
         "mode": "markers",
         "name": "25.5",
         "textfont": {
          "color": "#4D5663"
         },
         "type": "scatter",
         "x": [
          6.0,
          6.0,
          0.0
         ],
         "y": [
          8.0,
          8.0,
          6.0
         ]
        },
        {
         "marker": {
          "color": "rgba(50, 171, 96, 1.0)",
          "line": {
           "width": 1.3
          },
          "opacity": 0.8,
          "size": 12,
          "symbol": "circle"
         },
         "mode": "markers",
         "name": "22.0",
         "textfont": {
          "color": "#4D5663"
         },
         "type": "scatter",
         "x": [
          1.0,
          0.0,
          -11.6
         ],
         "y": [
          8.59,
          7.0,
          0.0
         ]
        },
        {
         "marker": {
          "color": "rgba(128, 0, 128, 1.0)",
          "line": {
           "width": 1.3
          },
          "opacity": 0.8,
          "size": 12,
          "symbol": "circle"
         },
         "mode": "markers",
         "name": "21.5",
         "textfont": {
          "color": "#4D5663"
         },
         "type": "scatter",
         "x": [
          0.0,
          0.0
         ],
         "y": [
          7.0,
          6.8
         ]
        },
        {
         "marker": {
          "color": "rgba(219, 64, 82, 1.0)",
          "line": {
           "width": 1.3
          },
          "opacity": 0.8,
          "size": 12,
          "symbol": "circle"
         },
         "mode": "markers",
         "name": "14.0",
         "textfont": {
          "color": "#4D5663"
         },
         "type": "scatter",
         "x": [
          0.0
         ],
         "y": [
          16.6
         ]
        },
        {
         "marker": {
          "color": "rgba(0, 128, 128, 1.0)",
          "line": {
           "width": 1.3
          },
          "opacity": 0.8,
          "size": 12,
          "symbol": "circle"
         },
         "mode": "markers",
         "name": "21.0",
         "textfont": {
          "color": "#4D5663"
         },
         "type": "scatter",
         "x": [
          -1.7,
          -2.97,
          -4.0,
          0.0,
          -11.2,
          -6.75,
          -9.1,
          -12.6
         ],
         "y": [
          6.5,
          6.43,
          5.0,
          6.0,
          1.29,
          10.8,
          3.5,
          0.0
         ]
        },
        {
         "marker": {
          "color": "rgba(255, 255, 51, 1.0)",
          "line": {
           "width": 1.3
          },
          "opacity": 0.8,
          "size": 12,
          "symbol": "circle"
         },
         "mode": "markers",
         "name": "20.0",
         "textfont": {
          "color": "#4D5663"
         },
         "type": "scatter",
         "x": [
          -11.8,
          -16.6
         ],
         "y": [
          0.0,
          0.0
         ]
        },
        {
         "marker": {
          "color": "rgba(128, 128, 0, 1.0)",
          "line": {
           "width": 1.3
          },
          "opacity": 0.8,
          "size": 12,
          "symbol": "circle"
         },
         "mode": "markers",
         "name": "15.5",
         "textfont": {
          "color": "#4D5663"
         },
         "type": "scatter",
         "x": [
          -17.0
         ],
         "y": [
          2.0
         ]
        },
        {
         "marker": {
          "color": "rgba(251, 128, 114, 1.0)",
          "line": {
           "width": 1.3
          },
          "opacity": 0.8,
          "size": 12,
          "symbol": "circle"
         },
         "mode": "markers",
         "name": "25.2",
         "textfont": {
          "color": "#4D5663"
         },
         "type": "scatter",
         "x": [
          6.5,
          5.0
         ],
         "y": [
          8.5,
          7.7
         ]
        },
        {
         "marker": {
          "color": "rgba(128, 177, 211, 1.0)",
          "line": {
           "width": 1.3
          },
          "opacity": 0.8,
          "size": 12,
          "symbol": "circle"
         },
         "mode": "markers",
         "name": "23.0",
         "textfont": {
          "color": "#4D5663"
         },
         "type": "scatter",
         "x": [
          -2.0,
          -10.7
         ],
         "y": [
          4.0,
          0.0
         ]
        },
        {
         "marker": {
          "color": "rgba(128, 177, 211, 0.8999999999999999)",
          "line": {
           "width": 1.3
          },
          "opacity": 0.8,
          "size": 12,
          "symbol": "circle"
         },
         "mode": "markers",
         "name": "23.4",
         "textfont": {
          "color": "#4D5663"
         },
         "type": "scatter",
         "x": [
          -3.0
         ],
         "y": [
          4.4
         ]
        },
        {
         "marker": {
          "color": "rgba(255, 153, 51, 0.8999999999999999)",
          "line": {
           "width": 1.3
          },
          "opacity": 0.8,
          "size": 12,
          "symbol": "circle"
         },
         "mode": "markers",
         "name": "24.0",
         "textfont": {
          "color": "#4D5663"
         },
         "type": "scatter",
         "x": [
          -2.0,
          -5.62
         ],
         "y": [
          3.8,
          3.0
         ]
        },
        {
         "marker": {
          "color": "rgba(55, 128, 191, 0.8999999999999999)",
          "line": {
           "width": 1.3
          },
          "opacity": 0.8,
          "size": 12,
          "symbol": "circle"
         },
         "mode": "markers",
         "name": "18.2",
         "textfont": {
          "color": "#4D5663"
         },
         "type": "scatter",
         "x": [
          0.0
         ],
         "y": [
          10.2
         ]
        },
        {
         "marker": {
          "color": "rgba(50, 171, 96, 0.8999999999999999)",
          "line": {
           "width": 1.3
          },
          "opacity": 0.8,
          "size": 12,
          "symbol": "circle"
         },
         "mode": "markers",
         "name": "5.7",
         "textfont": {
          "color": "#4D5663"
         },
         "type": "scatter",
         "x": [
          -54.4
         ],
         "y": [
          -11.3
         ]
        }
       ],
       "layout": {
        "legend": {
         "bgcolor": "#F5F6F9",
         "font": {
          "color": "#4D5663"
         }
        },
        "paper_bgcolor": "#F5F6F9",
        "plot_bgcolor": "#F5F6F9",
        "template": {
         "data": {
          "bar": [
           {
            "error_x": {
             "color": "#2a3f5f"
            },
            "error_y": {
             "color": "#2a3f5f"
            },
            "marker": {
             "line": {
              "color": "#E5ECF6",
              "width": 0.5
             }
            },
            "type": "bar"
           }
          ],
          "barpolar": [
           {
            "marker": {
             "line": {
              "color": "#E5ECF6",
              "width": 0.5
             }
            },
            "type": "barpolar"
           }
          ],
          "carpet": [
           {
            "aaxis": {
             "endlinecolor": "#2a3f5f",
             "gridcolor": "white",
             "linecolor": "white",
             "minorgridcolor": "white",
             "startlinecolor": "#2a3f5f"
            },
            "baxis": {
             "endlinecolor": "#2a3f5f",
             "gridcolor": "white",
             "linecolor": "white",
             "minorgridcolor": "white",
             "startlinecolor": "#2a3f5f"
            },
            "type": "carpet"
           }
          ],
          "choropleth": [
           {
            "colorbar": {
             "outlinewidth": 0,
             "ticks": ""
            },
            "type": "choropleth"
           }
          ],
          "contour": [
           {
            "colorbar": {
             "outlinewidth": 0,
             "ticks": ""
            },
            "colorscale": [
             [
              0.0,
              "#0d0887"
             ],
             [
              0.1111111111111111,
              "#46039f"
             ],
             [
              0.2222222222222222,
              "#7201a8"
             ],
             [
              0.3333333333333333,
              "#9c179e"
             ],
             [
              0.4444444444444444,
              "#bd3786"
             ],
             [
              0.5555555555555556,
              "#d8576b"
             ],
             [
              0.6666666666666666,
              "#ed7953"
             ],
             [
              0.7777777777777778,
              "#fb9f3a"
             ],
             [
              0.8888888888888888,
              "#fdca26"
             ],
             [
              1.0,
              "#f0f921"
             ]
            ],
            "type": "contour"
           }
          ],
          "contourcarpet": [
           {
            "colorbar": {
             "outlinewidth": 0,
             "ticks": ""
            },
            "type": "contourcarpet"
           }
          ],
          "heatmap": [
           {
            "colorbar": {
             "outlinewidth": 0,
             "ticks": ""
            },
            "colorscale": [
             [
              0.0,
              "#0d0887"
             ],
             [
              0.1111111111111111,
              "#46039f"
             ],
             [
              0.2222222222222222,
              "#7201a8"
             ],
             [
              0.3333333333333333,
              "#9c179e"
             ],
             [
              0.4444444444444444,
              "#bd3786"
             ],
             [
              0.5555555555555556,
              "#d8576b"
             ],
             [
              0.6666666666666666,
              "#ed7953"
             ],
             [
              0.7777777777777778,
              "#fb9f3a"
             ],
             [
              0.8888888888888888,
              "#fdca26"
             ],
             [
              1.0,
              "#f0f921"
             ]
            ],
            "type": "heatmap"
           }
          ],
          "heatmapgl": [
           {
            "colorbar": {
             "outlinewidth": 0,
             "ticks": ""
            },
            "colorscale": [
             [
              0.0,
              "#0d0887"
             ],
             [
              0.1111111111111111,
              "#46039f"
             ],
             [
              0.2222222222222222,
              "#7201a8"
             ],
             [
              0.3333333333333333,
              "#9c179e"
             ],
             [
              0.4444444444444444,
              "#bd3786"
             ],
             [
              0.5555555555555556,
              "#d8576b"
             ],
             [
              0.6666666666666666,
              "#ed7953"
             ],
             [
              0.7777777777777778,
              "#fb9f3a"
             ],
             [
              0.8888888888888888,
              "#fdca26"
             ],
             [
              1.0,
              "#f0f921"
             ]
            ],
            "type": "heatmapgl"
           }
          ],
          "histogram": [
           {
            "marker": {
             "colorbar": {
              "outlinewidth": 0,
              "ticks": ""
             }
            },
            "type": "histogram"
           }
          ],
          "histogram2d": [
           {
            "colorbar": {
             "outlinewidth": 0,
             "ticks": ""
            },
            "colorscale": [
             [
              0.0,
              "#0d0887"
             ],
             [
              0.1111111111111111,
              "#46039f"
             ],
             [
              0.2222222222222222,
              "#7201a8"
             ],
             [
              0.3333333333333333,
              "#9c179e"
             ],
             [
              0.4444444444444444,
              "#bd3786"
             ],
             [
              0.5555555555555556,
              "#d8576b"
             ],
             [
              0.6666666666666666,
              "#ed7953"
             ],
             [
              0.7777777777777778,
              "#fb9f3a"
             ],
             [
              0.8888888888888888,
              "#fdca26"
             ],
             [
              1.0,
              "#f0f921"
             ]
            ],
            "type": "histogram2d"
           }
          ],
          "histogram2dcontour": [
           {
            "colorbar": {
             "outlinewidth": 0,
             "ticks": ""
            },
            "colorscale": [
             [
              0.0,
              "#0d0887"
             ],
             [
              0.1111111111111111,
              "#46039f"
             ],
             [
              0.2222222222222222,
              "#7201a8"
             ],
             [
              0.3333333333333333,
              "#9c179e"
             ],
             [
              0.4444444444444444,
              "#bd3786"
             ],
             [
              0.5555555555555556,
              "#d8576b"
             ],
             [
              0.6666666666666666,
              "#ed7953"
             ],
             [
              0.7777777777777778,
              "#fb9f3a"
             ],
             [
              0.8888888888888888,
              "#fdca26"
             ],
             [
              1.0,
              "#f0f921"
             ]
            ],
            "type": "histogram2dcontour"
           }
          ],
          "mesh3d": [
           {
            "colorbar": {
             "outlinewidth": 0,
             "ticks": ""
            },
            "type": "mesh3d"
           }
          ],
          "parcoords": [
           {
            "line": {
             "colorbar": {
              "outlinewidth": 0,
              "ticks": ""
             }
            },
            "type": "parcoords"
           }
          ],
          "pie": [
           {
            "automargin": true,
            "type": "pie"
           }
          ],
          "scatter": [
           {
            "marker": {
             "colorbar": {
              "outlinewidth": 0,
              "ticks": ""
             }
            },
            "type": "scatter"
           }
          ],
          "scatter3d": [
           {
            "line": {
             "colorbar": {
              "outlinewidth": 0,
              "ticks": ""
             }
            },
            "marker": {
             "colorbar": {
              "outlinewidth": 0,
              "ticks": ""
             }
            },
            "type": "scatter3d"
           }
          ],
          "scattercarpet": [
           {
            "marker": {
             "colorbar": {
              "outlinewidth": 0,
              "ticks": ""
             }
            },
            "type": "scattercarpet"
           }
          ],
          "scattergeo": [
           {
            "marker": {
             "colorbar": {
              "outlinewidth": 0,
              "ticks": ""
             }
            },
            "type": "scattergeo"
           }
          ],
          "scattergl": [
           {
            "marker": {
             "colorbar": {
              "outlinewidth": 0,
              "ticks": ""
             }
            },
            "type": "scattergl"
           }
          ],
          "scattermapbox": [
           {
            "marker": {
             "colorbar": {
              "outlinewidth": 0,
              "ticks": ""
             }
            },
            "type": "scattermapbox"
           }
          ],
          "scatterpolar": [
           {
            "marker": {
             "colorbar": {
              "outlinewidth": 0,
              "ticks": ""
             }
            },
            "type": "scatterpolar"
           }
          ],
          "scatterpolargl": [
           {
            "marker": {
             "colorbar": {
              "outlinewidth": 0,
              "ticks": ""
             }
            },
            "type": "scatterpolargl"
           }
          ],
          "scatterternary": [
           {
            "marker": {
             "colorbar": {
              "outlinewidth": 0,
              "ticks": ""
             }
            },
            "type": "scatterternary"
           }
          ],
          "surface": [
           {
            "colorbar": {
             "outlinewidth": 0,
             "ticks": ""
            },
            "colorscale": [
             [
              0.0,
              "#0d0887"
             ],
             [
              0.1111111111111111,
              "#46039f"
             ],
             [
              0.2222222222222222,
              "#7201a8"
             ],
             [
              0.3333333333333333,
              "#9c179e"
             ],
             [
              0.4444444444444444,
              "#bd3786"
             ],
             [
              0.5555555555555556,
              "#d8576b"
             ],
             [
              0.6666666666666666,
              "#ed7953"
             ],
             [
              0.7777777777777778,
              "#fb9f3a"
             ],
             [
              0.8888888888888888,
              "#fdca26"
             ],
             [
              1.0,
              "#f0f921"
             ]
            ],
            "type": "surface"
           }
          ],
          "table": [
           {
            "cells": {
             "fill": {
              "color": "#EBF0F8"
             },
             "line": {
              "color": "white"
             }
            },
            "header": {
             "fill": {
              "color": "#C8D4E3"
             },
             "line": {
              "color": "white"
             }
            },
            "type": "table"
           }
          ]
         },
         "layout": {
          "annotationdefaults": {
           "arrowcolor": "#2a3f5f",
           "arrowhead": 0,
           "arrowwidth": 1
          },
          "coloraxis": {
           "colorbar": {
            "outlinewidth": 0,
            "ticks": ""
           }
          },
          "colorscale": {
           "diverging": [
            [
             0,
             "#8e0152"
            ],
            [
             0.1,
             "#c51b7d"
            ],
            [
             0.2,
             "#de77ae"
            ],
            [
             0.3,
             "#f1b6da"
            ],
            [
             0.4,
             "#fde0ef"
            ],
            [
             0.5,
             "#f7f7f7"
            ],
            [
             0.6,
             "#e6f5d0"
            ],
            [
             0.7,
             "#b8e186"
            ],
            [
             0.8,
             "#7fbc41"
            ],
            [
             0.9,
             "#4d9221"
            ],
            [
             1,
             "#276419"
            ]
           ],
           "sequential": [
            [
             0.0,
             "#0d0887"
            ],
            [
             0.1111111111111111,
             "#46039f"
            ],
            [
             0.2222222222222222,
             "#7201a8"
            ],
            [
             0.3333333333333333,
             "#9c179e"
            ],
            [
             0.4444444444444444,
             "#bd3786"
            ],
            [
             0.5555555555555556,
             "#d8576b"
            ],
            [
             0.6666666666666666,
             "#ed7953"
            ],
            [
             0.7777777777777778,
             "#fb9f3a"
            ],
            [
             0.8888888888888888,
             "#fdca26"
            ],
            [
             1.0,
             "#f0f921"
            ]
           ],
           "sequentialminus": [
            [
             0.0,
             "#0d0887"
            ],
            [
             0.1111111111111111,
             "#46039f"
            ],
            [
             0.2222222222222222,
             "#7201a8"
            ],
            [
             0.3333333333333333,
             "#9c179e"
            ],
            [
             0.4444444444444444,
             "#bd3786"
            ],
            [
             0.5555555555555556,
             "#d8576b"
            ],
            [
             0.6666666666666666,
             "#ed7953"
            ],
            [
             0.7777777777777778,
             "#fb9f3a"
            ],
            [
             0.8888888888888888,
             "#fdca26"
            ],
            [
             1.0,
             "#f0f921"
            ]
           ]
          },
          "colorway": [
           "#636efa",
           "#EF553B",
           "#00cc96",
           "#ab63fa",
           "#FFA15A",
           "#19d3f3",
           "#FF6692",
           "#B6E880",
           "#FF97FF",
           "#FECB52"
          ],
          "font": {
           "color": "#2a3f5f"
          },
          "geo": {
           "bgcolor": "white",
           "lakecolor": "white",
           "landcolor": "#E5ECF6",
           "showlakes": true,
           "showland": true,
           "subunitcolor": "white"
          },
          "hoverlabel": {
           "align": "left"
          },
          "hovermode": "closest",
          "mapbox": {
           "style": "light"
          },
          "paper_bgcolor": "white",
          "plot_bgcolor": "#E5ECF6",
          "polar": {
           "angularaxis": {
            "gridcolor": "white",
            "linecolor": "white",
            "ticks": ""
           },
           "bgcolor": "#E5ECF6",
           "radialaxis": {
            "gridcolor": "white",
            "linecolor": "white",
            "ticks": ""
           }
          },
          "scene": {
           "xaxis": {
            "backgroundcolor": "#E5ECF6",
            "gridcolor": "white",
            "gridwidth": 2,
            "linecolor": "white",
            "showbackground": true,
            "ticks": "",
            "zerolinecolor": "white"
           },
           "yaxis": {
            "backgroundcolor": "#E5ECF6",
            "gridcolor": "white",
            "gridwidth": 2,
            "linecolor": "white",
            "showbackground": true,
            "ticks": "",
            "zerolinecolor": "white"
           },
           "zaxis": {
            "backgroundcolor": "#E5ECF6",
            "gridcolor": "white",
            "gridwidth": 2,
            "linecolor": "white",
            "showbackground": true,
            "ticks": "",
            "zerolinecolor": "white"
           }
          },
          "shapedefaults": {
           "line": {
            "color": "#2a3f5f"
           }
          },
          "ternary": {
           "aaxis": {
            "gridcolor": "white",
            "linecolor": "white",
            "ticks": ""
           },
           "baxis": {
            "gridcolor": "white",
            "linecolor": "white",
            "ticks": ""
           },
           "bgcolor": "#E5ECF6",
           "caxis": {
            "gridcolor": "white",
            "linecolor": "white",
            "ticks": ""
           }
          },
          "title": {
           "x": 0.05
          },
          "xaxis": {
           "automargin": true,
           "gridcolor": "white",
           "linecolor": "white",
           "ticks": "",
           "title": {
            "standoff": 15
           },
           "zerolinecolor": "white",
           "zerolinewidth": 2
          },
          "yaxis": {
           "automargin": true,
           "gridcolor": "white",
           "linecolor": "white",
           "ticks": "",
           "title": {
            "standoff": 15
           },
           "zerolinecolor": "white",
           "zerolinewidth": 2
          }
         }
        },
        "title": {
         "font": {
          "color": "#4D5663"
         },
         "text": "Abweichungen dC und dS in Abhängigkeit von C"
        },
        "xaxis": {
         "gridcolor": "#E1E5ED",
         "showgrid": true,
         "tickfont": {
          "color": "#4D5663"
         },
         "title": {
          "font": {
           "color": "#4D5663"
          },
          "text": "dC"
         },
         "zerolinecolor": "#E1E5ED"
        },
        "yaxis": {
         "gridcolor": "#E1E5ED",
         "showgrid": true,
         "tickfont": {
          "color": "#4D5663"
         },
         "title": {
          "font": {
           "color": "#4D5663"
          },
          "text": "dS"
         },
         "zerolinecolor": "#E1E5ED"
        }
       }
      },
      "text/html": "<div>\n        \n        \n            <div id=\"61689b3b-2c04-4c50-9ef7-56f0521e14ba\" class=\"plotly-graph-div\" style=\"height:525px; width:100%;\"></div>\n            <script type=\"text/javascript\">\n                require([\"plotly\"], function(Plotly) {\n                    window.PLOTLYENV=window.PLOTLYENV || {};\n                    window.PLOTLYENV.BASE_URL='https://plot.ly';\n                    \n                if (document.getElementById(\"61689b3b-2c04-4c50-9ef7-56f0521e14ba\")) {\n                    Plotly.newPlot(\n                        '61689b3b-2c04-4c50-9ef7-56f0521e14ba',\n                        [{\"marker\": {\"color\": \"rgba(255, 153, 51, 1.0)\", \"line\": {\"width\": 1.3}, \"opacity\": 0.8, \"size\": 12, \"symbol\": \"circle\"}, \"mode\": \"markers\", \"name\": \"27.1\", \"textfont\": {\"color\": \"#4D5663\"}, \"type\": \"scatter\", \"x\": [33.0], \"y\": [20.0]}, {\"marker\": {\"color\": \"rgba(55, 128, 191, 1.0)\", \"line\": {\"width\": 1.3}, \"opacity\": 0.8, \"size\": 12, \"symbol\": \"circle\"}, \"mode\": \"markers\", \"name\": \"25.5\", \"textfont\": {\"color\": \"#4D5663\"}, \"type\": \"scatter\", \"x\": [6.0, 6.0, 0.0], \"y\": [8.0, 8.0, 6.0]}, {\"marker\": {\"color\": \"rgba(50, 171, 96, 1.0)\", \"line\": {\"width\": 1.3}, \"opacity\": 0.8, \"size\": 12, \"symbol\": \"circle\"}, \"mode\": \"markers\", \"name\": \"22.0\", \"textfont\": {\"color\": \"#4D5663\"}, \"type\": \"scatter\", \"x\": [1.0, 0.0, -11.6], \"y\": [8.59, 7.0, 0.0]}, {\"marker\": {\"color\": \"rgba(128, 0, 128, 1.0)\", \"line\": {\"width\": 1.3}, \"opacity\": 0.8, \"size\": 12, \"symbol\": \"circle\"}, \"mode\": \"markers\", \"name\": \"21.5\", \"textfont\": {\"color\": \"#4D5663\"}, \"type\": \"scatter\", \"x\": [0.0, 0.0], \"y\": [7.0, 6.8]}, {\"marker\": {\"color\": \"rgba(219, 64, 82, 1.0)\", \"line\": {\"width\": 1.3}, \"opacity\": 0.8, \"size\": 12, \"symbol\": \"circle\"}, \"mode\": \"markers\", \"name\": \"14.0\", \"textfont\": {\"color\": \"#4D5663\"}, \"type\": \"scatter\", \"x\": [0.0], \"y\": [16.6]}, {\"marker\": {\"color\": \"rgba(0, 128, 128, 1.0)\", \"line\": {\"width\": 1.3}, \"opacity\": 0.8, \"size\": 12, \"symbol\": \"circle\"}, \"mode\": \"markers\", \"name\": \"21.0\", \"textfont\": {\"color\": \"#4D5663\"}, \"type\": \"scatter\", \"x\": [-1.7, -2.97, -4.0, 0.0, -11.2, -6.75, -9.1, -12.6], \"y\": [6.5, 6.43, 5.0, 6.0, 1.29, 10.8, 3.5, 0.0]}, {\"marker\": {\"color\": \"rgba(255, 255, 51, 1.0)\", \"line\": {\"width\": 1.3}, \"opacity\": 0.8, \"size\": 12, \"symbol\": \"circle\"}, \"mode\": \"markers\", \"name\": \"20.0\", \"textfont\": {\"color\": \"#4D5663\"}, \"type\": \"scatter\", \"x\": [-11.8, -16.6], \"y\": [0.0, 0.0]}, {\"marker\": {\"color\": \"rgba(128, 128, 0, 1.0)\", \"line\": {\"width\": 1.3}, \"opacity\": 0.8, \"size\": 12, \"symbol\": \"circle\"}, \"mode\": \"markers\", \"name\": \"15.5\", \"textfont\": {\"color\": \"#4D5663\"}, \"type\": \"scatter\", \"x\": [-17.0], \"y\": [2.0]}, {\"marker\": {\"color\": \"rgba(251, 128, 114, 1.0)\", \"line\": {\"width\": 1.3}, \"opacity\": 0.8, \"size\": 12, \"symbol\": \"circle\"}, \"mode\": \"markers\", \"name\": \"25.2\", \"textfont\": {\"color\": \"#4D5663\"}, \"type\": \"scatter\", \"x\": [6.5, 5.0], \"y\": [8.5, 7.7]}, {\"marker\": {\"color\": \"rgba(128, 177, 211, 1.0)\", \"line\": {\"width\": 1.3}, \"opacity\": 0.8, \"size\": 12, \"symbol\": \"circle\"}, \"mode\": \"markers\", \"name\": \"23.0\", \"textfont\": {\"color\": \"#4D5663\"}, \"type\": \"scatter\", \"x\": [-2.0, -10.7], \"y\": [4.0, 0.0]}, {\"marker\": {\"color\": \"rgba(128, 177, 211, 0.8999999999999999)\", \"line\": {\"width\": 1.3}, \"opacity\": 0.8, \"size\": 12, \"symbol\": \"circle\"}, \"mode\": \"markers\", \"name\": \"23.4\", \"textfont\": {\"color\": \"#4D5663\"}, \"type\": \"scatter\", \"x\": [-3.0], \"y\": [4.4]}, {\"marker\": {\"color\": \"rgba(255, 153, 51, 0.8999999999999999)\", \"line\": {\"width\": 1.3}, \"opacity\": 0.8, \"size\": 12, \"symbol\": \"circle\"}, \"mode\": \"markers\", \"name\": \"24.0\", \"textfont\": {\"color\": \"#4D5663\"}, \"type\": \"scatter\", \"x\": [-2.0, -5.62], \"y\": [3.8, 3.0]}, {\"marker\": {\"color\": \"rgba(55, 128, 191, 0.8999999999999999)\", \"line\": {\"width\": 1.3}, \"opacity\": 0.8, \"size\": 12, \"symbol\": \"circle\"}, \"mode\": \"markers\", \"name\": \"18.2\", \"textfont\": {\"color\": \"#4D5663\"}, \"type\": \"scatter\", \"x\": [0.0], \"y\": [10.2]}, {\"marker\": {\"color\": \"rgba(50, 171, 96, 0.8999999999999999)\", \"line\": {\"width\": 1.3}, \"opacity\": 0.8, \"size\": 12, \"symbol\": \"circle\"}, \"mode\": \"markers\", \"name\": \"5.7\", \"textfont\": {\"color\": \"#4D5663\"}, \"type\": \"scatter\", \"x\": [-54.4], \"y\": [-11.3]}],\n                        {\"legend\": {\"bgcolor\": \"#F5F6F9\", \"font\": {\"color\": \"#4D5663\"}}, \"paper_bgcolor\": \"#F5F6F9\", \"plot_bgcolor\": \"#F5F6F9\", \"template\": {\"data\": {\"bar\": [{\"error_x\": {\"color\": \"#2a3f5f\"}, \"error_y\": {\"color\": \"#2a3f5f\"}, \"marker\": {\"line\": {\"color\": \"#E5ECF6\", \"width\": 0.5}}, \"type\": \"bar\"}], \"barpolar\": [{\"marker\": {\"line\": {\"color\": \"#E5ECF6\", \"width\": 0.5}}, \"type\": \"barpolar\"}], \"carpet\": [{\"aaxis\": {\"endlinecolor\": \"#2a3f5f\", \"gridcolor\": \"white\", \"linecolor\": \"white\", \"minorgridcolor\": \"white\", \"startlinecolor\": \"#2a3f5f\"}, \"baxis\": {\"endlinecolor\": \"#2a3f5f\", \"gridcolor\": \"white\", \"linecolor\": \"white\", \"minorgridcolor\": \"white\", \"startlinecolor\": \"#2a3f5f\"}, \"type\": \"carpet\"}], \"choropleth\": [{\"colorbar\": {\"outlinewidth\": 0, \"ticks\": \"\"}, \"type\": \"choropleth\"}], \"contour\": [{\"colorbar\": {\"outlinewidth\": 0, \"ticks\": \"\"}, \"colorscale\": [[0.0, \"#0d0887\"], [0.1111111111111111, \"#46039f\"], [0.2222222222222222, \"#7201a8\"], [0.3333333333333333, \"#9c179e\"], [0.4444444444444444, \"#bd3786\"], [0.5555555555555556, \"#d8576b\"], [0.6666666666666666, \"#ed7953\"], [0.7777777777777778, \"#fb9f3a\"], [0.8888888888888888, \"#fdca26\"], [1.0, \"#f0f921\"]], \"type\": \"contour\"}], \"contourcarpet\": [{\"colorbar\": {\"outlinewidth\": 0, \"ticks\": \"\"}, \"type\": \"contourcarpet\"}], \"heatmap\": [{\"colorbar\": {\"outlinewidth\": 0, \"ticks\": \"\"}, \"colorscale\": [[0.0, \"#0d0887\"], [0.1111111111111111, \"#46039f\"], [0.2222222222222222, \"#7201a8\"], [0.3333333333333333, \"#9c179e\"], [0.4444444444444444, \"#bd3786\"], [0.5555555555555556, \"#d8576b\"], [0.6666666666666666, \"#ed7953\"], [0.7777777777777778, \"#fb9f3a\"], [0.8888888888888888, \"#fdca26\"], [1.0, \"#f0f921\"]], \"type\": \"heatmap\"}], \"heatmapgl\": [{\"colorbar\": {\"outlinewidth\": 0, \"ticks\": \"\"}, \"colorscale\": [[0.0, \"#0d0887\"], [0.1111111111111111, \"#46039f\"], [0.2222222222222222, \"#7201a8\"], [0.3333333333333333, \"#9c179e\"], [0.4444444444444444, \"#bd3786\"], [0.5555555555555556, \"#d8576b\"], [0.6666666666666666, \"#ed7953\"], [0.7777777777777778, \"#fb9f3a\"], [0.8888888888888888, \"#fdca26\"], [1.0, \"#f0f921\"]], \"type\": \"heatmapgl\"}], \"histogram\": [{\"marker\": {\"colorbar\": {\"outlinewidth\": 0, \"ticks\": \"\"}}, \"type\": \"histogram\"}], \"histogram2d\": [{\"colorbar\": {\"outlinewidth\": 0, \"ticks\": \"\"}, \"colorscale\": [[0.0, \"#0d0887\"], [0.1111111111111111, \"#46039f\"], [0.2222222222222222, \"#7201a8\"], [0.3333333333333333, \"#9c179e\"], [0.4444444444444444, \"#bd3786\"], [0.5555555555555556, \"#d8576b\"], [0.6666666666666666, \"#ed7953\"], [0.7777777777777778, \"#fb9f3a\"], [0.8888888888888888, \"#fdca26\"], [1.0, \"#f0f921\"]], \"type\": \"histogram2d\"}], \"histogram2dcontour\": [{\"colorbar\": {\"outlinewidth\": 0, \"ticks\": \"\"}, \"colorscale\": [[0.0, \"#0d0887\"], [0.1111111111111111, \"#46039f\"], [0.2222222222222222, \"#7201a8\"], [0.3333333333333333, \"#9c179e\"], [0.4444444444444444, \"#bd3786\"], [0.5555555555555556, \"#d8576b\"], [0.6666666666666666, \"#ed7953\"], [0.7777777777777778, \"#fb9f3a\"], [0.8888888888888888, \"#fdca26\"], [1.0, \"#f0f921\"]], \"type\": \"histogram2dcontour\"}], \"mesh3d\": [{\"colorbar\": {\"outlinewidth\": 0, \"ticks\": \"\"}, \"type\": \"mesh3d\"}], \"parcoords\": [{\"line\": {\"colorbar\": {\"outlinewidth\": 0, \"ticks\": \"\"}}, \"type\": \"parcoords\"}], \"pie\": [{\"automargin\": true, \"type\": \"pie\"}], \"scatter\": [{\"marker\": {\"colorbar\": {\"outlinewidth\": 0, \"ticks\": \"\"}}, \"type\": \"scatter\"}], \"scatter3d\": [{\"line\": {\"colorbar\": {\"outlinewidth\": 0, \"ticks\": \"\"}}, \"marker\": {\"colorbar\": {\"outlinewidth\": 0, \"ticks\": \"\"}}, \"type\": \"scatter3d\"}], \"scattercarpet\": [{\"marker\": {\"colorbar\": {\"outlinewidth\": 0, \"ticks\": \"\"}}, \"type\": \"scattercarpet\"}], \"scattergeo\": [{\"marker\": {\"colorbar\": {\"outlinewidth\": 0, \"ticks\": \"\"}}, \"type\": \"scattergeo\"}], \"scattergl\": [{\"marker\": {\"colorbar\": {\"outlinewidth\": 0, \"ticks\": \"\"}}, \"type\": \"scattergl\"}], \"scattermapbox\": [{\"marker\": {\"colorbar\": {\"outlinewidth\": 0, \"ticks\": \"\"}}, \"type\": \"scattermapbox\"}], \"scatterpolar\": [{\"marker\": {\"colorbar\": {\"outlinewidth\": 0, \"ticks\": \"\"}}, \"type\": \"scatterpolar\"}], \"scatterpolargl\": [{\"marker\": {\"colorbar\": {\"outlinewidth\": 0, \"ticks\": \"\"}}, \"type\": \"scatterpolargl\"}], \"scatterternary\": [{\"marker\": {\"colorbar\": {\"outlinewidth\": 0, \"ticks\": \"\"}}, \"type\": \"scatterternary\"}], \"surface\": [{\"colorbar\": {\"outlinewidth\": 0, \"ticks\": \"\"}, \"colorscale\": [[0.0, \"#0d0887\"], [0.1111111111111111, \"#46039f\"], [0.2222222222222222, \"#7201a8\"], [0.3333333333333333, \"#9c179e\"], [0.4444444444444444, \"#bd3786\"], [0.5555555555555556, \"#d8576b\"], [0.6666666666666666, \"#ed7953\"], [0.7777777777777778, \"#fb9f3a\"], [0.8888888888888888, \"#fdca26\"], [1.0, \"#f0f921\"]], \"type\": \"surface\"}], \"table\": [{\"cells\": {\"fill\": {\"color\": \"#EBF0F8\"}, \"line\": {\"color\": \"white\"}}, \"header\": {\"fill\": {\"color\": \"#C8D4E3\"}, \"line\": {\"color\": \"white\"}}, \"type\": \"table\"}]}, \"layout\": {\"annotationdefaults\": {\"arrowcolor\": \"#2a3f5f\", \"arrowhead\": 0, \"arrowwidth\": 1}, \"coloraxis\": {\"colorbar\": {\"outlinewidth\": 0, \"ticks\": \"\"}}, \"colorscale\": {\"diverging\": [[0, \"#8e0152\"], [0.1, \"#c51b7d\"], [0.2, \"#de77ae\"], [0.3, \"#f1b6da\"], [0.4, \"#fde0ef\"], [0.5, \"#f7f7f7\"], [0.6, \"#e6f5d0\"], [0.7, \"#b8e186\"], [0.8, \"#7fbc41\"], [0.9, \"#4d9221\"], [1, \"#276419\"]], \"sequential\": [[0.0, \"#0d0887\"], [0.1111111111111111, \"#46039f\"], [0.2222222222222222, \"#7201a8\"], [0.3333333333333333, \"#9c179e\"], [0.4444444444444444, \"#bd3786\"], [0.5555555555555556, \"#d8576b\"], [0.6666666666666666, \"#ed7953\"], [0.7777777777777778, \"#fb9f3a\"], [0.8888888888888888, \"#fdca26\"], [1.0, \"#f0f921\"]], \"sequentialminus\": [[0.0, \"#0d0887\"], [0.1111111111111111, \"#46039f\"], [0.2222222222222222, \"#7201a8\"], [0.3333333333333333, \"#9c179e\"], [0.4444444444444444, \"#bd3786\"], [0.5555555555555556, \"#d8576b\"], [0.6666666666666666, \"#ed7953\"], [0.7777777777777778, \"#fb9f3a\"], [0.8888888888888888, \"#fdca26\"], [1.0, \"#f0f921\"]]}, \"colorway\": [\"#636efa\", \"#EF553B\", \"#00cc96\", \"#ab63fa\", \"#FFA15A\", \"#19d3f3\", \"#FF6692\", \"#B6E880\", \"#FF97FF\", \"#FECB52\"], \"font\": {\"color\": \"#2a3f5f\"}, \"geo\": {\"bgcolor\": \"white\", \"lakecolor\": \"white\", \"landcolor\": \"#E5ECF6\", \"showlakes\": true, \"showland\": true, \"subunitcolor\": \"white\"}, \"hoverlabel\": {\"align\": \"left\"}, \"hovermode\": \"closest\", \"mapbox\": {\"style\": \"light\"}, \"paper_bgcolor\": \"white\", \"plot_bgcolor\": \"#E5ECF6\", \"polar\": {\"angularaxis\": {\"gridcolor\": \"white\", \"linecolor\": \"white\", \"ticks\": \"\"}, \"bgcolor\": \"#E5ECF6\", \"radialaxis\": {\"gridcolor\": \"white\", \"linecolor\": \"white\", \"ticks\": \"\"}}, \"scene\": {\"xaxis\": {\"backgroundcolor\": \"#E5ECF6\", \"gridcolor\": \"white\", \"gridwidth\": 2, \"linecolor\": \"white\", \"showbackground\": true, \"ticks\": \"\", \"zerolinecolor\": \"white\"}, \"yaxis\": {\"backgroundcolor\": \"#E5ECF6\", \"gridcolor\": \"white\", \"gridwidth\": 2, \"linecolor\": \"white\", \"showbackground\": true, \"ticks\": \"\", \"zerolinecolor\": \"white\"}, \"zaxis\": {\"backgroundcolor\": \"#E5ECF6\", \"gridcolor\": \"white\", \"gridwidth\": 2, \"linecolor\": \"white\", \"showbackground\": true, \"ticks\": \"\", \"zerolinecolor\": \"white\"}}, \"shapedefaults\": {\"line\": {\"color\": \"#2a3f5f\"}}, \"ternary\": {\"aaxis\": {\"gridcolor\": \"white\", \"linecolor\": \"white\", \"ticks\": \"\"}, \"baxis\": {\"gridcolor\": \"white\", \"linecolor\": \"white\", \"ticks\": \"\"}, \"bgcolor\": \"#E5ECF6\", \"caxis\": {\"gridcolor\": \"white\", \"linecolor\": \"white\", \"ticks\": \"\"}}, \"title\": {\"x\": 0.05}, \"xaxis\": {\"automargin\": true, \"gridcolor\": \"white\", \"linecolor\": \"white\", \"ticks\": \"\", \"title\": {\"standoff\": 15}, \"zerolinecolor\": \"white\", \"zerolinewidth\": 2}, \"yaxis\": {\"automargin\": true, \"gridcolor\": \"white\", \"linecolor\": \"white\", \"ticks\": \"\", \"title\": {\"standoff\": 15}, \"zerolinecolor\": \"white\", \"zerolinewidth\": 2}}}, \"title\": {\"font\": {\"color\": \"#4D5663\"}, \"text\": \"Abweichungen dC und dS in Abh\\u00e4ngigkeit von C\"}, \"xaxis\": {\"gridcolor\": \"#E1E5ED\", \"showgrid\": true, \"tickfont\": {\"color\": \"#4D5663\"}, \"title\": {\"font\": {\"color\": \"#4D5663\"}, \"text\": \"dC\"}, \"zerolinecolor\": \"#E1E5ED\"}, \"yaxis\": {\"gridcolor\": \"#E1E5ED\", \"showgrid\": true, \"tickfont\": {\"color\": \"#4D5663\"}, \"title\": {\"font\": {\"color\": \"#4D5663\"}, \"text\": \"dS\"}, \"zerolinecolor\": \"#E1E5ED\"}},\n                        {\"showLink\": true, \"linkText\": \"Export to plot.ly\", \"plotlyServerURL\": \"https://plot.ly\", \"responsive\": true}\n                    ).then(function(){\n                            \nvar gd = document.getElementById('61689b3b-2c04-4c50-9ef7-56f0521e14ba');\nvar x = new MutationObserver(function (mutations, observer) {{\n        var display = window.getComputedStyle(gd).display;\n        if (!display || display === 'none') {{\n            console.log([gd, 'removed!']);\n            Plotly.purge(gd);\n            observer.disconnect();\n        }}\n}});\n\n// Listen for the removal of the full notebook cells\nvar notebookContainer = gd.closest('#notebook-container');\nif (notebookContainer) {{\n    x.observe(notebookContainer, {childList: true});\n}}\n\n// Listen for the clearing of the current output cell\nvar outputEl = gd.closest('.output');\nif (outputEl) {{\n    x.observe(outputEl, {childList: true});\n}}\n\n                        })\n                };\n                });\n            </script>\n        </div>"
     },
     "metadata": {},
     "output_type": "display_data"
    }
   ],
   "source": [
    "df.iplot(\n",
    "x='dC',\n",
    "y='dS',\n",
    "# Specify the category\n",
    "categories='C',\n",
    "xTitle='dC',\n",
    "yTitle='dS',\n",
    "title='Abweichungen dC und dS in Abhängigkeit von C')\n",
    "plt.show()"
   ]
  },
  {
   "cell_type": "code",
   "execution_count": 40,
   "metadata": {
    "pycharm": {
     "name": "#%%\n"
    }
   },
   "outputs": [
    {
     "data": {
      "application/vnd.plotly.v1+json": {
       "config": {
        "plotlyServerURL": "https://plot.ly"
       },
       "data": [
        {
         "marker": {
          "color": "rgb(31, 119, 180)"
         },
         "showlegend": false,
         "type": "histogram",
         "x": [
          27.1,
          25.5,
          22.0,
          21.5,
          22.0,
          21.5,
          14.0,
          21.0,
          21.0,
          21.0,
          21.0,
          21.0,
          21.0,
          21.0,
          22.0,
          20.0,
          21.0,
          20.0,
          15.5,
          25.5,
          25.2,
          25.2,
          25.5,
          23.0,
          23.4,
          24.0,
          24.0,
          23.0,
          18.2,
          5.7
         ],
         "xaxis": "x",
         "yaxis": "y"
        },
        {
         "marker": {
          "color": [
           11.4,
           24.4,
           29.3,
           28.5,
           29.2,
           28.5,
           31.3,
           29.9,
           30.5,
           31.0,
           29.2,
           35.3,
           32.9,
           34.3,
           34.8,
           36.0,
           36.9,
           40.2,
           41.3,
           24.4,
           24.3,
           25.2,
           27.1,
           30.8,
           29.6,
           29.3,
           31.6,
           34.6,
           29.8,
           73.3
          ],
          "colorscale": [
           [
            0.0,
            "rgb(31, 119, 180)"
           ],
           [
            0.1111111111111111,
            "rgb(255, 127, 14)"
           ],
           [
            0.2222222222222222,
            "rgb(44, 160, 44)"
           ],
           [
            0.3333333333333333,
            "rgb(214, 39, 40)"
           ],
           [
            0.4444444444444444,
            "rgb(148, 103, 189)"
           ],
           [
            0.5555555555555556,
            "rgb(140, 86, 75)"
           ],
           [
            0.6666666666666666,
            "rgb(227, 119, 194)"
           ],
           [
            0.7777777777777777,
            "rgb(127, 127, 127)"
           ],
           [
            0.8888888888888888,
            "rgb(188, 189, 34)"
           ],
           [
            1.0,
            "rgb(23, 190, 207)"
           ]
          ],
          "showscale": true,
          "size": 6
         },
         "mode": "markers",
         "showlegend": false,
         "type": "scatter",
         "x": [
          -8.2,
          -17.3,
          -17.3,
          -16.5,
          -16.0,
          -16.0,
          -10.0,
          -16.5,
          -17.0,
          -17.3,
          -16.0,
          -20.9,
          -18.9,
          -20.0,
          -22.0,
          -20.0,
          -22.4,
          -24.0,
          -17.2,
          -17.3,
          -16.9,
          -17.7,
          -19.8,
          -19.8,
          -19.3,
          -19.8,
          -22.0,
          -23.4,
          -13.3,
          -23.4
         ],
         "xaxis": "x2",
         "y": [
          27.1,
          25.5,
          22.0,
          21.5,
          22.0,
          21.5,
          14.0,
          21.0,
          21.0,
          21.0,
          21.0,
          21.0,
          21.0,
          21.0,
          22.0,
          20.0,
          21.0,
          20.0,
          15.5,
          25.5,
          25.2,
          25.2,
          25.5,
          23.0,
          23.4,
          24.0,
          24.0,
          23.0,
          18.2,
          5.7
         ],
         "yaxis": "y2"
        },
        {
         "marker": {
          "color": [
           11.4,
           24.4,
           29.3,
           28.5,
           29.2,
           28.5,
           31.3,
           29.9,
           30.5,
           31.0,
           29.2,
           35.3,
           32.9,
           34.3,
           34.8,
           36.0,
           36.9,
           40.2,
           41.3,
           24.4,
           24.3,
           25.2,
           27.1,
           30.8,
           29.6,
           29.3,
           31.6,
           34.6,
           29.8,
           73.3
          ],
          "colorscale": [
           [
            0.0,
            "rgb(31, 119, 180)"
           ],
           [
            0.1111111111111111,
            "rgb(255, 127, 14)"
           ],
           [
            0.2222222222222222,
            "rgb(44, 160, 44)"
           ],
           [
            0.3333333333333333,
            "rgb(214, 39, 40)"
           ],
           [
            0.4444444444444444,
            "rgb(148, 103, 189)"
           ],
           [
            0.5555555555555556,
            "rgb(140, 86, 75)"
           ],
           [
            0.6666666666666666,
            "rgb(227, 119, 194)"
           ],
           [
            0.7777777777777777,
            "rgb(127, 127, 127)"
           ],
           [
            0.8888888888888888,
            "rgb(188, 189, 34)"
           ],
           [
            1.0,
            "rgb(23, 190, 207)"
           ]
          ],
          "showscale": false,
          "size": 6
         },
         "mode": "markers",
         "showlegend": false,
         "type": "scatter",
         "x": [
          -29.7,
          -29.7,
          -29.7,
          -29.7,
          -29.7,
          -29.7,
          -29.7,
          -29.7,
          -29.7,
          -29.7,
          -29.7,
          -29.7,
          -29.7,
          -29.7,
          -29.7,
          -29.7,
          -29.7,
          -29.7,
          -29.7,
          -29.7,
          -29.7,
          -29.7,
          -29.7,
          -29.7,
          -29.7,
          -29.7,
          -29.7,
          -29.7,
          -29.7,
          -29.7
         ],
         "xaxis": "x3",
         "y": [
          27.1,
          25.5,
          22.0,
          21.5,
          22.0,
          21.5,
          14.0,
          21.0,
          21.0,
          21.0,
          21.0,
          21.0,
          21.0,
          21.0,
          22.0,
          20.0,
          21.0,
          20.0,
          15.5,
          25.5,
          25.2,
          25.2,
          25.5,
          23.0,
          23.4,
          24.0,
          24.0,
          23.0,
          18.2,
          5.7
         ],
         "yaxis": "y3"
        },
        {
         "marker": {
          "color": [
           11.4,
           24.4,
           29.3,
           28.5,
           29.2,
           28.5,
           31.3,
           29.9,
           30.5,
           31.0,
           29.2,
           35.3,
           32.9,
           34.3,
           34.8,
           36.0,
           36.9,
           40.2,
           41.3,
           24.4,
           24.3,
           25.2,
           27.1,
           30.8,
           29.6,
           29.3,
           31.6,
           34.6,
           29.8,
           73.3
          ],
          "colorscale": [
           [
            0.0,
            "rgb(31, 119, 180)"
           ],
           [
            0.1111111111111111,
            "rgb(255, 127, 14)"
           ],
           [
            0.2222222222222222,
            "rgb(44, 160, 44)"
           ],
           [
            0.3333333333333333,
            "rgb(214, 39, 40)"
           ],
           [
            0.4444444444444444,
            "rgb(148, 103, 189)"
           ],
           [
            0.5555555555555556,
            "rgb(140, 86, 75)"
           ],
           [
            0.6666666666666666,
            "rgb(227, 119, 194)"
           ],
           [
            0.7777777777777777,
            "rgb(127, 127, 127)"
           ],
           [
            0.8888888888888888,
            "rgb(188, 189, 34)"
           ],
           [
            1.0,
            "rgb(23, 190, 207)"
           ]
          ],
          "showscale": false,
          "size": 6
         },
         "mode": "markers",
         "showlegend": false,
         "type": "scatter",
         "x": [
          28.0,
          29.7,
          27.0,
          26.2,
          25.6,
          26.0,
          17.0,
          25.9,
          26.1,
          26.3,
          25.6,
          28.4,
          27.2,
          27.9,
          29.7,
          27.2,
          29.4,
          29.9,
          22.6,
          29.7,
          29.3,
          29.6,
          30.9,
          29.1,
          29.1,
          29.8,
          31.0,
          31.2,
          22.0,
          23.9
         ],
         "xaxis": "x4",
         "y": [
          27.1,
          25.5,
          22.0,
          21.5,
          22.0,
          21.5,
          14.0,
          21.0,
          21.0,
          21.0,
          21.0,
          21.0,
          21.0,
          21.0,
          22.0,
          20.0,
          21.0,
          20.0,
          15.5,
          25.5,
          25.2,
          25.2,
          25.5,
          23.0,
          23.4,
          24.0,
          24.0,
          23.0,
          18.2,
          5.7
         ],
         "yaxis": "y4"
        },
        {
         "marker": {
          "color": [
           11.4,
           24.4,
           29.3,
           28.5,
           29.2,
           28.5,
           31.3,
           29.9,
           30.5,
           31.0,
           29.2,
           35.3,
           32.9,
           34.3,
           34.8,
           36.0,
           36.9,
           40.2,
           41.3,
           24.4,
           24.3,
           25.2,
           27.1,
           30.8,
           29.6,
           29.3,
           31.6,
           34.6,
           29.8,
           73.3
          ],
          "colorscale": [
           [
            0.0,
            "rgb(31, 119, 180)"
           ],
           [
            0.1111111111111111,
            "rgb(255, 127, 14)"
           ],
           [
            0.2222222222222222,
            "rgb(44, 160, 44)"
           ],
           [
            0.3333333333333333,
            "rgb(214, 39, 40)"
           ],
           [
            0.4444444444444444,
            "rgb(148, 103, 189)"
           ],
           [
            0.5555555555555556,
            "rgb(140, 86, 75)"
           ],
           [
            0.6666666666666666,
            "rgb(227, 119, 194)"
           ],
           [
            0.7777777777777777,
            "rgb(127, 127, 127)"
           ],
           [
            0.8888888888888888,
            "rgb(188, 189, 34)"
           ],
           [
            1.0,
            "rgb(23, 190, 207)"
           ]
          ],
          "showscale": false,
          "size": 6
         },
         "mode": "markers",
         "showlegend": false,
         "type": "scatter",
         "x": [
          -15.7,
          -33.1,
          -37.6,
          -36.9,
          -36.8,
          -36.1,
          -35.3,
          -37.7,
          -38.5,
          -39.1,
          -36.8,
          -44.9,
          -41.7,
          -43.5,
          -45.0,
          -45.0,
          -47.0,
          -50.7,
          -48.1,
          -33.1,
          -32.8,
          -34.1,
          -37.0,
          -40.3,
          -39.0,
          -39.0,
          -42.2,
          -45.6,
          -35.7,
          -77.0
         ],
         "xaxis": "x5",
         "y": [
          27.1,
          25.5,
          22.0,
          21.5,
          22.0,
          21.5,
          14.0,
          21.0,
          21.0,
          21.0,
          21.0,
          21.0,
          21.0,
          21.0,
          22.0,
          20.0,
          21.0,
          20.0,
          15.5,
          25.5,
          25.2,
          25.2,
          25.5,
          23.0,
          23.4,
          24.0,
          24.0,
          23.0,
          18.2,
          5.7
         ],
         "yaxis": "y5"
        },
        {
         "marker": {
          "color": [
           11.4,
           24.4,
           29.3,
           28.5,
           29.2,
           28.5,
           31.3,
           29.9,
           30.5,
           31.0,
           29.2,
           35.3,
           32.9,
           34.3,
           34.8,
           36.0,
           36.9,
           40.2,
           41.3,
           24.4,
           24.3,
           25.2,
           27.1,
           30.8,
           29.6,
           29.3,
           31.6,
           34.6,
           29.8,
           73.3
          ],
          "colorscale": [
           [
            0.0,
            "rgb(31, 119, 180)"
           ],
           [
            0.1111111111111111,
            "rgb(255, 127, 14)"
           ],
           [
            0.2222222222222222,
            "rgb(44, 160, 44)"
           ],
           [
            0.3333333333333333,
            "rgb(214, 39, 40)"
           ],
           [
            0.4444444444444444,
            "rgb(148, 103, 189)"
           ],
           [
            0.5555555555555556,
            "rgb(140, 86, 75)"
           ],
           [
            0.6666666666666666,
            "rgb(227, 119, 194)"
           ],
           [
            0.7777777777777777,
            "rgb(127, 127, 127)"
           ],
           [
            0.8888888888888888,
            "rgb(188, 189, 34)"
           ],
           [
            1.0,
            "rgb(23, 190, 207)"
           ]
          ],
          "showscale": false,
          "size": 6
         },
         "mode": "markers",
         "showlegend": false,
         "type": "scatter",
         "x": [
          135.8,
          134.1,
          136.8,
          137.7,
          138.4,
          138.0,
          149.0,
          138.1,
          137.8,
          137.6,
          138.4,
          135.3,
          136.6,
          135.9,
          134.0,
          136.6,
          134.3,
          133.8,
          142.1,
          134.1,
          134.5,
          134.1,
          132.9,
          134.6,
          134.6,
          133.9,
          132.7,
          132.5,
          142.8,
          140.4
         ],
         "xaxis": "x6",
         "y": [
          27.1,
          25.5,
          22.0,
          21.5,
          22.0,
          21.5,
          14.0,
          21.0,
          21.0,
          21.0,
          21.0,
          21.0,
          21.0,
          21.0,
          22.0,
          20.0,
          21.0,
          20.0,
          15.5,
          25.5,
          25.2,
          25.2,
          25.5,
          23.0,
          23.4,
          24.0,
          24.0,
          23.0,
          18.2,
          5.7
         ],
         "yaxis": "y6"
        },
        {
         "marker": {
          "color": [
           11.4,
           24.4,
           29.3,
           28.5,
           29.2,
           28.5,
           31.3,
           29.9,
           30.5,
           31.0,
           29.2,
           35.3,
           32.9,
           34.3,
           34.8,
           36.0,
           36.9,
           40.2,
           41.3,
           24.4,
           24.3,
           25.2,
           27.1,
           30.8,
           29.6,
           29.3,
           31.6,
           34.6,
           29.8,
           73.3
          ],
          "colorscale": [
           [
            0.0,
            "rgb(31, 119, 180)"
           ],
           [
            0.1111111111111111,
            "rgb(255, 127, 14)"
           ],
           [
            0.2222222222222222,
            "rgb(44, 160, 44)"
           ],
           [
            0.3333333333333333,
            "rgb(214, 39, 40)"
           ],
           [
            0.4444444444444444,
            "rgb(148, 103, 189)"
           ],
           [
            0.5555555555555556,
            "rgb(140, 86, 75)"
           ],
           [
            0.6666666666666666,
            "rgb(227, 119, 194)"
           ],
           [
            0.7777777777777777,
            "rgb(127, 127, 127)"
           ],
           [
            0.8888888888888888,
            "rgb(188, 189, 34)"
           ],
           [
            1.0,
            "rgb(23, 190, 207)"
           ]
          ],
          "showscale": false,
          "size": 6
         },
         "mode": "markers",
         "showlegend": false,
         "type": "scatter",
         "x": [
          40.6,
          41.7,
          40.0,
          39.4,
          39.0,
          39.3,
          34.1,
          39.2,
          39.4,
          39.5,
          39.0,
          40.9,
          40.1,
          40.5,
          41.8,
          40.1,
          41.5,
          41.9,
          37.1,
          41.7,
          41.5,
          41.7,
          42.6,
          41.3,
          41.4,
          41.8,
          42.7,
          42.8,
          36.8,
          38.0
         ],
         "xaxis": "x7",
         "y": [
          27.1,
          25.5,
          22.0,
          21.5,
          22.0,
          21.5,
          14.0,
          21.0,
          21.0,
          21.0,
          21.0,
          21.0,
          21.0,
          21.0,
          22.0,
          20.0,
          21.0,
          20.0,
          15.5,
          25.5,
          25.2,
          25.2,
          25.5,
          23.0,
          23.4,
          24.0,
          24.0,
          23.0,
          18.2,
          5.7
         ],
         "yaxis": "y7"
        },
        {
         "marker": {
          "color": [
           11.4,
           24.4,
           29.3,
           28.5,
           29.2,
           28.5,
           31.3,
           29.9,
           30.5,
           31.0,
           29.2,
           35.3,
           32.9,
           34.3,
           34.8,
           36.0,
           36.9,
           40.2,
           41.3,
           24.4,
           24.3,
           25.2,
           27.1,
           30.8,
           29.6,
           29.3,
           31.6,
           34.6,
           29.8,
           73.3
          ],
          "colorscale": [
           [
            0.0,
            "rgb(31, 119, 180)"
           ],
           [
            0.1111111111111111,
            "rgb(255, 127, 14)"
           ],
           [
            0.2222222222222222,
            "rgb(44, 160, 44)"
           ],
           [
            0.3333333333333333,
            "rgb(214, 39, 40)"
           ],
           [
            0.4444444444444444,
            "rgb(148, 103, 189)"
           ],
           [
            0.5555555555555556,
            "rgb(140, 86, 75)"
           ],
           [
            0.6666666666666666,
            "rgb(227, 119, 194)"
           ],
           [
            0.7777777777777777,
            "rgb(127, 127, 127)"
           ],
           [
            0.8888888888888888,
            "rgb(188, 189, 34)"
           ],
           [
            1.0,
            "rgb(23, 190, 207)"
           ]
          ],
          "showscale": false,
          "size": 6
         },
         "mode": "markers",
         "showlegend": false,
         "type": "scatter",
         "x": [
          33.0,
          6.0,
          1.0,
          0.0,
          0.0,
          0.0,
          0.0,
          -1.7,
          -2.97,
          -4.0,
          0.0,
          -11.2,
          -6.75,
          -9.1,
          -11.6,
          -11.8,
          -12.6,
          -16.6,
          -17.0,
          6.0,
          6.5,
          5.0,
          0.0,
          -2.0,
          -3.0,
          -2.0,
          -5.62,
          -10.7,
          0.0,
          -54.4
         ],
         "xaxis": "x8",
         "y": [
          27.1,
          25.5,
          22.0,
          21.5,
          22.0,
          21.5,
          14.0,
          21.0,
          21.0,
          21.0,
          21.0,
          21.0,
          21.0,
          21.0,
          22.0,
          20.0,
          21.0,
          20.0,
          15.5,
          25.5,
          25.2,
          25.2,
          25.5,
          23.0,
          23.4,
          24.0,
          24.0,
          23.0,
          18.2,
          5.7
         ],
         "yaxis": "y8"
        },
        {
         "marker": {
          "color": [
           11.4,
           24.4,
           29.3,
           28.5,
           29.2,
           28.5,
           31.3,
           29.9,
           30.5,
           31.0,
           29.2,
           35.3,
           32.9,
           34.3,
           34.8,
           36.0,
           36.9,
           40.2,
           41.3,
           24.4,
           24.3,
           25.2,
           27.1,
           30.8,
           29.6,
           29.3,
           31.6,
           34.6,
           29.8,
           73.3
          ],
          "colorscale": [
           [
            0.0,
            "rgb(31, 119, 180)"
           ],
           [
            0.1111111111111111,
            "rgb(255, 127, 14)"
           ],
           [
            0.2222222222222222,
            "rgb(44, 160, 44)"
           ],
           [
            0.3333333333333333,
            "rgb(214, 39, 40)"
           ],
           [
            0.4444444444444444,
            "rgb(148, 103, 189)"
           ],
           [
            0.5555555555555556,
            "rgb(140, 86, 75)"
           ],
           [
            0.6666666666666666,
            "rgb(227, 119, 194)"
           ],
           [
            0.7777777777777777,
            "rgb(127, 127, 127)"
           ],
           [
            0.8888888888888888,
            "rgb(188, 189, 34)"
           ],
           [
            1.0,
            "rgb(23, 190, 207)"
           ]
          ],
          "showscale": false,
          "size": 6
         },
         "mode": "markers",
         "showlegend": false,
         "type": "scatter",
         "x": [
          20.0,
          8.0,
          8.59,
          7.0,
          7.0,
          6.8,
          16.6,
          6.5,
          6.43,
          5.0,
          6.0,
          1.29,
          10.8,
          3.5,
          0.0,
          0.0,
          0.0,
          0.0,
          2.0,
          8.0,
          8.5,
          7.7,
          6.0,
          4.0,
          4.4,
          3.8,
          3.0,
          0.0,
          10.2,
          -11.3
         ],
         "xaxis": "x9",
         "y": [
          27.1,
          25.5,
          22.0,
          21.5,
          22.0,
          21.5,
          14.0,
          21.0,
          21.0,
          21.0,
          21.0,
          21.0,
          21.0,
          21.0,
          22.0,
          20.0,
          21.0,
          20.0,
          15.5,
          25.5,
          25.2,
          25.2,
          25.5,
          23.0,
          23.4,
          24.0,
          24.0,
          23.0,
          18.2,
          5.7
         ],
         "yaxis": "y9"
        },
        {
         "marker": {
          "color": [
           11.4,
           24.4,
           29.3,
           28.5,
           29.2,
           28.5,
           31.3,
           29.9,
           30.5,
           31.0,
           29.2,
           35.3,
           32.9,
           34.3,
           34.8,
           36.0,
           36.9,
           40.2,
           41.3,
           24.4,
           24.3,
           25.2,
           27.1,
           30.8,
           29.6,
           29.3,
           31.6,
           34.6,
           29.8,
           73.3
          ],
          "colorscale": [
           [
            0.0,
            "rgb(31, 119, 180)"
           ],
           [
            0.1111111111111111,
            "rgb(255, 127, 14)"
           ],
           [
            0.2222222222222222,
            "rgb(44, 160, 44)"
           ],
           [
            0.3333333333333333,
            "rgb(214, 39, 40)"
           ],
           [
            0.4444444444444444,
            "rgb(148, 103, 189)"
           ],
           [
            0.5555555555555556,
            "rgb(140, 86, 75)"
           ],
           [
            0.6666666666666666,
            "rgb(227, 119, 194)"
           ],
           [
            0.7777777777777777,
            "rgb(127, 127, 127)"
           ],
           [
            0.8888888888888888,
            "rgb(188, 189, 34)"
           ],
           [
            1.0,
            "rgb(23, 190, 207)"
           ]
          ],
          "showscale": false,
          "size": 6
         },
         "mode": "markers",
         "showlegend": false,
         "type": "scatter",
         "x": [
          38.59,
          10.0,
          8.65,
          7.0,
          7.0,
          6.8,
          16.6,
          6.72,
          7.08,
          6.4,
          6.0,
          11.27,
          12.74,
          9.75,
          11.6,
          11.8,
          12.6,
          16.6,
          17.12,
          10.0,
          10.7,
          9.18,
          6.0,
          4.47,
          5.33,
          4.29,
          6.37,
          10.7,
          10.2,
          55.56
         ],
         "xaxis": "x10",
         "y": [
          27.1,
          25.5,
          22.0,
          21.5,
          22.0,
          21.5,
          14.0,
          21.0,
          21.0,
          21.0,
          21.0,
          21.0,
          21.0,
          21.0,
          22.0,
          20.0,
          21.0,
          20.0,
          15.5,
          25.5,
          25.2,
          25.2,
          25.5,
          23.0,
          23.4,
          24.0,
          24.0,
          23.0,
          18.2,
          5.7
         ],
         "yaxis": "y10"
        },
        {
         "marker": {
          "color": [
           11.4,
           24.4,
           29.3,
           28.5,
           29.2,
           28.5,
           31.3,
           29.9,
           30.5,
           31.0,
           29.2,
           35.3,
           32.9,
           34.3,
           34.8,
           36.0,
           36.9,
           40.2,
           41.3,
           24.4,
           24.3,
           25.2,
           27.1,
           30.8,
           29.6,
           29.3,
           31.6,
           34.6,
           29.8,
           73.3
          ],
          "colorscale": [
           [
            0.0,
            "rgb(31, 119, 180)"
           ],
           [
            0.1111111111111111,
            "rgb(255, 127, 14)"
           ],
           [
            0.2222222222222222,
            "rgb(44, 160, 44)"
           ],
           [
            0.3333333333333333,
            "rgb(214, 39, 40)"
           ],
           [
            0.4444444444444444,
            "rgb(148, 103, 189)"
           ],
           [
            0.5555555555555556,
            "rgb(140, 86, 75)"
           ],
           [
            0.6666666666666666,
            "rgb(227, 119, 194)"
           ],
           [
            0.7777777777777777,
            "rgb(127, 127, 127)"
           ],
           [
            0.8888888888888888,
            "rgb(188, 189, 34)"
           ],
           [
            1.0,
            "rgb(23, 190, 207)"
           ]
          ],
          "showscale": false,
          "size": 6
         },
         "mode": "markers",
         "showlegend": false,
         "type": "scatter",
         "x": [
          27.1,
          25.5,
          22.0,
          21.5,
          22.0,
          21.5,
          14.0,
          21.0,
          21.0,
          21.0,
          21.0,
          21.0,
          21.0,
          21.0,
          22.0,
          20.0,
          21.0,
          20.0,
          15.5,
          25.5,
          25.2,
          25.2,
          25.5,
          23.0,
          23.4,
          24.0,
          24.0,
          23.0,
          18.2,
          5.7
         ],
         "xaxis": "x11",
         "y": [
          -8.2,
          -17.3,
          -17.3,
          -16.5,
          -16.0,
          -16.0,
          -10.0,
          -16.5,
          -17.0,
          -17.3,
          -16.0,
          -20.9,
          -18.9,
          -20.0,
          -22.0,
          -20.0,
          -22.4,
          -24.0,
          -17.2,
          -17.3,
          -16.9,
          -17.7,
          -19.8,
          -19.8,
          -19.3,
          -19.8,
          -22.0,
          -23.4,
          -13.3,
          -23.4
         ],
         "yaxis": "y11"
        },
        {
         "marker": {
          "color": "rgb(31, 119, 180)"
         },
         "showlegend": false,
         "type": "histogram",
         "x": [
          -8.2,
          -17.3,
          -17.3,
          -16.5,
          -16.0,
          -16.0,
          -10.0,
          -16.5,
          -17.0,
          -17.3,
          -16.0,
          -20.9,
          -18.9,
          -20.0,
          -22.0,
          -20.0,
          -22.4,
          -24.0,
          -17.2,
          -17.3,
          -16.9,
          -17.7,
          -19.8,
          -19.8,
          -19.3,
          -19.8,
          -22.0,
          -23.4,
          -13.3,
          -23.4
         ],
         "xaxis": "x12",
         "yaxis": "y12"
        },
        {
         "marker": {
          "color": [
           11.4,
           24.4,
           29.3,
           28.5,
           29.2,
           28.5,
           31.3,
           29.9,
           30.5,
           31.0,
           29.2,
           35.3,
           32.9,
           34.3,
           34.8,
           36.0,
           36.9,
           40.2,
           41.3,
           24.4,
           24.3,
           25.2,
           27.1,
           30.8,
           29.6,
           29.3,
           31.6,
           34.6,
           29.8,
           73.3
          ],
          "colorscale": [
           [
            0.0,
            "rgb(31, 119, 180)"
           ],
           [
            0.1111111111111111,
            "rgb(255, 127, 14)"
           ],
           [
            0.2222222222222222,
            "rgb(44, 160, 44)"
           ],
           [
            0.3333333333333333,
            "rgb(214, 39, 40)"
           ],
           [
            0.4444444444444444,
            "rgb(148, 103, 189)"
           ],
           [
            0.5555555555555556,
            "rgb(140, 86, 75)"
           ],
           [
            0.6666666666666666,
            "rgb(227, 119, 194)"
           ],
           [
            0.7777777777777777,
            "rgb(127, 127, 127)"
           ],
           [
            0.8888888888888888,
            "rgb(188, 189, 34)"
           ],
           [
            1.0,
            "rgb(23, 190, 207)"
           ]
          ],
          "showscale": false,
          "size": 6
         },
         "mode": "markers",
         "showlegend": false,
         "type": "scatter",
         "x": [
          -29.7,
          -29.7,
          -29.7,
          -29.7,
          -29.7,
          -29.7,
          -29.7,
          -29.7,
          -29.7,
          -29.7,
          -29.7,
          -29.7,
          -29.7,
          -29.7,
          -29.7,
          -29.7,
          -29.7,
          -29.7,
          -29.7,
          -29.7,
          -29.7,
          -29.7,
          -29.7,
          -29.7,
          -29.7,
          -29.7,
          -29.7,
          -29.7,
          -29.7,
          -29.7
         ],
         "xaxis": "x13",
         "y": [
          -8.2,
          -17.3,
          -17.3,
          -16.5,
          -16.0,
          -16.0,
          -10.0,
          -16.5,
          -17.0,
          -17.3,
          -16.0,
          -20.9,
          -18.9,
          -20.0,
          -22.0,
          -20.0,
          -22.4,
          -24.0,
          -17.2,
          -17.3,
          -16.9,
          -17.7,
          -19.8,
          -19.8,
          -19.3,
          -19.8,
          -22.0,
          -23.4,
          -13.3,
          -23.4
         ],
         "yaxis": "y13"
        },
        {
         "marker": {
          "color": [
           11.4,
           24.4,
           29.3,
           28.5,
           29.2,
           28.5,
           31.3,
           29.9,
           30.5,
           31.0,
           29.2,
           35.3,
           32.9,
           34.3,
           34.8,
           36.0,
           36.9,
           40.2,
           41.3,
           24.4,
           24.3,
           25.2,
           27.1,
           30.8,
           29.6,
           29.3,
           31.6,
           34.6,
           29.8,
           73.3
          ],
          "colorscale": [
           [
            0.0,
            "rgb(31, 119, 180)"
           ],
           [
            0.1111111111111111,
            "rgb(255, 127, 14)"
           ],
           [
            0.2222222222222222,
            "rgb(44, 160, 44)"
           ],
           [
            0.3333333333333333,
            "rgb(214, 39, 40)"
           ],
           [
            0.4444444444444444,
            "rgb(148, 103, 189)"
           ],
           [
            0.5555555555555556,
            "rgb(140, 86, 75)"
           ],
           [
            0.6666666666666666,
            "rgb(227, 119, 194)"
           ],
           [
            0.7777777777777777,
            "rgb(127, 127, 127)"
           ],
           [
            0.8888888888888888,
            "rgb(188, 189, 34)"
           ],
           [
            1.0,
            "rgb(23, 190, 207)"
           ]
          ],
          "showscale": false,
          "size": 6
         },
         "mode": "markers",
         "showlegend": false,
         "type": "scatter",
         "x": [
          28.0,
          29.7,
          27.0,
          26.2,
          25.6,
          26.0,
          17.0,
          25.9,
          26.1,
          26.3,
          25.6,
          28.4,
          27.2,
          27.9,
          29.7,
          27.2,
          29.4,
          29.9,
          22.6,
          29.7,
          29.3,
          29.6,
          30.9,
          29.1,
          29.1,
          29.8,
          31.0,
          31.2,
          22.0,
          23.9
         ],
         "xaxis": "x14",
         "y": [
          -8.2,
          -17.3,
          -17.3,
          -16.5,
          -16.0,
          -16.0,
          -10.0,
          -16.5,
          -17.0,
          -17.3,
          -16.0,
          -20.9,
          -18.9,
          -20.0,
          -22.0,
          -20.0,
          -22.4,
          -24.0,
          -17.2,
          -17.3,
          -16.9,
          -17.7,
          -19.8,
          -19.8,
          -19.3,
          -19.8,
          -22.0,
          -23.4,
          -13.3,
          -23.4
         ],
         "yaxis": "y14"
        },
        {
         "marker": {
          "color": [
           11.4,
           24.4,
           29.3,
           28.5,
           29.2,
           28.5,
           31.3,
           29.9,
           30.5,
           31.0,
           29.2,
           35.3,
           32.9,
           34.3,
           34.8,
           36.0,
           36.9,
           40.2,
           41.3,
           24.4,
           24.3,
           25.2,
           27.1,
           30.8,
           29.6,
           29.3,
           31.6,
           34.6,
           29.8,
           73.3
          ],
          "colorscale": [
           [
            0.0,
            "rgb(31, 119, 180)"
           ],
           [
            0.1111111111111111,
            "rgb(255, 127, 14)"
           ],
           [
            0.2222222222222222,
            "rgb(44, 160, 44)"
           ],
           [
            0.3333333333333333,
            "rgb(214, 39, 40)"
           ],
           [
            0.4444444444444444,
            "rgb(148, 103, 189)"
           ],
           [
            0.5555555555555556,
            "rgb(140, 86, 75)"
           ],
           [
            0.6666666666666666,
            "rgb(227, 119, 194)"
           ],
           [
            0.7777777777777777,
            "rgb(127, 127, 127)"
           ],
           [
            0.8888888888888888,
            "rgb(188, 189, 34)"
           ],
           [
            1.0,
            "rgb(23, 190, 207)"
           ]
          ],
          "showscale": false,
          "size": 6
         },
         "mode": "markers",
         "showlegend": false,
         "type": "scatter",
         "x": [
          -15.7,
          -33.1,
          -37.6,
          -36.9,
          -36.8,
          -36.1,
          -35.3,
          -37.7,
          -38.5,
          -39.1,
          -36.8,
          -44.9,
          -41.7,
          -43.5,
          -45.0,
          -45.0,
          -47.0,
          -50.7,
          -48.1,
          -33.1,
          -32.8,
          -34.1,
          -37.0,
          -40.3,
          -39.0,
          -39.0,
          -42.2,
          -45.6,
          -35.7,
          -77.0
         ],
         "xaxis": "x15",
         "y": [
          -8.2,
          -17.3,
          -17.3,
          -16.5,
          -16.0,
          -16.0,
          -10.0,
          -16.5,
          -17.0,
          -17.3,
          -16.0,
          -20.9,
          -18.9,
          -20.0,
          -22.0,
          -20.0,
          -22.4,
          -24.0,
          -17.2,
          -17.3,
          -16.9,
          -17.7,
          -19.8,
          -19.8,
          -19.3,
          -19.8,
          -22.0,
          -23.4,
          -13.3,
          -23.4
         ],
         "yaxis": "y15"
        },
        {
         "marker": {
          "color": [
           11.4,
           24.4,
           29.3,
           28.5,
           29.2,
           28.5,
           31.3,
           29.9,
           30.5,
           31.0,
           29.2,
           35.3,
           32.9,
           34.3,
           34.8,
           36.0,
           36.9,
           40.2,
           41.3,
           24.4,
           24.3,
           25.2,
           27.1,
           30.8,
           29.6,
           29.3,
           31.6,
           34.6,
           29.8,
           73.3
          ],
          "colorscale": [
           [
            0.0,
            "rgb(31, 119, 180)"
           ],
           [
            0.1111111111111111,
            "rgb(255, 127, 14)"
           ],
           [
            0.2222222222222222,
            "rgb(44, 160, 44)"
           ],
           [
            0.3333333333333333,
            "rgb(214, 39, 40)"
           ],
           [
            0.4444444444444444,
            "rgb(148, 103, 189)"
           ],
           [
            0.5555555555555556,
            "rgb(140, 86, 75)"
           ],
           [
            0.6666666666666666,
            "rgb(227, 119, 194)"
           ],
           [
            0.7777777777777777,
            "rgb(127, 127, 127)"
           ],
           [
            0.8888888888888888,
            "rgb(188, 189, 34)"
           ],
           [
            1.0,
            "rgb(23, 190, 207)"
           ]
          ],
          "showscale": false,
          "size": 6
         },
         "mode": "markers",
         "showlegend": false,
         "type": "scatter",
         "x": [
          135.8,
          134.1,
          136.8,
          137.7,
          138.4,
          138.0,
          149.0,
          138.1,
          137.8,
          137.6,
          138.4,
          135.3,
          136.6,
          135.9,
          134.0,
          136.6,
          134.3,
          133.8,
          142.1,
          134.1,
          134.5,
          134.1,
          132.9,
          134.6,
          134.6,
          133.9,
          132.7,
          132.5,
          142.8,
          140.4
         ],
         "xaxis": "x16",
         "y": [
          -8.2,
          -17.3,
          -17.3,
          -16.5,
          -16.0,
          -16.0,
          -10.0,
          -16.5,
          -17.0,
          -17.3,
          -16.0,
          -20.9,
          -18.9,
          -20.0,
          -22.0,
          -20.0,
          -22.4,
          -24.0,
          -17.2,
          -17.3,
          -16.9,
          -17.7,
          -19.8,
          -19.8,
          -19.3,
          -19.8,
          -22.0,
          -23.4,
          -13.3,
          -23.4
         ],
         "yaxis": "y16"
        },
        {
         "marker": {
          "color": [
           11.4,
           24.4,
           29.3,
           28.5,
           29.2,
           28.5,
           31.3,
           29.9,
           30.5,
           31.0,
           29.2,
           35.3,
           32.9,
           34.3,
           34.8,
           36.0,
           36.9,
           40.2,
           41.3,
           24.4,
           24.3,
           25.2,
           27.1,
           30.8,
           29.6,
           29.3,
           31.6,
           34.6,
           29.8,
           73.3
          ],
          "colorscale": [
           [
            0.0,
            "rgb(31, 119, 180)"
           ],
           [
            0.1111111111111111,
            "rgb(255, 127, 14)"
           ],
           [
            0.2222222222222222,
            "rgb(44, 160, 44)"
           ],
           [
            0.3333333333333333,
            "rgb(214, 39, 40)"
           ],
           [
            0.4444444444444444,
            "rgb(148, 103, 189)"
           ],
           [
            0.5555555555555556,
            "rgb(140, 86, 75)"
           ],
           [
            0.6666666666666666,
            "rgb(227, 119, 194)"
           ],
           [
            0.7777777777777777,
            "rgb(127, 127, 127)"
           ],
           [
            0.8888888888888888,
            "rgb(188, 189, 34)"
           ],
           [
            1.0,
            "rgb(23, 190, 207)"
           ]
          ],
          "showscale": false,
          "size": 6
         },
         "mode": "markers",
         "showlegend": false,
         "type": "scatter",
         "x": [
          40.6,
          41.7,
          40.0,
          39.4,
          39.0,
          39.3,
          34.1,
          39.2,
          39.4,
          39.5,
          39.0,
          40.9,
          40.1,
          40.5,
          41.8,
          40.1,
          41.5,
          41.9,
          37.1,
          41.7,
          41.5,
          41.7,
          42.6,
          41.3,
          41.4,
          41.8,
          42.7,
          42.8,
          36.8,
          38.0
         ],
         "xaxis": "x17",
         "y": [
          -8.2,
          -17.3,
          -17.3,
          -16.5,
          -16.0,
          -16.0,
          -10.0,
          -16.5,
          -17.0,
          -17.3,
          -16.0,
          -20.9,
          -18.9,
          -20.0,
          -22.0,
          -20.0,
          -22.4,
          -24.0,
          -17.2,
          -17.3,
          -16.9,
          -17.7,
          -19.8,
          -19.8,
          -19.3,
          -19.8,
          -22.0,
          -23.4,
          -13.3,
          -23.4
         ],
         "yaxis": "y17"
        },
        {
         "marker": {
          "color": [
           11.4,
           24.4,
           29.3,
           28.5,
           29.2,
           28.5,
           31.3,
           29.9,
           30.5,
           31.0,
           29.2,
           35.3,
           32.9,
           34.3,
           34.8,
           36.0,
           36.9,
           40.2,
           41.3,
           24.4,
           24.3,
           25.2,
           27.1,
           30.8,
           29.6,
           29.3,
           31.6,
           34.6,
           29.8,
           73.3
          ],
          "colorscale": [
           [
            0.0,
            "rgb(31, 119, 180)"
           ],
           [
            0.1111111111111111,
            "rgb(255, 127, 14)"
           ],
           [
            0.2222222222222222,
            "rgb(44, 160, 44)"
           ],
           [
            0.3333333333333333,
            "rgb(214, 39, 40)"
           ],
           [
            0.4444444444444444,
            "rgb(148, 103, 189)"
           ],
           [
            0.5555555555555556,
            "rgb(140, 86, 75)"
           ],
           [
            0.6666666666666666,
            "rgb(227, 119, 194)"
           ],
           [
            0.7777777777777777,
            "rgb(127, 127, 127)"
           ],
           [
            0.8888888888888888,
            "rgb(188, 189, 34)"
           ],
           [
            1.0,
            "rgb(23, 190, 207)"
           ]
          ],
          "showscale": false,
          "size": 6
         },
         "mode": "markers",
         "showlegend": false,
         "type": "scatter",
         "x": [
          33.0,
          6.0,
          1.0,
          0.0,
          0.0,
          0.0,
          0.0,
          -1.7,
          -2.97,
          -4.0,
          0.0,
          -11.2,
          -6.75,
          -9.1,
          -11.6,
          -11.8,
          -12.6,
          -16.6,
          -17.0,
          6.0,
          6.5,
          5.0,
          0.0,
          -2.0,
          -3.0,
          -2.0,
          -5.62,
          -10.7,
          0.0,
          -54.4
         ],
         "xaxis": "x18",
         "y": [
          -8.2,
          -17.3,
          -17.3,
          -16.5,
          -16.0,
          -16.0,
          -10.0,
          -16.5,
          -17.0,
          -17.3,
          -16.0,
          -20.9,
          -18.9,
          -20.0,
          -22.0,
          -20.0,
          -22.4,
          -24.0,
          -17.2,
          -17.3,
          -16.9,
          -17.7,
          -19.8,
          -19.8,
          -19.3,
          -19.8,
          -22.0,
          -23.4,
          -13.3,
          -23.4
         ],
         "yaxis": "y18"
        },
        {
         "marker": {
          "color": [
           11.4,
           24.4,
           29.3,
           28.5,
           29.2,
           28.5,
           31.3,
           29.9,
           30.5,
           31.0,
           29.2,
           35.3,
           32.9,
           34.3,
           34.8,
           36.0,
           36.9,
           40.2,
           41.3,
           24.4,
           24.3,
           25.2,
           27.1,
           30.8,
           29.6,
           29.3,
           31.6,
           34.6,
           29.8,
           73.3
          ],
          "colorscale": [
           [
            0.0,
            "rgb(31, 119, 180)"
           ],
           [
            0.1111111111111111,
            "rgb(255, 127, 14)"
           ],
           [
            0.2222222222222222,
            "rgb(44, 160, 44)"
           ],
           [
            0.3333333333333333,
            "rgb(214, 39, 40)"
           ],
           [
            0.4444444444444444,
            "rgb(148, 103, 189)"
           ],
           [
            0.5555555555555556,
            "rgb(140, 86, 75)"
           ],
           [
            0.6666666666666666,
            "rgb(227, 119, 194)"
           ],
           [
            0.7777777777777777,
            "rgb(127, 127, 127)"
           ],
           [
            0.8888888888888888,
            "rgb(188, 189, 34)"
           ],
           [
            1.0,
            "rgb(23, 190, 207)"
           ]
          ],
          "showscale": false,
          "size": 6
         },
         "mode": "markers",
         "showlegend": false,
         "type": "scatter",
         "x": [
          20.0,
          8.0,
          8.59,
          7.0,
          7.0,
          6.8,
          16.6,
          6.5,
          6.43,
          5.0,
          6.0,
          1.29,
          10.8,
          3.5,
          0.0,
          0.0,
          0.0,
          0.0,
          2.0,
          8.0,
          8.5,
          7.7,
          6.0,
          4.0,
          4.4,
          3.8,
          3.0,
          0.0,
          10.2,
          -11.3
         ],
         "xaxis": "x19",
         "y": [
          -8.2,
          -17.3,
          -17.3,
          -16.5,
          -16.0,
          -16.0,
          -10.0,
          -16.5,
          -17.0,
          -17.3,
          -16.0,
          -20.9,
          -18.9,
          -20.0,
          -22.0,
          -20.0,
          -22.4,
          -24.0,
          -17.2,
          -17.3,
          -16.9,
          -17.7,
          -19.8,
          -19.8,
          -19.3,
          -19.8,
          -22.0,
          -23.4,
          -13.3,
          -23.4
         ],
         "yaxis": "y19"
        },
        {
         "marker": {
          "color": [
           11.4,
           24.4,
           29.3,
           28.5,
           29.2,
           28.5,
           31.3,
           29.9,
           30.5,
           31.0,
           29.2,
           35.3,
           32.9,
           34.3,
           34.8,
           36.0,
           36.9,
           40.2,
           41.3,
           24.4,
           24.3,
           25.2,
           27.1,
           30.8,
           29.6,
           29.3,
           31.6,
           34.6,
           29.8,
           73.3
          ],
          "colorscale": [
           [
            0.0,
            "rgb(31, 119, 180)"
           ],
           [
            0.1111111111111111,
            "rgb(255, 127, 14)"
           ],
           [
            0.2222222222222222,
            "rgb(44, 160, 44)"
           ],
           [
            0.3333333333333333,
            "rgb(214, 39, 40)"
           ],
           [
            0.4444444444444444,
            "rgb(148, 103, 189)"
           ],
           [
            0.5555555555555556,
            "rgb(140, 86, 75)"
           ],
           [
            0.6666666666666666,
            "rgb(227, 119, 194)"
           ],
           [
            0.7777777777777777,
            "rgb(127, 127, 127)"
           ],
           [
            0.8888888888888888,
            "rgb(188, 189, 34)"
           ],
           [
            1.0,
            "rgb(23, 190, 207)"
           ]
          ],
          "showscale": false,
          "size": 6
         },
         "mode": "markers",
         "showlegend": false,
         "type": "scatter",
         "x": [
          38.59,
          10.0,
          8.65,
          7.0,
          7.0,
          6.8,
          16.6,
          6.72,
          7.08,
          6.4,
          6.0,
          11.27,
          12.74,
          9.75,
          11.6,
          11.8,
          12.6,
          16.6,
          17.12,
          10.0,
          10.7,
          9.18,
          6.0,
          4.47,
          5.33,
          4.29,
          6.37,
          10.7,
          10.2,
          55.56
         ],
         "xaxis": "x20",
         "y": [
          -8.2,
          -17.3,
          -17.3,
          -16.5,
          -16.0,
          -16.0,
          -10.0,
          -16.5,
          -17.0,
          -17.3,
          -16.0,
          -20.9,
          -18.9,
          -20.0,
          -22.0,
          -20.0,
          -22.4,
          -24.0,
          -17.2,
          -17.3,
          -16.9,
          -17.7,
          -19.8,
          -19.8,
          -19.3,
          -19.8,
          -22.0,
          -23.4,
          -13.3,
          -23.4
         ],
         "yaxis": "y20"
        },
        {
         "marker": {
          "color": [
           11.4,
           24.4,
           29.3,
           28.5,
           29.2,
           28.5,
           31.3,
           29.9,
           30.5,
           31.0,
           29.2,
           35.3,
           32.9,
           34.3,
           34.8,
           36.0,
           36.9,
           40.2,
           41.3,
           24.4,
           24.3,
           25.2,
           27.1,
           30.8,
           29.6,
           29.3,
           31.6,
           34.6,
           29.8,
           73.3
          ],
          "colorscale": [
           [
            0.0,
            "rgb(31, 119, 180)"
           ],
           [
            0.1111111111111111,
            "rgb(255, 127, 14)"
           ],
           [
            0.2222222222222222,
            "rgb(44, 160, 44)"
           ],
           [
            0.3333333333333333,
            "rgb(214, 39, 40)"
           ],
           [
            0.4444444444444444,
            "rgb(148, 103, 189)"
           ],
           [
            0.5555555555555556,
            "rgb(140, 86, 75)"
           ],
           [
            0.6666666666666666,
            "rgb(227, 119, 194)"
           ],
           [
            0.7777777777777777,
            "rgb(127, 127, 127)"
           ],
           [
            0.8888888888888888,
            "rgb(188, 189, 34)"
           ],
           [
            1.0,
            "rgb(23, 190, 207)"
           ]
          ],
          "showscale": false,
          "size": 6
         },
         "mode": "markers",
         "showlegend": false,
         "type": "scatter",
         "x": [
          27.1,
          25.5,
          22.0,
          21.5,
          22.0,
          21.5,
          14.0,
          21.0,
          21.0,
          21.0,
          21.0,
          21.0,
          21.0,
          21.0,
          22.0,
          20.0,
          21.0,
          20.0,
          15.5,
          25.5,
          25.2,
          25.2,
          25.5,
          23.0,
          23.4,
          24.0,
          24.0,
          23.0,
          18.2,
          5.7
         ],
         "xaxis": "x21",
         "y": [
          -29.7,
          -29.7,
          -29.7,
          -29.7,
          -29.7,
          -29.7,
          -29.7,
          -29.7,
          -29.7,
          -29.7,
          -29.7,
          -29.7,
          -29.7,
          -29.7,
          -29.7,
          -29.7,
          -29.7,
          -29.7,
          -29.7,
          -29.7,
          -29.7,
          -29.7,
          -29.7,
          -29.7,
          -29.7,
          -29.7,
          -29.7,
          -29.7,
          -29.7,
          -29.7
         ],
         "yaxis": "y21"
        },
        {
         "marker": {
          "color": [
           11.4,
           24.4,
           29.3,
           28.5,
           29.2,
           28.5,
           31.3,
           29.9,
           30.5,
           31.0,
           29.2,
           35.3,
           32.9,
           34.3,
           34.8,
           36.0,
           36.9,
           40.2,
           41.3,
           24.4,
           24.3,
           25.2,
           27.1,
           30.8,
           29.6,
           29.3,
           31.6,
           34.6,
           29.8,
           73.3
          ],
          "colorscale": [
           [
            0.0,
            "rgb(31, 119, 180)"
           ],
           [
            0.1111111111111111,
            "rgb(255, 127, 14)"
           ],
           [
            0.2222222222222222,
            "rgb(44, 160, 44)"
           ],
           [
            0.3333333333333333,
            "rgb(214, 39, 40)"
           ],
           [
            0.4444444444444444,
            "rgb(148, 103, 189)"
           ],
           [
            0.5555555555555556,
            "rgb(140, 86, 75)"
           ],
           [
            0.6666666666666666,
            "rgb(227, 119, 194)"
           ],
           [
            0.7777777777777777,
            "rgb(127, 127, 127)"
           ],
           [
            0.8888888888888888,
            "rgb(188, 189, 34)"
           ],
           [
            1.0,
            "rgb(23, 190, 207)"
           ]
          ],
          "showscale": false,
          "size": 6
         },
         "mode": "markers",
         "showlegend": false,
         "type": "scatter",
         "x": [
          -8.2,
          -17.3,
          -17.3,
          -16.5,
          -16.0,
          -16.0,
          -10.0,
          -16.5,
          -17.0,
          -17.3,
          -16.0,
          -20.9,
          -18.9,
          -20.0,
          -22.0,
          -20.0,
          -22.4,
          -24.0,
          -17.2,
          -17.3,
          -16.9,
          -17.7,
          -19.8,
          -19.8,
          -19.3,
          -19.8,
          -22.0,
          -23.4,
          -13.3,
          -23.4
         ],
         "xaxis": "x22",
         "y": [
          -29.7,
          -29.7,
          -29.7,
          -29.7,
          -29.7,
          -29.7,
          -29.7,
          -29.7,
          -29.7,
          -29.7,
          -29.7,
          -29.7,
          -29.7,
          -29.7,
          -29.7,
          -29.7,
          -29.7,
          -29.7,
          -29.7,
          -29.7,
          -29.7,
          -29.7,
          -29.7,
          -29.7,
          -29.7,
          -29.7,
          -29.7,
          -29.7,
          -29.7,
          -29.7
         ],
         "yaxis": "y22"
        },
        {
         "marker": {
          "color": "rgb(31, 119, 180)"
         },
         "showlegend": false,
         "type": "histogram",
         "x": [
          -29.7,
          -29.7,
          -29.7,
          -29.7,
          -29.7,
          -29.7,
          -29.7,
          -29.7,
          -29.7,
          -29.7,
          -29.7,
          -29.7,
          -29.7,
          -29.7,
          -29.7,
          -29.7,
          -29.7,
          -29.7,
          -29.7,
          -29.7,
          -29.7,
          -29.7,
          -29.7,
          -29.7,
          -29.7,
          -29.7,
          -29.7,
          -29.7,
          -29.7,
          -29.7
         ],
         "xaxis": "x23",
         "yaxis": "y23"
        },
        {
         "marker": {
          "color": [
           11.4,
           24.4,
           29.3,
           28.5,
           29.2,
           28.5,
           31.3,
           29.9,
           30.5,
           31.0,
           29.2,
           35.3,
           32.9,
           34.3,
           34.8,
           36.0,
           36.9,
           40.2,
           41.3,
           24.4,
           24.3,
           25.2,
           27.1,
           30.8,
           29.6,
           29.3,
           31.6,
           34.6,
           29.8,
           73.3
          ],
          "colorscale": [
           [
            0.0,
            "rgb(31, 119, 180)"
           ],
           [
            0.1111111111111111,
            "rgb(255, 127, 14)"
           ],
           [
            0.2222222222222222,
            "rgb(44, 160, 44)"
           ],
           [
            0.3333333333333333,
            "rgb(214, 39, 40)"
           ],
           [
            0.4444444444444444,
            "rgb(148, 103, 189)"
           ],
           [
            0.5555555555555556,
            "rgb(140, 86, 75)"
           ],
           [
            0.6666666666666666,
            "rgb(227, 119, 194)"
           ],
           [
            0.7777777777777777,
            "rgb(127, 127, 127)"
           ],
           [
            0.8888888888888888,
            "rgb(188, 189, 34)"
           ],
           [
            1.0,
            "rgb(23, 190, 207)"
           ]
          ],
          "showscale": false,
          "size": 6
         },
         "mode": "markers",
         "showlegend": false,
         "type": "scatter",
         "x": [
          28.0,
          29.7,
          27.0,
          26.2,
          25.6,
          26.0,
          17.0,
          25.9,
          26.1,
          26.3,
          25.6,
          28.4,
          27.2,
          27.9,
          29.7,
          27.2,
          29.4,
          29.9,
          22.6,
          29.7,
          29.3,
          29.6,
          30.9,
          29.1,
          29.1,
          29.8,
          31.0,
          31.2,
          22.0,
          23.9
         ],
         "xaxis": "x24",
         "y": [
          -29.7,
          -29.7,
          -29.7,
          -29.7,
          -29.7,
          -29.7,
          -29.7,
          -29.7,
          -29.7,
          -29.7,
          -29.7,
          -29.7,
          -29.7,
          -29.7,
          -29.7,
          -29.7,
          -29.7,
          -29.7,
          -29.7,
          -29.7,
          -29.7,
          -29.7,
          -29.7,
          -29.7,
          -29.7,
          -29.7,
          -29.7,
          -29.7,
          -29.7,
          -29.7
         ],
         "yaxis": "y24"
        },
        {
         "marker": {
          "color": [
           11.4,
           24.4,
           29.3,
           28.5,
           29.2,
           28.5,
           31.3,
           29.9,
           30.5,
           31.0,
           29.2,
           35.3,
           32.9,
           34.3,
           34.8,
           36.0,
           36.9,
           40.2,
           41.3,
           24.4,
           24.3,
           25.2,
           27.1,
           30.8,
           29.6,
           29.3,
           31.6,
           34.6,
           29.8,
           73.3
          ],
          "colorscale": [
           [
            0.0,
            "rgb(31, 119, 180)"
           ],
           [
            0.1111111111111111,
            "rgb(255, 127, 14)"
           ],
           [
            0.2222222222222222,
            "rgb(44, 160, 44)"
           ],
           [
            0.3333333333333333,
            "rgb(214, 39, 40)"
           ],
           [
            0.4444444444444444,
            "rgb(148, 103, 189)"
           ],
           [
            0.5555555555555556,
            "rgb(140, 86, 75)"
           ],
           [
            0.6666666666666666,
            "rgb(227, 119, 194)"
           ],
           [
            0.7777777777777777,
            "rgb(127, 127, 127)"
           ],
           [
            0.8888888888888888,
            "rgb(188, 189, 34)"
           ],
           [
            1.0,
            "rgb(23, 190, 207)"
           ]
          ],
          "showscale": false,
          "size": 6
         },
         "mode": "markers",
         "showlegend": false,
         "type": "scatter",
         "x": [
          -15.7,
          -33.1,
          -37.6,
          -36.9,
          -36.8,
          -36.1,
          -35.3,
          -37.7,
          -38.5,
          -39.1,
          -36.8,
          -44.9,
          -41.7,
          -43.5,
          -45.0,
          -45.0,
          -47.0,
          -50.7,
          -48.1,
          -33.1,
          -32.8,
          -34.1,
          -37.0,
          -40.3,
          -39.0,
          -39.0,
          -42.2,
          -45.6,
          -35.7,
          -77.0
         ],
         "xaxis": "x25",
         "y": [
          -29.7,
          -29.7,
          -29.7,
          -29.7,
          -29.7,
          -29.7,
          -29.7,
          -29.7,
          -29.7,
          -29.7,
          -29.7,
          -29.7,
          -29.7,
          -29.7,
          -29.7,
          -29.7,
          -29.7,
          -29.7,
          -29.7,
          -29.7,
          -29.7,
          -29.7,
          -29.7,
          -29.7,
          -29.7,
          -29.7,
          -29.7,
          -29.7,
          -29.7,
          -29.7
         ],
         "yaxis": "y25"
        },
        {
         "marker": {
          "color": [
           11.4,
           24.4,
           29.3,
           28.5,
           29.2,
           28.5,
           31.3,
           29.9,
           30.5,
           31.0,
           29.2,
           35.3,
           32.9,
           34.3,
           34.8,
           36.0,
           36.9,
           40.2,
           41.3,
           24.4,
           24.3,
           25.2,
           27.1,
           30.8,
           29.6,
           29.3,
           31.6,
           34.6,
           29.8,
           73.3
          ],
          "colorscale": [
           [
            0.0,
            "rgb(31, 119, 180)"
           ],
           [
            0.1111111111111111,
            "rgb(255, 127, 14)"
           ],
           [
            0.2222222222222222,
            "rgb(44, 160, 44)"
           ],
           [
            0.3333333333333333,
            "rgb(214, 39, 40)"
           ],
           [
            0.4444444444444444,
            "rgb(148, 103, 189)"
           ],
           [
            0.5555555555555556,
            "rgb(140, 86, 75)"
           ],
           [
            0.6666666666666666,
            "rgb(227, 119, 194)"
           ],
           [
            0.7777777777777777,
            "rgb(127, 127, 127)"
           ],
           [
            0.8888888888888888,
            "rgb(188, 189, 34)"
           ],
           [
            1.0,
            "rgb(23, 190, 207)"
           ]
          ],
          "showscale": false,
          "size": 6
         },
         "mode": "markers",
         "showlegend": false,
         "type": "scatter",
         "x": [
          135.8,
          134.1,
          136.8,
          137.7,
          138.4,
          138.0,
          149.0,
          138.1,
          137.8,
          137.6,
          138.4,
          135.3,
          136.6,
          135.9,
          134.0,
          136.6,
          134.3,
          133.8,
          142.1,
          134.1,
          134.5,
          134.1,
          132.9,
          134.6,
          134.6,
          133.9,
          132.7,
          132.5,
          142.8,
          140.4
         ],
         "xaxis": "x26",
         "y": [
          -29.7,
          -29.7,
          -29.7,
          -29.7,
          -29.7,
          -29.7,
          -29.7,
          -29.7,
          -29.7,
          -29.7,
          -29.7,
          -29.7,
          -29.7,
          -29.7,
          -29.7,
          -29.7,
          -29.7,
          -29.7,
          -29.7,
          -29.7,
          -29.7,
          -29.7,
          -29.7,
          -29.7,
          -29.7,
          -29.7,
          -29.7,
          -29.7,
          -29.7,
          -29.7
         ],
         "yaxis": "y26"
        },
        {
         "marker": {
          "color": [
           11.4,
           24.4,
           29.3,
           28.5,
           29.2,
           28.5,
           31.3,
           29.9,
           30.5,
           31.0,
           29.2,
           35.3,
           32.9,
           34.3,
           34.8,
           36.0,
           36.9,
           40.2,
           41.3,
           24.4,
           24.3,
           25.2,
           27.1,
           30.8,
           29.6,
           29.3,
           31.6,
           34.6,
           29.8,
           73.3
          ],
          "colorscale": [
           [
            0.0,
            "rgb(31, 119, 180)"
           ],
           [
            0.1111111111111111,
            "rgb(255, 127, 14)"
           ],
           [
            0.2222222222222222,
            "rgb(44, 160, 44)"
           ],
           [
            0.3333333333333333,
            "rgb(214, 39, 40)"
           ],
           [
            0.4444444444444444,
            "rgb(148, 103, 189)"
           ],
           [
            0.5555555555555556,
            "rgb(140, 86, 75)"
           ],
           [
            0.6666666666666666,
            "rgb(227, 119, 194)"
           ],
           [
            0.7777777777777777,
            "rgb(127, 127, 127)"
           ],
           [
            0.8888888888888888,
            "rgb(188, 189, 34)"
           ],
           [
            1.0,
            "rgb(23, 190, 207)"
           ]
          ],
          "showscale": false,
          "size": 6
         },
         "mode": "markers",
         "showlegend": false,
         "type": "scatter",
         "x": [
          40.6,
          41.7,
          40.0,
          39.4,
          39.0,
          39.3,
          34.1,
          39.2,
          39.4,
          39.5,
          39.0,
          40.9,
          40.1,
          40.5,
          41.8,
          40.1,
          41.5,
          41.9,
          37.1,
          41.7,
          41.5,
          41.7,
          42.6,
          41.3,
          41.4,
          41.8,
          42.7,
          42.8,
          36.8,
          38.0
         ],
         "xaxis": "x27",
         "y": [
          -29.7,
          -29.7,
          -29.7,
          -29.7,
          -29.7,
          -29.7,
          -29.7,
          -29.7,
          -29.7,
          -29.7,
          -29.7,
          -29.7,
          -29.7,
          -29.7,
          -29.7,
          -29.7,
          -29.7,
          -29.7,
          -29.7,
          -29.7,
          -29.7,
          -29.7,
          -29.7,
          -29.7,
          -29.7,
          -29.7,
          -29.7,
          -29.7,
          -29.7,
          -29.7
         ],
         "yaxis": "y27"
        },
        {
         "marker": {
          "color": [
           11.4,
           24.4,
           29.3,
           28.5,
           29.2,
           28.5,
           31.3,
           29.9,
           30.5,
           31.0,
           29.2,
           35.3,
           32.9,
           34.3,
           34.8,
           36.0,
           36.9,
           40.2,
           41.3,
           24.4,
           24.3,
           25.2,
           27.1,
           30.8,
           29.6,
           29.3,
           31.6,
           34.6,
           29.8,
           73.3
          ],
          "colorscale": [
           [
            0.0,
            "rgb(31, 119, 180)"
           ],
           [
            0.1111111111111111,
            "rgb(255, 127, 14)"
           ],
           [
            0.2222222222222222,
            "rgb(44, 160, 44)"
           ],
           [
            0.3333333333333333,
            "rgb(214, 39, 40)"
           ],
           [
            0.4444444444444444,
            "rgb(148, 103, 189)"
           ],
           [
            0.5555555555555556,
            "rgb(140, 86, 75)"
           ],
           [
            0.6666666666666666,
            "rgb(227, 119, 194)"
           ],
           [
            0.7777777777777777,
            "rgb(127, 127, 127)"
           ],
           [
            0.8888888888888888,
            "rgb(188, 189, 34)"
           ],
           [
            1.0,
            "rgb(23, 190, 207)"
           ]
          ],
          "showscale": false,
          "size": 6
         },
         "mode": "markers",
         "showlegend": false,
         "type": "scatter",
         "x": [
          33.0,
          6.0,
          1.0,
          0.0,
          0.0,
          0.0,
          0.0,
          -1.7,
          -2.97,
          -4.0,
          0.0,
          -11.2,
          -6.75,
          -9.1,
          -11.6,
          -11.8,
          -12.6,
          -16.6,
          -17.0,
          6.0,
          6.5,
          5.0,
          0.0,
          -2.0,
          -3.0,
          -2.0,
          -5.62,
          -10.7,
          0.0,
          -54.4
         ],
         "xaxis": "x28",
         "y": [
          -29.7,
          -29.7,
          -29.7,
          -29.7,
          -29.7,
          -29.7,
          -29.7,
          -29.7,
          -29.7,
          -29.7,
          -29.7,
          -29.7,
          -29.7,
          -29.7,
          -29.7,
          -29.7,
          -29.7,
          -29.7,
          -29.7,
          -29.7,
          -29.7,
          -29.7,
          -29.7,
          -29.7,
          -29.7,
          -29.7,
          -29.7,
          -29.7,
          -29.7,
          -29.7
         ],
         "yaxis": "y28"
        },
        {
         "marker": {
          "color": [
           11.4,
           24.4,
           29.3,
           28.5,
           29.2,
           28.5,
           31.3,
           29.9,
           30.5,
           31.0,
           29.2,
           35.3,
           32.9,
           34.3,
           34.8,
           36.0,
           36.9,
           40.2,
           41.3,
           24.4,
           24.3,
           25.2,
           27.1,
           30.8,
           29.6,
           29.3,
           31.6,
           34.6,
           29.8,
           73.3
          ],
          "colorscale": [
           [
            0.0,
            "rgb(31, 119, 180)"
           ],
           [
            0.1111111111111111,
            "rgb(255, 127, 14)"
           ],
           [
            0.2222222222222222,
            "rgb(44, 160, 44)"
           ],
           [
            0.3333333333333333,
            "rgb(214, 39, 40)"
           ],
           [
            0.4444444444444444,
            "rgb(148, 103, 189)"
           ],
           [
            0.5555555555555556,
            "rgb(140, 86, 75)"
           ],
           [
            0.6666666666666666,
            "rgb(227, 119, 194)"
           ],
           [
            0.7777777777777777,
            "rgb(127, 127, 127)"
           ],
           [
            0.8888888888888888,
            "rgb(188, 189, 34)"
           ],
           [
            1.0,
            "rgb(23, 190, 207)"
           ]
          ],
          "showscale": false,
          "size": 6
         },
         "mode": "markers",
         "showlegend": false,
         "type": "scatter",
         "x": [
          20.0,
          8.0,
          8.59,
          7.0,
          7.0,
          6.8,
          16.6,
          6.5,
          6.43,
          5.0,
          6.0,
          1.29,
          10.8,
          3.5,
          0.0,
          0.0,
          0.0,
          0.0,
          2.0,
          8.0,
          8.5,
          7.7,
          6.0,
          4.0,
          4.4,
          3.8,
          3.0,
          0.0,
          10.2,
          -11.3
         ],
         "xaxis": "x29",
         "y": [
          -29.7,
          -29.7,
          -29.7,
          -29.7,
          -29.7,
          -29.7,
          -29.7,
          -29.7,
          -29.7,
          -29.7,
          -29.7,
          -29.7,
          -29.7,
          -29.7,
          -29.7,
          -29.7,
          -29.7,
          -29.7,
          -29.7,
          -29.7,
          -29.7,
          -29.7,
          -29.7,
          -29.7,
          -29.7,
          -29.7,
          -29.7,
          -29.7,
          -29.7,
          -29.7
         ],
         "yaxis": "y29"
        },
        {
         "marker": {
          "color": [
           11.4,
           24.4,
           29.3,
           28.5,
           29.2,
           28.5,
           31.3,
           29.9,
           30.5,
           31.0,
           29.2,
           35.3,
           32.9,
           34.3,
           34.8,
           36.0,
           36.9,
           40.2,
           41.3,
           24.4,
           24.3,
           25.2,
           27.1,
           30.8,
           29.6,
           29.3,
           31.6,
           34.6,
           29.8,
           73.3
          ],
          "colorscale": [
           [
            0.0,
            "rgb(31, 119, 180)"
           ],
           [
            0.1111111111111111,
            "rgb(255, 127, 14)"
           ],
           [
            0.2222222222222222,
            "rgb(44, 160, 44)"
           ],
           [
            0.3333333333333333,
            "rgb(214, 39, 40)"
           ],
           [
            0.4444444444444444,
            "rgb(148, 103, 189)"
           ],
           [
            0.5555555555555556,
            "rgb(140, 86, 75)"
           ],
           [
            0.6666666666666666,
            "rgb(227, 119, 194)"
           ],
           [
            0.7777777777777777,
            "rgb(127, 127, 127)"
           ],
           [
            0.8888888888888888,
            "rgb(188, 189, 34)"
           ],
           [
            1.0,
            "rgb(23, 190, 207)"
           ]
          ],
          "showscale": false,
          "size": 6
         },
         "mode": "markers",
         "showlegend": false,
         "type": "scatter",
         "x": [
          38.59,
          10.0,
          8.65,
          7.0,
          7.0,
          6.8,
          16.6,
          6.72,
          7.08,
          6.4,
          6.0,
          11.27,
          12.74,
          9.75,
          11.6,
          11.8,
          12.6,
          16.6,
          17.12,
          10.0,
          10.7,
          9.18,
          6.0,
          4.47,
          5.33,
          4.29,
          6.37,
          10.7,
          10.2,
          55.56
         ],
         "xaxis": "x30",
         "y": [
          -29.7,
          -29.7,
          -29.7,
          -29.7,
          -29.7,
          -29.7,
          -29.7,
          -29.7,
          -29.7,
          -29.7,
          -29.7,
          -29.7,
          -29.7,
          -29.7,
          -29.7,
          -29.7,
          -29.7,
          -29.7,
          -29.7,
          -29.7,
          -29.7,
          -29.7,
          -29.7,
          -29.7,
          -29.7,
          -29.7,
          -29.7,
          -29.7,
          -29.7,
          -29.7
         ],
         "yaxis": "y30"
        },
        {
         "marker": {
          "color": [
           11.4,
           24.4,
           29.3,
           28.5,
           29.2,
           28.5,
           31.3,
           29.9,
           30.5,
           31.0,
           29.2,
           35.3,
           32.9,
           34.3,
           34.8,
           36.0,
           36.9,
           40.2,
           41.3,
           24.4,
           24.3,
           25.2,
           27.1,
           30.8,
           29.6,
           29.3,
           31.6,
           34.6,
           29.8,
           73.3
          ],
          "colorscale": [
           [
            0.0,
            "rgb(31, 119, 180)"
           ],
           [
            0.1111111111111111,
            "rgb(255, 127, 14)"
           ],
           [
            0.2222222222222222,
            "rgb(44, 160, 44)"
           ],
           [
            0.3333333333333333,
            "rgb(214, 39, 40)"
           ],
           [
            0.4444444444444444,
            "rgb(148, 103, 189)"
           ],
           [
            0.5555555555555556,
            "rgb(140, 86, 75)"
           ],
           [
            0.6666666666666666,
            "rgb(227, 119, 194)"
           ],
           [
            0.7777777777777777,
            "rgb(127, 127, 127)"
           ],
           [
            0.8888888888888888,
            "rgb(188, 189, 34)"
           ],
           [
            1.0,
            "rgb(23, 190, 207)"
           ]
          ],
          "showscale": false,
          "size": 6
         },
         "mode": "markers",
         "showlegend": false,
         "type": "scatter",
         "x": [
          27.1,
          25.5,
          22.0,
          21.5,
          22.0,
          21.5,
          14.0,
          21.0,
          21.0,
          21.0,
          21.0,
          21.0,
          21.0,
          21.0,
          22.0,
          20.0,
          21.0,
          20.0,
          15.5,
          25.5,
          25.2,
          25.2,
          25.5,
          23.0,
          23.4,
          24.0,
          24.0,
          23.0,
          18.2,
          5.7
         ],
         "xaxis": "x31",
         "y": [
          28.0,
          29.7,
          27.0,
          26.2,
          25.6,
          26.0,
          17.0,
          25.9,
          26.1,
          26.3,
          25.6,
          28.4,
          27.2,
          27.9,
          29.7,
          27.2,
          29.4,
          29.9,
          22.6,
          29.7,
          29.3,
          29.6,
          30.9,
          29.1,
          29.1,
          29.8,
          31.0,
          31.2,
          22.0,
          23.9
         ],
         "yaxis": "y31"
        },
        {
         "marker": {
          "color": [
           11.4,
           24.4,
           29.3,
           28.5,
           29.2,
           28.5,
           31.3,
           29.9,
           30.5,
           31.0,
           29.2,
           35.3,
           32.9,
           34.3,
           34.8,
           36.0,
           36.9,
           40.2,
           41.3,
           24.4,
           24.3,
           25.2,
           27.1,
           30.8,
           29.6,
           29.3,
           31.6,
           34.6,
           29.8,
           73.3
          ],
          "colorscale": [
           [
            0.0,
            "rgb(31, 119, 180)"
           ],
           [
            0.1111111111111111,
            "rgb(255, 127, 14)"
           ],
           [
            0.2222222222222222,
            "rgb(44, 160, 44)"
           ],
           [
            0.3333333333333333,
            "rgb(214, 39, 40)"
           ],
           [
            0.4444444444444444,
            "rgb(148, 103, 189)"
           ],
           [
            0.5555555555555556,
            "rgb(140, 86, 75)"
           ],
           [
            0.6666666666666666,
            "rgb(227, 119, 194)"
           ],
           [
            0.7777777777777777,
            "rgb(127, 127, 127)"
           ],
           [
            0.8888888888888888,
            "rgb(188, 189, 34)"
           ],
           [
            1.0,
            "rgb(23, 190, 207)"
           ]
          ],
          "showscale": false,
          "size": 6
         },
         "mode": "markers",
         "showlegend": false,
         "type": "scatter",
         "x": [
          -8.2,
          -17.3,
          -17.3,
          -16.5,
          -16.0,
          -16.0,
          -10.0,
          -16.5,
          -17.0,
          -17.3,
          -16.0,
          -20.9,
          -18.9,
          -20.0,
          -22.0,
          -20.0,
          -22.4,
          -24.0,
          -17.2,
          -17.3,
          -16.9,
          -17.7,
          -19.8,
          -19.8,
          -19.3,
          -19.8,
          -22.0,
          -23.4,
          -13.3,
          -23.4
         ],
         "xaxis": "x32",
         "y": [
          28.0,
          29.7,
          27.0,
          26.2,
          25.6,
          26.0,
          17.0,
          25.9,
          26.1,
          26.3,
          25.6,
          28.4,
          27.2,
          27.9,
          29.7,
          27.2,
          29.4,
          29.9,
          22.6,
          29.7,
          29.3,
          29.6,
          30.9,
          29.1,
          29.1,
          29.8,
          31.0,
          31.2,
          22.0,
          23.9
         ],
         "yaxis": "y32"
        },
        {
         "marker": {
          "color": [
           11.4,
           24.4,
           29.3,
           28.5,
           29.2,
           28.5,
           31.3,
           29.9,
           30.5,
           31.0,
           29.2,
           35.3,
           32.9,
           34.3,
           34.8,
           36.0,
           36.9,
           40.2,
           41.3,
           24.4,
           24.3,
           25.2,
           27.1,
           30.8,
           29.6,
           29.3,
           31.6,
           34.6,
           29.8,
           73.3
          ],
          "colorscale": [
           [
            0.0,
            "rgb(31, 119, 180)"
           ],
           [
            0.1111111111111111,
            "rgb(255, 127, 14)"
           ],
           [
            0.2222222222222222,
            "rgb(44, 160, 44)"
           ],
           [
            0.3333333333333333,
            "rgb(214, 39, 40)"
           ],
           [
            0.4444444444444444,
            "rgb(148, 103, 189)"
           ],
           [
            0.5555555555555556,
            "rgb(140, 86, 75)"
           ],
           [
            0.6666666666666666,
            "rgb(227, 119, 194)"
           ],
           [
            0.7777777777777777,
            "rgb(127, 127, 127)"
           ],
           [
            0.8888888888888888,
            "rgb(188, 189, 34)"
           ],
           [
            1.0,
            "rgb(23, 190, 207)"
           ]
          ],
          "showscale": false,
          "size": 6
         },
         "mode": "markers",
         "showlegend": false,
         "type": "scatter",
         "x": [
          -29.7,
          -29.7,
          -29.7,
          -29.7,
          -29.7,
          -29.7,
          -29.7,
          -29.7,
          -29.7,
          -29.7,
          -29.7,
          -29.7,
          -29.7,
          -29.7,
          -29.7,
          -29.7,
          -29.7,
          -29.7,
          -29.7,
          -29.7,
          -29.7,
          -29.7,
          -29.7,
          -29.7,
          -29.7,
          -29.7,
          -29.7,
          -29.7,
          -29.7,
          -29.7
         ],
         "xaxis": "x33",
         "y": [
          28.0,
          29.7,
          27.0,
          26.2,
          25.6,
          26.0,
          17.0,
          25.9,
          26.1,
          26.3,
          25.6,
          28.4,
          27.2,
          27.9,
          29.7,
          27.2,
          29.4,
          29.9,
          22.6,
          29.7,
          29.3,
          29.6,
          30.9,
          29.1,
          29.1,
          29.8,
          31.0,
          31.2,
          22.0,
          23.9
         ],
         "yaxis": "y33"
        },
        {
         "marker": {
          "color": "rgb(31, 119, 180)"
         },
         "showlegend": false,
         "type": "histogram",
         "x": [
          28.0,
          29.7,
          27.0,
          26.2,
          25.6,
          26.0,
          17.0,
          25.9,
          26.1,
          26.3,
          25.6,
          28.4,
          27.2,
          27.9,
          29.7,
          27.2,
          29.4,
          29.9,
          22.6,
          29.7,
          29.3,
          29.6,
          30.9,
          29.1,
          29.1,
          29.8,
          31.0,
          31.2,
          22.0,
          23.9
         ],
         "xaxis": "x34",
         "yaxis": "y34"
        },
        {
         "marker": {
          "color": [
           11.4,
           24.4,
           29.3,
           28.5,
           29.2,
           28.5,
           31.3,
           29.9,
           30.5,
           31.0,
           29.2,
           35.3,
           32.9,
           34.3,
           34.8,
           36.0,
           36.9,
           40.2,
           41.3,
           24.4,
           24.3,
           25.2,
           27.1,
           30.8,
           29.6,
           29.3,
           31.6,
           34.6,
           29.8,
           73.3
          ],
          "colorscale": [
           [
            0.0,
            "rgb(31, 119, 180)"
           ],
           [
            0.1111111111111111,
            "rgb(255, 127, 14)"
           ],
           [
            0.2222222222222222,
            "rgb(44, 160, 44)"
           ],
           [
            0.3333333333333333,
            "rgb(214, 39, 40)"
           ],
           [
            0.4444444444444444,
            "rgb(148, 103, 189)"
           ],
           [
            0.5555555555555556,
            "rgb(140, 86, 75)"
           ],
           [
            0.6666666666666666,
            "rgb(227, 119, 194)"
           ],
           [
            0.7777777777777777,
            "rgb(127, 127, 127)"
           ],
           [
            0.8888888888888888,
            "rgb(188, 189, 34)"
           ],
           [
            1.0,
            "rgb(23, 190, 207)"
           ]
          ],
          "showscale": false,
          "size": 6
         },
         "mode": "markers",
         "showlegend": false,
         "type": "scatter",
         "x": [
          -15.7,
          -33.1,
          -37.6,
          -36.9,
          -36.8,
          -36.1,
          -35.3,
          -37.7,
          -38.5,
          -39.1,
          -36.8,
          -44.9,
          -41.7,
          -43.5,
          -45.0,
          -45.0,
          -47.0,
          -50.7,
          -48.1,
          -33.1,
          -32.8,
          -34.1,
          -37.0,
          -40.3,
          -39.0,
          -39.0,
          -42.2,
          -45.6,
          -35.7,
          -77.0
         ],
         "xaxis": "x35",
         "y": [
          28.0,
          29.7,
          27.0,
          26.2,
          25.6,
          26.0,
          17.0,
          25.9,
          26.1,
          26.3,
          25.6,
          28.4,
          27.2,
          27.9,
          29.7,
          27.2,
          29.4,
          29.9,
          22.6,
          29.7,
          29.3,
          29.6,
          30.9,
          29.1,
          29.1,
          29.8,
          31.0,
          31.2,
          22.0,
          23.9
         ],
         "yaxis": "y35"
        },
        {
         "marker": {
          "color": [
           11.4,
           24.4,
           29.3,
           28.5,
           29.2,
           28.5,
           31.3,
           29.9,
           30.5,
           31.0,
           29.2,
           35.3,
           32.9,
           34.3,
           34.8,
           36.0,
           36.9,
           40.2,
           41.3,
           24.4,
           24.3,
           25.2,
           27.1,
           30.8,
           29.6,
           29.3,
           31.6,
           34.6,
           29.8,
           73.3
          ],
          "colorscale": [
           [
            0.0,
            "rgb(31, 119, 180)"
           ],
           [
            0.1111111111111111,
            "rgb(255, 127, 14)"
           ],
           [
            0.2222222222222222,
            "rgb(44, 160, 44)"
           ],
           [
            0.3333333333333333,
            "rgb(214, 39, 40)"
           ],
           [
            0.4444444444444444,
            "rgb(148, 103, 189)"
           ],
           [
            0.5555555555555556,
            "rgb(140, 86, 75)"
           ],
           [
            0.6666666666666666,
            "rgb(227, 119, 194)"
           ],
           [
            0.7777777777777777,
            "rgb(127, 127, 127)"
           ],
           [
            0.8888888888888888,
            "rgb(188, 189, 34)"
           ],
           [
            1.0,
            "rgb(23, 190, 207)"
           ]
          ],
          "showscale": false,
          "size": 6
         },
         "mode": "markers",
         "showlegend": false,
         "type": "scatter",
         "x": [
          135.8,
          134.1,
          136.8,
          137.7,
          138.4,
          138.0,
          149.0,
          138.1,
          137.8,
          137.6,
          138.4,
          135.3,
          136.6,
          135.9,
          134.0,
          136.6,
          134.3,
          133.8,
          142.1,
          134.1,
          134.5,
          134.1,
          132.9,
          134.6,
          134.6,
          133.9,
          132.7,
          132.5,
          142.8,
          140.4
         ],
         "xaxis": "x36",
         "y": [
          28.0,
          29.7,
          27.0,
          26.2,
          25.6,
          26.0,
          17.0,
          25.9,
          26.1,
          26.3,
          25.6,
          28.4,
          27.2,
          27.9,
          29.7,
          27.2,
          29.4,
          29.9,
          22.6,
          29.7,
          29.3,
          29.6,
          30.9,
          29.1,
          29.1,
          29.8,
          31.0,
          31.2,
          22.0,
          23.9
         ],
         "yaxis": "y36"
        },
        {
         "marker": {
          "color": [
           11.4,
           24.4,
           29.3,
           28.5,
           29.2,
           28.5,
           31.3,
           29.9,
           30.5,
           31.0,
           29.2,
           35.3,
           32.9,
           34.3,
           34.8,
           36.0,
           36.9,
           40.2,
           41.3,
           24.4,
           24.3,
           25.2,
           27.1,
           30.8,
           29.6,
           29.3,
           31.6,
           34.6,
           29.8,
           73.3
          ],
          "colorscale": [
           [
            0.0,
            "rgb(31, 119, 180)"
           ],
           [
            0.1111111111111111,
            "rgb(255, 127, 14)"
           ],
           [
            0.2222222222222222,
            "rgb(44, 160, 44)"
           ],
           [
            0.3333333333333333,
            "rgb(214, 39, 40)"
           ],
           [
            0.4444444444444444,
            "rgb(148, 103, 189)"
           ],
           [
            0.5555555555555556,
            "rgb(140, 86, 75)"
           ],
           [
            0.6666666666666666,
            "rgb(227, 119, 194)"
           ],
           [
            0.7777777777777777,
            "rgb(127, 127, 127)"
           ],
           [
            0.8888888888888888,
            "rgb(188, 189, 34)"
           ],
           [
            1.0,
            "rgb(23, 190, 207)"
           ]
          ],
          "showscale": false,
          "size": 6
         },
         "mode": "markers",
         "showlegend": false,
         "type": "scatter",
         "x": [
          40.6,
          41.7,
          40.0,
          39.4,
          39.0,
          39.3,
          34.1,
          39.2,
          39.4,
          39.5,
          39.0,
          40.9,
          40.1,
          40.5,
          41.8,
          40.1,
          41.5,
          41.9,
          37.1,
          41.7,
          41.5,
          41.7,
          42.6,
          41.3,
          41.4,
          41.8,
          42.7,
          42.8,
          36.8,
          38.0
         ],
         "xaxis": "x37",
         "y": [
          28.0,
          29.7,
          27.0,
          26.2,
          25.6,
          26.0,
          17.0,
          25.9,
          26.1,
          26.3,
          25.6,
          28.4,
          27.2,
          27.9,
          29.7,
          27.2,
          29.4,
          29.9,
          22.6,
          29.7,
          29.3,
          29.6,
          30.9,
          29.1,
          29.1,
          29.8,
          31.0,
          31.2,
          22.0,
          23.9
         ],
         "yaxis": "y37"
        },
        {
         "marker": {
          "color": [
           11.4,
           24.4,
           29.3,
           28.5,
           29.2,
           28.5,
           31.3,
           29.9,
           30.5,
           31.0,
           29.2,
           35.3,
           32.9,
           34.3,
           34.8,
           36.0,
           36.9,
           40.2,
           41.3,
           24.4,
           24.3,
           25.2,
           27.1,
           30.8,
           29.6,
           29.3,
           31.6,
           34.6,
           29.8,
           73.3
          ],
          "colorscale": [
           [
            0.0,
            "rgb(31, 119, 180)"
           ],
           [
            0.1111111111111111,
            "rgb(255, 127, 14)"
           ],
           [
            0.2222222222222222,
            "rgb(44, 160, 44)"
           ],
           [
            0.3333333333333333,
            "rgb(214, 39, 40)"
           ],
           [
            0.4444444444444444,
            "rgb(148, 103, 189)"
           ],
           [
            0.5555555555555556,
            "rgb(140, 86, 75)"
           ],
           [
            0.6666666666666666,
            "rgb(227, 119, 194)"
           ],
           [
            0.7777777777777777,
            "rgb(127, 127, 127)"
           ],
           [
            0.8888888888888888,
            "rgb(188, 189, 34)"
           ],
           [
            1.0,
            "rgb(23, 190, 207)"
           ]
          ],
          "showscale": false,
          "size": 6
         },
         "mode": "markers",
         "showlegend": false,
         "type": "scatter",
         "x": [
          33.0,
          6.0,
          1.0,
          0.0,
          0.0,
          0.0,
          0.0,
          -1.7,
          -2.97,
          -4.0,
          0.0,
          -11.2,
          -6.75,
          -9.1,
          -11.6,
          -11.8,
          -12.6,
          -16.6,
          -17.0,
          6.0,
          6.5,
          5.0,
          0.0,
          -2.0,
          -3.0,
          -2.0,
          -5.62,
          -10.7,
          0.0,
          -54.4
         ],
         "xaxis": "x38",
         "y": [
          28.0,
          29.7,
          27.0,
          26.2,
          25.6,
          26.0,
          17.0,
          25.9,
          26.1,
          26.3,
          25.6,
          28.4,
          27.2,
          27.9,
          29.7,
          27.2,
          29.4,
          29.9,
          22.6,
          29.7,
          29.3,
          29.6,
          30.9,
          29.1,
          29.1,
          29.8,
          31.0,
          31.2,
          22.0,
          23.9
         ],
         "yaxis": "y38"
        },
        {
         "marker": {
          "color": [
           11.4,
           24.4,
           29.3,
           28.5,
           29.2,
           28.5,
           31.3,
           29.9,
           30.5,
           31.0,
           29.2,
           35.3,
           32.9,
           34.3,
           34.8,
           36.0,
           36.9,
           40.2,
           41.3,
           24.4,
           24.3,
           25.2,
           27.1,
           30.8,
           29.6,
           29.3,
           31.6,
           34.6,
           29.8,
           73.3
          ],
          "colorscale": [
           [
            0.0,
            "rgb(31, 119, 180)"
           ],
           [
            0.1111111111111111,
            "rgb(255, 127, 14)"
           ],
           [
            0.2222222222222222,
            "rgb(44, 160, 44)"
           ],
           [
            0.3333333333333333,
            "rgb(214, 39, 40)"
           ],
           [
            0.4444444444444444,
            "rgb(148, 103, 189)"
           ],
           [
            0.5555555555555556,
            "rgb(140, 86, 75)"
           ],
           [
            0.6666666666666666,
            "rgb(227, 119, 194)"
           ],
           [
            0.7777777777777777,
            "rgb(127, 127, 127)"
           ],
           [
            0.8888888888888888,
            "rgb(188, 189, 34)"
           ],
           [
            1.0,
            "rgb(23, 190, 207)"
           ]
          ],
          "showscale": false,
          "size": 6
         },
         "mode": "markers",
         "showlegend": false,
         "type": "scatter",
         "x": [
          20.0,
          8.0,
          8.59,
          7.0,
          7.0,
          6.8,
          16.6,
          6.5,
          6.43,
          5.0,
          6.0,
          1.29,
          10.8,
          3.5,
          0.0,
          0.0,
          0.0,
          0.0,
          2.0,
          8.0,
          8.5,
          7.7,
          6.0,
          4.0,
          4.4,
          3.8,
          3.0,
          0.0,
          10.2,
          -11.3
         ],
         "xaxis": "x39",
         "y": [
          28.0,
          29.7,
          27.0,
          26.2,
          25.6,
          26.0,
          17.0,
          25.9,
          26.1,
          26.3,
          25.6,
          28.4,
          27.2,
          27.9,
          29.7,
          27.2,
          29.4,
          29.9,
          22.6,
          29.7,
          29.3,
          29.6,
          30.9,
          29.1,
          29.1,
          29.8,
          31.0,
          31.2,
          22.0,
          23.9
         ],
         "yaxis": "y39"
        },
        {
         "marker": {
          "color": [
           11.4,
           24.4,
           29.3,
           28.5,
           29.2,
           28.5,
           31.3,
           29.9,
           30.5,
           31.0,
           29.2,
           35.3,
           32.9,
           34.3,
           34.8,
           36.0,
           36.9,
           40.2,
           41.3,
           24.4,
           24.3,
           25.2,
           27.1,
           30.8,
           29.6,
           29.3,
           31.6,
           34.6,
           29.8,
           73.3
          ],
          "colorscale": [
           [
            0.0,
            "rgb(31, 119, 180)"
           ],
           [
            0.1111111111111111,
            "rgb(255, 127, 14)"
           ],
           [
            0.2222222222222222,
            "rgb(44, 160, 44)"
           ],
           [
            0.3333333333333333,
            "rgb(214, 39, 40)"
           ],
           [
            0.4444444444444444,
            "rgb(148, 103, 189)"
           ],
           [
            0.5555555555555556,
            "rgb(140, 86, 75)"
           ],
           [
            0.6666666666666666,
            "rgb(227, 119, 194)"
           ],
           [
            0.7777777777777777,
            "rgb(127, 127, 127)"
           ],
           [
            0.8888888888888888,
            "rgb(188, 189, 34)"
           ],
           [
            1.0,
            "rgb(23, 190, 207)"
           ]
          ],
          "showscale": false,
          "size": 6
         },
         "mode": "markers",
         "showlegend": false,
         "type": "scatter",
         "x": [
          38.59,
          10.0,
          8.65,
          7.0,
          7.0,
          6.8,
          16.6,
          6.72,
          7.08,
          6.4,
          6.0,
          11.27,
          12.74,
          9.75,
          11.6,
          11.8,
          12.6,
          16.6,
          17.12,
          10.0,
          10.7,
          9.18,
          6.0,
          4.47,
          5.33,
          4.29,
          6.37,
          10.7,
          10.2,
          55.56
         ],
         "xaxis": "x40",
         "y": [
          28.0,
          29.7,
          27.0,
          26.2,
          25.6,
          26.0,
          17.0,
          25.9,
          26.1,
          26.3,
          25.6,
          28.4,
          27.2,
          27.9,
          29.7,
          27.2,
          29.4,
          29.9,
          22.6,
          29.7,
          29.3,
          29.6,
          30.9,
          29.1,
          29.1,
          29.8,
          31.0,
          31.2,
          22.0,
          23.9
         ],
         "yaxis": "y40"
        },
        {
         "marker": {
          "color": [
           11.4,
           24.4,
           29.3,
           28.5,
           29.2,
           28.5,
           31.3,
           29.9,
           30.5,
           31.0,
           29.2,
           35.3,
           32.9,
           34.3,
           34.8,
           36.0,
           36.9,
           40.2,
           41.3,
           24.4,
           24.3,
           25.2,
           27.1,
           30.8,
           29.6,
           29.3,
           31.6,
           34.6,
           29.8,
           73.3
          ],
          "colorscale": [
           [
            0.0,
            "rgb(31, 119, 180)"
           ],
           [
            0.1111111111111111,
            "rgb(255, 127, 14)"
           ],
           [
            0.2222222222222222,
            "rgb(44, 160, 44)"
           ],
           [
            0.3333333333333333,
            "rgb(214, 39, 40)"
           ],
           [
            0.4444444444444444,
            "rgb(148, 103, 189)"
           ],
           [
            0.5555555555555556,
            "rgb(140, 86, 75)"
           ],
           [
            0.6666666666666666,
            "rgb(227, 119, 194)"
           ],
           [
            0.7777777777777777,
            "rgb(127, 127, 127)"
           ],
           [
            0.8888888888888888,
            "rgb(188, 189, 34)"
           ],
           [
            1.0,
            "rgb(23, 190, 207)"
           ]
          ],
          "showscale": false,
          "size": 6
         },
         "mode": "markers",
         "showlegend": false,
         "type": "scatter",
         "x": [
          27.1,
          25.5,
          22.0,
          21.5,
          22.0,
          21.5,
          14.0,
          21.0,
          21.0,
          21.0,
          21.0,
          21.0,
          21.0,
          21.0,
          22.0,
          20.0,
          21.0,
          20.0,
          15.5,
          25.5,
          25.2,
          25.2,
          25.5,
          23.0,
          23.4,
          24.0,
          24.0,
          23.0,
          18.2,
          5.7
         ],
         "xaxis": "x41",
         "y": [
          -15.7,
          -33.1,
          -37.6,
          -36.9,
          -36.8,
          -36.1,
          -35.3,
          -37.7,
          -38.5,
          -39.1,
          -36.8,
          -44.9,
          -41.7,
          -43.5,
          -45.0,
          -45.0,
          -47.0,
          -50.7,
          -48.1,
          -33.1,
          -32.8,
          -34.1,
          -37.0,
          -40.3,
          -39.0,
          -39.0,
          -42.2,
          -45.6,
          -35.7,
          -77.0
         ],
         "yaxis": "y41"
        },
        {
         "marker": {
          "color": [
           11.4,
           24.4,
           29.3,
           28.5,
           29.2,
           28.5,
           31.3,
           29.9,
           30.5,
           31.0,
           29.2,
           35.3,
           32.9,
           34.3,
           34.8,
           36.0,
           36.9,
           40.2,
           41.3,
           24.4,
           24.3,
           25.2,
           27.1,
           30.8,
           29.6,
           29.3,
           31.6,
           34.6,
           29.8,
           73.3
          ],
          "colorscale": [
           [
            0.0,
            "rgb(31, 119, 180)"
           ],
           [
            0.1111111111111111,
            "rgb(255, 127, 14)"
           ],
           [
            0.2222222222222222,
            "rgb(44, 160, 44)"
           ],
           [
            0.3333333333333333,
            "rgb(214, 39, 40)"
           ],
           [
            0.4444444444444444,
            "rgb(148, 103, 189)"
           ],
           [
            0.5555555555555556,
            "rgb(140, 86, 75)"
           ],
           [
            0.6666666666666666,
            "rgb(227, 119, 194)"
           ],
           [
            0.7777777777777777,
            "rgb(127, 127, 127)"
           ],
           [
            0.8888888888888888,
            "rgb(188, 189, 34)"
           ],
           [
            1.0,
            "rgb(23, 190, 207)"
           ]
          ],
          "showscale": false,
          "size": 6
         },
         "mode": "markers",
         "showlegend": false,
         "type": "scatter",
         "x": [
          -8.2,
          -17.3,
          -17.3,
          -16.5,
          -16.0,
          -16.0,
          -10.0,
          -16.5,
          -17.0,
          -17.3,
          -16.0,
          -20.9,
          -18.9,
          -20.0,
          -22.0,
          -20.0,
          -22.4,
          -24.0,
          -17.2,
          -17.3,
          -16.9,
          -17.7,
          -19.8,
          -19.8,
          -19.3,
          -19.8,
          -22.0,
          -23.4,
          -13.3,
          -23.4
         ],
         "xaxis": "x42",
         "y": [
          -15.7,
          -33.1,
          -37.6,
          -36.9,
          -36.8,
          -36.1,
          -35.3,
          -37.7,
          -38.5,
          -39.1,
          -36.8,
          -44.9,
          -41.7,
          -43.5,
          -45.0,
          -45.0,
          -47.0,
          -50.7,
          -48.1,
          -33.1,
          -32.8,
          -34.1,
          -37.0,
          -40.3,
          -39.0,
          -39.0,
          -42.2,
          -45.6,
          -35.7,
          -77.0
         ],
         "yaxis": "y42"
        },
        {
         "marker": {
          "color": [
           11.4,
           24.4,
           29.3,
           28.5,
           29.2,
           28.5,
           31.3,
           29.9,
           30.5,
           31.0,
           29.2,
           35.3,
           32.9,
           34.3,
           34.8,
           36.0,
           36.9,
           40.2,
           41.3,
           24.4,
           24.3,
           25.2,
           27.1,
           30.8,
           29.6,
           29.3,
           31.6,
           34.6,
           29.8,
           73.3
          ],
          "colorscale": [
           [
            0.0,
            "rgb(31, 119, 180)"
           ],
           [
            0.1111111111111111,
            "rgb(255, 127, 14)"
           ],
           [
            0.2222222222222222,
            "rgb(44, 160, 44)"
           ],
           [
            0.3333333333333333,
            "rgb(214, 39, 40)"
           ],
           [
            0.4444444444444444,
            "rgb(148, 103, 189)"
           ],
           [
            0.5555555555555556,
            "rgb(140, 86, 75)"
           ],
           [
            0.6666666666666666,
            "rgb(227, 119, 194)"
           ],
           [
            0.7777777777777777,
            "rgb(127, 127, 127)"
           ],
           [
            0.8888888888888888,
            "rgb(188, 189, 34)"
           ],
           [
            1.0,
            "rgb(23, 190, 207)"
           ]
          ],
          "showscale": false,
          "size": 6
         },
         "mode": "markers",
         "showlegend": false,
         "type": "scatter",
         "x": [
          -29.7,
          -29.7,
          -29.7,
          -29.7,
          -29.7,
          -29.7,
          -29.7,
          -29.7,
          -29.7,
          -29.7,
          -29.7,
          -29.7,
          -29.7,
          -29.7,
          -29.7,
          -29.7,
          -29.7,
          -29.7,
          -29.7,
          -29.7,
          -29.7,
          -29.7,
          -29.7,
          -29.7,
          -29.7,
          -29.7,
          -29.7,
          -29.7,
          -29.7,
          -29.7
         ],
         "xaxis": "x43",
         "y": [
          -15.7,
          -33.1,
          -37.6,
          -36.9,
          -36.8,
          -36.1,
          -35.3,
          -37.7,
          -38.5,
          -39.1,
          -36.8,
          -44.9,
          -41.7,
          -43.5,
          -45.0,
          -45.0,
          -47.0,
          -50.7,
          -48.1,
          -33.1,
          -32.8,
          -34.1,
          -37.0,
          -40.3,
          -39.0,
          -39.0,
          -42.2,
          -45.6,
          -35.7,
          -77.0
         ],
         "yaxis": "y43"
        },
        {
         "marker": {
          "color": [
           11.4,
           24.4,
           29.3,
           28.5,
           29.2,
           28.5,
           31.3,
           29.9,
           30.5,
           31.0,
           29.2,
           35.3,
           32.9,
           34.3,
           34.8,
           36.0,
           36.9,
           40.2,
           41.3,
           24.4,
           24.3,
           25.2,
           27.1,
           30.8,
           29.6,
           29.3,
           31.6,
           34.6,
           29.8,
           73.3
          ],
          "colorscale": [
           [
            0.0,
            "rgb(31, 119, 180)"
           ],
           [
            0.1111111111111111,
            "rgb(255, 127, 14)"
           ],
           [
            0.2222222222222222,
            "rgb(44, 160, 44)"
           ],
           [
            0.3333333333333333,
            "rgb(214, 39, 40)"
           ],
           [
            0.4444444444444444,
            "rgb(148, 103, 189)"
           ],
           [
            0.5555555555555556,
            "rgb(140, 86, 75)"
           ],
           [
            0.6666666666666666,
            "rgb(227, 119, 194)"
           ],
           [
            0.7777777777777777,
            "rgb(127, 127, 127)"
           ],
           [
            0.8888888888888888,
            "rgb(188, 189, 34)"
           ],
           [
            1.0,
            "rgb(23, 190, 207)"
           ]
          ],
          "showscale": false,
          "size": 6
         },
         "mode": "markers",
         "showlegend": false,
         "type": "scatter",
         "x": [
          28.0,
          29.7,
          27.0,
          26.2,
          25.6,
          26.0,
          17.0,
          25.9,
          26.1,
          26.3,
          25.6,
          28.4,
          27.2,
          27.9,
          29.7,
          27.2,
          29.4,
          29.9,
          22.6,
          29.7,
          29.3,
          29.6,
          30.9,
          29.1,
          29.1,
          29.8,
          31.0,
          31.2,
          22.0,
          23.9
         ],
         "xaxis": "x44",
         "y": [
          -15.7,
          -33.1,
          -37.6,
          -36.9,
          -36.8,
          -36.1,
          -35.3,
          -37.7,
          -38.5,
          -39.1,
          -36.8,
          -44.9,
          -41.7,
          -43.5,
          -45.0,
          -45.0,
          -47.0,
          -50.7,
          -48.1,
          -33.1,
          -32.8,
          -34.1,
          -37.0,
          -40.3,
          -39.0,
          -39.0,
          -42.2,
          -45.6,
          -35.7,
          -77.0
         ],
         "yaxis": "y44"
        },
        {
         "marker": {
          "color": "rgb(31, 119, 180)"
         },
         "showlegend": false,
         "type": "histogram",
         "x": [
          -15.7,
          -33.1,
          -37.6,
          -36.9,
          -36.8,
          -36.1,
          -35.3,
          -37.7,
          -38.5,
          -39.1,
          -36.8,
          -44.9,
          -41.7,
          -43.5,
          -45.0,
          -45.0,
          -47.0,
          -50.7,
          -48.1,
          -33.1,
          -32.8,
          -34.1,
          -37.0,
          -40.3,
          -39.0,
          -39.0,
          -42.2,
          -45.6,
          -35.7,
          -77.0
         ],
         "xaxis": "x45",
         "yaxis": "y45"
        },
        {
         "marker": {
          "color": [
           11.4,
           24.4,
           29.3,
           28.5,
           29.2,
           28.5,
           31.3,
           29.9,
           30.5,
           31.0,
           29.2,
           35.3,
           32.9,
           34.3,
           34.8,
           36.0,
           36.9,
           40.2,
           41.3,
           24.4,
           24.3,
           25.2,
           27.1,
           30.8,
           29.6,
           29.3,
           31.6,
           34.6,
           29.8,
           73.3
          ],
          "colorscale": [
           [
            0.0,
            "rgb(31, 119, 180)"
           ],
           [
            0.1111111111111111,
            "rgb(255, 127, 14)"
           ],
           [
            0.2222222222222222,
            "rgb(44, 160, 44)"
           ],
           [
            0.3333333333333333,
            "rgb(214, 39, 40)"
           ],
           [
            0.4444444444444444,
            "rgb(148, 103, 189)"
           ],
           [
            0.5555555555555556,
            "rgb(140, 86, 75)"
           ],
           [
            0.6666666666666666,
            "rgb(227, 119, 194)"
           ],
           [
            0.7777777777777777,
            "rgb(127, 127, 127)"
           ],
           [
            0.8888888888888888,
            "rgb(188, 189, 34)"
           ],
           [
            1.0,
            "rgb(23, 190, 207)"
           ]
          ],
          "showscale": false,
          "size": 6
         },
         "mode": "markers",
         "showlegend": false,
         "type": "scatter",
         "x": [
          135.8,
          134.1,
          136.8,
          137.7,
          138.4,
          138.0,
          149.0,
          138.1,
          137.8,
          137.6,
          138.4,
          135.3,
          136.6,
          135.9,
          134.0,
          136.6,
          134.3,
          133.8,
          142.1,
          134.1,
          134.5,
          134.1,
          132.9,
          134.6,
          134.6,
          133.9,
          132.7,
          132.5,
          142.8,
          140.4
         ],
         "xaxis": "x46",
         "y": [
          -15.7,
          -33.1,
          -37.6,
          -36.9,
          -36.8,
          -36.1,
          -35.3,
          -37.7,
          -38.5,
          -39.1,
          -36.8,
          -44.9,
          -41.7,
          -43.5,
          -45.0,
          -45.0,
          -47.0,
          -50.7,
          -48.1,
          -33.1,
          -32.8,
          -34.1,
          -37.0,
          -40.3,
          -39.0,
          -39.0,
          -42.2,
          -45.6,
          -35.7,
          -77.0
         ],
         "yaxis": "y46"
        },
        {
         "marker": {
          "color": [
           11.4,
           24.4,
           29.3,
           28.5,
           29.2,
           28.5,
           31.3,
           29.9,
           30.5,
           31.0,
           29.2,
           35.3,
           32.9,
           34.3,
           34.8,
           36.0,
           36.9,
           40.2,
           41.3,
           24.4,
           24.3,
           25.2,
           27.1,
           30.8,
           29.6,
           29.3,
           31.6,
           34.6,
           29.8,
           73.3
          ],
          "colorscale": [
           [
            0.0,
            "rgb(31, 119, 180)"
           ],
           [
            0.1111111111111111,
            "rgb(255, 127, 14)"
           ],
           [
            0.2222222222222222,
            "rgb(44, 160, 44)"
           ],
           [
            0.3333333333333333,
            "rgb(214, 39, 40)"
           ],
           [
            0.4444444444444444,
            "rgb(148, 103, 189)"
           ],
           [
            0.5555555555555556,
            "rgb(140, 86, 75)"
           ],
           [
            0.6666666666666666,
            "rgb(227, 119, 194)"
           ],
           [
            0.7777777777777777,
            "rgb(127, 127, 127)"
           ],
           [
            0.8888888888888888,
            "rgb(188, 189, 34)"
           ],
           [
            1.0,
            "rgb(23, 190, 207)"
           ]
          ],
          "showscale": false,
          "size": 6
         },
         "mode": "markers",
         "showlegend": false,
         "type": "scatter",
         "x": [
          40.6,
          41.7,
          40.0,
          39.4,
          39.0,
          39.3,
          34.1,
          39.2,
          39.4,
          39.5,
          39.0,
          40.9,
          40.1,
          40.5,
          41.8,
          40.1,
          41.5,
          41.9,
          37.1,
          41.7,
          41.5,
          41.7,
          42.6,
          41.3,
          41.4,
          41.8,
          42.7,
          42.8,
          36.8,
          38.0
         ],
         "xaxis": "x47",
         "y": [
          -15.7,
          -33.1,
          -37.6,
          -36.9,
          -36.8,
          -36.1,
          -35.3,
          -37.7,
          -38.5,
          -39.1,
          -36.8,
          -44.9,
          -41.7,
          -43.5,
          -45.0,
          -45.0,
          -47.0,
          -50.7,
          -48.1,
          -33.1,
          -32.8,
          -34.1,
          -37.0,
          -40.3,
          -39.0,
          -39.0,
          -42.2,
          -45.6,
          -35.7,
          -77.0
         ],
         "yaxis": "y47"
        },
        {
         "marker": {
          "color": [
           11.4,
           24.4,
           29.3,
           28.5,
           29.2,
           28.5,
           31.3,
           29.9,
           30.5,
           31.0,
           29.2,
           35.3,
           32.9,
           34.3,
           34.8,
           36.0,
           36.9,
           40.2,
           41.3,
           24.4,
           24.3,
           25.2,
           27.1,
           30.8,
           29.6,
           29.3,
           31.6,
           34.6,
           29.8,
           73.3
          ],
          "colorscale": [
           [
            0.0,
            "rgb(31, 119, 180)"
           ],
           [
            0.1111111111111111,
            "rgb(255, 127, 14)"
           ],
           [
            0.2222222222222222,
            "rgb(44, 160, 44)"
           ],
           [
            0.3333333333333333,
            "rgb(214, 39, 40)"
           ],
           [
            0.4444444444444444,
            "rgb(148, 103, 189)"
           ],
           [
            0.5555555555555556,
            "rgb(140, 86, 75)"
           ],
           [
            0.6666666666666666,
            "rgb(227, 119, 194)"
           ],
           [
            0.7777777777777777,
            "rgb(127, 127, 127)"
           ],
           [
            0.8888888888888888,
            "rgb(188, 189, 34)"
           ],
           [
            1.0,
            "rgb(23, 190, 207)"
           ]
          ],
          "showscale": false,
          "size": 6
         },
         "mode": "markers",
         "showlegend": false,
         "type": "scatter",
         "x": [
          33.0,
          6.0,
          1.0,
          0.0,
          0.0,
          0.0,
          0.0,
          -1.7,
          -2.97,
          -4.0,
          0.0,
          -11.2,
          -6.75,
          -9.1,
          -11.6,
          -11.8,
          -12.6,
          -16.6,
          -17.0,
          6.0,
          6.5,
          5.0,
          0.0,
          -2.0,
          -3.0,
          -2.0,
          -5.62,
          -10.7,
          0.0,
          -54.4
         ],
         "xaxis": "x48",
         "y": [
          -15.7,
          -33.1,
          -37.6,
          -36.9,
          -36.8,
          -36.1,
          -35.3,
          -37.7,
          -38.5,
          -39.1,
          -36.8,
          -44.9,
          -41.7,
          -43.5,
          -45.0,
          -45.0,
          -47.0,
          -50.7,
          -48.1,
          -33.1,
          -32.8,
          -34.1,
          -37.0,
          -40.3,
          -39.0,
          -39.0,
          -42.2,
          -45.6,
          -35.7,
          -77.0
         ],
         "yaxis": "y48"
        },
        {
         "marker": {
          "color": [
           11.4,
           24.4,
           29.3,
           28.5,
           29.2,
           28.5,
           31.3,
           29.9,
           30.5,
           31.0,
           29.2,
           35.3,
           32.9,
           34.3,
           34.8,
           36.0,
           36.9,
           40.2,
           41.3,
           24.4,
           24.3,
           25.2,
           27.1,
           30.8,
           29.6,
           29.3,
           31.6,
           34.6,
           29.8,
           73.3
          ],
          "colorscale": [
           [
            0.0,
            "rgb(31, 119, 180)"
           ],
           [
            0.1111111111111111,
            "rgb(255, 127, 14)"
           ],
           [
            0.2222222222222222,
            "rgb(44, 160, 44)"
           ],
           [
            0.3333333333333333,
            "rgb(214, 39, 40)"
           ],
           [
            0.4444444444444444,
            "rgb(148, 103, 189)"
           ],
           [
            0.5555555555555556,
            "rgb(140, 86, 75)"
           ],
           [
            0.6666666666666666,
            "rgb(227, 119, 194)"
           ],
           [
            0.7777777777777777,
            "rgb(127, 127, 127)"
           ],
           [
            0.8888888888888888,
            "rgb(188, 189, 34)"
           ],
           [
            1.0,
            "rgb(23, 190, 207)"
           ]
          ],
          "showscale": false,
          "size": 6
         },
         "mode": "markers",
         "showlegend": false,
         "type": "scatter",
         "x": [
          20.0,
          8.0,
          8.59,
          7.0,
          7.0,
          6.8,
          16.6,
          6.5,
          6.43,
          5.0,
          6.0,
          1.29,
          10.8,
          3.5,
          0.0,
          0.0,
          0.0,
          0.0,
          2.0,
          8.0,
          8.5,
          7.7,
          6.0,
          4.0,
          4.4,
          3.8,
          3.0,
          0.0,
          10.2,
          -11.3
         ],
         "xaxis": "x49",
         "y": [
          -15.7,
          -33.1,
          -37.6,
          -36.9,
          -36.8,
          -36.1,
          -35.3,
          -37.7,
          -38.5,
          -39.1,
          -36.8,
          -44.9,
          -41.7,
          -43.5,
          -45.0,
          -45.0,
          -47.0,
          -50.7,
          -48.1,
          -33.1,
          -32.8,
          -34.1,
          -37.0,
          -40.3,
          -39.0,
          -39.0,
          -42.2,
          -45.6,
          -35.7,
          -77.0
         ],
         "yaxis": "y49"
        },
        {
         "marker": {
          "color": [
           11.4,
           24.4,
           29.3,
           28.5,
           29.2,
           28.5,
           31.3,
           29.9,
           30.5,
           31.0,
           29.2,
           35.3,
           32.9,
           34.3,
           34.8,
           36.0,
           36.9,
           40.2,
           41.3,
           24.4,
           24.3,
           25.2,
           27.1,
           30.8,
           29.6,
           29.3,
           31.6,
           34.6,
           29.8,
           73.3
          ],
          "colorscale": [
           [
            0.0,
            "rgb(31, 119, 180)"
           ],
           [
            0.1111111111111111,
            "rgb(255, 127, 14)"
           ],
           [
            0.2222222222222222,
            "rgb(44, 160, 44)"
           ],
           [
            0.3333333333333333,
            "rgb(214, 39, 40)"
           ],
           [
            0.4444444444444444,
            "rgb(148, 103, 189)"
           ],
           [
            0.5555555555555556,
            "rgb(140, 86, 75)"
           ],
           [
            0.6666666666666666,
            "rgb(227, 119, 194)"
           ],
           [
            0.7777777777777777,
            "rgb(127, 127, 127)"
           ],
           [
            0.8888888888888888,
            "rgb(188, 189, 34)"
           ],
           [
            1.0,
            "rgb(23, 190, 207)"
           ]
          ],
          "showscale": false,
          "size": 6
         },
         "mode": "markers",
         "showlegend": false,
         "type": "scatter",
         "x": [
          38.59,
          10.0,
          8.65,
          7.0,
          7.0,
          6.8,
          16.6,
          6.72,
          7.08,
          6.4,
          6.0,
          11.27,
          12.74,
          9.75,
          11.6,
          11.8,
          12.6,
          16.6,
          17.12,
          10.0,
          10.7,
          9.18,
          6.0,
          4.47,
          5.33,
          4.29,
          6.37,
          10.7,
          10.2,
          55.56
         ],
         "xaxis": "x50",
         "y": [
          -15.7,
          -33.1,
          -37.6,
          -36.9,
          -36.8,
          -36.1,
          -35.3,
          -37.7,
          -38.5,
          -39.1,
          -36.8,
          -44.9,
          -41.7,
          -43.5,
          -45.0,
          -45.0,
          -47.0,
          -50.7,
          -48.1,
          -33.1,
          -32.8,
          -34.1,
          -37.0,
          -40.3,
          -39.0,
          -39.0,
          -42.2,
          -45.6,
          -35.7,
          -77.0
         ],
         "yaxis": "y50"
        },
        {
         "marker": {
          "color": [
           11.4,
           24.4,
           29.3,
           28.5,
           29.2,
           28.5,
           31.3,
           29.9,
           30.5,
           31.0,
           29.2,
           35.3,
           32.9,
           34.3,
           34.8,
           36.0,
           36.9,
           40.2,
           41.3,
           24.4,
           24.3,
           25.2,
           27.1,
           30.8,
           29.6,
           29.3,
           31.6,
           34.6,
           29.8,
           73.3
          ],
          "colorscale": [
           [
            0.0,
            "rgb(31, 119, 180)"
           ],
           [
            0.1111111111111111,
            "rgb(255, 127, 14)"
           ],
           [
            0.2222222222222222,
            "rgb(44, 160, 44)"
           ],
           [
            0.3333333333333333,
            "rgb(214, 39, 40)"
           ],
           [
            0.4444444444444444,
            "rgb(148, 103, 189)"
           ],
           [
            0.5555555555555556,
            "rgb(140, 86, 75)"
           ],
           [
            0.6666666666666666,
            "rgb(227, 119, 194)"
           ],
           [
            0.7777777777777777,
            "rgb(127, 127, 127)"
           ],
           [
            0.8888888888888888,
            "rgb(188, 189, 34)"
           ],
           [
            1.0,
            "rgb(23, 190, 207)"
           ]
          ],
          "showscale": false,
          "size": 6
         },
         "mode": "markers",
         "showlegend": false,
         "type": "scatter",
         "x": [
          27.1,
          25.5,
          22.0,
          21.5,
          22.0,
          21.5,
          14.0,
          21.0,
          21.0,
          21.0,
          21.0,
          21.0,
          21.0,
          21.0,
          22.0,
          20.0,
          21.0,
          20.0,
          15.5,
          25.5,
          25.2,
          25.2,
          25.5,
          23.0,
          23.4,
          24.0,
          24.0,
          23.0,
          18.2,
          5.7
         ],
         "xaxis": "x51",
         "y": [
          135.8,
          134.1,
          136.8,
          137.7,
          138.4,
          138.0,
          149.0,
          138.1,
          137.8,
          137.6,
          138.4,
          135.3,
          136.6,
          135.9,
          134.0,
          136.6,
          134.3,
          133.8,
          142.1,
          134.1,
          134.5,
          134.1,
          132.9,
          134.6,
          134.6,
          133.9,
          132.7,
          132.5,
          142.8,
          140.4
         ],
         "yaxis": "y51"
        },
        {
         "marker": {
          "color": [
           11.4,
           24.4,
           29.3,
           28.5,
           29.2,
           28.5,
           31.3,
           29.9,
           30.5,
           31.0,
           29.2,
           35.3,
           32.9,
           34.3,
           34.8,
           36.0,
           36.9,
           40.2,
           41.3,
           24.4,
           24.3,
           25.2,
           27.1,
           30.8,
           29.6,
           29.3,
           31.6,
           34.6,
           29.8,
           73.3
          ],
          "colorscale": [
           [
            0.0,
            "rgb(31, 119, 180)"
           ],
           [
            0.1111111111111111,
            "rgb(255, 127, 14)"
           ],
           [
            0.2222222222222222,
            "rgb(44, 160, 44)"
           ],
           [
            0.3333333333333333,
            "rgb(214, 39, 40)"
           ],
           [
            0.4444444444444444,
            "rgb(148, 103, 189)"
           ],
           [
            0.5555555555555556,
            "rgb(140, 86, 75)"
           ],
           [
            0.6666666666666666,
            "rgb(227, 119, 194)"
           ],
           [
            0.7777777777777777,
            "rgb(127, 127, 127)"
           ],
           [
            0.8888888888888888,
            "rgb(188, 189, 34)"
           ],
           [
            1.0,
            "rgb(23, 190, 207)"
           ]
          ],
          "showscale": false,
          "size": 6
         },
         "mode": "markers",
         "showlegend": false,
         "type": "scatter",
         "x": [
          -8.2,
          -17.3,
          -17.3,
          -16.5,
          -16.0,
          -16.0,
          -10.0,
          -16.5,
          -17.0,
          -17.3,
          -16.0,
          -20.9,
          -18.9,
          -20.0,
          -22.0,
          -20.0,
          -22.4,
          -24.0,
          -17.2,
          -17.3,
          -16.9,
          -17.7,
          -19.8,
          -19.8,
          -19.3,
          -19.8,
          -22.0,
          -23.4,
          -13.3,
          -23.4
         ],
         "xaxis": "x52",
         "y": [
          135.8,
          134.1,
          136.8,
          137.7,
          138.4,
          138.0,
          149.0,
          138.1,
          137.8,
          137.6,
          138.4,
          135.3,
          136.6,
          135.9,
          134.0,
          136.6,
          134.3,
          133.8,
          142.1,
          134.1,
          134.5,
          134.1,
          132.9,
          134.6,
          134.6,
          133.9,
          132.7,
          132.5,
          142.8,
          140.4
         ],
         "yaxis": "y52"
        },
        {
         "marker": {
          "color": [
           11.4,
           24.4,
           29.3,
           28.5,
           29.2,
           28.5,
           31.3,
           29.9,
           30.5,
           31.0,
           29.2,
           35.3,
           32.9,
           34.3,
           34.8,
           36.0,
           36.9,
           40.2,
           41.3,
           24.4,
           24.3,
           25.2,
           27.1,
           30.8,
           29.6,
           29.3,
           31.6,
           34.6,
           29.8,
           73.3
          ],
          "colorscale": [
           [
            0.0,
            "rgb(31, 119, 180)"
           ],
           [
            0.1111111111111111,
            "rgb(255, 127, 14)"
           ],
           [
            0.2222222222222222,
            "rgb(44, 160, 44)"
           ],
           [
            0.3333333333333333,
            "rgb(214, 39, 40)"
           ],
           [
            0.4444444444444444,
            "rgb(148, 103, 189)"
           ],
           [
            0.5555555555555556,
            "rgb(140, 86, 75)"
           ],
           [
            0.6666666666666666,
            "rgb(227, 119, 194)"
           ],
           [
            0.7777777777777777,
            "rgb(127, 127, 127)"
           ],
           [
            0.8888888888888888,
            "rgb(188, 189, 34)"
           ],
           [
            1.0,
            "rgb(23, 190, 207)"
           ]
          ],
          "showscale": false,
          "size": 6
         },
         "mode": "markers",
         "showlegend": false,
         "type": "scatter",
         "x": [
          -29.7,
          -29.7,
          -29.7,
          -29.7,
          -29.7,
          -29.7,
          -29.7,
          -29.7,
          -29.7,
          -29.7,
          -29.7,
          -29.7,
          -29.7,
          -29.7,
          -29.7,
          -29.7,
          -29.7,
          -29.7,
          -29.7,
          -29.7,
          -29.7,
          -29.7,
          -29.7,
          -29.7,
          -29.7,
          -29.7,
          -29.7,
          -29.7,
          -29.7,
          -29.7
         ],
         "xaxis": "x53",
         "y": [
          135.8,
          134.1,
          136.8,
          137.7,
          138.4,
          138.0,
          149.0,
          138.1,
          137.8,
          137.6,
          138.4,
          135.3,
          136.6,
          135.9,
          134.0,
          136.6,
          134.3,
          133.8,
          142.1,
          134.1,
          134.5,
          134.1,
          132.9,
          134.6,
          134.6,
          133.9,
          132.7,
          132.5,
          142.8,
          140.4
         ],
         "yaxis": "y53"
        },
        {
         "marker": {
          "color": [
           11.4,
           24.4,
           29.3,
           28.5,
           29.2,
           28.5,
           31.3,
           29.9,
           30.5,
           31.0,
           29.2,
           35.3,
           32.9,
           34.3,
           34.8,
           36.0,
           36.9,
           40.2,
           41.3,
           24.4,
           24.3,
           25.2,
           27.1,
           30.8,
           29.6,
           29.3,
           31.6,
           34.6,
           29.8,
           73.3
          ],
          "colorscale": [
           [
            0.0,
            "rgb(31, 119, 180)"
           ],
           [
            0.1111111111111111,
            "rgb(255, 127, 14)"
           ],
           [
            0.2222222222222222,
            "rgb(44, 160, 44)"
           ],
           [
            0.3333333333333333,
            "rgb(214, 39, 40)"
           ],
           [
            0.4444444444444444,
            "rgb(148, 103, 189)"
           ],
           [
            0.5555555555555556,
            "rgb(140, 86, 75)"
           ],
           [
            0.6666666666666666,
            "rgb(227, 119, 194)"
           ],
           [
            0.7777777777777777,
            "rgb(127, 127, 127)"
           ],
           [
            0.8888888888888888,
            "rgb(188, 189, 34)"
           ],
           [
            1.0,
            "rgb(23, 190, 207)"
           ]
          ],
          "showscale": false,
          "size": 6
         },
         "mode": "markers",
         "showlegend": false,
         "type": "scatter",
         "x": [
          28.0,
          29.7,
          27.0,
          26.2,
          25.6,
          26.0,
          17.0,
          25.9,
          26.1,
          26.3,
          25.6,
          28.4,
          27.2,
          27.9,
          29.7,
          27.2,
          29.4,
          29.9,
          22.6,
          29.7,
          29.3,
          29.6,
          30.9,
          29.1,
          29.1,
          29.8,
          31.0,
          31.2,
          22.0,
          23.9
         ],
         "xaxis": "x54",
         "y": [
          135.8,
          134.1,
          136.8,
          137.7,
          138.4,
          138.0,
          149.0,
          138.1,
          137.8,
          137.6,
          138.4,
          135.3,
          136.6,
          135.9,
          134.0,
          136.6,
          134.3,
          133.8,
          142.1,
          134.1,
          134.5,
          134.1,
          132.9,
          134.6,
          134.6,
          133.9,
          132.7,
          132.5,
          142.8,
          140.4
         ],
         "yaxis": "y54"
        },
        {
         "marker": {
          "color": [
           11.4,
           24.4,
           29.3,
           28.5,
           29.2,
           28.5,
           31.3,
           29.9,
           30.5,
           31.0,
           29.2,
           35.3,
           32.9,
           34.3,
           34.8,
           36.0,
           36.9,
           40.2,
           41.3,
           24.4,
           24.3,
           25.2,
           27.1,
           30.8,
           29.6,
           29.3,
           31.6,
           34.6,
           29.8,
           73.3
          ],
          "colorscale": [
           [
            0.0,
            "rgb(31, 119, 180)"
           ],
           [
            0.1111111111111111,
            "rgb(255, 127, 14)"
           ],
           [
            0.2222222222222222,
            "rgb(44, 160, 44)"
           ],
           [
            0.3333333333333333,
            "rgb(214, 39, 40)"
           ],
           [
            0.4444444444444444,
            "rgb(148, 103, 189)"
           ],
           [
            0.5555555555555556,
            "rgb(140, 86, 75)"
           ],
           [
            0.6666666666666666,
            "rgb(227, 119, 194)"
           ],
           [
            0.7777777777777777,
            "rgb(127, 127, 127)"
           ],
           [
            0.8888888888888888,
            "rgb(188, 189, 34)"
           ],
           [
            1.0,
            "rgb(23, 190, 207)"
           ]
          ],
          "showscale": false,
          "size": 6
         },
         "mode": "markers",
         "showlegend": false,
         "type": "scatter",
         "x": [
          -15.7,
          -33.1,
          -37.6,
          -36.9,
          -36.8,
          -36.1,
          -35.3,
          -37.7,
          -38.5,
          -39.1,
          -36.8,
          -44.9,
          -41.7,
          -43.5,
          -45.0,
          -45.0,
          -47.0,
          -50.7,
          -48.1,
          -33.1,
          -32.8,
          -34.1,
          -37.0,
          -40.3,
          -39.0,
          -39.0,
          -42.2,
          -45.6,
          -35.7,
          -77.0
         ],
         "xaxis": "x55",
         "y": [
          135.8,
          134.1,
          136.8,
          137.7,
          138.4,
          138.0,
          149.0,
          138.1,
          137.8,
          137.6,
          138.4,
          135.3,
          136.6,
          135.9,
          134.0,
          136.6,
          134.3,
          133.8,
          142.1,
          134.1,
          134.5,
          134.1,
          132.9,
          134.6,
          134.6,
          133.9,
          132.7,
          132.5,
          142.8,
          140.4
         ],
         "yaxis": "y55"
        },
        {
         "marker": {
          "color": "rgb(31, 119, 180)"
         },
         "showlegend": false,
         "type": "histogram",
         "x": [
          135.8,
          134.1,
          136.8,
          137.7,
          138.4,
          138.0,
          149.0,
          138.1,
          137.8,
          137.6,
          138.4,
          135.3,
          136.6,
          135.9,
          134.0,
          136.6,
          134.3,
          133.8,
          142.1,
          134.1,
          134.5,
          134.1,
          132.9,
          134.6,
          134.6,
          133.9,
          132.7,
          132.5,
          142.8,
          140.4
         ],
         "xaxis": "x56",
         "yaxis": "y56"
        },
        {
         "marker": {
          "color": [
           11.4,
           24.4,
           29.3,
           28.5,
           29.2,
           28.5,
           31.3,
           29.9,
           30.5,
           31.0,
           29.2,
           35.3,
           32.9,
           34.3,
           34.8,
           36.0,
           36.9,
           40.2,
           41.3,
           24.4,
           24.3,
           25.2,
           27.1,
           30.8,
           29.6,
           29.3,
           31.6,
           34.6,
           29.8,
           73.3
          ],
          "colorscale": [
           [
            0.0,
            "rgb(31, 119, 180)"
           ],
           [
            0.1111111111111111,
            "rgb(255, 127, 14)"
           ],
           [
            0.2222222222222222,
            "rgb(44, 160, 44)"
           ],
           [
            0.3333333333333333,
            "rgb(214, 39, 40)"
           ],
           [
            0.4444444444444444,
            "rgb(148, 103, 189)"
           ],
           [
            0.5555555555555556,
            "rgb(140, 86, 75)"
           ],
           [
            0.6666666666666666,
            "rgb(227, 119, 194)"
           ],
           [
            0.7777777777777777,
            "rgb(127, 127, 127)"
           ],
           [
            0.8888888888888888,
            "rgb(188, 189, 34)"
           ],
           [
            1.0,
            "rgb(23, 190, 207)"
           ]
          ],
          "showscale": false,
          "size": 6
         },
         "mode": "markers",
         "showlegend": false,
         "type": "scatter",
         "x": [
          40.6,
          41.7,
          40.0,
          39.4,
          39.0,
          39.3,
          34.1,
          39.2,
          39.4,
          39.5,
          39.0,
          40.9,
          40.1,
          40.5,
          41.8,
          40.1,
          41.5,
          41.9,
          37.1,
          41.7,
          41.5,
          41.7,
          42.6,
          41.3,
          41.4,
          41.8,
          42.7,
          42.8,
          36.8,
          38.0
         ],
         "xaxis": "x57",
         "y": [
          135.8,
          134.1,
          136.8,
          137.7,
          138.4,
          138.0,
          149.0,
          138.1,
          137.8,
          137.6,
          138.4,
          135.3,
          136.6,
          135.9,
          134.0,
          136.6,
          134.3,
          133.8,
          142.1,
          134.1,
          134.5,
          134.1,
          132.9,
          134.6,
          134.6,
          133.9,
          132.7,
          132.5,
          142.8,
          140.4
         ],
         "yaxis": "y57"
        },
        {
         "marker": {
          "color": [
           11.4,
           24.4,
           29.3,
           28.5,
           29.2,
           28.5,
           31.3,
           29.9,
           30.5,
           31.0,
           29.2,
           35.3,
           32.9,
           34.3,
           34.8,
           36.0,
           36.9,
           40.2,
           41.3,
           24.4,
           24.3,
           25.2,
           27.1,
           30.8,
           29.6,
           29.3,
           31.6,
           34.6,
           29.8,
           73.3
          ],
          "colorscale": [
           [
            0.0,
            "rgb(31, 119, 180)"
           ],
           [
            0.1111111111111111,
            "rgb(255, 127, 14)"
           ],
           [
            0.2222222222222222,
            "rgb(44, 160, 44)"
           ],
           [
            0.3333333333333333,
            "rgb(214, 39, 40)"
           ],
           [
            0.4444444444444444,
            "rgb(148, 103, 189)"
           ],
           [
            0.5555555555555556,
            "rgb(140, 86, 75)"
           ],
           [
            0.6666666666666666,
            "rgb(227, 119, 194)"
           ],
           [
            0.7777777777777777,
            "rgb(127, 127, 127)"
           ],
           [
            0.8888888888888888,
            "rgb(188, 189, 34)"
           ],
           [
            1.0,
            "rgb(23, 190, 207)"
           ]
          ],
          "showscale": false,
          "size": 6
         },
         "mode": "markers",
         "showlegend": false,
         "type": "scatter",
         "x": [
          33.0,
          6.0,
          1.0,
          0.0,
          0.0,
          0.0,
          0.0,
          -1.7,
          -2.97,
          -4.0,
          0.0,
          -11.2,
          -6.75,
          -9.1,
          -11.6,
          -11.8,
          -12.6,
          -16.6,
          -17.0,
          6.0,
          6.5,
          5.0,
          0.0,
          -2.0,
          -3.0,
          -2.0,
          -5.62,
          -10.7,
          0.0,
          -54.4
         ],
         "xaxis": "x58",
         "y": [
          135.8,
          134.1,
          136.8,
          137.7,
          138.4,
          138.0,
          149.0,
          138.1,
          137.8,
          137.6,
          138.4,
          135.3,
          136.6,
          135.9,
          134.0,
          136.6,
          134.3,
          133.8,
          142.1,
          134.1,
          134.5,
          134.1,
          132.9,
          134.6,
          134.6,
          133.9,
          132.7,
          132.5,
          142.8,
          140.4
         ],
         "yaxis": "y58"
        },
        {
         "marker": {
          "color": [
           11.4,
           24.4,
           29.3,
           28.5,
           29.2,
           28.5,
           31.3,
           29.9,
           30.5,
           31.0,
           29.2,
           35.3,
           32.9,
           34.3,
           34.8,
           36.0,
           36.9,
           40.2,
           41.3,
           24.4,
           24.3,
           25.2,
           27.1,
           30.8,
           29.6,
           29.3,
           31.6,
           34.6,
           29.8,
           73.3
          ],
          "colorscale": [
           [
            0.0,
            "rgb(31, 119, 180)"
           ],
           [
            0.1111111111111111,
            "rgb(255, 127, 14)"
           ],
           [
            0.2222222222222222,
            "rgb(44, 160, 44)"
           ],
           [
            0.3333333333333333,
            "rgb(214, 39, 40)"
           ],
           [
            0.4444444444444444,
            "rgb(148, 103, 189)"
           ],
           [
            0.5555555555555556,
            "rgb(140, 86, 75)"
           ],
           [
            0.6666666666666666,
            "rgb(227, 119, 194)"
           ],
           [
            0.7777777777777777,
            "rgb(127, 127, 127)"
           ],
           [
            0.8888888888888888,
            "rgb(188, 189, 34)"
           ],
           [
            1.0,
            "rgb(23, 190, 207)"
           ]
          ],
          "showscale": false,
          "size": 6
         },
         "mode": "markers",
         "showlegend": false,
         "type": "scatter",
         "x": [
          20.0,
          8.0,
          8.59,
          7.0,
          7.0,
          6.8,
          16.6,
          6.5,
          6.43,
          5.0,
          6.0,
          1.29,
          10.8,
          3.5,
          0.0,
          0.0,
          0.0,
          0.0,
          2.0,
          8.0,
          8.5,
          7.7,
          6.0,
          4.0,
          4.4,
          3.8,
          3.0,
          0.0,
          10.2,
          -11.3
         ],
         "xaxis": "x59",
         "y": [
          135.8,
          134.1,
          136.8,
          137.7,
          138.4,
          138.0,
          149.0,
          138.1,
          137.8,
          137.6,
          138.4,
          135.3,
          136.6,
          135.9,
          134.0,
          136.6,
          134.3,
          133.8,
          142.1,
          134.1,
          134.5,
          134.1,
          132.9,
          134.6,
          134.6,
          133.9,
          132.7,
          132.5,
          142.8,
          140.4
         ],
         "yaxis": "y59"
        },
        {
         "marker": {
          "color": [
           11.4,
           24.4,
           29.3,
           28.5,
           29.2,
           28.5,
           31.3,
           29.9,
           30.5,
           31.0,
           29.2,
           35.3,
           32.9,
           34.3,
           34.8,
           36.0,
           36.9,
           40.2,
           41.3,
           24.4,
           24.3,
           25.2,
           27.1,
           30.8,
           29.6,
           29.3,
           31.6,
           34.6,
           29.8,
           73.3
          ],
          "colorscale": [
           [
            0.0,
            "rgb(31, 119, 180)"
           ],
           [
            0.1111111111111111,
            "rgb(255, 127, 14)"
           ],
           [
            0.2222222222222222,
            "rgb(44, 160, 44)"
           ],
           [
            0.3333333333333333,
            "rgb(214, 39, 40)"
           ],
           [
            0.4444444444444444,
            "rgb(148, 103, 189)"
           ],
           [
            0.5555555555555556,
            "rgb(140, 86, 75)"
           ],
           [
            0.6666666666666666,
            "rgb(227, 119, 194)"
           ],
           [
            0.7777777777777777,
            "rgb(127, 127, 127)"
           ],
           [
            0.8888888888888888,
            "rgb(188, 189, 34)"
           ],
           [
            1.0,
            "rgb(23, 190, 207)"
           ]
          ],
          "showscale": false,
          "size": 6
         },
         "mode": "markers",
         "showlegend": false,
         "type": "scatter",
         "x": [
          38.59,
          10.0,
          8.65,
          7.0,
          7.0,
          6.8,
          16.6,
          6.72,
          7.08,
          6.4,
          6.0,
          11.27,
          12.74,
          9.75,
          11.6,
          11.8,
          12.6,
          16.6,
          17.12,
          10.0,
          10.7,
          9.18,
          6.0,
          4.47,
          5.33,
          4.29,
          6.37,
          10.7,
          10.2,
          55.56
         ],
         "xaxis": "x60",
         "y": [
          135.8,
          134.1,
          136.8,
          137.7,
          138.4,
          138.0,
          149.0,
          138.1,
          137.8,
          137.6,
          138.4,
          135.3,
          136.6,
          135.9,
          134.0,
          136.6,
          134.3,
          133.8,
          142.1,
          134.1,
          134.5,
          134.1,
          132.9,
          134.6,
          134.6,
          133.9,
          132.7,
          132.5,
          142.8,
          140.4
         ],
         "yaxis": "y60"
        },
        {
         "marker": {
          "color": [
           11.4,
           24.4,
           29.3,
           28.5,
           29.2,
           28.5,
           31.3,
           29.9,
           30.5,
           31.0,
           29.2,
           35.3,
           32.9,
           34.3,
           34.8,
           36.0,
           36.9,
           40.2,
           41.3,
           24.4,
           24.3,
           25.2,
           27.1,
           30.8,
           29.6,
           29.3,
           31.6,
           34.6,
           29.8,
           73.3
          ],
          "colorscale": [
           [
            0.0,
            "rgb(31, 119, 180)"
           ],
           [
            0.1111111111111111,
            "rgb(255, 127, 14)"
           ],
           [
            0.2222222222222222,
            "rgb(44, 160, 44)"
           ],
           [
            0.3333333333333333,
            "rgb(214, 39, 40)"
           ],
           [
            0.4444444444444444,
            "rgb(148, 103, 189)"
           ],
           [
            0.5555555555555556,
            "rgb(140, 86, 75)"
           ],
           [
            0.6666666666666666,
            "rgb(227, 119, 194)"
           ],
           [
            0.7777777777777777,
            "rgb(127, 127, 127)"
           ],
           [
            0.8888888888888888,
            "rgb(188, 189, 34)"
           ],
           [
            1.0,
            "rgb(23, 190, 207)"
           ]
          ],
          "showscale": false,
          "size": 6
         },
         "mode": "markers",
         "showlegend": false,
         "type": "scatter",
         "x": [
          27.1,
          25.5,
          22.0,
          21.5,
          22.0,
          21.5,
          14.0,
          21.0,
          21.0,
          21.0,
          21.0,
          21.0,
          21.0,
          21.0,
          22.0,
          20.0,
          21.0,
          20.0,
          15.5,
          25.5,
          25.2,
          25.2,
          25.5,
          23.0,
          23.4,
          24.0,
          24.0,
          23.0,
          18.2,
          5.7
         ],
         "xaxis": "x61",
         "y": [
          40.6,
          41.7,
          40.0,
          39.4,
          39.0,
          39.3,
          34.1,
          39.2,
          39.4,
          39.5,
          39.0,
          40.9,
          40.1,
          40.5,
          41.8,
          40.1,
          41.5,
          41.9,
          37.1,
          41.7,
          41.5,
          41.7,
          42.6,
          41.3,
          41.4,
          41.8,
          42.7,
          42.8,
          36.8,
          38.0
         ],
         "yaxis": "y61"
        },
        {
         "marker": {
          "color": [
           11.4,
           24.4,
           29.3,
           28.5,
           29.2,
           28.5,
           31.3,
           29.9,
           30.5,
           31.0,
           29.2,
           35.3,
           32.9,
           34.3,
           34.8,
           36.0,
           36.9,
           40.2,
           41.3,
           24.4,
           24.3,
           25.2,
           27.1,
           30.8,
           29.6,
           29.3,
           31.6,
           34.6,
           29.8,
           73.3
          ],
          "colorscale": [
           [
            0.0,
            "rgb(31, 119, 180)"
           ],
           [
            0.1111111111111111,
            "rgb(255, 127, 14)"
           ],
           [
            0.2222222222222222,
            "rgb(44, 160, 44)"
           ],
           [
            0.3333333333333333,
            "rgb(214, 39, 40)"
           ],
           [
            0.4444444444444444,
            "rgb(148, 103, 189)"
           ],
           [
            0.5555555555555556,
            "rgb(140, 86, 75)"
           ],
           [
            0.6666666666666666,
            "rgb(227, 119, 194)"
           ],
           [
            0.7777777777777777,
            "rgb(127, 127, 127)"
           ],
           [
            0.8888888888888888,
            "rgb(188, 189, 34)"
           ],
           [
            1.0,
            "rgb(23, 190, 207)"
           ]
          ],
          "showscale": false,
          "size": 6
         },
         "mode": "markers",
         "showlegend": false,
         "type": "scatter",
         "x": [
          -8.2,
          -17.3,
          -17.3,
          -16.5,
          -16.0,
          -16.0,
          -10.0,
          -16.5,
          -17.0,
          -17.3,
          -16.0,
          -20.9,
          -18.9,
          -20.0,
          -22.0,
          -20.0,
          -22.4,
          -24.0,
          -17.2,
          -17.3,
          -16.9,
          -17.7,
          -19.8,
          -19.8,
          -19.3,
          -19.8,
          -22.0,
          -23.4,
          -13.3,
          -23.4
         ],
         "xaxis": "x62",
         "y": [
          40.6,
          41.7,
          40.0,
          39.4,
          39.0,
          39.3,
          34.1,
          39.2,
          39.4,
          39.5,
          39.0,
          40.9,
          40.1,
          40.5,
          41.8,
          40.1,
          41.5,
          41.9,
          37.1,
          41.7,
          41.5,
          41.7,
          42.6,
          41.3,
          41.4,
          41.8,
          42.7,
          42.8,
          36.8,
          38.0
         ],
         "yaxis": "y62"
        },
        {
         "marker": {
          "color": [
           11.4,
           24.4,
           29.3,
           28.5,
           29.2,
           28.5,
           31.3,
           29.9,
           30.5,
           31.0,
           29.2,
           35.3,
           32.9,
           34.3,
           34.8,
           36.0,
           36.9,
           40.2,
           41.3,
           24.4,
           24.3,
           25.2,
           27.1,
           30.8,
           29.6,
           29.3,
           31.6,
           34.6,
           29.8,
           73.3
          ],
          "colorscale": [
           [
            0.0,
            "rgb(31, 119, 180)"
           ],
           [
            0.1111111111111111,
            "rgb(255, 127, 14)"
           ],
           [
            0.2222222222222222,
            "rgb(44, 160, 44)"
           ],
           [
            0.3333333333333333,
            "rgb(214, 39, 40)"
           ],
           [
            0.4444444444444444,
            "rgb(148, 103, 189)"
           ],
           [
            0.5555555555555556,
            "rgb(140, 86, 75)"
           ],
           [
            0.6666666666666666,
            "rgb(227, 119, 194)"
           ],
           [
            0.7777777777777777,
            "rgb(127, 127, 127)"
           ],
           [
            0.8888888888888888,
            "rgb(188, 189, 34)"
           ],
           [
            1.0,
            "rgb(23, 190, 207)"
           ]
          ],
          "showscale": false,
          "size": 6
         },
         "mode": "markers",
         "showlegend": false,
         "type": "scatter",
         "x": [
          -29.7,
          -29.7,
          -29.7,
          -29.7,
          -29.7,
          -29.7,
          -29.7,
          -29.7,
          -29.7,
          -29.7,
          -29.7,
          -29.7,
          -29.7,
          -29.7,
          -29.7,
          -29.7,
          -29.7,
          -29.7,
          -29.7,
          -29.7,
          -29.7,
          -29.7,
          -29.7,
          -29.7,
          -29.7,
          -29.7,
          -29.7,
          -29.7,
          -29.7,
          -29.7
         ],
         "xaxis": "x63",
         "y": [
          40.6,
          41.7,
          40.0,
          39.4,
          39.0,
          39.3,
          34.1,
          39.2,
          39.4,
          39.5,
          39.0,
          40.9,
          40.1,
          40.5,
          41.8,
          40.1,
          41.5,
          41.9,
          37.1,
          41.7,
          41.5,
          41.7,
          42.6,
          41.3,
          41.4,
          41.8,
          42.7,
          42.8,
          36.8,
          38.0
         ],
         "yaxis": "y63"
        },
        {
         "marker": {
          "color": [
           11.4,
           24.4,
           29.3,
           28.5,
           29.2,
           28.5,
           31.3,
           29.9,
           30.5,
           31.0,
           29.2,
           35.3,
           32.9,
           34.3,
           34.8,
           36.0,
           36.9,
           40.2,
           41.3,
           24.4,
           24.3,
           25.2,
           27.1,
           30.8,
           29.6,
           29.3,
           31.6,
           34.6,
           29.8,
           73.3
          ],
          "colorscale": [
           [
            0.0,
            "rgb(31, 119, 180)"
           ],
           [
            0.1111111111111111,
            "rgb(255, 127, 14)"
           ],
           [
            0.2222222222222222,
            "rgb(44, 160, 44)"
           ],
           [
            0.3333333333333333,
            "rgb(214, 39, 40)"
           ],
           [
            0.4444444444444444,
            "rgb(148, 103, 189)"
           ],
           [
            0.5555555555555556,
            "rgb(140, 86, 75)"
           ],
           [
            0.6666666666666666,
            "rgb(227, 119, 194)"
           ],
           [
            0.7777777777777777,
            "rgb(127, 127, 127)"
           ],
           [
            0.8888888888888888,
            "rgb(188, 189, 34)"
           ],
           [
            1.0,
            "rgb(23, 190, 207)"
           ]
          ],
          "showscale": false,
          "size": 6
         },
         "mode": "markers",
         "showlegend": false,
         "type": "scatter",
         "x": [
          28.0,
          29.7,
          27.0,
          26.2,
          25.6,
          26.0,
          17.0,
          25.9,
          26.1,
          26.3,
          25.6,
          28.4,
          27.2,
          27.9,
          29.7,
          27.2,
          29.4,
          29.9,
          22.6,
          29.7,
          29.3,
          29.6,
          30.9,
          29.1,
          29.1,
          29.8,
          31.0,
          31.2,
          22.0,
          23.9
         ],
         "xaxis": "x64",
         "y": [
          40.6,
          41.7,
          40.0,
          39.4,
          39.0,
          39.3,
          34.1,
          39.2,
          39.4,
          39.5,
          39.0,
          40.9,
          40.1,
          40.5,
          41.8,
          40.1,
          41.5,
          41.9,
          37.1,
          41.7,
          41.5,
          41.7,
          42.6,
          41.3,
          41.4,
          41.8,
          42.7,
          42.8,
          36.8,
          38.0
         ],
         "yaxis": "y64"
        },
        {
         "marker": {
          "color": [
           11.4,
           24.4,
           29.3,
           28.5,
           29.2,
           28.5,
           31.3,
           29.9,
           30.5,
           31.0,
           29.2,
           35.3,
           32.9,
           34.3,
           34.8,
           36.0,
           36.9,
           40.2,
           41.3,
           24.4,
           24.3,
           25.2,
           27.1,
           30.8,
           29.6,
           29.3,
           31.6,
           34.6,
           29.8,
           73.3
          ],
          "colorscale": [
           [
            0.0,
            "rgb(31, 119, 180)"
           ],
           [
            0.1111111111111111,
            "rgb(255, 127, 14)"
           ],
           [
            0.2222222222222222,
            "rgb(44, 160, 44)"
           ],
           [
            0.3333333333333333,
            "rgb(214, 39, 40)"
           ],
           [
            0.4444444444444444,
            "rgb(148, 103, 189)"
           ],
           [
            0.5555555555555556,
            "rgb(140, 86, 75)"
           ],
           [
            0.6666666666666666,
            "rgb(227, 119, 194)"
           ],
           [
            0.7777777777777777,
            "rgb(127, 127, 127)"
           ],
           [
            0.8888888888888888,
            "rgb(188, 189, 34)"
           ],
           [
            1.0,
            "rgb(23, 190, 207)"
           ]
          ],
          "showscale": false,
          "size": 6
         },
         "mode": "markers",
         "showlegend": false,
         "type": "scatter",
         "x": [
          -15.7,
          -33.1,
          -37.6,
          -36.9,
          -36.8,
          -36.1,
          -35.3,
          -37.7,
          -38.5,
          -39.1,
          -36.8,
          -44.9,
          -41.7,
          -43.5,
          -45.0,
          -45.0,
          -47.0,
          -50.7,
          -48.1,
          -33.1,
          -32.8,
          -34.1,
          -37.0,
          -40.3,
          -39.0,
          -39.0,
          -42.2,
          -45.6,
          -35.7,
          -77.0
         ],
         "xaxis": "x65",
         "y": [
          40.6,
          41.7,
          40.0,
          39.4,
          39.0,
          39.3,
          34.1,
          39.2,
          39.4,
          39.5,
          39.0,
          40.9,
          40.1,
          40.5,
          41.8,
          40.1,
          41.5,
          41.9,
          37.1,
          41.7,
          41.5,
          41.7,
          42.6,
          41.3,
          41.4,
          41.8,
          42.7,
          42.8,
          36.8,
          38.0
         ],
         "yaxis": "y65"
        },
        {
         "marker": {
          "color": [
           11.4,
           24.4,
           29.3,
           28.5,
           29.2,
           28.5,
           31.3,
           29.9,
           30.5,
           31.0,
           29.2,
           35.3,
           32.9,
           34.3,
           34.8,
           36.0,
           36.9,
           40.2,
           41.3,
           24.4,
           24.3,
           25.2,
           27.1,
           30.8,
           29.6,
           29.3,
           31.6,
           34.6,
           29.8,
           73.3
          ],
          "colorscale": [
           [
            0.0,
            "rgb(31, 119, 180)"
           ],
           [
            0.1111111111111111,
            "rgb(255, 127, 14)"
           ],
           [
            0.2222222222222222,
            "rgb(44, 160, 44)"
           ],
           [
            0.3333333333333333,
            "rgb(214, 39, 40)"
           ],
           [
            0.4444444444444444,
            "rgb(148, 103, 189)"
           ],
           [
            0.5555555555555556,
            "rgb(140, 86, 75)"
           ],
           [
            0.6666666666666666,
            "rgb(227, 119, 194)"
           ],
           [
            0.7777777777777777,
            "rgb(127, 127, 127)"
           ],
           [
            0.8888888888888888,
            "rgb(188, 189, 34)"
           ],
           [
            1.0,
            "rgb(23, 190, 207)"
           ]
          ],
          "showscale": false,
          "size": 6
         },
         "mode": "markers",
         "showlegend": false,
         "type": "scatter",
         "x": [
          135.8,
          134.1,
          136.8,
          137.7,
          138.4,
          138.0,
          149.0,
          138.1,
          137.8,
          137.6,
          138.4,
          135.3,
          136.6,
          135.9,
          134.0,
          136.6,
          134.3,
          133.8,
          142.1,
          134.1,
          134.5,
          134.1,
          132.9,
          134.6,
          134.6,
          133.9,
          132.7,
          132.5,
          142.8,
          140.4
         ],
         "xaxis": "x66",
         "y": [
          40.6,
          41.7,
          40.0,
          39.4,
          39.0,
          39.3,
          34.1,
          39.2,
          39.4,
          39.5,
          39.0,
          40.9,
          40.1,
          40.5,
          41.8,
          40.1,
          41.5,
          41.9,
          37.1,
          41.7,
          41.5,
          41.7,
          42.6,
          41.3,
          41.4,
          41.8,
          42.7,
          42.8,
          36.8,
          38.0
         ],
         "yaxis": "y66"
        },
        {
         "marker": {
          "color": "rgb(31, 119, 180)"
         },
         "showlegend": false,
         "type": "histogram",
         "x": [
          40.6,
          41.7,
          40.0,
          39.4,
          39.0,
          39.3,
          34.1,
          39.2,
          39.4,
          39.5,
          39.0,
          40.9,
          40.1,
          40.5,
          41.8,
          40.1,
          41.5,
          41.9,
          37.1,
          41.7,
          41.5,
          41.7,
          42.6,
          41.3,
          41.4,
          41.8,
          42.7,
          42.8,
          36.8,
          38.0
         ],
         "xaxis": "x67",
         "yaxis": "y67"
        },
        {
         "marker": {
          "color": [
           11.4,
           24.4,
           29.3,
           28.5,
           29.2,
           28.5,
           31.3,
           29.9,
           30.5,
           31.0,
           29.2,
           35.3,
           32.9,
           34.3,
           34.8,
           36.0,
           36.9,
           40.2,
           41.3,
           24.4,
           24.3,
           25.2,
           27.1,
           30.8,
           29.6,
           29.3,
           31.6,
           34.6,
           29.8,
           73.3
          ],
          "colorscale": [
           [
            0.0,
            "rgb(31, 119, 180)"
           ],
           [
            0.1111111111111111,
            "rgb(255, 127, 14)"
           ],
           [
            0.2222222222222222,
            "rgb(44, 160, 44)"
           ],
           [
            0.3333333333333333,
            "rgb(214, 39, 40)"
           ],
           [
            0.4444444444444444,
            "rgb(148, 103, 189)"
           ],
           [
            0.5555555555555556,
            "rgb(140, 86, 75)"
           ],
           [
            0.6666666666666666,
            "rgb(227, 119, 194)"
           ],
           [
            0.7777777777777777,
            "rgb(127, 127, 127)"
           ],
           [
            0.8888888888888888,
            "rgb(188, 189, 34)"
           ],
           [
            1.0,
            "rgb(23, 190, 207)"
           ]
          ],
          "showscale": false,
          "size": 6
         },
         "mode": "markers",
         "showlegend": false,
         "type": "scatter",
         "x": [
          33.0,
          6.0,
          1.0,
          0.0,
          0.0,
          0.0,
          0.0,
          -1.7,
          -2.97,
          -4.0,
          0.0,
          -11.2,
          -6.75,
          -9.1,
          -11.6,
          -11.8,
          -12.6,
          -16.6,
          -17.0,
          6.0,
          6.5,
          5.0,
          0.0,
          -2.0,
          -3.0,
          -2.0,
          -5.62,
          -10.7,
          0.0,
          -54.4
         ],
         "xaxis": "x68",
         "y": [
          40.6,
          41.7,
          40.0,
          39.4,
          39.0,
          39.3,
          34.1,
          39.2,
          39.4,
          39.5,
          39.0,
          40.9,
          40.1,
          40.5,
          41.8,
          40.1,
          41.5,
          41.9,
          37.1,
          41.7,
          41.5,
          41.7,
          42.6,
          41.3,
          41.4,
          41.8,
          42.7,
          42.8,
          36.8,
          38.0
         ],
         "yaxis": "y68"
        },
        {
         "marker": {
          "color": [
           11.4,
           24.4,
           29.3,
           28.5,
           29.2,
           28.5,
           31.3,
           29.9,
           30.5,
           31.0,
           29.2,
           35.3,
           32.9,
           34.3,
           34.8,
           36.0,
           36.9,
           40.2,
           41.3,
           24.4,
           24.3,
           25.2,
           27.1,
           30.8,
           29.6,
           29.3,
           31.6,
           34.6,
           29.8,
           73.3
          ],
          "colorscale": [
           [
            0.0,
            "rgb(31, 119, 180)"
           ],
           [
            0.1111111111111111,
            "rgb(255, 127, 14)"
           ],
           [
            0.2222222222222222,
            "rgb(44, 160, 44)"
           ],
           [
            0.3333333333333333,
            "rgb(214, 39, 40)"
           ],
           [
            0.4444444444444444,
            "rgb(148, 103, 189)"
           ],
           [
            0.5555555555555556,
            "rgb(140, 86, 75)"
           ],
           [
            0.6666666666666666,
            "rgb(227, 119, 194)"
           ],
           [
            0.7777777777777777,
            "rgb(127, 127, 127)"
           ],
           [
            0.8888888888888888,
            "rgb(188, 189, 34)"
           ],
           [
            1.0,
            "rgb(23, 190, 207)"
           ]
          ],
          "showscale": false,
          "size": 6
         },
         "mode": "markers",
         "showlegend": false,
         "type": "scatter",
         "x": [
          20.0,
          8.0,
          8.59,
          7.0,
          7.0,
          6.8,
          16.6,
          6.5,
          6.43,
          5.0,
          6.0,
          1.29,
          10.8,
          3.5,
          0.0,
          0.0,
          0.0,
          0.0,
          2.0,
          8.0,
          8.5,
          7.7,
          6.0,
          4.0,
          4.4,
          3.8,
          3.0,
          0.0,
          10.2,
          -11.3
         ],
         "xaxis": "x69",
         "y": [
          40.6,
          41.7,
          40.0,
          39.4,
          39.0,
          39.3,
          34.1,
          39.2,
          39.4,
          39.5,
          39.0,
          40.9,
          40.1,
          40.5,
          41.8,
          40.1,
          41.5,
          41.9,
          37.1,
          41.7,
          41.5,
          41.7,
          42.6,
          41.3,
          41.4,
          41.8,
          42.7,
          42.8,
          36.8,
          38.0
         ],
         "yaxis": "y69"
        },
        {
         "marker": {
          "color": [
           11.4,
           24.4,
           29.3,
           28.5,
           29.2,
           28.5,
           31.3,
           29.9,
           30.5,
           31.0,
           29.2,
           35.3,
           32.9,
           34.3,
           34.8,
           36.0,
           36.9,
           40.2,
           41.3,
           24.4,
           24.3,
           25.2,
           27.1,
           30.8,
           29.6,
           29.3,
           31.6,
           34.6,
           29.8,
           73.3
          ],
          "colorscale": [
           [
            0.0,
            "rgb(31, 119, 180)"
           ],
           [
            0.1111111111111111,
            "rgb(255, 127, 14)"
           ],
           [
            0.2222222222222222,
            "rgb(44, 160, 44)"
           ],
           [
            0.3333333333333333,
            "rgb(214, 39, 40)"
           ],
           [
            0.4444444444444444,
            "rgb(148, 103, 189)"
           ],
           [
            0.5555555555555556,
            "rgb(140, 86, 75)"
           ],
           [
            0.6666666666666666,
            "rgb(227, 119, 194)"
           ],
           [
            0.7777777777777777,
            "rgb(127, 127, 127)"
           ],
           [
            0.8888888888888888,
            "rgb(188, 189, 34)"
           ],
           [
            1.0,
            "rgb(23, 190, 207)"
           ]
          ],
          "showscale": false,
          "size": 6
         },
         "mode": "markers",
         "showlegend": false,
         "type": "scatter",
         "x": [
          38.59,
          10.0,
          8.65,
          7.0,
          7.0,
          6.8,
          16.6,
          6.72,
          7.08,
          6.4,
          6.0,
          11.27,
          12.74,
          9.75,
          11.6,
          11.8,
          12.6,
          16.6,
          17.12,
          10.0,
          10.7,
          9.18,
          6.0,
          4.47,
          5.33,
          4.29,
          6.37,
          10.7,
          10.2,
          55.56
         ],
         "xaxis": "x70",
         "y": [
          40.6,
          41.7,
          40.0,
          39.4,
          39.0,
          39.3,
          34.1,
          39.2,
          39.4,
          39.5,
          39.0,
          40.9,
          40.1,
          40.5,
          41.8,
          40.1,
          41.5,
          41.9,
          37.1,
          41.7,
          41.5,
          41.7,
          42.6,
          41.3,
          41.4,
          41.8,
          42.7,
          42.8,
          36.8,
          38.0
         ],
         "yaxis": "y70"
        },
        {
         "marker": {
          "color": [
           11.4,
           24.4,
           29.3,
           28.5,
           29.2,
           28.5,
           31.3,
           29.9,
           30.5,
           31.0,
           29.2,
           35.3,
           32.9,
           34.3,
           34.8,
           36.0,
           36.9,
           40.2,
           41.3,
           24.4,
           24.3,
           25.2,
           27.1,
           30.8,
           29.6,
           29.3,
           31.6,
           34.6,
           29.8,
           73.3
          ],
          "colorscale": [
           [
            0.0,
            "rgb(31, 119, 180)"
           ],
           [
            0.1111111111111111,
            "rgb(255, 127, 14)"
           ],
           [
            0.2222222222222222,
            "rgb(44, 160, 44)"
           ],
           [
            0.3333333333333333,
            "rgb(214, 39, 40)"
           ],
           [
            0.4444444444444444,
            "rgb(148, 103, 189)"
           ],
           [
            0.5555555555555556,
            "rgb(140, 86, 75)"
           ],
           [
            0.6666666666666666,
            "rgb(227, 119, 194)"
           ],
           [
            0.7777777777777777,
            "rgb(127, 127, 127)"
           ],
           [
            0.8888888888888888,
            "rgb(188, 189, 34)"
           ],
           [
            1.0,
            "rgb(23, 190, 207)"
           ]
          ],
          "showscale": false,
          "size": 6
         },
         "mode": "markers",
         "showlegend": false,
         "type": "scatter",
         "x": [
          27.1,
          25.5,
          22.0,
          21.5,
          22.0,
          21.5,
          14.0,
          21.0,
          21.0,
          21.0,
          21.0,
          21.0,
          21.0,
          21.0,
          22.0,
          20.0,
          21.0,
          20.0,
          15.5,
          25.5,
          25.2,
          25.2,
          25.5,
          23.0,
          23.4,
          24.0,
          24.0,
          23.0,
          18.2,
          5.7
         ],
         "xaxis": "x71",
         "y": [
          33.0,
          6.0,
          1.0,
          0.0,
          0.0,
          0.0,
          0.0,
          -1.7,
          -2.97,
          -4.0,
          0.0,
          -11.2,
          -6.75,
          -9.1,
          -11.6,
          -11.8,
          -12.6,
          -16.6,
          -17.0,
          6.0,
          6.5,
          5.0,
          0.0,
          -2.0,
          -3.0,
          -2.0,
          -5.62,
          -10.7,
          0.0,
          -54.4
         ],
         "yaxis": "y71"
        },
        {
         "marker": {
          "color": [
           11.4,
           24.4,
           29.3,
           28.5,
           29.2,
           28.5,
           31.3,
           29.9,
           30.5,
           31.0,
           29.2,
           35.3,
           32.9,
           34.3,
           34.8,
           36.0,
           36.9,
           40.2,
           41.3,
           24.4,
           24.3,
           25.2,
           27.1,
           30.8,
           29.6,
           29.3,
           31.6,
           34.6,
           29.8,
           73.3
          ],
          "colorscale": [
           [
            0.0,
            "rgb(31, 119, 180)"
           ],
           [
            0.1111111111111111,
            "rgb(255, 127, 14)"
           ],
           [
            0.2222222222222222,
            "rgb(44, 160, 44)"
           ],
           [
            0.3333333333333333,
            "rgb(214, 39, 40)"
           ],
           [
            0.4444444444444444,
            "rgb(148, 103, 189)"
           ],
           [
            0.5555555555555556,
            "rgb(140, 86, 75)"
           ],
           [
            0.6666666666666666,
            "rgb(227, 119, 194)"
           ],
           [
            0.7777777777777777,
            "rgb(127, 127, 127)"
           ],
           [
            0.8888888888888888,
            "rgb(188, 189, 34)"
           ],
           [
            1.0,
            "rgb(23, 190, 207)"
           ]
          ],
          "showscale": false,
          "size": 6
         },
         "mode": "markers",
         "showlegend": false,
         "type": "scatter",
         "x": [
          -8.2,
          -17.3,
          -17.3,
          -16.5,
          -16.0,
          -16.0,
          -10.0,
          -16.5,
          -17.0,
          -17.3,
          -16.0,
          -20.9,
          -18.9,
          -20.0,
          -22.0,
          -20.0,
          -22.4,
          -24.0,
          -17.2,
          -17.3,
          -16.9,
          -17.7,
          -19.8,
          -19.8,
          -19.3,
          -19.8,
          -22.0,
          -23.4,
          -13.3,
          -23.4
         ],
         "xaxis": "x72",
         "y": [
          33.0,
          6.0,
          1.0,
          0.0,
          0.0,
          0.0,
          0.0,
          -1.7,
          -2.97,
          -4.0,
          0.0,
          -11.2,
          -6.75,
          -9.1,
          -11.6,
          -11.8,
          -12.6,
          -16.6,
          -17.0,
          6.0,
          6.5,
          5.0,
          0.0,
          -2.0,
          -3.0,
          -2.0,
          -5.62,
          -10.7,
          0.0,
          -54.4
         ],
         "yaxis": "y72"
        },
        {
         "marker": {
          "color": [
           11.4,
           24.4,
           29.3,
           28.5,
           29.2,
           28.5,
           31.3,
           29.9,
           30.5,
           31.0,
           29.2,
           35.3,
           32.9,
           34.3,
           34.8,
           36.0,
           36.9,
           40.2,
           41.3,
           24.4,
           24.3,
           25.2,
           27.1,
           30.8,
           29.6,
           29.3,
           31.6,
           34.6,
           29.8,
           73.3
          ],
          "colorscale": [
           [
            0.0,
            "rgb(31, 119, 180)"
           ],
           [
            0.1111111111111111,
            "rgb(255, 127, 14)"
           ],
           [
            0.2222222222222222,
            "rgb(44, 160, 44)"
           ],
           [
            0.3333333333333333,
            "rgb(214, 39, 40)"
           ],
           [
            0.4444444444444444,
            "rgb(148, 103, 189)"
           ],
           [
            0.5555555555555556,
            "rgb(140, 86, 75)"
           ],
           [
            0.6666666666666666,
            "rgb(227, 119, 194)"
           ],
           [
            0.7777777777777777,
            "rgb(127, 127, 127)"
           ],
           [
            0.8888888888888888,
            "rgb(188, 189, 34)"
           ],
           [
            1.0,
            "rgb(23, 190, 207)"
           ]
          ],
          "showscale": false,
          "size": 6
         },
         "mode": "markers",
         "showlegend": false,
         "type": "scatter",
         "x": [
          -29.7,
          -29.7,
          -29.7,
          -29.7,
          -29.7,
          -29.7,
          -29.7,
          -29.7,
          -29.7,
          -29.7,
          -29.7,
          -29.7,
          -29.7,
          -29.7,
          -29.7,
          -29.7,
          -29.7,
          -29.7,
          -29.7,
          -29.7,
          -29.7,
          -29.7,
          -29.7,
          -29.7,
          -29.7,
          -29.7,
          -29.7,
          -29.7,
          -29.7,
          -29.7
         ],
         "xaxis": "x73",
         "y": [
          33.0,
          6.0,
          1.0,
          0.0,
          0.0,
          0.0,
          0.0,
          -1.7,
          -2.97,
          -4.0,
          0.0,
          -11.2,
          -6.75,
          -9.1,
          -11.6,
          -11.8,
          -12.6,
          -16.6,
          -17.0,
          6.0,
          6.5,
          5.0,
          0.0,
          -2.0,
          -3.0,
          -2.0,
          -5.62,
          -10.7,
          0.0,
          -54.4
         ],
         "yaxis": "y73"
        },
        {
         "marker": {
          "color": [
           11.4,
           24.4,
           29.3,
           28.5,
           29.2,
           28.5,
           31.3,
           29.9,
           30.5,
           31.0,
           29.2,
           35.3,
           32.9,
           34.3,
           34.8,
           36.0,
           36.9,
           40.2,
           41.3,
           24.4,
           24.3,
           25.2,
           27.1,
           30.8,
           29.6,
           29.3,
           31.6,
           34.6,
           29.8,
           73.3
          ],
          "colorscale": [
           [
            0.0,
            "rgb(31, 119, 180)"
           ],
           [
            0.1111111111111111,
            "rgb(255, 127, 14)"
           ],
           [
            0.2222222222222222,
            "rgb(44, 160, 44)"
           ],
           [
            0.3333333333333333,
            "rgb(214, 39, 40)"
           ],
           [
            0.4444444444444444,
            "rgb(148, 103, 189)"
           ],
           [
            0.5555555555555556,
            "rgb(140, 86, 75)"
           ],
           [
            0.6666666666666666,
            "rgb(227, 119, 194)"
           ],
           [
            0.7777777777777777,
            "rgb(127, 127, 127)"
           ],
           [
            0.8888888888888888,
            "rgb(188, 189, 34)"
           ],
           [
            1.0,
            "rgb(23, 190, 207)"
           ]
          ],
          "showscale": false,
          "size": 6
         },
         "mode": "markers",
         "showlegend": false,
         "type": "scatter",
         "x": [
          28.0,
          29.7,
          27.0,
          26.2,
          25.6,
          26.0,
          17.0,
          25.9,
          26.1,
          26.3,
          25.6,
          28.4,
          27.2,
          27.9,
          29.7,
          27.2,
          29.4,
          29.9,
          22.6,
          29.7,
          29.3,
          29.6,
          30.9,
          29.1,
          29.1,
          29.8,
          31.0,
          31.2,
          22.0,
          23.9
         ],
         "xaxis": "x74",
         "y": [
          33.0,
          6.0,
          1.0,
          0.0,
          0.0,
          0.0,
          0.0,
          -1.7,
          -2.97,
          -4.0,
          0.0,
          -11.2,
          -6.75,
          -9.1,
          -11.6,
          -11.8,
          -12.6,
          -16.6,
          -17.0,
          6.0,
          6.5,
          5.0,
          0.0,
          -2.0,
          -3.0,
          -2.0,
          -5.62,
          -10.7,
          0.0,
          -54.4
         ],
         "yaxis": "y74"
        },
        {
         "marker": {
          "color": [
           11.4,
           24.4,
           29.3,
           28.5,
           29.2,
           28.5,
           31.3,
           29.9,
           30.5,
           31.0,
           29.2,
           35.3,
           32.9,
           34.3,
           34.8,
           36.0,
           36.9,
           40.2,
           41.3,
           24.4,
           24.3,
           25.2,
           27.1,
           30.8,
           29.6,
           29.3,
           31.6,
           34.6,
           29.8,
           73.3
          ],
          "colorscale": [
           [
            0.0,
            "rgb(31, 119, 180)"
           ],
           [
            0.1111111111111111,
            "rgb(255, 127, 14)"
           ],
           [
            0.2222222222222222,
            "rgb(44, 160, 44)"
           ],
           [
            0.3333333333333333,
            "rgb(214, 39, 40)"
           ],
           [
            0.4444444444444444,
            "rgb(148, 103, 189)"
           ],
           [
            0.5555555555555556,
            "rgb(140, 86, 75)"
           ],
           [
            0.6666666666666666,
            "rgb(227, 119, 194)"
           ],
           [
            0.7777777777777777,
            "rgb(127, 127, 127)"
           ],
           [
            0.8888888888888888,
            "rgb(188, 189, 34)"
           ],
           [
            1.0,
            "rgb(23, 190, 207)"
           ]
          ],
          "showscale": false,
          "size": 6
         },
         "mode": "markers",
         "showlegend": false,
         "type": "scatter",
         "x": [
          -15.7,
          -33.1,
          -37.6,
          -36.9,
          -36.8,
          -36.1,
          -35.3,
          -37.7,
          -38.5,
          -39.1,
          -36.8,
          -44.9,
          -41.7,
          -43.5,
          -45.0,
          -45.0,
          -47.0,
          -50.7,
          -48.1,
          -33.1,
          -32.8,
          -34.1,
          -37.0,
          -40.3,
          -39.0,
          -39.0,
          -42.2,
          -45.6,
          -35.7,
          -77.0
         ],
         "xaxis": "x75",
         "y": [
          33.0,
          6.0,
          1.0,
          0.0,
          0.0,
          0.0,
          0.0,
          -1.7,
          -2.97,
          -4.0,
          0.0,
          -11.2,
          -6.75,
          -9.1,
          -11.6,
          -11.8,
          -12.6,
          -16.6,
          -17.0,
          6.0,
          6.5,
          5.0,
          0.0,
          -2.0,
          -3.0,
          -2.0,
          -5.62,
          -10.7,
          0.0,
          -54.4
         ],
         "yaxis": "y75"
        },
        {
         "marker": {
          "color": [
           11.4,
           24.4,
           29.3,
           28.5,
           29.2,
           28.5,
           31.3,
           29.9,
           30.5,
           31.0,
           29.2,
           35.3,
           32.9,
           34.3,
           34.8,
           36.0,
           36.9,
           40.2,
           41.3,
           24.4,
           24.3,
           25.2,
           27.1,
           30.8,
           29.6,
           29.3,
           31.6,
           34.6,
           29.8,
           73.3
          ],
          "colorscale": [
           [
            0.0,
            "rgb(31, 119, 180)"
           ],
           [
            0.1111111111111111,
            "rgb(255, 127, 14)"
           ],
           [
            0.2222222222222222,
            "rgb(44, 160, 44)"
           ],
           [
            0.3333333333333333,
            "rgb(214, 39, 40)"
           ],
           [
            0.4444444444444444,
            "rgb(148, 103, 189)"
           ],
           [
            0.5555555555555556,
            "rgb(140, 86, 75)"
           ],
           [
            0.6666666666666666,
            "rgb(227, 119, 194)"
           ],
           [
            0.7777777777777777,
            "rgb(127, 127, 127)"
           ],
           [
            0.8888888888888888,
            "rgb(188, 189, 34)"
           ],
           [
            1.0,
            "rgb(23, 190, 207)"
           ]
          ],
          "showscale": false,
          "size": 6
         },
         "mode": "markers",
         "showlegend": false,
         "type": "scatter",
         "x": [
          135.8,
          134.1,
          136.8,
          137.7,
          138.4,
          138.0,
          149.0,
          138.1,
          137.8,
          137.6,
          138.4,
          135.3,
          136.6,
          135.9,
          134.0,
          136.6,
          134.3,
          133.8,
          142.1,
          134.1,
          134.5,
          134.1,
          132.9,
          134.6,
          134.6,
          133.9,
          132.7,
          132.5,
          142.8,
          140.4
         ],
         "xaxis": "x76",
         "y": [
          33.0,
          6.0,
          1.0,
          0.0,
          0.0,
          0.0,
          0.0,
          -1.7,
          -2.97,
          -4.0,
          0.0,
          -11.2,
          -6.75,
          -9.1,
          -11.6,
          -11.8,
          -12.6,
          -16.6,
          -17.0,
          6.0,
          6.5,
          5.0,
          0.0,
          -2.0,
          -3.0,
          -2.0,
          -5.62,
          -10.7,
          0.0,
          -54.4
         ],
         "yaxis": "y76"
        },
        {
         "marker": {
          "color": [
           11.4,
           24.4,
           29.3,
           28.5,
           29.2,
           28.5,
           31.3,
           29.9,
           30.5,
           31.0,
           29.2,
           35.3,
           32.9,
           34.3,
           34.8,
           36.0,
           36.9,
           40.2,
           41.3,
           24.4,
           24.3,
           25.2,
           27.1,
           30.8,
           29.6,
           29.3,
           31.6,
           34.6,
           29.8,
           73.3
          ],
          "colorscale": [
           [
            0.0,
            "rgb(31, 119, 180)"
           ],
           [
            0.1111111111111111,
            "rgb(255, 127, 14)"
           ],
           [
            0.2222222222222222,
            "rgb(44, 160, 44)"
           ],
           [
            0.3333333333333333,
            "rgb(214, 39, 40)"
           ],
           [
            0.4444444444444444,
            "rgb(148, 103, 189)"
           ],
           [
            0.5555555555555556,
            "rgb(140, 86, 75)"
           ],
           [
            0.6666666666666666,
            "rgb(227, 119, 194)"
           ],
           [
            0.7777777777777777,
            "rgb(127, 127, 127)"
           ],
           [
            0.8888888888888888,
            "rgb(188, 189, 34)"
           ],
           [
            1.0,
            "rgb(23, 190, 207)"
           ]
          ],
          "showscale": false,
          "size": 6
         },
         "mode": "markers",
         "showlegend": false,
         "type": "scatter",
         "x": [
          40.6,
          41.7,
          40.0,
          39.4,
          39.0,
          39.3,
          34.1,
          39.2,
          39.4,
          39.5,
          39.0,
          40.9,
          40.1,
          40.5,
          41.8,
          40.1,
          41.5,
          41.9,
          37.1,
          41.7,
          41.5,
          41.7,
          42.6,
          41.3,
          41.4,
          41.8,
          42.7,
          42.8,
          36.8,
          38.0
         ],
         "xaxis": "x77",
         "y": [
          33.0,
          6.0,
          1.0,
          0.0,
          0.0,
          0.0,
          0.0,
          -1.7,
          -2.97,
          -4.0,
          0.0,
          -11.2,
          -6.75,
          -9.1,
          -11.6,
          -11.8,
          -12.6,
          -16.6,
          -17.0,
          6.0,
          6.5,
          5.0,
          0.0,
          -2.0,
          -3.0,
          -2.0,
          -5.62,
          -10.7,
          0.0,
          -54.4
         ],
         "yaxis": "y77"
        },
        {
         "marker": {
          "color": "rgb(31, 119, 180)"
         },
         "showlegend": false,
         "type": "histogram",
         "x": [
          33.0,
          6.0,
          1.0,
          0.0,
          0.0,
          0.0,
          0.0,
          -1.7,
          -2.97,
          -4.0,
          0.0,
          -11.2,
          -6.75,
          -9.1,
          -11.6,
          -11.8,
          -12.6,
          -16.6,
          -17.0,
          6.0,
          6.5,
          5.0,
          0.0,
          -2.0,
          -3.0,
          -2.0,
          -5.62,
          -10.7,
          0.0,
          -54.4
         ],
         "xaxis": "x78",
         "yaxis": "y78"
        },
        {
         "marker": {
          "color": [
           11.4,
           24.4,
           29.3,
           28.5,
           29.2,
           28.5,
           31.3,
           29.9,
           30.5,
           31.0,
           29.2,
           35.3,
           32.9,
           34.3,
           34.8,
           36.0,
           36.9,
           40.2,
           41.3,
           24.4,
           24.3,
           25.2,
           27.1,
           30.8,
           29.6,
           29.3,
           31.6,
           34.6,
           29.8,
           73.3
          ],
          "colorscale": [
           [
            0.0,
            "rgb(31, 119, 180)"
           ],
           [
            0.1111111111111111,
            "rgb(255, 127, 14)"
           ],
           [
            0.2222222222222222,
            "rgb(44, 160, 44)"
           ],
           [
            0.3333333333333333,
            "rgb(214, 39, 40)"
           ],
           [
            0.4444444444444444,
            "rgb(148, 103, 189)"
           ],
           [
            0.5555555555555556,
            "rgb(140, 86, 75)"
           ],
           [
            0.6666666666666666,
            "rgb(227, 119, 194)"
           ],
           [
            0.7777777777777777,
            "rgb(127, 127, 127)"
           ],
           [
            0.8888888888888888,
            "rgb(188, 189, 34)"
           ],
           [
            1.0,
            "rgb(23, 190, 207)"
           ]
          ],
          "showscale": false,
          "size": 6
         },
         "mode": "markers",
         "showlegend": false,
         "type": "scatter",
         "x": [
          20.0,
          8.0,
          8.59,
          7.0,
          7.0,
          6.8,
          16.6,
          6.5,
          6.43,
          5.0,
          6.0,
          1.29,
          10.8,
          3.5,
          0.0,
          0.0,
          0.0,
          0.0,
          2.0,
          8.0,
          8.5,
          7.7,
          6.0,
          4.0,
          4.4,
          3.8,
          3.0,
          0.0,
          10.2,
          -11.3
         ],
         "xaxis": "x79",
         "y": [
          33.0,
          6.0,
          1.0,
          0.0,
          0.0,
          0.0,
          0.0,
          -1.7,
          -2.97,
          -4.0,
          0.0,
          -11.2,
          -6.75,
          -9.1,
          -11.6,
          -11.8,
          -12.6,
          -16.6,
          -17.0,
          6.0,
          6.5,
          5.0,
          0.0,
          -2.0,
          -3.0,
          -2.0,
          -5.62,
          -10.7,
          0.0,
          -54.4
         ],
         "yaxis": "y79"
        },
        {
         "marker": {
          "color": [
           11.4,
           24.4,
           29.3,
           28.5,
           29.2,
           28.5,
           31.3,
           29.9,
           30.5,
           31.0,
           29.2,
           35.3,
           32.9,
           34.3,
           34.8,
           36.0,
           36.9,
           40.2,
           41.3,
           24.4,
           24.3,
           25.2,
           27.1,
           30.8,
           29.6,
           29.3,
           31.6,
           34.6,
           29.8,
           73.3
          ],
          "colorscale": [
           [
            0.0,
            "rgb(31, 119, 180)"
           ],
           [
            0.1111111111111111,
            "rgb(255, 127, 14)"
           ],
           [
            0.2222222222222222,
            "rgb(44, 160, 44)"
           ],
           [
            0.3333333333333333,
            "rgb(214, 39, 40)"
           ],
           [
            0.4444444444444444,
            "rgb(148, 103, 189)"
           ],
           [
            0.5555555555555556,
            "rgb(140, 86, 75)"
           ],
           [
            0.6666666666666666,
            "rgb(227, 119, 194)"
           ],
           [
            0.7777777777777777,
            "rgb(127, 127, 127)"
           ],
           [
            0.8888888888888888,
            "rgb(188, 189, 34)"
           ],
           [
            1.0,
            "rgb(23, 190, 207)"
           ]
          ],
          "showscale": false,
          "size": 6
         },
         "mode": "markers",
         "showlegend": false,
         "type": "scatter",
         "x": [
          38.59,
          10.0,
          8.65,
          7.0,
          7.0,
          6.8,
          16.6,
          6.72,
          7.08,
          6.4,
          6.0,
          11.27,
          12.74,
          9.75,
          11.6,
          11.8,
          12.6,
          16.6,
          17.12,
          10.0,
          10.7,
          9.18,
          6.0,
          4.47,
          5.33,
          4.29,
          6.37,
          10.7,
          10.2,
          55.56
         ],
         "xaxis": "x80",
         "y": [
          33.0,
          6.0,
          1.0,
          0.0,
          0.0,
          0.0,
          0.0,
          -1.7,
          -2.97,
          -4.0,
          0.0,
          -11.2,
          -6.75,
          -9.1,
          -11.6,
          -11.8,
          -12.6,
          -16.6,
          -17.0,
          6.0,
          6.5,
          5.0,
          0.0,
          -2.0,
          -3.0,
          -2.0,
          -5.62,
          -10.7,
          0.0,
          -54.4
         ],
         "yaxis": "y80"
        },
        {
         "marker": {
          "color": [
           11.4,
           24.4,
           29.3,
           28.5,
           29.2,
           28.5,
           31.3,
           29.9,
           30.5,
           31.0,
           29.2,
           35.3,
           32.9,
           34.3,
           34.8,
           36.0,
           36.9,
           40.2,
           41.3,
           24.4,
           24.3,
           25.2,
           27.1,
           30.8,
           29.6,
           29.3,
           31.6,
           34.6,
           29.8,
           73.3
          ],
          "colorscale": [
           [
            0.0,
            "rgb(31, 119, 180)"
           ],
           [
            0.1111111111111111,
            "rgb(255, 127, 14)"
           ],
           [
            0.2222222222222222,
            "rgb(44, 160, 44)"
           ],
           [
            0.3333333333333333,
            "rgb(214, 39, 40)"
           ],
           [
            0.4444444444444444,
            "rgb(148, 103, 189)"
           ],
           [
            0.5555555555555556,
            "rgb(140, 86, 75)"
           ],
           [
            0.6666666666666666,
            "rgb(227, 119, 194)"
           ],
           [
            0.7777777777777777,
            "rgb(127, 127, 127)"
           ],
           [
            0.8888888888888888,
            "rgb(188, 189, 34)"
           ],
           [
            1.0,
            "rgb(23, 190, 207)"
           ]
          ],
          "showscale": false,
          "size": 6
         },
         "mode": "markers",
         "showlegend": false,
         "type": "scatter",
         "x": [
          27.1,
          25.5,
          22.0,
          21.5,
          22.0,
          21.5,
          14.0,
          21.0,
          21.0,
          21.0,
          21.0,
          21.0,
          21.0,
          21.0,
          22.0,
          20.0,
          21.0,
          20.0,
          15.5,
          25.5,
          25.2,
          25.2,
          25.5,
          23.0,
          23.4,
          24.0,
          24.0,
          23.0,
          18.2,
          5.7
         ],
         "xaxis": "x81",
         "y": [
          20.0,
          8.0,
          8.59,
          7.0,
          7.0,
          6.8,
          16.6,
          6.5,
          6.43,
          5.0,
          6.0,
          1.29,
          10.8,
          3.5,
          0.0,
          0.0,
          0.0,
          0.0,
          2.0,
          8.0,
          8.5,
          7.7,
          6.0,
          4.0,
          4.4,
          3.8,
          3.0,
          0.0,
          10.2,
          -11.3
         ],
         "yaxis": "y81"
        },
        {
         "marker": {
          "color": [
           11.4,
           24.4,
           29.3,
           28.5,
           29.2,
           28.5,
           31.3,
           29.9,
           30.5,
           31.0,
           29.2,
           35.3,
           32.9,
           34.3,
           34.8,
           36.0,
           36.9,
           40.2,
           41.3,
           24.4,
           24.3,
           25.2,
           27.1,
           30.8,
           29.6,
           29.3,
           31.6,
           34.6,
           29.8,
           73.3
          ],
          "colorscale": [
           [
            0.0,
            "rgb(31, 119, 180)"
           ],
           [
            0.1111111111111111,
            "rgb(255, 127, 14)"
           ],
           [
            0.2222222222222222,
            "rgb(44, 160, 44)"
           ],
           [
            0.3333333333333333,
            "rgb(214, 39, 40)"
           ],
           [
            0.4444444444444444,
            "rgb(148, 103, 189)"
           ],
           [
            0.5555555555555556,
            "rgb(140, 86, 75)"
           ],
           [
            0.6666666666666666,
            "rgb(227, 119, 194)"
           ],
           [
            0.7777777777777777,
            "rgb(127, 127, 127)"
           ],
           [
            0.8888888888888888,
            "rgb(188, 189, 34)"
           ],
           [
            1.0,
            "rgb(23, 190, 207)"
           ]
          ],
          "showscale": false,
          "size": 6
         },
         "mode": "markers",
         "showlegend": false,
         "type": "scatter",
         "x": [
          -8.2,
          -17.3,
          -17.3,
          -16.5,
          -16.0,
          -16.0,
          -10.0,
          -16.5,
          -17.0,
          -17.3,
          -16.0,
          -20.9,
          -18.9,
          -20.0,
          -22.0,
          -20.0,
          -22.4,
          -24.0,
          -17.2,
          -17.3,
          -16.9,
          -17.7,
          -19.8,
          -19.8,
          -19.3,
          -19.8,
          -22.0,
          -23.4,
          -13.3,
          -23.4
         ],
         "xaxis": "x82",
         "y": [
          20.0,
          8.0,
          8.59,
          7.0,
          7.0,
          6.8,
          16.6,
          6.5,
          6.43,
          5.0,
          6.0,
          1.29,
          10.8,
          3.5,
          0.0,
          0.0,
          0.0,
          0.0,
          2.0,
          8.0,
          8.5,
          7.7,
          6.0,
          4.0,
          4.4,
          3.8,
          3.0,
          0.0,
          10.2,
          -11.3
         ],
         "yaxis": "y82"
        },
        {
         "marker": {
          "color": [
           11.4,
           24.4,
           29.3,
           28.5,
           29.2,
           28.5,
           31.3,
           29.9,
           30.5,
           31.0,
           29.2,
           35.3,
           32.9,
           34.3,
           34.8,
           36.0,
           36.9,
           40.2,
           41.3,
           24.4,
           24.3,
           25.2,
           27.1,
           30.8,
           29.6,
           29.3,
           31.6,
           34.6,
           29.8,
           73.3
          ],
          "colorscale": [
           [
            0.0,
            "rgb(31, 119, 180)"
           ],
           [
            0.1111111111111111,
            "rgb(255, 127, 14)"
           ],
           [
            0.2222222222222222,
            "rgb(44, 160, 44)"
           ],
           [
            0.3333333333333333,
            "rgb(214, 39, 40)"
           ],
           [
            0.4444444444444444,
            "rgb(148, 103, 189)"
           ],
           [
            0.5555555555555556,
            "rgb(140, 86, 75)"
           ],
           [
            0.6666666666666666,
            "rgb(227, 119, 194)"
           ],
           [
            0.7777777777777777,
            "rgb(127, 127, 127)"
           ],
           [
            0.8888888888888888,
            "rgb(188, 189, 34)"
           ],
           [
            1.0,
            "rgb(23, 190, 207)"
           ]
          ],
          "showscale": false,
          "size": 6
         },
         "mode": "markers",
         "showlegend": false,
         "type": "scatter",
         "x": [
          -29.7,
          -29.7,
          -29.7,
          -29.7,
          -29.7,
          -29.7,
          -29.7,
          -29.7,
          -29.7,
          -29.7,
          -29.7,
          -29.7,
          -29.7,
          -29.7,
          -29.7,
          -29.7,
          -29.7,
          -29.7,
          -29.7,
          -29.7,
          -29.7,
          -29.7,
          -29.7,
          -29.7,
          -29.7,
          -29.7,
          -29.7,
          -29.7,
          -29.7,
          -29.7
         ],
         "xaxis": "x83",
         "y": [
          20.0,
          8.0,
          8.59,
          7.0,
          7.0,
          6.8,
          16.6,
          6.5,
          6.43,
          5.0,
          6.0,
          1.29,
          10.8,
          3.5,
          0.0,
          0.0,
          0.0,
          0.0,
          2.0,
          8.0,
          8.5,
          7.7,
          6.0,
          4.0,
          4.4,
          3.8,
          3.0,
          0.0,
          10.2,
          -11.3
         ],
         "yaxis": "y83"
        },
        {
         "marker": {
          "color": [
           11.4,
           24.4,
           29.3,
           28.5,
           29.2,
           28.5,
           31.3,
           29.9,
           30.5,
           31.0,
           29.2,
           35.3,
           32.9,
           34.3,
           34.8,
           36.0,
           36.9,
           40.2,
           41.3,
           24.4,
           24.3,
           25.2,
           27.1,
           30.8,
           29.6,
           29.3,
           31.6,
           34.6,
           29.8,
           73.3
          ],
          "colorscale": [
           [
            0.0,
            "rgb(31, 119, 180)"
           ],
           [
            0.1111111111111111,
            "rgb(255, 127, 14)"
           ],
           [
            0.2222222222222222,
            "rgb(44, 160, 44)"
           ],
           [
            0.3333333333333333,
            "rgb(214, 39, 40)"
           ],
           [
            0.4444444444444444,
            "rgb(148, 103, 189)"
           ],
           [
            0.5555555555555556,
            "rgb(140, 86, 75)"
           ],
           [
            0.6666666666666666,
            "rgb(227, 119, 194)"
           ],
           [
            0.7777777777777777,
            "rgb(127, 127, 127)"
           ],
           [
            0.8888888888888888,
            "rgb(188, 189, 34)"
           ],
           [
            1.0,
            "rgb(23, 190, 207)"
           ]
          ],
          "showscale": false,
          "size": 6
         },
         "mode": "markers",
         "showlegend": false,
         "type": "scatter",
         "x": [
          28.0,
          29.7,
          27.0,
          26.2,
          25.6,
          26.0,
          17.0,
          25.9,
          26.1,
          26.3,
          25.6,
          28.4,
          27.2,
          27.9,
          29.7,
          27.2,
          29.4,
          29.9,
          22.6,
          29.7,
          29.3,
          29.6,
          30.9,
          29.1,
          29.1,
          29.8,
          31.0,
          31.2,
          22.0,
          23.9
         ],
         "xaxis": "x84",
         "y": [
          20.0,
          8.0,
          8.59,
          7.0,
          7.0,
          6.8,
          16.6,
          6.5,
          6.43,
          5.0,
          6.0,
          1.29,
          10.8,
          3.5,
          0.0,
          0.0,
          0.0,
          0.0,
          2.0,
          8.0,
          8.5,
          7.7,
          6.0,
          4.0,
          4.4,
          3.8,
          3.0,
          0.0,
          10.2,
          -11.3
         ],
         "yaxis": "y84"
        },
        {
         "marker": {
          "color": [
           11.4,
           24.4,
           29.3,
           28.5,
           29.2,
           28.5,
           31.3,
           29.9,
           30.5,
           31.0,
           29.2,
           35.3,
           32.9,
           34.3,
           34.8,
           36.0,
           36.9,
           40.2,
           41.3,
           24.4,
           24.3,
           25.2,
           27.1,
           30.8,
           29.6,
           29.3,
           31.6,
           34.6,
           29.8,
           73.3
          ],
          "colorscale": [
           [
            0.0,
            "rgb(31, 119, 180)"
           ],
           [
            0.1111111111111111,
            "rgb(255, 127, 14)"
           ],
           [
            0.2222222222222222,
            "rgb(44, 160, 44)"
           ],
           [
            0.3333333333333333,
            "rgb(214, 39, 40)"
           ],
           [
            0.4444444444444444,
            "rgb(148, 103, 189)"
           ],
           [
            0.5555555555555556,
            "rgb(140, 86, 75)"
           ],
           [
            0.6666666666666666,
            "rgb(227, 119, 194)"
           ],
           [
            0.7777777777777777,
            "rgb(127, 127, 127)"
           ],
           [
            0.8888888888888888,
            "rgb(188, 189, 34)"
           ],
           [
            1.0,
            "rgb(23, 190, 207)"
           ]
          ],
          "showscale": false,
          "size": 6
         },
         "mode": "markers",
         "showlegend": false,
         "type": "scatter",
         "x": [
          -15.7,
          -33.1,
          -37.6,
          -36.9,
          -36.8,
          -36.1,
          -35.3,
          -37.7,
          -38.5,
          -39.1,
          -36.8,
          -44.9,
          -41.7,
          -43.5,
          -45.0,
          -45.0,
          -47.0,
          -50.7,
          -48.1,
          -33.1,
          -32.8,
          -34.1,
          -37.0,
          -40.3,
          -39.0,
          -39.0,
          -42.2,
          -45.6,
          -35.7,
          -77.0
         ],
         "xaxis": "x85",
         "y": [
          20.0,
          8.0,
          8.59,
          7.0,
          7.0,
          6.8,
          16.6,
          6.5,
          6.43,
          5.0,
          6.0,
          1.29,
          10.8,
          3.5,
          0.0,
          0.0,
          0.0,
          0.0,
          2.0,
          8.0,
          8.5,
          7.7,
          6.0,
          4.0,
          4.4,
          3.8,
          3.0,
          0.0,
          10.2,
          -11.3
         ],
         "yaxis": "y85"
        },
        {
         "marker": {
          "color": [
           11.4,
           24.4,
           29.3,
           28.5,
           29.2,
           28.5,
           31.3,
           29.9,
           30.5,
           31.0,
           29.2,
           35.3,
           32.9,
           34.3,
           34.8,
           36.0,
           36.9,
           40.2,
           41.3,
           24.4,
           24.3,
           25.2,
           27.1,
           30.8,
           29.6,
           29.3,
           31.6,
           34.6,
           29.8,
           73.3
          ],
          "colorscale": [
           [
            0.0,
            "rgb(31, 119, 180)"
           ],
           [
            0.1111111111111111,
            "rgb(255, 127, 14)"
           ],
           [
            0.2222222222222222,
            "rgb(44, 160, 44)"
           ],
           [
            0.3333333333333333,
            "rgb(214, 39, 40)"
           ],
           [
            0.4444444444444444,
            "rgb(148, 103, 189)"
           ],
           [
            0.5555555555555556,
            "rgb(140, 86, 75)"
           ],
           [
            0.6666666666666666,
            "rgb(227, 119, 194)"
           ],
           [
            0.7777777777777777,
            "rgb(127, 127, 127)"
           ],
           [
            0.8888888888888888,
            "rgb(188, 189, 34)"
           ],
           [
            1.0,
            "rgb(23, 190, 207)"
           ]
          ],
          "showscale": false,
          "size": 6
         },
         "mode": "markers",
         "showlegend": false,
         "type": "scatter",
         "x": [
          135.8,
          134.1,
          136.8,
          137.7,
          138.4,
          138.0,
          149.0,
          138.1,
          137.8,
          137.6,
          138.4,
          135.3,
          136.6,
          135.9,
          134.0,
          136.6,
          134.3,
          133.8,
          142.1,
          134.1,
          134.5,
          134.1,
          132.9,
          134.6,
          134.6,
          133.9,
          132.7,
          132.5,
          142.8,
          140.4
         ],
         "xaxis": "x86",
         "y": [
          20.0,
          8.0,
          8.59,
          7.0,
          7.0,
          6.8,
          16.6,
          6.5,
          6.43,
          5.0,
          6.0,
          1.29,
          10.8,
          3.5,
          0.0,
          0.0,
          0.0,
          0.0,
          2.0,
          8.0,
          8.5,
          7.7,
          6.0,
          4.0,
          4.4,
          3.8,
          3.0,
          0.0,
          10.2,
          -11.3
         ],
         "yaxis": "y86"
        },
        {
         "marker": {
          "color": [
           11.4,
           24.4,
           29.3,
           28.5,
           29.2,
           28.5,
           31.3,
           29.9,
           30.5,
           31.0,
           29.2,
           35.3,
           32.9,
           34.3,
           34.8,
           36.0,
           36.9,
           40.2,
           41.3,
           24.4,
           24.3,
           25.2,
           27.1,
           30.8,
           29.6,
           29.3,
           31.6,
           34.6,
           29.8,
           73.3
          ],
          "colorscale": [
           [
            0.0,
            "rgb(31, 119, 180)"
           ],
           [
            0.1111111111111111,
            "rgb(255, 127, 14)"
           ],
           [
            0.2222222222222222,
            "rgb(44, 160, 44)"
           ],
           [
            0.3333333333333333,
            "rgb(214, 39, 40)"
           ],
           [
            0.4444444444444444,
            "rgb(148, 103, 189)"
           ],
           [
            0.5555555555555556,
            "rgb(140, 86, 75)"
           ],
           [
            0.6666666666666666,
            "rgb(227, 119, 194)"
           ],
           [
            0.7777777777777777,
            "rgb(127, 127, 127)"
           ],
           [
            0.8888888888888888,
            "rgb(188, 189, 34)"
           ],
           [
            1.0,
            "rgb(23, 190, 207)"
           ]
          ],
          "showscale": false,
          "size": 6
         },
         "mode": "markers",
         "showlegend": false,
         "type": "scatter",
         "x": [
          40.6,
          41.7,
          40.0,
          39.4,
          39.0,
          39.3,
          34.1,
          39.2,
          39.4,
          39.5,
          39.0,
          40.9,
          40.1,
          40.5,
          41.8,
          40.1,
          41.5,
          41.9,
          37.1,
          41.7,
          41.5,
          41.7,
          42.6,
          41.3,
          41.4,
          41.8,
          42.7,
          42.8,
          36.8,
          38.0
         ],
         "xaxis": "x87",
         "y": [
          20.0,
          8.0,
          8.59,
          7.0,
          7.0,
          6.8,
          16.6,
          6.5,
          6.43,
          5.0,
          6.0,
          1.29,
          10.8,
          3.5,
          0.0,
          0.0,
          0.0,
          0.0,
          2.0,
          8.0,
          8.5,
          7.7,
          6.0,
          4.0,
          4.4,
          3.8,
          3.0,
          0.0,
          10.2,
          -11.3
         ],
         "yaxis": "y87"
        },
        {
         "marker": {
          "color": [
           11.4,
           24.4,
           29.3,
           28.5,
           29.2,
           28.5,
           31.3,
           29.9,
           30.5,
           31.0,
           29.2,
           35.3,
           32.9,
           34.3,
           34.8,
           36.0,
           36.9,
           40.2,
           41.3,
           24.4,
           24.3,
           25.2,
           27.1,
           30.8,
           29.6,
           29.3,
           31.6,
           34.6,
           29.8,
           73.3
          ],
          "colorscale": [
           [
            0.0,
            "rgb(31, 119, 180)"
           ],
           [
            0.1111111111111111,
            "rgb(255, 127, 14)"
           ],
           [
            0.2222222222222222,
            "rgb(44, 160, 44)"
           ],
           [
            0.3333333333333333,
            "rgb(214, 39, 40)"
           ],
           [
            0.4444444444444444,
            "rgb(148, 103, 189)"
           ],
           [
            0.5555555555555556,
            "rgb(140, 86, 75)"
           ],
           [
            0.6666666666666666,
            "rgb(227, 119, 194)"
           ],
           [
            0.7777777777777777,
            "rgb(127, 127, 127)"
           ],
           [
            0.8888888888888888,
            "rgb(188, 189, 34)"
           ],
           [
            1.0,
            "rgb(23, 190, 207)"
           ]
          ],
          "showscale": false,
          "size": 6
         },
         "mode": "markers",
         "showlegend": false,
         "type": "scatter",
         "x": [
          33.0,
          6.0,
          1.0,
          0.0,
          0.0,
          0.0,
          0.0,
          -1.7,
          -2.97,
          -4.0,
          0.0,
          -11.2,
          -6.75,
          -9.1,
          -11.6,
          -11.8,
          -12.6,
          -16.6,
          -17.0,
          6.0,
          6.5,
          5.0,
          0.0,
          -2.0,
          -3.0,
          -2.0,
          -5.62,
          -10.7,
          0.0,
          -54.4
         ],
         "xaxis": "x88",
         "y": [
          20.0,
          8.0,
          8.59,
          7.0,
          7.0,
          6.8,
          16.6,
          6.5,
          6.43,
          5.0,
          6.0,
          1.29,
          10.8,
          3.5,
          0.0,
          0.0,
          0.0,
          0.0,
          2.0,
          8.0,
          8.5,
          7.7,
          6.0,
          4.0,
          4.4,
          3.8,
          3.0,
          0.0,
          10.2,
          -11.3
         ],
         "yaxis": "y88"
        },
        {
         "marker": {
          "color": "rgb(31, 119, 180)"
         },
         "showlegend": false,
         "type": "histogram",
         "x": [
          20.0,
          8.0,
          8.59,
          7.0,
          7.0,
          6.8,
          16.6,
          6.5,
          6.43,
          5.0,
          6.0,
          1.29,
          10.8,
          3.5,
          0.0,
          0.0,
          0.0,
          0.0,
          2.0,
          8.0,
          8.5,
          7.7,
          6.0,
          4.0,
          4.4,
          3.8,
          3.0,
          0.0,
          10.2,
          -11.3
         ],
         "xaxis": "x89",
         "yaxis": "y89"
        },
        {
         "marker": {
          "color": [
           11.4,
           24.4,
           29.3,
           28.5,
           29.2,
           28.5,
           31.3,
           29.9,
           30.5,
           31.0,
           29.2,
           35.3,
           32.9,
           34.3,
           34.8,
           36.0,
           36.9,
           40.2,
           41.3,
           24.4,
           24.3,
           25.2,
           27.1,
           30.8,
           29.6,
           29.3,
           31.6,
           34.6,
           29.8,
           73.3
          ],
          "colorscale": [
           [
            0.0,
            "rgb(31, 119, 180)"
           ],
           [
            0.1111111111111111,
            "rgb(255, 127, 14)"
           ],
           [
            0.2222222222222222,
            "rgb(44, 160, 44)"
           ],
           [
            0.3333333333333333,
            "rgb(214, 39, 40)"
           ],
           [
            0.4444444444444444,
            "rgb(148, 103, 189)"
           ],
           [
            0.5555555555555556,
            "rgb(140, 86, 75)"
           ],
           [
            0.6666666666666666,
            "rgb(227, 119, 194)"
           ],
           [
            0.7777777777777777,
            "rgb(127, 127, 127)"
           ],
           [
            0.8888888888888888,
            "rgb(188, 189, 34)"
           ],
           [
            1.0,
            "rgb(23, 190, 207)"
           ]
          ],
          "showscale": false,
          "size": 6
         },
         "mode": "markers",
         "showlegend": false,
         "type": "scatter",
         "x": [
          38.59,
          10.0,
          8.65,
          7.0,
          7.0,
          6.8,
          16.6,
          6.72,
          7.08,
          6.4,
          6.0,
          11.27,
          12.74,
          9.75,
          11.6,
          11.8,
          12.6,
          16.6,
          17.12,
          10.0,
          10.7,
          9.18,
          6.0,
          4.47,
          5.33,
          4.29,
          6.37,
          10.7,
          10.2,
          55.56
         ],
         "xaxis": "x90",
         "y": [
          20.0,
          8.0,
          8.59,
          7.0,
          7.0,
          6.8,
          16.6,
          6.5,
          6.43,
          5.0,
          6.0,
          1.29,
          10.8,
          3.5,
          0.0,
          0.0,
          0.0,
          0.0,
          2.0,
          8.0,
          8.5,
          7.7,
          6.0,
          4.0,
          4.4,
          3.8,
          3.0,
          0.0,
          10.2,
          -11.3
         ],
         "yaxis": "y90"
        },
        {
         "marker": {
          "color": [
           11.4,
           24.4,
           29.3,
           28.5,
           29.2,
           28.5,
           31.3,
           29.9,
           30.5,
           31.0,
           29.2,
           35.3,
           32.9,
           34.3,
           34.8,
           36.0,
           36.9,
           40.2,
           41.3,
           24.4,
           24.3,
           25.2,
           27.1,
           30.8,
           29.6,
           29.3,
           31.6,
           34.6,
           29.8,
           73.3
          ],
          "colorscale": [
           [
            0.0,
            "rgb(31, 119, 180)"
           ],
           [
            0.1111111111111111,
            "rgb(255, 127, 14)"
           ],
           [
            0.2222222222222222,
            "rgb(44, 160, 44)"
           ],
           [
            0.3333333333333333,
            "rgb(214, 39, 40)"
           ],
           [
            0.4444444444444444,
            "rgb(148, 103, 189)"
           ],
           [
            0.5555555555555556,
            "rgb(140, 86, 75)"
           ],
           [
            0.6666666666666666,
            "rgb(227, 119, 194)"
           ],
           [
            0.7777777777777777,
            "rgb(127, 127, 127)"
           ],
           [
            0.8888888888888888,
            "rgb(188, 189, 34)"
           ],
           [
            1.0,
            "rgb(23, 190, 207)"
           ]
          ],
          "showscale": false,
          "size": 6
         },
         "mode": "markers",
         "showlegend": false,
         "type": "scatter",
         "x": [
          27.1,
          25.5,
          22.0,
          21.5,
          22.0,
          21.5,
          14.0,
          21.0,
          21.0,
          21.0,
          21.0,
          21.0,
          21.0,
          21.0,
          22.0,
          20.0,
          21.0,
          20.0,
          15.5,
          25.5,
          25.2,
          25.2,
          25.5,
          23.0,
          23.4,
          24.0,
          24.0,
          23.0,
          18.2,
          5.7
         ],
         "xaxis": "x91",
         "y": [
          38.59,
          10.0,
          8.65,
          7.0,
          7.0,
          6.8,
          16.6,
          6.72,
          7.08,
          6.4,
          6.0,
          11.27,
          12.74,
          9.75,
          11.6,
          11.8,
          12.6,
          16.6,
          17.12,
          10.0,
          10.7,
          9.18,
          6.0,
          4.47,
          5.33,
          4.29,
          6.37,
          10.7,
          10.2,
          55.56
         ],
         "yaxis": "y91"
        },
        {
         "marker": {
          "color": [
           11.4,
           24.4,
           29.3,
           28.5,
           29.2,
           28.5,
           31.3,
           29.9,
           30.5,
           31.0,
           29.2,
           35.3,
           32.9,
           34.3,
           34.8,
           36.0,
           36.9,
           40.2,
           41.3,
           24.4,
           24.3,
           25.2,
           27.1,
           30.8,
           29.6,
           29.3,
           31.6,
           34.6,
           29.8,
           73.3
          ],
          "colorscale": [
           [
            0.0,
            "rgb(31, 119, 180)"
           ],
           [
            0.1111111111111111,
            "rgb(255, 127, 14)"
           ],
           [
            0.2222222222222222,
            "rgb(44, 160, 44)"
           ],
           [
            0.3333333333333333,
            "rgb(214, 39, 40)"
           ],
           [
            0.4444444444444444,
            "rgb(148, 103, 189)"
           ],
           [
            0.5555555555555556,
            "rgb(140, 86, 75)"
           ],
           [
            0.6666666666666666,
            "rgb(227, 119, 194)"
           ],
           [
            0.7777777777777777,
            "rgb(127, 127, 127)"
           ],
           [
            0.8888888888888888,
            "rgb(188, 189, 34)"
           ],
           [
            1.0,
            "rgb(23, 190, 207)"
           ]
          ],
          "showscale": false,
          "size": 6
         },
         "mode": "markers",
         "showlegend": false,
         "type": "scatter",
         "x": [
          -8.2,
          -17.3,
          -17.3,
          -16.5,
          -16.0,
          -16.0,
          -10.0,
          -16.5,
          -17.0,
          -17.3,
          -16.0,
          -20.9,
          -18.9,
          -20.0,
          -22.0,
          -20.0,
          -22.4,
          -24.0,
          -17.2,
          -17.3,
          -16.9,
          -17.7,
          -19.8,
          -19.8,
          -19.3,
          -19.8,
          -22.0,
          -23.4,
          -13.3,
          -23.4
         ],
         "xaxis": "x92",
         "y": [
          38.59,
          10.0,
          8.65,
          7.0,
          7.0,
          6.8,
          16.6,
          6.72,
          7.08,
          6.4,
          6.0,
          11.27,
          12.74,
          9.75,
          11.6,
          11.8,
          12.6,
          16.6,
          17.12,
          10.0,
          10.7,
          9.18,
          6.0,
          4.47,
          5.33,
          4.29,
          6.37,
          10.7,
          10.2,
          55.56
         ],
         "yaxis": "y92"
        },
        {
         "marker": {
          "color": [
           11.4,
           24.4,
           29.3,
           28.5,
           29.2,
           28.5,
           31.3,
           29.9,
           30.5,
           31.0,
           29.2,
           35.3,
           32.9,
           34.3,
           34.8,
           36.0,
           36.9,
           40.2,
           41.3,
           24.4,
           24.3,
           25.2,
           27.1,
           30.8,
           29.6,
           29.3,
           31.6,
           34.6,
           29.8,
           73.3
          ],
          "colorscale": [
           [
            0.0,
            "rgb(31, 119, 180)"
           ],
           [
            0.1111111111111111,
            "rgb(255, 127, 14)"
           ],
           [
            0.2222222222222222,
            "rgb(44, 160, 44)"
           ],
           [
            0.3333333333333333,
            "rgb(214, 39, 40)"
           ],
           [
            0.4444444444444444,
            "rgb(148, 103, 189)"
           ],
           [
            0.5555555555555556,
            "rgb(140, 86, 75)"
           ],
           [
            0.6666666666666666,
            "rgb(227, 119, 194)"
           ],
           [
            0.7777777777777777,
            "rgb(127, 127, 127)"
           ],
           [
            0.8888888888888888,
            "rgb(188, 189, 34)"
           ],
           [
            1.0,
            "rgb(23, 190, 207)"
           ]
          ],
          "showscale": false,
          "size": 6
         },
         "mode": "markers",
         "showlegend": false,
         "type": "scatter",
         "x": [
          -29.7,
          -29.7,
          -29.7,
          -29.7,
          -29.7,
          -29.7,
          -29.7,
          -29.7,
          -29.7,
          -29.7,
          -29.7,
          -29.7,
          -29.7,
          -29.7,
          -29.7,
          -29.7,
          -29.7,
          -29.7,
          -29.7,
          -29.7,
          -29.7,
          -29.7,
          -29.7,
          -29.7,
          -29.7,
          -29.7,
          -29.7,
          -29.7,
          -29.7,
          -29.7
         ],
         "xaxis": "x93",
         "y": [
          38.59,
          10.0,
          8.65,
          7.0,
          7.0,
          6.8,
          16.6,
          6.72,
          7.08,
          6.4,
          6.0,
          11.27,
          12.74,
          9.75,
          11.6,
          11.8,
          12.6,
          16.6,
          17.12,
          10.0,
          10.7,
          9.18,
          6.0,
          4.47,
          5.33,
          4.29,
          6.37,
          10.7,
          10.2,
          55.56
         ],
         "yaxis": "y93"
        },
        {
         "marker": {
          "color": [
           11.4,
           24.4,
           29.3,
           28.5,
           29.2,
           28.5,
           31.3,
           29.9,
           30.5,
           31.0,
           29.2,
           35.3,
           32.9,
           34.3,
           34.8,
           36.0,
           36.9,
           40.2,
           41.3,
           24.4,
           24.3,
           25.2,
           27.1,
           30.8,
           29.6,
           29.3,
           31.6,
           34.6,
           29.8,
           73.3
          ],
          "colorscale": [
           [
            0.0,
            "rgb(31, 119, 180)"
           ],
           [
            0.1111111111111111,
            "rgb(255, 127, 14)"
           ],
           [
            0.2222222222222222,
            "rgb(44, 160, 44)"
           ],
           [
            0.3333333333333333,
            "rgb(214, 39, 40)"
           ],
           [
            0.4444444444444444,
            "rgb(148, 103, 189)"
           ],
           [
            0.5555555555555556,
            "rgb(140, 86, 75)"
           ],
           [
            0.6666666666666666,
            "rgb(227, 119, 194)"
           ],
           [
            0.7777777777777777,
            "rgb(127, 127, 127)"
           ],
           [
            0.8888888888888888,
            "rgb(188, 189, 34)"
           ],
           [
            1.0,
            "rgb(23, 190, 207)"
           ]
          ],
          "showscale": false,
          "size": 6
         },
         "mode": "markers",
         "showlegend": false,
         "type": "scatter",
         "x": [
          28.0,
          29.7,
          27.0,
          26.2,
          25.6,
          26.0,
          17.0,
          25.9,
          26.1,
          26.3,
          25.6,
          28.4,
          27.2,
          27.9,
          29.7,
          27.2,
          29.4,
          29.9,
          22.6,
          29.7,
          29.3,
          29.6,
          30.9,
          29.1,
          29.1,
          29.8,
          31.0,
          31.2,
          22.0,
          23.9
         ],
         "xaxis": "x94",
         "y": [
          38.59,
          10.0,
          8.65,
          7.0,
          7.0,
          6.8,
          16.6,
          6.72,
          7.08,
          6.4,
          6.0,
          11.27,
          12.74,
          9.75,
          11.6,
          11.8,
          12.6,
          16.6,
          17.12,
          10.0,
          10.7,
          9.18,
          6.0,
          4.47,
          5.33,
          4.29,
          6.37,
          10.7,
          10.2,
          55.56
         ],
         "yaxis": "y94"
        },
        {
         "marker": {
          "color": [
           11.4,
           24.4,
           29.3,
           28.5,
           29.2,
           28.5,
           31.3,
           29.9,
           30.5,
           31.0,
           29.2,
           35.3,
           32.9,
           34.3,
           34.8,
           36.0,
           36.9,
           40.2,
           41.3,
           24.4,
           24.3,
           25.2,
           27.1,
           30.8,
           29.6,
           29.3,
           31.6,
           34.6,
           29.8,
           73.3
          ],
          "colorscale": [
           [
            0.0,
            "rgb(31, 119, 180)"
           ],
           [
            0.1111111111111111,
            "rgb(255, 127, 14)"
           ],
           [
            0.2222222222222222,
            "rgb(44, 160, 44)"
           ],
           [
            0.3333333333333333,
            "rgb(214, 39, 40)"
           ],
           [
            0.4444444444444444,
            "rgb(148, 103, 189)"
           ],
           [
            0.5555555555555556,
            "rgb(140, 86, 75)"
           ],
           [
            0.6666666666666666,
            "rgb(227, 119, 194)"
           ],
           [
            0.7777777777777777,
            "rgb(127, 127, 127)"
           ],
           [
            0.8888888888888888,
            "rgb(188, 189, 34)"
           ],
           [
            1.0,
            "rgb(23, 190, 207)"
           ]
          ],
          "showscale": false,
          "size": 6
         },
         "mode": "markers",
         "showlegend": false,
         "type": "scatter",
         "x": [
          -15.7,
          -33.1,
          -37.6,
          -36.9,
          -36.8,
          -36.1,
          -35.3,
          -37.7,
          -38.5,
          -39.1,
          -36.8,
          -44.9,
          -41.7,
          -43.5,
          -45.0,
          -45.0,
          -47.0,
          -50.7,
          -48.1,
          -33.1,
          -32.8,
          -34.1,
          -37.0,
          -40.3,
          -39.0,
          -39.0,
          -42.2,
          -45.6,
          -35.7,
          -77.0
         ],
         "xaxis": "x95",
         "y": [
          38.59,
          10.0,
          8.65,
          7.0,
          7.0,
          6.8,
          16.6,
          6.72,
          7.08,
          6.4,
          6.0,
          11.27,
          12.74,
          9.75,
          11.6,
          11.8,
          12.6,
          16.6,
          17.12,
          10.0,
          10.7,
          9.18,
          6.0,
          4.47,
          5.33,
          4.29,
          6.37,
          10.7,
          10.2,
          55.56
         ],
         "yaxis": "y95"
        },
        {
         "marker": {
          "color": [
           11.4,
           24.4,
           29.3,
           28.5,
           29.2,
           28.5,
           31.3,
           29.9,
           30.5,
           31.0,
           29.2,
           35.3,
           32.9,
           34.3,
           34.8,
           36.0,
           36.9,
           40.2,
           41.3,
           24.4,
           24.3,
           25.2,
           27.1,
           30.8,
           29.6,
           29.3,
           31.6,
           34.6,
           29.8,
           73.3
          ],
          "colorscale": [
           [
            0.0,
            "rgb(31, 119, 180)"
           ],
           [
            0.1111111111111111,
            "rgb(255, 127, 14)"
           ],
           [
            0.2222222222222222,
            "rgb(44, 160, 44)"
           ],
           [
            0.3333333333333333,
            "rgb(214, 39, 40)"
           ],
           [
            0.4444444444444444,
            "rgb(148, 103, 189)"
           ],
           [
            0.5555555555555556,
            "rgb(140, 86, 75)"
           ],
           [
            0.6666666666666666,
            "rgb(227, 119, 194)"
           ],
           [
            0.7777777777777777,
            "rgb(127, 127, 127)"
           ],
           [
            0.8888888888888888,
            "rgb(188, 189, 34)"
           ],
           [
            1.0,
            "rgb(23, 190, 207)"
           ]
          ],
          "showscale": false,
          "size": 6
         },
         "mode": "markers",
         "showlegend": false,
         "type": "scatter",
         "x": [
          135.8,
          134.1,
          136.8,
          137.7,
          138.4,
          138.0,
          149.0,
          138.1,
          137.8,
          137.6,
          138.4,
          135.3,
          136.6,
          135.9,
          134.0,
          136.6,
          134.3,
          133.8,
          142.1,
          134.1,
          134.5,
          134.1,
          132.9,
          134.6,
          134.6,
          133.9,
          132.7,
          132.5,
          142.8,
          140.4
         ],
         "xaxis": "x96",
         "y": [
          38.59,
          10.0,
          8.65,
          7.0,
          7.0,
          6.8,
          16.6,
          6.72,
          7.08,
          6.4,
          6.0,
          11.27,
          12.74,
          9.75,
          11.6,
          11.8,
          12.6,
          16.6,
          17.12,
          10.0,
          10.7,
          9.18,
          6.0,
          4.47,
          5.33,
          4.29,
          6.37,
          10.7,
          10.2,
          55.56
         ],
         "yaxis": "y96"
        },
        {
         "marker": {
          "color": [
           11.4,
           24.4,
           29.3,
           28.5,
           29.2,
           28.5,
           31.3,
           29.9,
           30.5,
           31.0,
           29.2,
           35.3,
           32.9,
           34.3,
           34.8,
           36.0,
           36.9,
           40.2,
           41.3,
           24.4,
           24.3,
           25.2,
           27.1,
           30.8,
           29.6,
           29.3,
           31.6,
           34.6,
           29.8,
           73.3
          ],
          "colorscale": [
           [
            0.0,
            "rgb(31, 119, 180)"
           ],
           [
            0.1111111111111111,
            "rgb(255, 127, 14)"
           ],
           [
            0.2222222222222222,
            "rgb(44, 160, 44)"
           ],
           [
            0.3333333333333333,
            "rgb(214, 39, 40)"
           ],
           [
            0.4444444444444444,
            "rgb(148, 103, 189)"
           ],
           [
            0.5555555555555556,
            "rgb(140, 86, 75)"
           ],
           [
            0.6666666666666666,
            "rgb(227, 119, 194)"
           ],
           [
            0.7777777777777777,
            "rgb(127, 127, 127)"
           ],
           [
            0.8888888888888888,
            "rgb(188, 189, 34)"
           ],
           [
            1.0,
            "rgb(23, 190, 207)"
           ]
          ],
          "showscale": false,
          "size": 6
         },
         "mode": "markers",
         "showlegend": false,
         "type": "scatter",
         "x": [
          40.6,
          41.7,
          40.0,
          39.4,
          39.0,
          39.3,
          34.1,
          39.2,
          39.4,
          39.5,
          39.0,
          40.9,
          40.1,
          40.5,
          41.8,
          40.1,
          41.5,
          41.9,
          37.1,
          41.7,
          41.5,
          41.7,
          42.6,
          41.3,
          41.4,
          41.8,
          42.7,
          42.8,
          36.8,
          38.0
         ],
         "xaxis": "x97",
         "y": [
          38.59,
          10.0,
          8.65,
          7.0,
          7.0,
          6.8,
          16.6,
          6.72,
          7.08,
          6.4,
          6.0,
          11.27,
          12.74,
          9.75,
          11.6,
          11.8,
          12.6,
          16.6,
          17.12,
          10.0,
          10.7,
          9.18,
          6.0,
          4.47,
          5.33,
          4.29,
          6.37,
          10.7,
          10.2,
          55.56
         ],
         "yaxis": "y97"
        },
        {
         "marker": {
          "color": [
           11.4,
           24.4,
           29.3,
           28.5,
           29.2,
           28.5,
           31.3,
           29.9,
           30.5,
           31.0,
           29.2,
           35.3,
           32.9,
           34.3,
           34.8,
           36.0,
           36.9,
           40.2,
           41.3,
           24.4,
           24.3,
           25.2,
           27.1,
           30.8,
           29.6,
           29.3,
           31.6,
           34.6,
           29.8,
           73.3
          ],
          "colorscale": [
           [
            0.0,
            "rgb(31, 119, 180)"
           ],
           [
            0.1111111111111111,
            "rgb(255, 127, 14)"
           ],
           [
            0.2222222222222222,
            "rgb(44, 160, 44)"
           ],
           [
            0.3333333333333333,
            "rgb(214, 39, 40)"
           ],
           [
            0.4444444444444444,
            "rgb(148, 103, 189)"
           ],
           [
            0.5555555555555556,
            "rgb(140, 86, 75)"
           ],
           [
            0.6666666666666666,
            "rgb(227, 119, 194)"
           ],
           [
            0.7777777777777777,
            "rgb(127, 127, 127)"
           ],
           [
            0.8888888888888888,
            "rgb(188, 189, 34)"
           ],
           [
            1.0,
            "rgb(23, 190, 207)"
           ]
          ],
          "showscale": false,
          "size": 6
         },
         "mode": "markers",
         "showlegend": false,
         "type": "scatter",
         "x": [
          33.0,
          6.0,
          1.0,
          0.0,
          0.0,
          0.0,
          0.0,
          -1.7,
          -2.97,
          -4.0,
          0.0,
          -11.2,
          -6.75,
          -9.1,
          -11.6,
          -11.8,
          -12.6,
          -16.6,
          -17.0,
          6.0,
          6.5,
          5.0,
          0.0,
          -2.0,
          -3.0,
          -2.0,
          -5.62,
          -10.7,
          0.0,
          -54.4
         ],
         "xaxis": "x98",
         "y": [
          38.59,
          10.0,
          8.65,
          7.0,
          7.0,
          6.8,
          16.6,
          6.72,
          7.08,
          6.4,
          6.0,
          11.27,
          12.74,
          9.75,
          11.6,
          11.8,
          12.6,
          16.6,
          17.12,
          10.0,
          10.7,
          9.18,
          6.0,
          4.47,
          5.33,
          4.29,
          6.37,
          10.7,
          10.2,
          55.56
         ],
         "yaxis": "y98"
        },
        {
         "marker": {
          "color": [
           11.4,
           24.4,
           29.3,
           28.5,
           29.2,
           28.5,
           31.3,
           29.9,
           30.5,
           31.0,
           29.2,
           35.3,
           32.9,
           34.3,
           34.8,
           36.0,
           36.9,
           40.2,
           41.3,
           24.4,
           24.3,
           25.2,
           27.1,
           30.8,
           29.6,
           29.3,
           31.6,
           34.6,
           29.8,
           73.3
          ],
          "colorscale": [
           [
            0.0,
            "rgb(31, 119, 180)"
           ],
           [
            0.1111111111111111,
            "rgb(255, 127, 14)"
           ],
           [
            0.2222222222222222,
            "rgb(44, 160, 44)"
           ],
           [
            0.3333333333333333,
            "rgb(214, 39, 40)"
           ],
           [
            0.4444444444444444,
            "rgb(148, 103, 189)"
           ],
           [
            0.5555555555555556,
            "rgb(140, 86, 75)"
           ],
           [
            0.6666666666666666,
            "rgb(227, 119, 194)"
           ],
           [
            0.7777777777777777,
            "rgb(127, 127, 127)"
           ],
           [
            0.8888888888888888,
            "rgb(188, 189, 34)"
           ],
           [
            1.0,
            "rgb(23, 190, 207)"
           ]
          ],
          "showscale": false,
          "size": 6
         },
         "mode": "markers",
         "showlegend": false,
         "type": "scatter",
         "x": [
          20.0,
          8.0,
          8.59,
          7.0,
          7.0,
          6.8,
          16.6,
          6.5,
          6.43,
          5.0,
          6.0,
          1.29,
          10.8,
          3.5,
          0.0,
          0.0,
          0.0,
          0.0,
          2.0,
          8.0,
          8.5,
          7.7,
          6.0,
          4.0,
          4.4,
          3.8,
          3.0,
          0.0,
          10.2,
          -11.3
         ],
         "xaxis": "x99",
         "y": [
          38.59,
          10.0,
          8.65,
          7.0,
          7.0,
          6.8,
          16.6,
          6.72,
          7.08,
          6.4,
          6.0,
          11.27,
          12.74,
          9.75,
          11.6,
          11.8,
          12.6,
          16.6,
          17.12,
          10.0,
          10.7,
          9.18,
          6.0,
          4.47,
          5.33,
          4.29,
          6.37,
          10.7,
          10.2,
          55.56
         ],
         "yaxis": "y99"
        },
        {
         "marker": {
          "color": "rgb(31, 119, 180)"
         },
         "showlegend": false,
         "type": "histogram",
         "x": [
          38.59,
          10.0,
          8.65,
          7.0,
          7.0,
          6.8,
          16.6,
          6.72,
          7.08,
          6.4,
          6.0,
          11.27,
          12.74,
          9.75,
          11.6,
          11.8,
          12.6,
          16.6,
          17.12,
          10.0,
          10.7,
          9.18,
          6.0,
          4.47,
          5.33,
          4.29,
          6.37,
          10.7,
          10.2,
          55.56
         ],
         "xaxis": "x100",
         "yaxis": "y100"
        }
       ],
       "layout": {
        "barmode": "stack",
        "height": 2000,
        "showlegend": true,
        "template": {
         "data": {
          "bar": [
           {
            "error_x": {
             "color": "#2a3f5f"
            },
            "error_y": {
             "color": "#2a3f5f"
            },
            "marker": {
             "line": {
              "color": "#E5ECF6",
              "width": 0.5
             }
            },
            "type": "bar"
           }
          ],
          "barpolar": [
           {
            "marker": {
             "line": {
              "color": "#E5ECF6",
              "width": 0.5
             }
            },
            "type": "barpolar"
           }
          ],
          "carpet": [
           {
            "aaxis": {
             "endlinecolor": "#2a3f5f",
             "gridcolor": "white",
             "linecolor": "white",
             "minorgridcolor": "white",
             "startlinecolor": "#2a3f5f"
            },
            "baxis": {
             "endlinecolor": "#2a3f5f",
             "gridcolor": "white",
             "linecolor": "white",
             "minorgridcolor": "white",
             "startlinecolor": "#2a3f5f"
            },
            "type": "carpet"
           }
          ],
          "choropleth": [
           {
            "colorbar": {
             "outlinewidth": 0,
             "ticks": ""
            },
            "type": "choropleth"
           }
          ],
          "contour": [
           {
            "colorbar": {
             "outlinewidth": 0,
             "ticks": ""
            },
            "colorscale": [
             [
              0.0,
              "#0d0887"
             ],
             [
              0.1111111111111111,
              "#46039f"
             ],
             [
              0.2222222222222222,
              "#7201a8"
             ],
             [
              0.3333333333333333,
              "#9c179e"
             ],
             [
              0.4444444444444444,
              "#bd3786"
             ],
             [
              0.5555555555555556,
              "#d8576b"
             ],
             [
              0.6666666666666666,
              "#ed7953"
             ],
             [
              0.7777777777777778,
              "#fb9f3a"
             ],
             [
              0.8888888888888888,
              "#fdca26"
             ],
             [
              1.0,
              "#f0f921"
             ]
            ],
            "type": "contour"
           }
          ],
          "contourcarpet": [
           {
            "colorbar": {
             "outlinewidth": 0,
             "ticks": ""
            },
            "type": "contourcarpet"
           }
          ],
          "heatmap": [
           {
            "colorbar": {
             "outlinewidth": 0,
             "ticks": ""
            },
            "colorscale": [
             [
              0.0,
              "#0d0887"
             ],
             [
              0.1111111111111111,
              "#46039f"
             ],
             [
              0.2222222222222222,
              "#7201a8"
             ],
             [
              0.3333333333333333,
              "#9c179e"
             ],
             [
              0.4444444444444444,
              "#bd3786"
             ],
             [
              0.5555555555555556,
              "#d8576b"
             ],
             [
              0.6666666666666666,
              "#ed7953"
             ],
             [
              0.7777777777777778,
              "#fb9f3a"
             ],
             [
              0.8888888888888888,
              "#fdca26"
             ],
             [
              1.0,
              "#f0f921"
             ]
            ],
            "type": "heatmap"
           }
          ],
          "heatmapgl": [
           {
            "colorbar": {
             "outlinewidth": 0,
             "ticks": ""
            },
            "colorscale": [
             [
              0.0,
              "#0d0887"
             ],
             [
              0.1111111111111111,
              "#46039f"
             ],
             [
              0.2222222222222222,
              "#7201a8"
             ],
             [
              0.3333333333333333,
              "#9c179e"
             ],
             [
              0.4444444444444444,
              "#bd3786"
             ],
             [
              0.5555555555555556,
              "#d8576b"
             ],
             [
              0.6666666666666666,
              "#ed7953"
             ],
             [
              0.7777777777777778,
              "#fb9f3a"
             ],
             [
              0.8888888888888888,
              "#fdca26"
             ],
             [
              1.0,
              "#f0f921"
             ]
            ],
            "type": "heatmapgl"
           }
          ],
          "histogram": [
           {
            "marker": {
             "colorbar": {
              "outlinewidth": 0,
              "ticks": ""
             }
            },
            "type": "histogram"
           }
          ],
          "histogram2d": [
           {
            "colorbar": {
             "outlinewidth": 0,
             "ticks": ""
            },
            "colorscale": [
             [
              0.0,
              "#0d0887"
             ],
             [
              0.1111111111111111,
              "#46039f"
             ],
             [
              0.2222222222222222,
              "#7201a8"
             ],
             [
              0.3333333333333333,
              "#9c179e"
             ],
             [
              0.4444444444444444,
              "#bd3786"
             ],
             [
              0.5555555555555556,
              "#d8576b"
             ],
             [
              0.6666666666666666,
              "#ed7953"
             ],
             [
              0.7777777777777778,
              "#fb9f3a"
             ],
             [
              0.8888888888888888,
              "#fdca26"
             ],
             [
              1.0,
              "#f0f921"
             ]
            ],
            "type": "histogram2d"
           }
          ],
          "histogram2dcontour": [
           {
            "colorbar": {
             "outlinewidth": 0,
             "ticks": ""
            },
            "colorscale": [
             [
              0.0,
              "#0d0887"
             ],
             [
              0.1111111111111111,
              "#46039f"
             ],
             [
              0.2222222222222222,
              "#7201a8"
             ],
             [
              0.3333333333333333,
              "#9c179e"
             ],
             [
              0.4444444444444444,
              "#bd3786"
             ],
             [
              0.5555555555555556,
              "#d8576b"
             ],
             [
              0.6666666666666666,
              "#ed7953"
             ],
             [
              0.7777777777777778,
              "#fb9f3a"
             ],
             [
              0.8888888888888888,
              "#fdca26"
             ],
             [
              1.0,
              "#f0f921"
             ]
            ],
            "type": "histogram2dcontour"
           }
          ],
          "mesh3d": [
           {
            "colorbar": {
             "outlinewidth": 0,
             "ticks": ""
            },
            "type": "mesh3d"
           }
          ],
          "parcoords": [
           {
            "line": {
             "colorbar": {
              "outlinewidth": 0,
              "ticks": ""
             }
            },
            "type": "parcoords"
           }
          ],
          "pie": [
           {
            "automargin": true,
            "type": "pie"
           }
          ],
          "scatter": [
           {
            "marker": {
             "colorbar": {
              "outlinewidth": 0,
              "ticks": ""
             }
            },
            "type": "scatter"
           }
          ],
          "scatter3d": [
           {
            "line": {
             "colorbar": {
              "outlinewidth": 0,
              "ticks": ""
             }
            },
            "marker": {
             "colorbar": {
              "outlinewidth": 0,
              "ticks": ""
             }
            },
            "type": "scatter3d"
           }
          ],
          "scattercarpet": [
           {
            "marker": {
             "colorbar": {
              "outlinewidth": 0,
              "ticks": ""
             }
            },
            "type": "scattercarpet"
           }
          ],
          "scattergeo": [
           {
            "marker": {
             "colorbar": {
              "outlinewidth": 0,
              "ticks": ""
             }
            },
            "type": "scattergeo"
           }
          ],
          "scattergl": [
           {
            "marker": {
             "colorbar": {
              "outlinewidth": 0,
              "ticks": ""
             }
            },
            "type": "scattergl"
           }
          ],
          "scattermapbox": [
           {
            "marker": {
             "colorbar": {
              "outlinewidth": 0,
              "ticks": ""
             }
            },
            "type": "scattermapbox"
           }
          ],
          "scatterpolar": [
           {
            "marker": {
             "colorbar": {
              "outlinewidth": 0,
              "ticks": ""
             }
            },
            "type": "scatterpolar"
           }
          ],
          "scatterpolargl": [
           {
            "marker": {
             "colorbar": {
              "outlinewidth": 0,
              "ticks": ""
             }
            },
            "type": "scatterpolargl"
           }
          ],
          "scatterternary": [
           {
            "marker": {
             "colorbar": {
              "outlinewidth": 0,
              "ticks": ""
             }
            },
            "type": "scatterternary"
           }
          ],
          "surface": [
           {
            "colorbar": {
             "outlinewidth": 0,
             "ticks": ""
            },
            "colorscale": [
             [
              0.0,
              "#0d0887"
             ],
             [
              0.1111111111111111,
              "#46039f"
             ],
             [
              0.2222222222222222,
              "#7201a8"
             ],
             [
              0.3333333333333333,
              "#9c179e"
             ],
             [
              0.4444444444444444,
              "#bd3786"
             ],
             [
              0.5555555555555556,
              "#d8576b"
             ],
             [
              0.6666666666666666,
              "#ed7953"
             ],
             [
              0.7777777777777778,
              "#fb9f3a"
             ],
             [
              0.8888888888888888,
              "#fdca26"
             ],
             [
              1.0,
              "#f0f921"
             ]
            ],
            "type": "surface"
           }
          ],
          "table": [
           {
            "cells": {
             "fill": {
              "color": "#EBF0F8"
             },
             "line": {
              "color": "white"
             }
            },
            "header": {
             "fill": {
              "color": "#C8D4E3"
             },
             "line": {
              "color": "white"
             }
            },
            "type": "table"
           }
          ]
         },
         "layout": {
          "annotationdefaults": {
           "arrowcolor": "#2a3f5f",
           "arrowhead": 0,
           "arrowwidth": 1
          },
          "coloraxis": {
           "colorbar": {
            "outlinewidth": 0,
            "ticks": ""
           }
          },
          "colorscale": {
           "diverging": [
            [
             0,
             "#8e0152"
            ],
            [
             0.1,
             "#c51b7d"
            ],
            [
             0.2,
             "#de77ae"
            ],
            [
             0.3,
             "#f1b6da"
            ],
            [
             0.4,
             "#fde0ef"
            ],
            [
             0.5,
             "#f7f7f7"
            ],
            [
             0.6,
             "#e6f5d0"
            ],
            [
             0.7,
             "#b8e186"
            ],
            [
             0.8,
             "#7fbc41"
            ],
            [
             0.9,
             "#4d9221"
            ],
            [
             1,
             "#276419"
            ]
           ],
           "sequential": [
            [
             0.0,
             "#0d0887"
            ],
            [
             0.1111111111111111,
             "#46039f"
            ],
            [
             0.2222222222222222,
             "#7201a8"
            ],
            [
             0.3333333333333333,
             "#9c179e"
            ],
            [
             0.4444444444444444,
             "#bd3786"
            ],
            [
             0.5555555555555556,
             "#d8576b"
            ],
            [
             0.6666666666666666,
             "#ed7953"
            ],
            [
             0.7777777777777778,
             "#fb9f3a"
            ],
            [
             0.8888888888888888,
             "#fdca26"
            ],
            [
             1.0,
             "#f0f921"
            ]
           ],
           "sequentialminus": [
            [
             0.0,
             "#0d0887"
            ],
            [
             0.1111111111111111,
             "#46039f"
            ],
            [
             0.2222222222222222,
             "#7201a8"
            ],
            [
             0.3333333333333333,
             "#9c179e"
            ],
            [
             0.4444444444444444,
             "#bd3786"
            ],
            [
             0.5555555555555556,
             "#d8576b"
            ],
            [
             0.6666666666666666,
             "#ed7953"
            ],
            [
             0.7777777777777778,
             "#fb9f3a"
            ],
            [
             0.8888888888888888,
             "#fdca26"
            ],
            [
             1.0,
             "#f0f921"
            ]
           ]
          },
          "colorway": [
           "#636efa",
           "#EF553B",
           "#00cc96",
           "#ab63fa",
           "#FFA15A",
           "#19d3f3",
           "#FF6692",
           "#B6E880",
           "#FF97FF",
           "#FECB52"
          ],
          "font": {
           "color": "#2a3f5f"
          },
          "geo": {
           "bgcolor": "white",
           "lakecolor": "white",
           "landcolor": "#E5ECF6",
           "showlakes": true,
           "showland": true,
           "subunitcolor": "white"
          },
          "hoverlabel": {
           "align": "left"
          },
          "hovermode": "closest",
          "mapbox": {
           "style": "light"
          },
          "paper_bgcolor": "white",
          "plot_bgcolor": "#E5ECF6",
          "polar": {
           "angularaxis": {
            "gridcolor": "white",
            "linecolor": "white",
            "ticks": ""
           },
           "bgcolor": "#E5ECF6",
           "radialaxis": {
            "gridcolor": "white",
            "linecolor": "white",
            "ticks": ""
           }
          },
          "scene": {
           "xaxis": {
            "backgroundcolor": "#E5ECF6",
            "gridcolor": "white",
            "gridwidth": 2,
            "linecolor": "white",
            "showbackground": true,
            "ticks": "",
            "zerolinecolor": "white"
           },
           "yaxis": {
            "backgroundcolor": "#E5ECF6",
            "gridcolor": "white",
            "gridwidth": 2,
            "linecolor": "white",
            "showbackground": true,
            "ticks": "",
            "zerolinecolor": "white"
           },
           "zaxis": {
            "backgroundcolor": "#E5ECF6",
            "gridcolor": "white",
            "gridwidth": 2,
            "linecolor": "white",
            "showbackground": true,
            "ticks": "",
            "zerolinecolor": "white"
           }
          },
          "shapedefaults": {
           "line": {
            "color": "#2a3f5f"
           }
          },
          "ternary": {
           "aaxis": {
            "gridcolor": "white",
            "linecolor": "white",
            "ticks": ""
           },
           "baxis": {
            "gridcolor": "white",
            "linecolor": "white",
            "ticks": ""
           },
           "bgcolor": "#E5ECF6",
           "caxis": {
            "gridcolor": "white",
            "linecolor": "white",
            "ticks": ""
           }
          },
          "title": {
           "x": 0.05
          },
          "xaxis": {
           "automargin": true,
           "gridcolor": "white",
           "linecolor": "white",
           "ticks": "",
           "title": {
            "standoff": 15
           },
           "zerolinecolor": "white",
           "zerolinewidth": 2
          },
          "yaxis": {
           "automargin": true,
           "gridcolor": "white",
           "linecolor": "white",
           "ticks": "",
           "title": {
            "standoff": 15
           },
           "zerolinecolor": "white",
           "zerolinewidth": 2
          }
         }
        },
        "title": {
         "text": "Scatterplot Matrix"
        },
        "width": 2000,
        "xaxis": {
         "anchor": "y",
         "domain": [
          0.0,
          0.082
         ]
        },
        "xaxis10": {
         "anchor": "y10",
         "domain": [
          0.9179999999999999,
          0.9999999999999999
         ]
        },
        "xaxis100": {
         "anchor": "y100",
         "domain": [
          0.9179999999999999,
          0.9999999999999999
         ],
         "title": {
          "text": "dCS"
         }
        },
        "xaxis11": {
         "anchor": "y11",
         "domain": [
          0.0,
          0.082
         ]
        },
        "xaxis12": {
         "anchor": "y12",
         "domain": [
          0.10200000000000001,
          0.184
         ]
        },
        "xaxis13": {
         "anchor": "y13",
         "domain": [
          0.20400000000000001,
          0.28600000000000003
         ]
        },
        "xaxis14": {
         "anchor": "y14",
         "domain": [
          0.306,
          0.388
         ]
        },
        "xaxis15": {
         "anchor": "y15",
         "domain": [
          0.40800000000000003,
          0.49000000000000005
         ]
        },
        "xaxis16": {
         "anchor": "y16",
         "domain": [
          0.51,
          0.592
         ]
        },
        "xaxis17": {
         "anchor": "y17",
         "domain": [
          0.6120000000000001,
          0.6940000000000001
         ]
        },
        "xaxis18": {
         "anchor": "y18",
         "domain": [
          0.7140000000000001,
          0.796
         ]
        },
        "xaxis19": {
         "anchor": "y19",
         "domain": [
          0.8160000000000001,
          0.898
         ]
        },
        "xaxis2": {
         "anchor": "y2",
         "domain": [
          0.10200000000000001,
          0.184
         ]
        },
        "xaxis20": {
         "anchor": "y20",
         "domain": [
          0.9179999999999999,
          0.9999999999999999
         ]
        },
        "xaxis21": {
         "anchor": "y21",
         "domain": [
          0.0,
          0.082
         ]
        },
        "xaxis22": {
         "anchor": "y22",
         "domain": [
          0.10200000000000001,
          0.184
         ]
        },
        "xaxis23": {
         "anchor": "y23",
         "domain": [
          0.20400000000000001,
          0.28600000000000003
         ]
        },
        "xaxis24": {
         "anchor": "y24",
         "domain": [
          0.306,
          0.388
         ]
        },
        "xaxis25": {
         "anchor": "y25",
         "domain": [
          0.40800000000000003,
          0.49000000000000005
         ]
        },
        "xaxis26": {
         "anchor": "y26",
         "domain": [
          0.51,
          0.592
         ]
        },
        "xaxis27": {
         "anchor": "y27",
         "domain": [
          0.6120000000000001,
          0.6940000000000001
         ]
        },
        "xaxis28": {
         "anchor": "y28",
         "domain": [
          0.7140000000000001,
          0.796
         ]
        },
        "xaxis29": {
         "anchor": "y29",
         "domain": [
          0.8160000000000001,
          0.898
         ]
        },
        "xaxis3": {
         "anchor": "y3",
         "domain": [
          0.20400000000000001,
          0.28600000000000003
         ]
        },
        "xaxis30": {
         "anchor": "y30",
         "domain": [
          0.9179999999999999,
          0.9999999999999999
         ]
        },
        "xaxis31": {
         "anchor": "y31",
         "domain": [
          0.0,
          0.082
         ]
        },
        "xaxis32": {
         "anchor": "y32",
         "domain": [
          0.10200000000000001,
          0.184
         ]
        },
        "xaxis33": {
         "anchor": "y33",
         "domain": [
          0.20400000000000001,
          0.28600000000000003
         ]
        },
        "xaxis34": {
         "anchor": "y34",
         "domain": [
          0.306,
          0.388
         ]
        },
        "xaxis35": {
         "anchor": "y35",
         "domain": [
          0.40800000000000003,
          0.49000000000000005
         ]
        },
        "xaxis36": {
         "anchor": "y36",
         "domain": [
          0.51,
          0.592
         ]
        },
        "xaxis37": {
         "anchor": "y37",
         "domain": [
          0.6120000000000001,
          0.6940000000000001
         ]
        },
        "xaxis38": {
         "anchor": "y38",
         "domain": [
          0.7140000000000001,
          0.796
         ]
        },
        "xaxis39": {
         "anchor": "y39",
         "domain": [
          0.8160000000000001,
          0.898
         ]
        },
        "xaxis4": {
         "anchor": "y4",
         "domain": [
          0.306,
          0.388
         ]
        },
        "xaxis40": {
         "anchor": "y40",
         "domain": [
          0.9179999999999999,
          0.9999999999999999
         ]
        },
        "xaxis41": {
         "anchor": "y41",
         "domain": [
          0.0,
          0.082
         ]
        },
        "xaxis42": {
         "anchor": "y42",
         "domain": [
          0.10200000000000001,
          0.184
         ]
        },
        "xaxis43": {
         "anchor": "y43",
         "domain": [
          0.20400000000000001,
          0.28600000000000003
         ]
        },
        "xaxis44": {
         "anchor": "y44",
         "domain": [
          0.306,
          0.388
         ]
        },
        "xaxis45": {
         "anchor": "y45",
         "domain": [
          0.40800000000000003,
          0.49000000000000005
         ]
        },
        "xaxis46": {
         "anchor": "y46",
         "domain": [
          0.51,
          0.592
         ]
        },
        "xaxis47": {
         "anchor": "y47",
         "domain": [
          0.6120000000000001,
          0.6940000000000001
         ]
        },
        "xaxis48": {
         "anchor": "y48",
         "domain": [
          0.7140000000000001,
          0.796
         ]
        },
        "xaxis49": {
         "anchor": "y49",
         "domain": [
          0.8160000000000001,
          0.898
         ]
        },
        "xaxis5": {
         "anchor": "y5",
         "domain": [
          0.40800000000000003,
          0.49000000000000005
         ]
        },
        "xaxis50": {
         "anchor": "y50",
         "domain": [
          0.9179999999999999,
          0.9999999999999999
         ]
        },
        "xaxis51": {
         "anchor": "y51",
         "domain": [
          0.0,
          0.082
         ]
        },
        "xaxis52": {
         "anchor": "y52",
         "domain": [
          0.10200000000000001,
          0.184
         ]
        },
        "xaxis53": {
         "anchor": "y53",
         "domain": [
          0.20400000000000001,
          0.28600000000000003
         ]
        },
        "xaxis54": {
         "anchor": "y54",
         "domain": [
          0.306,
          0.388
         ]
        },
        "xaxis55": {
         "anchor": "y55",
         "domain": [
          0.40800000000000003,
          0.49000000000000005
         ]
        },
        "xaxis56": {
         "anchor": "y56",
         "domain": [
          0.51,
          0.592
         ]
        },
        "xaxis57": {
         "anchor": "y57",
         "domain": [
          0.6120000000000001,
          0.6940000000000001
         ]
        },
        "xaxis58": {
         "anchor": "y58",
         "domain": [
          0.7140000000000001,
          0.796
         ]
        },
        "xaxis59": {
         "anchor": "y59",
         "domain": [
          0.8160000000000001,
          0.898
         ]
        },
        "xaxis6": {
         "anchor": "y6",
         "domain": [
          0.51,
          0.592
         ]
        },
        "xaxis60": {
         "anchor": "y60",
         "domain": [
          0.9179999999999999,
          0.9999999999999999
         ]
        },
        "xaxis61": {
         "anchor": "y61",
         "domain": [
          0.0,
          0.082
         ]
        },
        "xaxis62": {
         "anchor": "y62",
         "domain": [
          0.10200000000000001,
          0.184
         ]
        },
        "xaxis63": {
         "anchor": "y63",
         "domain": [
          0.20400000000000001,
          0.28600000000000003
         ]
        },
        "xaxis64": {
         "anchor": "y64",
         "domain": [
          0.306,
          0.388
         ]
        },
        "xaxis65": {
         "anchor": "y65",
         "domain": [
          0.40800000000000003,
          0.49000000000000005
         ]
        },
        "xaxis66": {
         "anchor": "y66",
         "domain": [
          0.51,
          0.592
         ]
        },
        "xaxis67": {
         "anchor": "y67",
         "domain": [
          0.6120000000000001,
          0.6940000000000001
         ]
        },
        "xaxis68": {
         "anchor": "y68",
         "domain": [
          0.7140000000000001,
          0.796
         ]
        },
        "xaxis69": {
         "anchor": "y69",
         "domain": [
          0.8160000000000001,
          0.898
         ]
        },
        "xaxis7": {
         "anchor": "y7",
         "domain": [
          0.6120000000000001,
          0.6940000000000001
         ]
        },
        "xaxis70": {
         "anchor": "y70",
         "domain": [
          0.9179999999999999,
          0.9999999999999999
         ]
        },
        "xaxis71": {
         "anchor": "y71",
         "domain": [
          0.0,
          0.082
         ]
        },
        "xaxis72": {
         "anchor": "y72",
         "domain": [
          0.10200000000000001,
          0.184
         ]
        },
        "xaxis73": {
         "anchor": "y73",
         "domain": [
          0.20400000000000001,
          0.28600000000000003
         ]
        },
        "xaxis74": {
         "anchor": "y74",
         "domain": [
          0.306,
          0.388
         ]
        },
        "xaxis75": {
         "anchor": "y75",
         "domain": [
          0.40800000000000003,
          0.49000000000000005
         ]
        },
        "xaxis76": {
         "anchor": "y76",
         "domain": [
          0.51,
          0.592
         ]
        },
        "xaxis77": {
         "anchor": "y77",
         "domain": [
          0.6120000000000001,
          0.6940000000000001
         ]
        },
        "xaxis78": {
         "anchor": "y78",
         "domain": [
          0.7140000000000001,
          0.796
         ]
        },
        "xaxis79": {
         "anchor": "y79",
         "domain": [
          0.8160000000000001,
          0.898
         ]
        },
        "xaxis8": {
         "anchor": "y8",
         "domain": [
          0.7140000000000001,
          0.796
         ]
        },
        "xaxis80": {
         "anchor": "y80",
         "domain": [
          0.9179999999999999,
          0.9999999999999999
         ]
        },
        "xaxis81": {
         "anchor": "y81",
         "domain": [
          0.0,
          0.082
         ]
        },
        "xaxis82": {
         "anchor": "y82",
         "domain": [
          0.10200000000000001,
          0.184
         ]
        },
        "xaxis83": {
         "anchor": "y83",
         "domain": [
          0.20400000000000001,
          0.28600000000000003
         ]
        },
        "xaxis84": {
         "anchor": "y84",
         "domain": [
          0.306,
          0.388
         ]
        },
        "xaxis85": {
         "anchor": "y85",
         "domain": [
          0.40800000000000003,
          0.49000000000000005
         ]
        },
        "xaxis86": {
         "anchor": "y86",
         "domain": [
          0.51,
          0.592
         ]
        },
        "xaxis87": {
         "anchor": "y87",
         "domain": [
          0.6120000000000001,
          0.6940000000000001
         ]
        },
        "xaxis88": {
         "anchor": "y88",
         "domain": [
          0.7140000000000001,
          0.796
         ]
        },
        "xaxis89": {
         "anchor": "y89",
         "domain": [
          0.8160000000000001,
          0.898
         ]
        },
        "xaxis9": {
         "anchor": "y9",
         "domain": [
          0.8160000000000001,
          0.898
         ]
        },
        "xaxis90": {
         "anchor": "y90",
         "domain": [
          0.9179999999999999,
          0.9999999999999999
         ]
        },
        "xaxis91": {
         "anchor": "y91",
         "domain": [
          0.0,
          0.082
         ],
         "title": {
          "text": "C"
         }
        },
        "xaxis92": {
         "anchor": "y92",
         "domain": [
          0.10200000000000001,
          0.184
         ],
         "title": {
          "text": "S"
         }
        },
        "xaxis93": {
         "anchor": "y93",
         "domain": [
          0.20400000000000001,
          0.28600000000000003
         ],
         "title": {
          "text": "T"
         }
        },
        "xaxis94": {
         "anchor": "y94",
         "domain": [
          0.306,
          0.388
         ],
         "title": {
          "text": "A"
         }
        },
        "xaxis95": {
         "anchor": "y95",
         "domain": [
          0.40800000000000003,
          0.49000000000000005
         ],
         "title": {
          "text": "Alpha"
         }
        },
        "xaxis96": {
         "anchor": "y96",
         "domain": [
          0.51,
          0.592
         ],
         "title": {
          "text": "Theta"
         }
        },
        "xaxis97": {
         "anchor": "y97",
         "domain": [
          0.6120000000000001,
          0.6940000000000001
         ],
         "title": {
          "text": "beta"
         }
        },
        "xaxis98": {
         "anchor": "y98",
         "domain": [
          0.7140000000000001,
          0.796
         ],
         "title": {
          "text": "dC"
         }
        },
        "xaxis99": {
         "anchor": "y99",
         "domain": [
          0.8160000000000001,
          0.898
         ],
         "title": {
          "text": "dS"
         }
        },
        "yaxis": {
         "anchor": "x",
         "domain": [
          0.9269999999999999,
          0.9999999999999999
         ],
         "title": {
          "text": "C"
         }
        },
        "yaxis10": {
         "anchor": "x10",
         "domain": [
          0.9269999999999999,
          0.9999999999999999
         ]
        },
        "yaxis100": {
         "anchor": "x100",
         "domain": [
          0.0,
          0.073
         ]
        },
        "yaxis11": {
         "anchor": "x11",
         "domain": [
          0.824,
          0.8969999999999999
         ],
         "title": {
          "text": "S"
         }
        },
        "yaxis12": {
         "anchor": "x12",
         "domain": [
          0.824,
          0.8969999999999999
         ]
        },
        "yaxis13": {
         "anchor": "x13",
         "domain": [
          0.824,
          0.8969999999999999
         ]
        },
        "yaxis14": {
         "anchor": "x14",
         "domain": [
          0.824,
          0.8969999999999999
         ]
        },
        "yaxis15": {
         "anchor": "x15",
         "domain": [
          0.824,
          0.8969999999999999
         ]
        },
        "yaxis16": {
         "anchor": "x16",
         "domain": [
          0.824,
          0.8969999999999999
         ]
        },
        "yaxis17": {
         "anchor": "x17",
         "domain": [
          0.824,
          0.8969999999999999
         ]
        },
        "yaxis18": {
         "anchor": "x18",
         "domain": [
          0.824,
          0.8969999999999999
         ]
        },
        "yaxis19": {
         "anchor": "x19",
         "domain": [
          0.824,
          0.8969999999999999
         ]
        },
        "yaxis2": {
         "anchor": "x2",
         "domain": [
          0.9269999999999999,
          0.9999999999999999
         ]
        },
        "yaxis20": {
         "anchor": "x20",
         "domain": [
          0.824,
          0.8969999999999999
         ]
        },
        "yaxis21": {
         "anchor": "x21",
         "domain": [
          0.721,
          0.7939999999999999
         ],
         "title": {
          "text": "T"
         }
        },
        "yaxis22": {
         "anchor": "x22",
         "domain": [
          0.721,
          0.7939999999999999
         ]
        },
        "yaxis23": {
         "anchor": "x23",
         "domain": [
          0.721,
          0.7939999999999999
         ]
        },
        "yaxis24": {
         "anchor": "x24",
         "domain": [
          0.721,
          0.7939999999999999
         ]
        },
        "yaxis25": {
         "anchor": "x25",
         "domain": [
          0.721,
          0.7939999999999999
         ]
        },
        "yaxis26": {
         "anchor": "x26",
         "domain": [
          0.721,
          0.7939999999999999
         ]
        },
        "yaxis27": {
         "anchor": "x27",
         "domain": [
          0.721,
          0.7939999999999999
         ]
        },
        "yaxis28": {
         "anchor": "x28",
         "domain": [
          0.721,
          0.7939999999999999
         ]
        },
        "yaxis29": {
         "anchor": "x29",
         "domain": [
          0.721,
          0.7939999999999999
         ]
        },
        "yaxis3": {
         "anchor": "x3",
         "domain": [
          0.9269999999999999,
          0.9999999999999999
         ]
        },
        "yaxis30": {
         "anchor": "x30",
         "domain": [
          0.721,
          0.7939999999999999
         ]
        },
        "yaxis31": {
         "anchor": "x31",
         "domain": [
          0.618,
          0.691
         ],
         "title": {
          "text": "A"
         }
        },
        "yaxis32": {
         "anchor": "x32",
         "domain": [
          0.618,
          0.691
         ]
        },
        "yaxis33": {
         "anchor": "x33",
         "domain": [
          0.618,
          0.691
         ]
        },
        "yaxis34": {
         "anchor": "x34",
         "domain": [
          0.618,
          0.691
         ]
        },
        "yaxis35": {
         "anchor": "x35",
         "domain": [
          0.618,
          0.691
         ]
        },
        "yaxis36": {
         "anchor": "x36",
         "domain": [
          0.618,
          0.691
         ]
        },
        "yaxis37": {
         "anchor": "x37",
         "domain": [
          0.618,
          0.691
         ]
        },
        "yaxis38": {
         "anchor": "x38",
         "domain": [
          0.618,
          0.691
         ]
        },
        "yaxis39": {
         "anchor": "x39",
         "domain": [
          0.618,
          0.691
         ]
        },
        "yaxis4": {
         "anchor": "x4",
         "domain": [
          0.9269999999999999,
          0.9999999999999999
         ]
        },
        "yaxis40": {
         "anchor": "x40",
         "domain": [
          0.618,
          0.691
         ]
        },
        "yaxis41": {
         "anchor": "x41",
         "domain": [
          0.515,
          0.588
         ],
         "title": {
          "text": "Alpha"
         }
        },
        "yaxis42": {
         "anchor": "x42",
         "domain": [
          0.515,
          0.588
         ]
        },
        "yaxis43": {
         "anchor": "x43",
         "domain": [
          0.515,
          0.588
         ]
        },
        "yaxis44": {
         "anchor": "x44",
         "domain": [
          0.515,
          0.588
         ]
        },
        "yaxis45": {
         "anchor": "x45",
         "domain": [
          0.515,
          0.588
         ]
        },
        "yaxis46": {
         "anchor": "x46",
         "domain": [
          0.515,
          0.588
         ]
        },
        "yaxis47": {
         "anchor": "x47",
         "domain": [
          0.515,
          0.588
         ]
        },
        "yaxis48": {
         "anchor": "x48",
         "domain": [
          0.515,
          0.588
         ]
        },
        "yaxis49": {
         "anchor": "x49",
         "domain": [
          0.515,
          0.588
         ]
        },
        "yaxis5": {
         "anchor": "x5",
         "domain": [
          0.9269999999999999,
          0.9999999999999999
         ]
        },
        "yaxis50": {
         "anchor": "x50",
         "domain": [
          0.515,
          0.588
         ]
        },
        "yaxis51": {
         "anchor": "x51",
         "domain": [
          0.412,
          0.485
         ],
         "title": {
          "text": "Theta"
         }
        },
        "yaxis52": {
         "anchor": "x52",
         "domain": [
          0.412,
          0.485
         ]
        },
        "yaxis53": {
         "anchor": "x53",
         "domain": [
          0.412,
          0.485
         ]
        },
        "yaxis54": {
         "anchor": "x54",
         "domain": [
          0.412,
          0.485
         ]
        },
        "yaxis55": {
         "anchor": "x55",
         "domain": [
          0.412,
          0.485
         ]
        },
        "yaxis56": {
         "anchor": "x56",
         "domain": [
          0.412,
          0.485
         ]
        },
        "yaxis57": {
         "anchor": "x57",
         "domain": [
          0.412,
          0.485
         ]
        },
        "yaxis58": {
         "anchor": "x58",
         "domain": [
          0.412,
          0.485
         ]
        },
        "yaxis59": {
         "anchor": "x59",
         "domain": [
          0.412,
          0.485
         ]
        },
        "yaxis6": {
         "anchor": "x6",
         "domain": [
          0.9269999999999999,
          0.9999999999999999
         ]
        },
        "yaxis60": {
         "anchor": "x60",
         "domain": [
          0.412,
          0.485
         ]
        },
        "yaxis61": {
         "anchor": "x61",
         "domain": [
          0.30899999999999994,
          0.38199999999999995
         ],
         "title": {
          "text": "beta"
         }
        },
        "yaxis62": {
         "anchor": "x62",
         "domain": [
          0.30899999999999994,
          0.38199999999999995
         ]
        },
        "yaxis63": {
         "anchor": "x63",
         "domain": [
          0.30899999999999994,
          0.38199999999999995
         ]
        },
        "yaxis64": {
         "anchor": "x64",
         "domain": [
          0.30899999999999994,
          0.38199999999999995
         ]
        },
        "yaxis65": {
         "anchor": "x65",
         "domain": [
          0.30899999999999994,
          0.38199999999999995
         ]
        },
        "yaxis66": {
         "anchor": "x66",
         "domain": [
          0.30899999999999994,
          0.38199999999999995
         ]
        },
        "yaxis67": {
         "anchor": "x67",
         "domain": [
          0.30899999999999994,
          0.38199999999999995
         ]
        },
        "yaxis68": {
         "anchor": "x68",
         "domain": [
          0.30899999999999994,
          0.38199999999999995
         ]
        },
        "yaxis69": {
         "anchor": "x69",
         "domain": [
          0.30899999999999994,
          0.38199999999999995
         ]
        },
        "yaxis7": {
         "anchor": "x7",
         "domain": [
          0.9269999999999999,
          0.9999999999999999
         ]
        },
        "yaxis70": {
         "anchor": "x70",
         "domain": [
          0.30899999999999994,
          0.38199999999999995
         ]
        },
        "yaxis71": {
         "anchor": "x71",
         "domain": [
          0.206,
          0.27899999999999997
         ],
         "title": {
          "text": "dC"
         }
        },
        "yaxis72": {
         "anchor": "x72",
         "domain": [
          0.206,
          0.27899999999999997
         ]
        },
        "yaxis73": {
         "anchor": "x73",
         "domain": [
          0.206,
          0.27899999999999997
         ]
        },
        "yaxis74": {
         "anchor": "x74",
         "domain": [
          0.206,
          0.27899999999999997
         ]
        },
        "yaxis75": {
         "anchor": "x75",
         "domain": [
          0.206,
          0.27899999999999997
         ]
        },
        "yaxis76": {
         "anchor": "x76",
         "domain": [
          0.206,
          0.27899999999999997
         ]
        },
        "yaxis77": {
         "anchor": "x77",
         "domain": [
          0.206,
          0.27899999999999997
         ]
        },
        "yaxis78": {
         "anchor": "x78",
         "domain": [
          0.206,
          0.27899999999999997
         ]
        },
        "yaxis79": {
         "anchor": "x79",
         "domain": [
          0.206,
          0.27899999999999997
         ]
        },
        "yaxis8": {
         "anchor": "x8",
         "domain": [
          0.9269999999999999,
          0.9999999999999999
         ]
        },
        "yaxis80": {
         "anchor": "x80",
         "domain": [
          0.206,
          0.27899999999999997
         ]
        },
        "yaxis81": {
         "anchor": "x81",
         "domain": [
          0.103,
          0.176
         ],
         "title": {
          "text": "dS"
         }
        },
        "yaxis82": {
         "anchor": "x82",
         "domain": [
          0.103,
          0.176
         ]
        },
        "yaxis83": {
         "anchor": "x83",
         "domain": [
          0.103,
          0.176
         ]
        },
        "yaxis84": {
         "anchor": "x84",
         "domain": [
          0.103,
          0.176
         ]
        },
        "yaxis85": {
         "anchor": "x85",
         "domain": [
          0.103,
          0.176
         ]
        },
        "yaxis86": {
         "anchor": "x86",
         "domain": [
          0.103,
          0.176
         ]
        },
        "yaxis87": {
         "anchor": "x87",
         "domain": [
          0.103,
          0.176
         ]
        },
        "yaxis88": {
         "anchor": "x88",
         "domain": [
          0.103,
          0.176
         ]
        },
        "yaxis89": {
         "anchor": "x89",
         "domain": [
          0.103,
          0.176
         ]
        },
        "yaxis9": {
         "anchor": "x9",
         "domain": [
          0.9269999999999999,
          0.9999999999999999
         ]
        },
        "yaxis90": {
         "anchor": "x90",
         "domain": [
          0.103,
          0.176
         ]
        },
        "yaxis91": {
         "anchor": "x91",
         "domain": [
          0.0,
          0.073
         ],
         "title": {
          "text": "dCS"
         }
        },
        "yaxis92": {
         "anchor": "x92",
         "domain": [
          0.0,
          0.073
         ]
        },
        "yaxis93": {
         "anchor": "x93",
         "domain": [
          0.0,
          0.073
         ]
        },
        "yaxis94": {
         "anchor": "x94",
         "domain": [
          0.0,
          0.073
         ]
        },
        "yaxis95": {
         "anchor": "x95",
         "domain": [
          0.0,
          0.073
         ]
        },
        "yaxis96": {
         "anchor": "x96",
         "domain": [
          0.0,
          0.073
         ]
        },
        "yaxis97": {
         "anchor": "x97",
         "domain": [
          0.0,
          0.073
         ]
        },
        "yaxis98": {
         "anchor": "x98",
         "domain": [
          0.0,
          0.073
         ]
        },
        "yaxis99": {
         "anchor": "x99",
         "domain": [
          0.0,
          0.073
         ]
        }
       }
      },
      "text/html": "<div>\n        \n        \n            <div id=\"6d9233cd-e211-488f-8264-d571e3214fc4\" class=\"plotly-graph-div\" style=\"height:2000px; width:2000px;\"></div>\n            <script type=\"text/javascript\">\n                require([\"plotly\"], function(Plotly) {\n                    window.PLOTLYENV=window.PLOTLYENV || {};\n                    \n                if (document.getElementById(\"6d9233cd-e211-488f-8264-d571e3214fc4\")) {\n                    Plotly.newPlot(\n                        '6d9233cd-e211-488f-8264-d571e3214fc4',\n                        [{\"marker\": {\"color\": \"rgb(31, 119, 180)\"}, \"showlegend\": false, \"type\": \"histogram\", \"x\": [27.1, 25.5, 22.0, 21.5, 22.0, 21.5, 14.0, 21.0, 21.0, 21.0, 21.0, 21.0, 21.0, 21.0, 22.0, 20.0, 21.0, 20.0, 15.5, 25.5, 25.2, 25.2, 25.5, 23.0, 23.4, 24.0, 24.0, 23.0, 18.2, 5.7], \"xaxis\": \"x\", \"yaxis\": \"y\"}, {\"marker\": {\"color\": [11.4, 24.4, 29.3, 28.5, 29.2, 28.5, 31.3, 29.9, 30.5, 31.0, 29.2, 35.3, 32.9, 34.3, 34.8, 36.0, 36.9, 40.2, 41.3, 24.4, 24.3, 25.2, 27.1, 30.8, 29.6, 29.3, 31.6, 34.6, 29.8, 73.3], \"colorscale\": [[0.0, \"rgb(31, 119, 180)\"], [0.1111111111111111, \"rgb(255, 127, 14)\"], [0.2222222222222222, \"rgb(44, 160, 44)\"], [0.3333333333333333, \"rgb(214, 39, 40)\"], [0.4444444444444444, \"rgb(148, 103, 189)\"], [0.5555555555555556, \"rgb(140, 86, 75)\"], [0.6666666666666666, \"rgb(227, 119, 194)\"], [0.7777777777777777, \"rgb(127, 127, 127)\"], [0.8888888888888888, \"rgb(188, 189, 34)\"], [1.0, \"rgb(23, 190, 207)\"]], \"showscale\": true, \"size\": 6}, \"mode\": \"markers\", \"showlegend\": false, \"type\": \"scatter\", \"x\": [-8.2, -17.3, -17.3, -16.5, -16.0, -16.0, -10.0, -16.5, -17.0, -17.3, -16.0, -20.9, -18.9, -20.0, -22.0, -20.0, -22.4, -24.0, -17.2, -17.3, -16.9, -17.7, -19.8, -19.8, -19.3, -19.8, -22.0, -23.4, -13.3, -23.4], \"xaxis\": \"x2\", \"y\": [27.1, 25.5, 22.0, 21.5, 22.0, 21.5, 14.0, 21.0, 21.0, 21.0, 21.0, 21.0, 21.0, 21.0, 22.0, 20.0, 21.0, 20.0, 15.5, 25.5, 25.2, 25.2, 25.5, 23.0, 23.4, 24.0, 24.0, 23.0, 18.2, 5.7], \"yaxis\": \"y2\"}, {\"marker\": {\"color\": [11.4, 24.4, 29.3, 28.5, 29.2, 28.5, 31.3, 29.9, 30.5, 31.0, 29.2, 35.3, 32.9, 34.3, 34.8, 36.0, 36.9, 40.2, 41.3, 24.4, 24.3, 25.2, 27.1, 30.8, 29.6, 29.3, 31.6, 34.6, 29.8, 73.3], \"colorscale\": [[0.0, \"rgb(31, 119, 180)\"], [0.1111111111111111, \"rgb(255, 127, 14)\"], [0.2222222222222222, \"rgb(44, 160, 44)\"], [0.3333333333333333, \"rgb(214, 39, 40)\"], [0.4444444444444444, \"rgb(148, 103, 189)\"], [0.5555555555555556, \"rgb(140, 86, 75)\"], [0.6666666666666666, \"rgb(227, 119, 194)\"], [0.7777777777777777, \"rgb(127, 127, 127)\"], [0.8888888888888888, \"rgb(188, 189, 34)\"], [1.0, \"rgb(23, 190, 207)\"]], \"showscale\": false, \"size\": 6}, \"mode\": \"markers\", \"showlegend\": false, \"type\": \"scatter\", \"x\": [-29.7, -29.7, -29.7, -29.7, -29.7, -29.7, -29.7, -29.7, -29.7, -29.7, -29.7, -29.7, -29.7, -29.7, -29.7, -29.7, -29.7, -29.7, -29.7, -29.7, -29.7, -29.7, -29.7, -29.7, -29.7, -29.7, -29.7, -29.7, -29.7, -29.7], \"xaxis\": \"x3\", \"y\": [27.1, 25.5, 22.0, 21.5, 22.0, 21.5, 14.0, 21.0, 21.0, 21.0, 21.0, 21.0, 21.0, 21.0, 22.0, 20.0, 21.0, 20.0, 15.5, 25.5, 25.2, 25.2, 25.5, 23.0, 23.4, 24.0, 24.0, 23.0, 18.2, 5.7], \"yaxis\": \"y3\"}, {\"marker\": {\"color\": [11.4, 24.4, 29.3, 28.5, 29.2, 28.5, 31.3, 29.9, 30.5, 31.0, 29.2, 35.3, 32.9, 34.3, 34.8, 36.0, 36.9, 40.2, 41.3, 24.4, 24.3, 25.2, 27.1, 30.8, 29.6, 29.3, 31.6, 34.6, 29.8, 73.3], \"colorscale\": [[0.0, \"rgb(31, 119, 180)\"], [0.1111111111111111, \"rgb(255, 127, 14)\"], [0.2222222222222222, \"rgb(44, 160, 44)\"], [0.3333333333333333, \"rgb(214, 39, 40)\"], [0.4444444444444444, \"rgb(148, 103, 189)\"], [0.5555555555555556, \"rgb(140, 86, 75)\"], [0.6666666666666666, \"rgb(227, 119, 194)\"], [0.7777777777777777, \"rgb(127, 127, 127)\"], [0.8888888888888888, \"rgb(188, 189, 34)\"], [1.0, \"rgb(23, 190, 207)\"]], \"showscale\": false, \"size\": 6}, \"mode\": \"markers\", \"showlegend\": false, \"type\": \"scatter\", \"x\": [28.0, 29.7, 27.0, 26.2, 25.6, 26.0, 17.0, 25.9, 26.1, 26.3, 25.6, 28.4, 27.2, 27.9, 29.7, 27.2, 29.4, 29.9, 22.6, 29.7, 29.3, 29.6, 30.9, 29.1, 29.1, 29.8, 31.0, 31.2, 22.0, 23.9], \"xaxis\": \"x4\", \"y\": [27.1, 25.5, 22.0, 21.5, 22.0, 21.5, 14.0, 21.0, 21.0, 21.0, 21.0, 21.0, 21.0, 21.0, 22.0, 20.0, 21.0, 20.0, 15.5, 25.5, 25.2, 25.2, 25.5, 23.0, 23.4, 24.0, 24.0, 23.0, 18.2, 5.7], \"yaxis\": \"y4\"}, {\"marker\": {\"color\": [11.4, 24.4, 29.3, 28.5, 29.2, 28.5, 31.3, 29.9, 30.5, 31.0, 29.2, 35.3, 32.9, 34.3, 34.8, 36.0, 36.9, 40.2, 41.3, 24.4, 24.3, 25.2, 27.1, 30.8, 29.6, 29.3, 31.6, 34.6, 29.8, 73.3], \"colorscale\": [[0.0, \"rgb(31, 119, 180)\"], [0.1111111111111111, \"rgb(255, 127, 14)\"], [0.2222222222222222, \"rgb(44, 160, 44)\"], [0.3333333333333333, \"rgb(214, 39, 40)\"], [0.4444444444444444, \"rgb(148, 103, 189)\"], [0.5555555555555556, \"rgb(140, 86, 75)\"], [0.6666666666666666, \"rgb(227, 119, 194)\"], [0.7777777777777777, \"rgb(127, 127, 127)\"], [0.8888888888888888, \"rgb(188, 189, 34)\"], [1.0, \"rgb(23, 190, 207)\"]], \"showscale\": false, \"size\": 6}, \"mode\": \"markers\", \"showlegend\": false, \"type\": \"scatter\", \"x\": [-15.7, -33.1, -37.6, -36.9, -36.8, -36.1, -35.3, -37.7, -38.5, -39.1, -36.8, -44.9, -41.7, -43.5, -45.0, -45.0, -47.0, -50.7, -48.1, -33.1, -32.8, -34.1, -37.0, -40.3, -39.0, -39.0, -42.2, -45.6, -35.7, -77.0], \"xaxis\": \"x5\", \"y\": [27.1, 25.5, 22.0, 21.5, 22.0, 21.5, 14.0, 21.0, 21.0, 21.0, 21.0, 21.0, 21.0, 21.0, 22.0, 20.0, 21.0, 20.0, 15.5, 25.5, 25.2, 25.2, 25.5, 23.0, 23.4, 24.0, 24.0, 23.0, 18.2, 5.7], \"yaxis\": \"y5\"}, {\"marker\": {\"color\": [11.4, 24.4, 29.3, 28.5, 29.2, 28.5, 31.3, 29.9, 30.5, 31.0, 29.2, 35.3, 32.9, 34.3, 34.8, 36.0, 36.9, 40.2, 41.3, 24.4, 24.3, 25.2, 27.1, 30.8, 29.6, 29.3, 31.6, 34.6, 29.8, 73.3], \"colorscale\": [[0.0, \"rgb(31, 119, 180)\"], [0.1111111111111111, \"rgb(255, 127, 14)\"], [0.2222222222222222, \"rgb(44, 160, 44)\"], [0.3333333333333333, \"rgb(214, 39, 40)\"], [0.4444444444444444, \"rgb(148, 103, 189)\"], [0.5555555555555556, \"rgb(140, 86, 75)\"], [0.6666666666666666, \"rgb(227, 119, 194)\"], [0.7777777777777777, \"rgb(127, 127, 127)\"], [0.8888888888888888, \"rgb(188, 189, 34)\"], [1.0, \"rgb(23, 190, 207)\"]], \"showscale\": false, \"size\": 6}, \"mode\": \"markers\", \"showlegend\": false, \"type\": \"scatter\", \"x\": [135.8, 134.1, 136.8, 137.7, 138.4, 138.0, 149.0, 138.1, 137.8, 137.6, 138.4, 135.3, 136.6, 135.9, 134.0, 136.6, 134.3, 133.8, 142.1, 134.1, 134.5, 134.1, 132.9, 134.6, 134.6, 133.9, 132.7, 132.5, 142.8, 140.4], \"xaxis\": \"x6\", \"y\": [27.1, 25.5, 22.0, 21.5, 22.0, 21.5, 14.0, 21.0, 21.0, 21.0, 21.0, 21.0, 21.0, 21.0, 22.0, 20.0, 21.0, 20.0, 15.5, 25.5, 25.2, 25.2, 25.5, 23.0, 23.4, 24.0, 24.0, 23.0, 18.2, 5.7], \"yaxis\": \"y6\"}, {\"marker\": {\"color\": [11.4, 24.4, 29.3, 28.5, 29.2, 28.5, 31.3, 29.9, 30.5, 31.0, 29.2, 35.3, 32.9, 34.3, 34.8, 36.0, 36.9, 40.2, 41.3, 24.4, 24.3, 25.2, 27.1, 30.8, 29.6, 29.3, 31.6, 34.6, 29.8, 73.3], \"colorscale\": [[0.0, \"rgb(31, 119, 180)\"], [0.1111111111111111, \"rgb(255, 127, 14)\"], [0.2222222222222222, \"rgb(44, 160, 44)\"], [0.3333333333333333, \"rgb(214, 39, 40)\"], [0.4444444444444444, \"rgb(148, 103, 189)\"], [0.5555555555555556, \"rgb(140, 86, 75)\"], [0.6666666666666666, \"rgb(227, 119, 194)\"], [0.7777777777777777, \"rgb(127, 127, 127)\"], [0.8888888888888888, \"rgb(188, 189, 34)\"], [1.0, \"rgb(23, 190, 207)\"]], \"showscale\": false, \"size\": 6}, \"mode\": \"markers\", \"showlegend\": false, \"type\": \"scatter\", \"x\": [40.6, 41.7, 40.0, 39.4, 39.0, 39.3, 34.1, 39.2, 39.4, 39.5, 39.0, 40.9, 40.1, 40.5, 41.8, 40.1, 41.5, 41.9, 37.1, 41.7, 41.5, 41.7, 42.6, 41.3, 41.4, 41.8, 42.7, 42.8, 36.8, 38.0], \"xaxis\": \"x7\", \"y\": [27.1, 25.5, 22.0, 21.5, 22.0, 21.5, 14.0, 21.0, 21.0, 21.0, 21.0, 21.0, 21.0, 21.0, 22.0, 20.0, 21.0, 20.0, 15.5, 25.5, 25.2, 25.2, 25.5, 23.0, 23.4, 24.0, 24.0, 23.0, 18.2, 5.7], \"yaxis\": \"y7\"}, {\"marker\": {\"color\": [11.4, 24.4, 29.3, 28.5, 29.2, 28.5, 31.3, 29.9, 30.5, 31.0, 29.2, 35.3, 32.9, 34.3, 34.8, 36.0, 36.9, 40.2, 41.3, 24.4, 24.3, 25.2, 27.1, 30.8, 29.6, 29.3, 31.6, 34.6, 29.8, 73.3], \"colorscale\": [[0.0, \"rgb(31, 119, 180)\"], [0.1111111111111111, \"rgb(255, 127, 14)\"], [0.2222222222222222, \"rgb(44, 160, 44)\"], [0.3333333333333333, \"rgb(214, 39, 40)\"], [0.4444444444444444, \"rgb(148, 103, 189)\"], [0.5555555555555556, \"rgb(140, 86, 75)\"], [0.6666666666666666, \"rgb(227, 119, 194)\"], [0.7777777777777777, \"rgb(127, 127, 127)\"], [0.8888888888888888, \"rgb(188, 189, 34)\"], [1.0, \"rgb(23, 190, 207)\"]], \"showscale\": false, \"size\": 6}, \"mode\": \"markers\", \"showlegend\": false, \"type\": \"scatter\", \"x\": [33.0, 6.0, 1.0, 0.0, 0.0, 0.0, 0.0, -1.7, -2.97, -4.0, 0.0, -11.2, -6.75, -9.1, -11.6, -11.8, -12.6, -16.6, -17.0, 6.0, 6.5, 5.0, 0.0, -2.0, -3.0, -2.0, -5.62, -10.7, 0.0, -54.4], \"xaxis\": \"x8\", \"y\": [27.1, 25.5, 22.0, 21.5, 22.0, 21.5, 14.0, 21.0, 21.0, 21.0, 21.0, 21.0, 21.0, 21.0, 22.0, 20.0, 21.0, 20.0, 15.5, 25.5, 25.2, 25.2, 25.5, 23.0, 23.4, 24.0, 24.0, 23.0, 18.2, 5.7], \"yaxis\": \"y8\"}, {\"marker\": {\"color\": [11.4, 24.4, 29.3, 28.5, 29.2, 28.5, 31.3, 29.9, 30.5, 31.0, 29.2, 35.3, 32.9, 34.3, 34.8, 36.0, 36.9, 40.2, 41.3, 24.4, 24.3, 25.2, 27.1, 30.8, 29.6, 29.3, 31.6, 34.6, 29.8, 73.3], \"colorscale\": [[0.0, \"rgb(31, 119, 180)\"], [0.1111111111111111, \"rgb(255, 127, 14)\"], [0.2222222222222222, \"rgb(44, 160, 44)\"], [0.3333333333333333, \"rgb(214, 39, 40)\"], [0.4444444444444444, \"rgb(148, 103, 189)\"], [0.5555555555555556, \"rgb(140, 86, 75)\"], [0.6666666666666666, \"rgb(227, 119, 194)\"], [0.7777777777777777, \"rgb(127, 127, 127)\"], [0.8888888888888888, \"rgb(188, 189, 34)\"], [1.0, \"rgb(23, 190, 207)\"]], \"showscale\": false, \"size\": 6}, \"mode\": \"markers\", \"showlegend\": false, \"type\": \"scatter\", \"x\": [20.0, 8.0, 8.59, 7.0, 7.0, 6.8, 16.6, 6.5, 6.43, 5.0, 6.0, 1.29, 10.8, 3.5, 0.0, 0.0, 0.0, 0.0, 2.0, 8.0, 8.5, 7.7, 6.0, 4.0, 4.4, 3.8, 3.0, 0.0, 10.2, -11.3], \"xaxis\": \"x9\", \"y\": [27.1, 25.5, 22.0, 21.5, 22.0, 21.5, 14.0, 21.0, 21.0, 21.0, 21.0, 21.0, 21.0, 21.0, 22.0, 20.0, 21.0, 20.0, 15.5, 25.5, 25.2, 25.2, 25.5, 23.0, 23.4, 24.0, 24.0, 23.0, 18.2, 5.7], \"yaxis\": \"y9\"}, {\"marker\": {\"color\": [11.4, 24.4, 29.3, 28.5, 29.2, 28.5, 31.3, 29.9, 30.5, 31.0, 29.2, 35.3, 32.9, 34.3, 34.8, 36.0, 36.9, 40.2, 41.3, 24.4, 24.3, 25.2, 27.1, 30.8, 29.6, 29.3, 31.6, 34.6, 29.8, 73.3], \"colorscale\": [[0.0, \"rgb(31, 119, 180)\"], [0.1111111111111111, \"rgb(255, 127, 14)\"], [0.2222222222222222, \"rgb(44, 160, 44)\"], [0.3333333333333333, \"rgb(214, 39, 40)\"], [0.4444444444444444, \"rgb(148, 103, 189)\"], [0.5555555555555556, \"rgb(140, 86, 75)\"], [0.6666666666666666, \"rgb(227, 119, 194)\"], [0.7777777777777777, \"rgb(127, 127, 127)\"], [0.8888888888888888, \"rgb(188, 189, 34)\"], [1.0, \"rgb(23, 190, 207)\"]], \"showscale\": false, \"size\": 6}, \"mode\": \"markers\", \"showlegend\": false, \"type\": \"scatter\", \"x\": [38.59, 10.0, 8.65, 7.0, 7.0, 6.8, 16.6, 6.72, 7.08, 6.4, 6.0, 11.27, 12.74, 9.75, 11.6, 11.8, 12.6, 16.6, 17.12, 10.0, 10.7, 9.18, 6.0, 4.47, 5.33, 4.29, 6.37, 10.7, 10.2, 55.56], \"xaxis\": \"x10\", \"y\": [27.1, 25.5, 22.0, 21.5, 22.0, 21.5, 14.0, 21.0, 21.0, 21.0, 21.0, 21.0, 21.0, 21.0, 22.0, 20.0, 21.0, 20.0, 15.5, 25.5, 25.2, 25.2, 25.5, 23.0, 23.4, 24.0, 24.0, 23.0, 18.2, 5.7], \"yaxis\": \"y10\"}, {\"marker\": {\"color\": [11.4, 24.4, 29.3, 28.5, 29.2, 28.5, 31.3, 29.9, 30.5, 31.0, 29.2, 35.3, 32.9, 34.3, 34.8, 36.0, 36.9, 40.2, 41.3, 24.4, 24.3, 25.2, 27.1, 30.8, 29.6, 29.3, 31.6, 34.6, 29.8, 73.3], \"colorscale\": [[0.0, \"rgb(31, 119, 180)\"], [0.1111111111111111, \"rgb(255, 127, 14)\"], [0.2222222222222222, \"rgb(44, 160, 44)\"], [0.3333333333333333, \"rgb(214, 39, 40)\"], [0.4444444444444444, \"rgb(148, 103, 189)\"], [0.5555555555555556, \"rgb(140, 86, 75)\"], [0.6666666666666666, \"rgb(227, 119, 194)\"], [0.7777777777777777, \"rgb(127, 127, 127)\"], [0.8888888888888888, \"rgb(188, 189, 34)\"], [1.0, \"rgb(23, 190, 207)\"]], \"showscale\": false, \"size\": 6}, \"mode\": \"markers\", \"showlegend\": false, \"type\": \"scatter\", \"x\": [27.1, 25.5, 22.0, 21.5, 22.0, 21.5, 14.0, 21.0, 21.0, 21.0, 21.0, 21.0, 21.0, 21.0, 22.0, 20.0, 21.0, 20.0, 15.5, 25.5, 25.2, 25.2, 25.5, 23.0, 23.4, 24.0, 24.0, 23.0, 18.2, 5.7], \"xaxis\": \"x11\", \"y\": [-8.2, -17.3, -17.3, -16.5, -16.0, -16.0, -10.0, -16.5, -17.0, -17.3, -16.0, -20.9, -18.9, -20.0, -22.0, -20.0, -22.4, -24.0, -17.2, -17.3, -16.9, -17.7, -19.8, -19.8, -19.3, -19.8, -22.0, -23.4, -13.3, -23.4], \"yaxis\": \"y11\"}, {\"marker\": {\"color\": \"rgb(31, 119, 180)\"}, \"showlegend\": false, \"type\": \"histogram\", \"x\": [-8.2, -17.3, -17.3, -16.5, -16.0, -16.0, -10.0, -16.5, -17.0, -17.3, -16.0, -20.9, -18.9, -20.0, -22.0, -20.0, -22.4, -24.0, -17.2, -17.3, -16.9, -17.7, -19.8, -19.8, -19.3, -19.8, -22.0, -23.4, -13.3, -23.4], \"xaxis\": \"x12\", \"yaxis\": \"y12\"}, {\"marker\": {\"color\": [11.4, 24.4, 29.3, 28.5, 29.2, 28.5, 31.3, 29.9, 30.5, 31.0, 29.2, 35.3, 32.9, 34.3, 34.8, 36.0, 36.9, 40.2, 41.3, 24.4, 24.3, 25.2, 27.1, 30.8, 29.6, 29.3, 31.6, 34.6, 29.8, 73.3], \"colorscale\": [[0.0, \"rgb(31, 119, 180)\"], [0.1111111111111111, \"rgb(255, 127, 14)\"], [0.2222222222222222, \"rgb(44, 160, 44)\"], [0.3333333333333333, \"rgb(214, 39, 40)\"], [0.4444444444444444, \"rgb(148, 103, 189)\"], [0.5555555555555556, \"rgb(140, 86, 75)\"], [0.6666666666666666, \"rgb(227, 119, 194)\"], [0.7777777777777777, \"rgb(127, 127, 127)\"], [0.8888888888888888, \"rgb(188, 189, 34)\"], [1.0, \"rgb(23, 190, 207)\"]], \"showscale\": false, \"size\": 6}, \"mode\": \"markers\", \"showlegend\": false, \"type\": \"scatter\", \"x\": [-29.7, -29.7, -29.7, -29.7, -29.7, -29.7, -29.7, -29.7, -29.7, -29.7, -29.7, -29.7, -29.7, -29.7, -29.7, -29.7, -29.7, -29.7, -29.7, -29.7, -29.7, -29.7, -29.7, -29.7, -29.7, -29.7, -29.7, -29.7, -29.7, -29.7], \"xaxis\": \"x13\", \"y\": [-8.2, -17.3, -17.3, -16.5, -16.0, -16.0, -10.0, -16.5, -17.0, -17.3, -16.0, -20.9, -18.9, -20.0, -22.0, -20.0, -22.4, -24.0, -17.2, -17.3, -16.9, -17.7, -19.8, -19.8, -19.3, -19.8, -22.0, -23.4, -13.3, -23.4], \"yaxis\": \"y13\"}, {\"marker\": {\"color\": [11.4, 24.4, 29.3, 28.5, 29.2, 28.5, 31.3, 29.9, 30.5, 31.0, 29.2, 35.3, 32.9, 34.3, 34.8, 36.0, 36.9, 40.2, 41.3, 24.4, 24.3, 25.2, 27.1, 30.8, 29.6, 29.3, 31.6, 34.6, 29.8, 73.3], \"colorscale\": [[0.0, \"rgb(31, 119, 180)\"], [0.1111111111111111, \"rgb(255, 127, 14)\"], [0.2222222222222222, \"rgb(44, 160, 44)\"], [0.3333333333333333, \"rgb(214, 39, 40)\"], [0.4444444444444444, \"rgb(148, 103, 189)\"], [0.5555555555555556, \"rgb(140, 86, 75)\"], [0.6666666666666666, \"rgb(227, 119, 194)\"], [0.7777777777777777, \"rgb(127, 127, 127)\"], [0.8888888888888888, \"rgb(188, 189, 34)\"], [1.0, \"rgb(23, 190, 207)\"]], \"showscale\": false, \"size\": 6}, \"mode\": \"markers\", \"showlegend\": false, \"type\": \"scatter\", \"x\": [28.0, 29.7, 27.0, 26.2, 25.6, 26.0, 17.0, 25.9, 26.1, 26.3, 25.6, 28.4, 27.2, 27.9, 29.7, 27.2, 29.4, 29.9, 22.6, 29.7, 29.3, 29.6, 30.9, 29.1, 29.1, 29.8, 31.0, 31.2, 22.0, 23.9], \"xaxis\": \"x14\", \"y\": [-8.2, -17.3, -17.3, -16.5, -16.0, -16.0, -10.0, -16.5, -17.0, -17.3, -16.0, -20.9, -18.9, -20.0, -22.0, -20.0, -22.4, -24.0, -17.2, -17.3, -16.9, -17.7, -19.8, -19.8, -19.3, -19.8, -22.0, -23.4, -13.3, -23.4], \"yaxis\": \"y14\"}, {\"marker\": {\"color\": [11.4, 24.4, 29.3, 28.5, 29.2, 28.5, 31.3, 29.9, 30.5, 31.0, 29.2, 35.3, 32.9, 34.3, 34.8, 36.0, 36.9, 40.2, 41.3, 24.4, 24.3, 25.2, 27.1, 30.8, 29.6, 29.3, 31.6, 34.6, 29.8, 73.3], \"colorscale\": [[0.0, \"rgb(31, 119, 180)\"], [0.1111111111111111, \"rgb(255, 127, 14)\"], [0.2222222222222222, \"rgb(44, 160, 44)\"], [0.3333333333333333, \"rgb(214, 39, 40)\"], [0.4444444444444444, \"rgb(148, 103, 189)\"], [0.5555555555555556, \"rgb(140, 86, 75)\"], [0.6666666666666666, \"rgb(227, 119, 194)\"], [0.7777777777777777, \"rgb(127, 127, 127)\"], [0.8888888888888888, \"rgb(188, 189, 34)\"], [1.0, \"rgb(23, 190, 207)\"]], \"showscale\": false, \"size\": 6}, \"mode\": \"markers\", \"showlegend\": false, \"type\": \"scatter\", \"x\": [-15.7, -33.1, -37.6, -36.9, -36.8, -36.1, -35.3, -37.7, -38.5, -39.1, -36.8, -44.9, -41.7, -43.5, -45.0, -45.0, -47.0, -50.7, -48.1, -33.1, -32.8, -34.1, -37.0, -40.3, -39.0, -39.0, -42.2, -45.6, -35.7, -77.0], \"xaxis\": \"x15\", \"y\": [-8.2, -17.3, -17.3, -16.5, -16.0, -16.0, -10.0, -16.5, -17.0, -17.3, -16.0, -20.9, -18.9, -20.0, -22.0, -20.0, -22.4, -24.0, -17.2, -17.3, -16.9, -17.7, -19.8, -19.8, -19.3, -19.8, -22.0, -23.4, -13.3, -23.4], \"yaxis\": \"y15\"}, {\"marker\": {\"color\": [11.4, 24.4, 29.3, 28.5, 29.2, 28.5, 31.3, 29.9, 30.5, 31.0, 29.2, 35.3, 32.9, 34.3, 34.8, 36.0, 36.9, 40.2, 41.3, 24.4, 24.3, 25.2, 27.1, 30.8, 29.6, 29.3, 31.6, 34.6, 29.8, 73.3], \"colorscale\": [[0.0, \"rgb(31, 119, 180)\"], [0.1111111111111111, \"rgb(255, 127, 14)\"], [0.2222222222222222, \"rgb(44, 160, 44)\"], [0.3333333333333333, \"rgb(214, 39, 40)\"], [0.4444444444444444, \"rgb(148, 103, 189)\"], [0.5555555555555556, \"rgb(140, 86, 75)\"], [0.6666666666666666, \"rgb(227, 119, 194)\"], [0.7777777777777777, \"rgb(127, 127, 127)\"], [0.8888888888888888, \"rgb(188, 189, 34)\"], [1.0, \"rgb(23, 190, 207)\"]], \"showscale\": false, \"size\": 6}, \"mode\": \"markers\", \"showlegend\": false, \"type\": \"scatter\", \"x\": [135.8, 134.1, 136.8, 137.7, 138.4, 138.0, 149.0, 138.1, 137.8, 137.6, 138.4, 135.3, 136.6, 135.9, 134.0, 136.6, 134.3, 133.8, 142.1, 134.1, 134.5, 134.1, 132.9, 134.6, 134.6, 133.9, 132.7, 132.5, 142.8, 140.4], \"xaxis\": \"x16\", \"y\": [-8.2, -17.3, -17.3, -16.5, -16.0, -16.0, -10.0, -16.5, -17.0, -17.3, -16.0, -20.9, -18.9, -20.0, -22.0, -20.0, -22.4, -24.0, -17.2, -17.3, -16.9, -17.7, -19.8, -19.8, -19.3, -19.8, -22.0, -23.4, -13.3, -23.4], \"yaxis\": \"y16\"}, {\"marker\": {\"color\": [11.4, 24.4, 29.3, 28.5, 29.2, 28.5, 31.3, 29.9, 30.5, 31.0, 29.2, 35.3, 32.9, 34.3, 34.8, 36.0, 36.9, 40.2, 41.3, 24.4, 24.3, 25.2, 27.1, 30.8, 29.6, 29.3, 31.6, 34.6, 29.8, 73.3], \"colorscale\": [[0.0, \"rgb(31, 119, 180)\"], [0.1111111111111111, \"rgb(255, 127, 14)\"], [0.2222222222222222, \"rgb(44, 160, 44)\"], [0.3333333333333333, \"rgb(214, 39, 40)\"], [0.4444444444444444, \"rgb(148, 103, 189)\"], [0.5555555555555556, \"rgb(140, 86, 75)\"], [0.6666666666666666, \"rgb(227, 119, 194)\"], [0.7777777777777777, \"rgb(127, 127, 127)\"], [0.8888888888888888, \"rgb(188, 189, 34)\"], [1.0, \"rgb(23, 190, 207)\"]], \"showscale\": false, \"size\": 6}, \"mode\": \"markers\", \"showlegend\": false, \"type\": \"scatter\", \"x\": [40.6, 41.7, 40.0, 39.4, 39.0, 39.3, 34.1, 39.2, 39.4, 39.5, 39.0, 40.9, 40.1, 40.5, 41.8, 40.1, 41.5, 41.9, 37.1, 41.7, 41.5, 41.7, 42.6, 41.3, 41.4, 41.8, 42.7, 42.8, 36.8, 38.0], \"xaxis\": \"x17\", \"y\": [-8.2, -17.3, -17.3, -16.5, -16.0, -16.0, -10.0, -16.5, -17.0, -17.3, -16.0, -20.9, -18.9, -20.0, -22.0, -20.0, -22.4, -24.0, -17.2, -17.3, -16.9, -17.7, -19.8, -19.8, -19.3, -19.8, -22.0, -23.4, -13.3, -23.4], \"yaxis\": \"y17\"}, {\"marker\": {\"color\": [11.4, 24.4, 29.3, 28.5, 29.2, 28.5, 31.3, 29.9, 30.5, 31.0, 29.2, 35.3, 32.9, 34.3, 34.8, 36.0, 36.9, 40.2, 41.3, 24.4, 24.3, 25.2, 27.1, 30.8, 29.6, 29.3, 31.6, 34.6, 29.8, 73.3], \"colorscale\": [[0.0, \"rgb(31, 119, 180)\"], [0.1111111111111111, \"rgb(255, 127, 14)\"], [0.2222222222222222, \"rgb(44, 160, 44)\"], [0.3333333333333333, \"rgb(214, 39, 40)\"], [0.4444444444444444, \"rgb(148, 103, 189)\"], [0.5555555555555556, \"rgb(140, 86, 75)\"], [0.6666666666666666, \"rgb(227, 119, 194)\"], [0.7777777777777777, \"rgb(127, 127, 127)\"], [0.8888888888888888, \"rgb(188, 189, 34)\"], [1.0, \"rgb(23, 190, 207)\"]], \"showscale\": false, \"size\": 6}, \"mode\": \"markers\", \"showlegend\": false, \"type\": \"scatter\", \"x\": [33.0, 6.0, 1.0, 0.0, 0.0, 0.0, 0.0, -1.7, -2.97, -4.0, 0.0, -11.2, -6.75, -9.1, -11.6, -11.8, -12.6, -16.6, -17.0, 6.0, 6.5, 5.0, 0.0, -2.0, -3.0, -2.0, -5.62, -10.7, 0.0, -54.4], \"xaxis\": \"x18\", \"y\": [-8.2, -17.3, -17.3, -16.5, -16.0, -16.0, -10.0, -16.5, -17.0, -17.3, -16.0, -20.9, -18.9, -20.0, -22.0, -20.0, -22.4, -24.0, -17.2, -17.3, -16.9, -17.7, -19.8, -19.8, -19.3, -19.8, -22.0, -23.4, -13.3, -23.4], \"yaxis\": \"y18\"}, {\"marker\": {\"color\": [11.4, 24.4, 29.3, 28.5, 29.2, 28.5, 31.3, 29.9, 30.5, 31.0, 29.2, 35.3, 32.9, 34.3, 34.8, 36.0, 36.9, 40.2, 41.3, 24.4, 24.3, 25.2, 27.1, 30.8, 29.6, 29.3, 31.6, 34.6, 29.8, 73.3], \"colorscale\": [[0.0, \"rgb(31, 119, 180)\"], [0.1111111111111111, \"rgb(255, 127, 14)\"], [0.2222222222222222, \"rgb(44, 160, 44)\"], [0.3333333333333333, \"rgb(214, 39, 40)\"], [0.4444444444444444, \"rgb(148, 103, 189)\"], [0.5555555555555556, \"rgb(140, 86, 75)\"], [0.6666666666666666, \"rgb(227, 119, 194)\"], [0.7777777777777777, \"rgb(127, 127, 127)\"], [0.8888888888888888, \"rgb(188, 189, 34)\"], [1.0, \"rgb(23, 190, 207)\"]], \"showscale\": false, \"size\": 6}, \"mode\": \"markers\", \"showlegend\": false, \"type\": \"scatter\", \"x\": [20.0, 8.0, 8.59, 7.0, 7.0, 6.8, 16.6, 6.5, 6.43, 5.0, 6.0, 1.29, 10.8, 3.5, 0.0, 0.0, 0.0, 0.0, 2.0, 8.0, 8.5, 7.7, 6.0, 4.0, 4.4, 3.8, 3.0, 0.0, 10.2, -11.3], \"xaxis\": \"x19\", \"y\": [-8.2, -17.3, -17.3, -16.5, -16.0, -16.0, -10.0, -16.5, -17.0, -17.3, -16.0, -20.9, -18.9, -20.0, -22.0, -20.0, -22.4, -24.0, -17.2, -17.3, -16.9, -17.7, -19.8, -19.8, -19.3, -19.8, -22.0, -23.4, -13.3, -23.4], \"yaxis\": \"y19\"}, {\"marker\": {\"color\": [11.4, 24.4, 29.3, 28.5, 29.2, 28.5, 31.3, 29.9, 30.5, 31.0, 29.2, 35.3, 32.9, 34.3, 34.8, 36.0, 36.9, 40.2, 41.3, 24.4, 24.3, 25.2, 27.1, 30.8, 29.6, 29.3, 31.6, 34.6, 29.8, 73.3], \"colorscale\": [[0.0, \"rgb(31, 119, 180)\"], [0.1111111111111111, \"rgb(255, 127, 14)\"], [0.2222222222222222, \"rgb(44, 160, 44)\"], [0.3333333333333333, \"rgb(214, 39, 40)\"], [0.4444444444444444, \"rgb(148, 103, 189)\"], [0.5555555555555556, \"rgb(140, 86, 75)\"], [0.6666666666666666, \"rgb(227, 119, 194)\"], [0.7777777777777777, \"rgb(127, 127, 127)\"], [0.8888888888888888, \"rgb(188, 189, 34)\"], [1.0, \"rgb(23, 190, 207)\"]], \"showscale\": false, \"size\": 6}, \"mode\": \"markers\", \"showlegend\": false, \"type\": \"scatter\", \"x\": [38.59, 10.0, 8.65, 7.0, 7.0, 6.8, 16.6, 6.72, 7.08, 6.4, 6.0, 11.27, 12.74, 9.75, 11.6, 11.8, 12.6, 16.6, 17.12, 10.0, 10.7, 9.18, 6.0, 4.47, 5.33, 4.29, 6.37, 10.7, 10.2, 55.56], \"xaxis\": \"x20\", \"y\": [-8.2, -17.3, -17.3, -16.5, -16.0, -16.0, -10.0, -16.5, -17.0, -17.3, -16.0, -20.9, -18.9, -20.0, -22.0, -20.0, -22.4, -24.0, -17.2, -17.3, -16.9, -17.7, -19.8, -19.8, -19.3, -19.8, -22.0, -23.4, -13.3, -23.4], \"yaxis\": \"y20\"}, {\"marker\": {\"color\": [11.4, 24.4, 29.3, 28.5, 29.2, 28.5, 31.3, 29.9, 30.5, 31.0, 29.2, 35.3, 32.9, 34.3, 34.8, 36.0, 36.9, 40.2, 41.3, 24.4, 24.3, 25.2, 27.1, 30.8, 29.6, 29.3, 31.6, 34.6, 29.8, 73.3], \"colorscale\": [[0.0, \"rgb(31, 119, 180)\"], [0.1111111111111111, \"rgb(255, 127, 14)\"], [0.2222222222222222, \"rgb(44, 160, 44)\"], [0.3333333333333333, \"rgb(214, 39, 40)\"], [0.4444444444444444, \"rgb(148, 103, 189)\"], [0.5555555555555556, \"rgb(140, 86, 75)\"], [0.6666666666666666, \"rgb(227, 119, 194)\"], [0.7777777777777777, \"rgb(127, 127, 127)\"], [0.8888888888888888, \"rgb(188, 189, 34)\"], [1.0, \"rgb(23, 190, 207)\"]], \"showscale\": false, \"size\": 6}, \"mode\": \"markers\", \"showlegend\": false, \"type\": \"scatter\", \"x\": [27.1, 25.5, 22.0, 21.5, 22.0, 21.5, 14.0, 21.0, 21.0, 21.0, 21.0, 21.0, 21.0, 21.0, 22.0, 20.0, 21.0, 20.0, 15.5, 25.5, 25.2, 25.2, 25.5, 23.0, 23.4, 24.0, 24.0, 23.0, 18.2, 5.7], \"xaxis\": \"x21\", \"y\": [-29.7, -29.7, -29.7, -29.7, -29.7, -29.7, -29.7, -29.7, -29.7, -29.7, -29.7, -29.7, -29.7, -29.7, -29.7, -29.7, -29.7, -29.7, -29.7, -29.7, -29.7, -29.7, -29.7, -29.7, -29.7, -29.7, -29.7, -29.7, -29.7, -29.7], \"yaxis\": \"y21\"}, {\"marker\": {\"color\": [11.4, 24.4, 29.3, 28.5, 29.2, 28.5, 31.3, 29.9, 30.5, 31.0, 29.2, 35.3, 32.9, 34.3, 34.8, 36.0, 36.9, 40.2, 41.3, 24.4, 24.3, 25.2, 27.1, 30.8, 29.6, 29.3, 31.6, 34.6, 29.8, 73.3], \"colorscale\": [[0.0, \"rgb(31, 119, 180)\"], [0.1111111111111111, \"rgb(255, 127, 14)\"], [0.2222222222222222, \"rgb(44, 160, 44)\"], [0.3333333333333333, \"rgb(214, 39, 40)\"], [0.4444444444444444, \"rgb(148, 103, 189)\"], [0.5555555555555556, \"rgb(140, 86, 75)\"], [0.6666666666666666, \"rgb(227, 119, 194)\"], [0.7777777777777777, \"rgb(127, 127, 127)\"], [0.8888888888888888, \"rgb(188, 189, 34)\"], [1.0, \"rgb(23, 190, 207)\"]], \"showscale\": false, \"size\": 6}, \"mode\": \"markers\", \"showlegend\": false, \"type\": \"scatter\", \"x\": [-8.2, -17.3, -17.3, -16.5, -16.0, -16.0, -10.0, -16.5, -17.0, -17.3, -16.0, -20.9, -18.9, -20.0, -22.0, -20.0, -22.4, -24.0, -17.2, -17.3, -16.9, -17.7, -19.8, -19.8, -19.3, -19.8, -22.0, -23.4, -13.3, -23.4], \"xaxis\": \"x22\", \"y\": [-29.7, -29.7, -29.7, -29.7, -29.7, -29.7, -29.7, -29.7, -29.7, -29.7, -29.7, -29.7, -29.7, -29.7, -29.7, -29.7, -29.7, -29.7, -29.7, -29.7, -29.7, -29.7, -29.7, -29.7, -29.7, -29.7, -29.7, -29.7, -29.7, -29.7], \"yaxis\": \"y22\"}, {\"marker\": {\"color\": \"rgb(31, 119, 180)\"}, \"showlegend\": false, \"type\": \"histogram\", \"x\": [-29.7, -29.7, -29.7, -29.7, -29.7, -29.7, -29.7, -29.7, -29.7, -29.7, -29.7, -29.7, -29.7, -29.7, -29.7, -29.7, -29.7, -29.7, -29.7, -29.7, -29.7, -29.7, -29.7, -29.7, -29.7, -29.7, -29.7, -29.7, -29.7, -29.7], \"xaxis\": \"x23\", \"yaxis\": \"y23\"}, {\"marker\": {\"color\": [11.4, 24.4, 29.3, 28.5, 29.2, 28.5, 31.3, 29.9, 30.5, 31.0, 29.2, 35.3, 32.9, 34.3, 34.8, 36.0, 36.9, 40.2, 41.3, 24.4, 24.3, 25.2, 27.1, 30.8, 29.6, 29.3, 31.6, 34.6, 29.8, 73.3], \"colorscale\": [[0.0, \"rgb(31, 119, 180)\"], [0.1111111111111111, \"rgb(255, 127, 14)\"], [0.2222222222222222, \"rgb(44, 160, 44)\"], [0.3333333333333333, \"rgb(214, 39, 40)\"], [0.4444444444444444, \"rgb(148, 103, 189)\"], [0.5555555555555556, \"rgb(140, 86, 75)\"], [0.6666666666666666, \"rgb(227, 119, 194)\"], [0.7777777777777777, \"rgb(127, 127, 127)\"], [0.8888888888888888, \"rgb(188, 189, 34)\"], [1.0, \"rgb(23, 190, 207)\"]], \"showscale\": false, \"size\": 6}, \"mode\": \"markers\", \"showlegend\": false, \"type\": \"scatter\", \"x\": [28.0, 29.7, 27.0, 26.2, 25.6, 26.0, 17.0, 25.9, 26.1, 26.3, 25.6, 28.4, 27.2, 27.9, 29.7, 27.2, 29.4, 29.9, 22.6, 29.7, 29.3, 29.6, 30.9, 29.1, 29.1, 29.8, 31.0, 31.2, 22.0, 23.9], \"xaxis\": \"x24\", \"y\": [-29.7, -29.7, -29.7, -29.7, -29.7, -29.7, -29.7, -29.7, -29.7, -29.7, -29.7, -29.7, -29.7, -29.7, -29.7, -29.7, -29.7, -29.7, -29.7, -29.7, -29.7, -29.7, -29.7, -29.7, -29.7, -29.7, -29.7, -29.7, -29.7, -29.7], \"yaxis\": \"y24\"}, {\"marker\": {\"color\": [11.4, 24.4, 29.3, 28.5, 29.2, 28.5, 31.3, 29.9, 30.5, 31.0, 29.2, 35.3, 32.9, 34.3, 34.8, 36.0, 36.9, 40.2, 41.3, 24.4, 24.3, 25.2, 27.1, 30.8, 29.6, 29.3, 31.6, 34.6, 29.8, 73.3], \"colorscale\": [[0.0, \"rgb(31, 119, 180)\"], [0.1111111111111111, \"rgb(255, 127, 14)\"], [0.2222222222222222, \"rgb(44, 160, 44)\"], [0.3333333333333333, \"rgb(214, 39, 40)\"], [0.4444444444444444, \"rgb(148, 103, 189)\"], [0.5555555555555556, \"rgb(140, 86, 75)\"], [0.6666666666666666, \"rgb(227, 119, 194)\"], [0.7777777777777777, \"rgb(127, 127, 127)\"], [0.8888888888888888, \"rgb(188, 189, 34)\"], [1.0, \"rgb(23, 190, 207)\"]], \"showscale\": false, \"size\": 6}, \"mode\": \"markers\", \"showlegend\": false, \"type\": \"scatter\", \"x\": [-15.7, -33.1, -37.6, -36.9, -36.8, -36.1, -35.3, -37.7, -38.5, -39.1, -36.8, -44.9, -41.7, -43.5, -45.0, -45.0, -47.0, -50.7, -48.1, -33.1, -32.8, -34.1, -37.0, -40.3, -39.0, -39.0, -42.2, -45.6, -35.7, -77.0], \"xaxis\": \"x25\", \"y\": [-29.7, -29.7, -29.7, -29.7, -29.7, -29.7, -29.7, -29.7, -29.7, -29.7, -29.7, -29.7, -29.7, -29.7, -29.7, -29.7, -29.7, -29.7, -29.7, -29.7, -29.7, -29.7, -29.7, -29.7, -29.7, -29.7, -29.7, -29.7, -29.7, -29.7], \"yaxis\": \"y25\"}, {\"marker\": {\"color\": [11.4, 24.4, 29.3, 28.5, 29.2, 28.5, 31.3, 29.9, 30.5, 31.0, 29.2, 35.3, 32.9, 34.3, 34.8, 36.0, 36.9, 40.2, 41.3, 24.4, 24.3, 25.2, 27.1, 30.8, 29.6, 29.3, 31.6, 34.6, 29.8, 73.3], \"colorscale\": [[0.0, \"rgb(31, 119, 180)\"], [0.1111111111111111, \"rgb(255, 127, 14)\"], [0.2222222222222222, \"rgb(44, 160, 44)\"], [0.3333333333333333, \"rgb(214, 39, 40)\"], [0.4444444444444444, \"rgb(148, 103, 189)\"], [0.5555555555555556, \"rgb(140, 86, 75)\"], [0.6666666666666666, \"rgb(227, 119, 194)\"], [0.7777777777777777, \"rgb(127, 127, 127)\"], [0.8888888888888888, \"rgb(188, 189, 34)\"], [1.0, \"rgb(23, 190, 207)\"]], \"showscale\": false, \"size\": 6}, \"mode\": \"markers\", \"showlegend\": false, \"type\": \"scatter\", \"x\": [135.8, 134.1, 136.8, 137.7, 138.4, 138.0, 149.0, 138.1, 137.8, 137.6, 138.4, 135.3, 136.6, 135.9, 134.0, 136.6, 134.3, 133.8, 142.1, 134.1, 134.5, 134.1, 132.9, 134.6, 134.6, 133.9, 132.7, 132.5, 142.8, 140.4], \"xaxis\": \"x26\", \"y\": [-29.7, -29.7, -29.7, -29.7, -29.7, -29.7, -29.7, -29.7, -29.7, -29.7, -29.7, -29.7, -29.7, -29.7, -29.7, -29.7, -29.7, -29.7, -29.7, -29.7, -29.7, -29.7, -29.7, -29.7, -29.7, -29.7, -29.7, -29.7, -29.7, -29.7], \"yaxis\": \"y26\"}, {\"marker\": {\"color\": [11.4, 24.4, 29.3, 28.5, 29.2, 28.5, 31.3, 29.9, 30.5, 31.0, 29.2, 35.3, 32.9, 34.3, 34.8, 36.0, 36.9, 40.2, 41.3, 24.4, 24.3, 25.2, 27.1, 30.8, 29.6, 29.3, 31.6, 34.6, 29.8, 73.3], \"colorscale\": [[0.0, \"rgb(31, 119, 180)\"], [0.1111111111111111, \"rgb(255, 127, 14)\"], [0.2222222222222222, \"rgb(44, 160, 44)\"], [0.3333333333333333, \"rgb(214, 39, 40)\"], [0.4444444444444444, \"rgb(148, 103, 189)\"], [0.5555555555555556, \"rgb(140, 86, 75)\"], [0.6666666666666666, \"rgb(227, 119, 194)\"], [0.7777777777777777, \"rgb(127, 127, 127)\"], [0.8888888888888888, \"rgb(188, 189, 34)\"], [1.0, \"rgb(23, 190, 207)\"]], \"showscale\": false, \"size\": 6}, \"mode\": \"markers\", \"showlegend\": false, \"type\": \"scatter\", \"x\": [40.6, 41.7, 40.0, 39.4, 39.0, 39.3, 34.1, 39.2, 39.4, 39.5, 39.0, 40.9, 40.1, 40.5, 41.8, 40.1, 41.5, 41.9, 37.1, 41.7, 41.5, 41.7, 42.6, 41.3, 41.4, 41.8, 42.7, 42.8, 36.8, 38.0], \"xaxis\": \"x27\", \"y\": [-29.7, -29.7, -29.7, -29.7, -29.7, -29.7, -29.7, -29.7, -29.7, -29.7, -29.7, -29.7, -29.7, -29.7, -29.7, -29.7, -29.7, -29.7, -29.7, -29.7, -29.7, -29.7, -29.7, -29.7, -29.7, -29.7, -29.7, -29.7, -29.7, -29.7], \"yaxis\": \"y27\"}, {\"marker\": {\"color\": [11.4, 24.4, 29.3, 28.5, 29.2, 28.5, 31.3, 29.9, 30.5, 31.0, 29.2, 35.3, 32.9, 34.3, 34.8, 36.0, 36.9, 40.2, 41.3, 24.4, 24.3, 25.2, 27.1, 30.8, 29.6, 29.3, 31.6, 34.6, 29.8, 73.3], \"colorscale\": [[0.0, \"rgb(31, 119, 180)\"], [0.1111111111111111, \"rgb(255, 127, 14)\"], [0.2222222222222222, \"rgb(44, 160, 44)\"], [0.3333333333333333, \"rgb(214, 39, 40)\"], [0.4444444444444444, \"rgb(148, 103, 189)\"], [0.5555555555555556, \"rgb(140, 86, 75)\"], [0.6666666666666666, \"rgb(227, 119, 194)\"], [0.7777777777777777, \"rgb(127, 127, 127)\"], [0.8888888888888888, \"rgb(188, 189, 34)\"], [1.0, \"rgb(23, 190, 207)\"]], \"showscale\": false, \"size\": 6}, \"mode\": \"markers\", \"showlegend\": false, \"type\": \"scatter\", \"x\": [33.0, 6.0, 1.0, 0.0, 0.0, 0.0, 0.0, -1.7, -2.97, -4.0, 0.0, -11.2, -6.75, -9.1, -11.6, -11.8, -12.6, -16.6, -17.0, 6.0, 6.5, 5.0, 0.0, -2.0, -3.0, -2.0, -5.62, -10.7, 0.0, -54.4], \"xaxis\": \"x28\", \"y\": [-29.7, -29.7, -29.7, -29.7, -29.7, -29.7, -29.7, -29.7, -29.7, -29.7, -29.7, -29.7, -29.7, -29.7, -29.7, -29.7, -29.7, -29.7, -29.7, -29.7, -29.7, -29.7, -29.7, -29.7, -29.7, -29.7, -29.7, -29.7, -29.7, -29.7], \"yaxis\": \"y28\"}, {\"marker\": {\"color\": [11.4, 24.4, 29.3, 28.5, 29.2, 28.5, 31.3, 29.9, 30.5, 31.0, 29.2, 35.3, 32.9, 34.3, 34.8, 36.0, 36.9, 40.2, 41.3, 24.4, 24.3, 25.2, 27.1, 30.8, 29.6, 29.3, 31.6, 34.6, 29.8, 73.3], \"colorscale\": [[0.0, \"rgb(31, 119, 180)\"], [0.1111111111111111, \"rgb(255, 127, 14)\"], [0.2222222222222222, \"rgb(44, 160, 44)\"], [0.3333333333333333, \"rgb(214, 39, 40)\"], [0.4444444444444444, \"rgb(148, 103, 189)\"], [0.5555555555555556, \"rgb(140, 86, 75)\"], [0.6666666666666666, \"rgb(227, 119, 194)\"], [0.7777777777777777, \"rgb(127, 127, 127)\"], [0.8888888888888888, \"rgb(188, 189, 34)\"], [1.0, \"rgb(23, 190, 207)\"]], \"showscale\": false, \"size\": 6}, \"mode\": \"markers\", \"showlegend\": false, \"type\": \"scatter\", \"x\": [20.0, 8.0, 8.59, 7.0, 7.0, 6.8, 16.6, 6.5, 6.43, 5.0, 6.0, 1.29, 10.8, 3.5, 0.0, 0.0, 0.0, 0.0, 2.0, 8.0, 8.5, 7.7, 6.0, 4.0, 4.4, 3.8, 3.0, 0.0, 10.2, -11.3], \"xaxis\": \"x29\", \"y\": [-29.7, -29.7, -29.7, -29.7, -29.7, -29.7, -29.7, -29.7, -29.7, -29.7, -29.7, -29.7, -29.7, -29.7, -29.7, -29.7, -29.7, -29.7, -29.7, -29.7, -29.7, -29.7, -29.7, -29.7, -29.7, -29.7, -29.7, -29.7, -29.7, -29.7], \"yaxis\": \"y29\"}, {\"marker\": {\"color\": [11.4, 24.4, 29.3, 28.5, 29.2, 28.5, 31.3, 29.9, 30.5, 31.0, 29.2, 35.3, 32.9, 34.3, 34.8, 36.0, 36.9, 40.2, 41.3, 24.4, 24.3, 25.2, 27.1, 30.8, 29.6, 29.3, 31.6, 34.6, 29.8, 73.3], \"colorscale\": [[0.0, \"rgb(31, 119, 180)\"], [0.1111111111111111, \"rgb(255, 127, 14)\"], [0.2222222222222222, \"rgb(44, 160, 44)\"], [0.3333333333333333, \"rgb(214, 39, 40)\"], [0.4444444444444444, \"rgb(148, 103, 189)\"], [0.5555555555555556, \"rgb(140, 86, 75)\"], [0.6666666666666666, \"rgb(227, 119, 194)\"], [0.7777777777777777, \"rgb(127, 127, 127)\"], [0.8888888888888888, \"rgb(188, 189, 34)\"], [1.0, \"rgb(23, 190, 207)\"]], \"showscale\": false, \"size\": 6}, \"mode\": \"markers\", \"showlegend\": false, \"type\": \"scatter\", \"x\": [38.59, 10.0, 8.65, 7.0, 7.0, 6.8, 16.6, 6.72, 7.08, 6.4, 6.0, 11.27, 12.74, 9.75, 11.6, 11.8, 12.6, 16.6, 17.12, 10.0, 10.7, 9.18, 6.0, 4.47, 5.33, 4.29, 6.37, 10.7, 10.2, 55.56], \"xaxis\": \"x30\", \"y\": [-29.7, -29.7, -29.7, -29.7, -29.7, -29.7, -29.7, -29.7, -29.7, -29.7, -29.7, -29.7, -29.7, -29.7, -29.7, -29.7, -29.7, -29.7, -29.7, -29.7, -29.7, -29.7, -29.7, -29.7, -29.7, -29.7, -29.7, -29.7, -29.7, -29.7], \"yaxis\": \"y30\"}, {\"marker\": {\"color\": [11.4, 24.4, 29.3, 28.5, 29.2, 28.5, 31.3, 29.9, 30.5, 31.0, 29.2, 35.3, 32.9, 34.3, 34.8, 36.0, 36.9, 40.2, 41.3, 24.4, 24.3, 25.2, 27.1, 30.8, 29.6, 29.3, 31.6, 34.6, 29.8, 73.3], \"colorscale\": [[0.0, \"rgb(31, 119, 180)\"], [0.1111111111111111, \"rgb(255, 127, 14)\"], [0.2222222222222222, \"rgb(44, 160, 44)\"], [0.3333333333333333, \"rgb(214, 39, 40)\"], [0.4444444444444444, \"rgb(148, 103, 189)\"], [0.5555555555555556, \"rgb(140, 86, 75)\"], [0.6666666666666666, \"rgb(227, 119, 194)\"], [0.7777777777777777, \"rgb(127, 127, 127)\"], [0.8888888888888888, \"rgb(188, 189, 34)\"], [1.0, \"rgb(23, 190, 207)\"]], \"showscale\": false, \"size\": 6}, \"mode\": \"markers\", \"showlegend\": false, \"type\": \"scatter\", \"x\": [27.1, 25.5, 22.0, 21.5, 22.0, 21.5, 14.0, 21.0, 21.0, 21.0, 21.0, 21.0, 21.0, 21.0, 22.0, 20.0, 21.0, 20.0, 15.5, 25.5, 25.2, 25.2, 25.5, 23.0, 23.4, 24.0, 24.0, 23.0, 18.2, 5.7], \"xaxis\": \"x31\", \"y\": [28.0, 29.7, 27.0, 26.2, 25.6, 26.0, 17.0, 25.9, 26.1, 26.3, 25.6, 28.4, 27.2, 27.9, 29.7, 27.2, 29.4, 29.9, 22.6, 29.7, 29.3, 29.6, 30.9, 29.1, 29.1, 29.8, 31.0, 31.2, 22.0, 23.9], \"yaxis\": \"y31\"}, {\"marker\": {\"color\": [11.4, 24.4, 29.3, 28.5, 29.2, 28.5, 31.3, 29.9, 30.5, 31.0, 29.2, 35.3, 32.9, 34.3, 34.8, 36.0, 36.9, 40.2, 41.3, 24.4, 24.3, 25.2, 27.1, 30.8, 29.6, 29.3, 31.6, 34.6, 29.8, 73.3], \"colorscale\": [[0.0, \"rgb(31, 119, 180)\"], [0.1111111111111111, \"rgb(255, 127, 14)\"], [0.2222222222222222, \"rgb(44, 160, 44)\"], [0.3333333333333333, \"rgb(214, 39, 40)\"], [0.4444444444444444, \"rgb(148, 103, 189)\"], [0.5555555555555556, \"rgb(140, 86, 75)\"], [0.6666666666666666, \"rgb(227, 119, 194)\"], [0.7777777777777777, \"rgb(127, 127, 127)\"], [0.8888888888888888, \"rgb(188, 189, 34)\"], [1.0, \"rgb(23, 190, 207)\"]], \"showscale\": false, \"size\": 6}, \"mode\": \"markers\", \"showlegend\": false, \"type\": \"scatter\", \"x\": [-8.2, -17.3, -17.3, -16.5, -16.0, -16.0, -10.0, -16.5, -17.0, -17.3, -16.0, -20.9, -18.9, -20.0, -22.0, -20.0, -22.4, -24.0, -17.2, -17.3, -16.9, -17.7, -19.8, -19.8, -19.3, -19.8, -22.0, -23.4, -13.3, -23.4], \"xaxis\": \"x32\", \"y\": [28.0, 29.7, 27.0, 26.2, 25.6, 26.0, 17.0, 25.9, 26.1, 26.3, 25.6, 28.4, 27.2, 27.9, 29.7, 27.2, 29.4, 29.9, 22.6, 29.7, 29.3, 29.6, 30.9, 29.1, 29.1, 29.8, 31.0, 31.2, 22.0, 23.9], \"yaxis\": \"y32\"}, {\"marker\": {\"color\": [11.4, 24.4, 29.3, 28.5, 29.2, 28.5, 31.3, 29.9, 30.5, 31.0, 29.2, 35.3, 32.9, 34.3, 34.8, 36.0, 36.9, 40.2, 41.3, 24.4, 24.3, 25.2, 27.1, 30.8, 29.6, 29.3, 31.6, 34.6, 29.8, 73.3], \"colorscale\": [[0.0, \"rgb(31, 119, 180)\"], [0.1111111111111111, \"rgb(255, 127, 14)\"], [0.2222222222222222, \"rgb(44, 160, 44)\"], [0.3333333333333333, \"rgb(214, 39, 40)\"], [0.4444444444444444, \"rgb(148, 103, 189)\"], [0.5555555555555556, \"rgb(140, 86, 75)\"], [0.6666666666666666, \"rgb(227, 119, 194)\"], [0.7777777777777777, \"rgb(127, 127, 127)\"], [0.8888888888888888, \"rgb(188, 189, 34)\"], [1.0, \"rgb(23, 190, 207)\"]], \"showscale\": false, \"size\": 6}, \"mode\": \"markers\", \"showlegend\": false, \"type\": \"scatter\", \"x\": [-29.7, -29.7, -29.7, -29.7, -29.7, -29.7, -29.7, -29.7, -29.7, -29.7, -29.7, -29.7, -29.7, -29.7, -29.7, -29.7, -29.7, -29.7, -29.7, -29.7, -29.7, -29.7, -29.7, -29.7, -29.7, -29.7, -29.7, -29.7, -29.7, -29.7], \"xaxis\": \"x33\", \"y\": [28.0, 29.7, 27.0, 26.2, 25.6, 26.0, 17.0, 25.9, 26.1, 26.3, 25.6, 28.4, 27.2, 27.9, 29.7, 27.2, 29.4, 29.9, 22.6, 29.7, 29.3, 29.6, 30.9, 29.1, 29.1, 29.8, 31.0, 31.2, 22.0, 23.9], \"yaxis\": \"y33\"}, {\"marker\": {\"color\": \"rgb(31, 119, 180)\"}, \"showlegend\": false, \"type\": \"histogram\", \"x\": [28.0, 29.7, 27.0, 26.2, 25.6, 26.0, 17.0, 25.9, 26.1, 26.3, 25.6, 28.4, 27.2, 27.9, 29.7, 27.2, 29.4, 29.9, 22.6, 29.7, 29.3, 29.6, 30.9, 29.1, 29.1, 29.8, 31.0, 31.2, 22.0, 23.9], \"xaxis\": \"x34\", \"yaxis\": \"y34\"}, {\"marker\": {\"color\": [11.4, 24.4, 29.3, 28.5, 29.2, 28.5, 31.3, 29.9, 30.5, 31.0, 29.2, 35.3, 32.9, 34.3, 34.8, 36.0, 36.9, 40.2, 41.3, 24.4, 24.3, 25.2, 27.1, 30.8, 29.6, 29.3, 31.6, 34.6, 29.8, 73.3], \"colorscale\": [[0.0, \"rgb(31, 119, 180)\"], [0.1111111111111111, \"rgb(255, 127, 14)\"], [0.2222222222222222, \"rgb(44, 160, 44)\"], [0.3333333333333333, \"rgb(214, 39, 40)\"], [0.4444444444444444, \"rgb(148, 103, 189)\"], [0.5555555555555556, \"rgb(140, 86, 75)\"], [0.6666666666666666, \"rgb(227, 119, 194)\"], [0.7777777777777777, \"rgb(127, 127, 127)\"], [0.8888888888888888, \"rgb(188, 189, 34)\"], [1.0, \"rgb(23, 190, 207)\"]], \"showscale\": false, \"size\": 6}, \"mode\": \"markers\", \"showlegend\": false, \"type\": \"scatter\", \"x\": [-15.7, -33.1, -37.6, -36.9, -36.8, -36.1, -35.3, -37.7, -38.5, -39.1, -36.8, -44.9, -41.7, -43.5, -45.0, -45.0, -47.0, -50.7, -48.1, -33.1, -32.8, -34.1, -37.0, -40.3, -39.0, -39.0, -42.2, -45.6, -35.7, -77.0], \"xaxis\": \"x35\", \"y\": [28.0, 29.7, 27.0, 26.2, 25.6, 26.0, 17.0, 25.9, 26.1, 26.3, 25.6, 28.4, 27.2, 27.9, 29.7, 27.2, 29.4, 29.9, 22.6, 29.7, 29.3, 29.6, 30.9, 29.1, 29.1, 29.8, 31.0, 31.2, 22.0, 23.9], \"yaxis\": \"y35\"}, {\"marker\": {\"color\": [11.4, 24.4, 29.3, 28.5, 29.2, 28.5, 31.3, 29.9, 30.5, 31.0, 29.2, 35.3, 32.9, 34.3, 34.8, 36.0, 36.9, 40.2, 41.3, 24.4, 24.3, 25.2, 27.1, 30.8, 29.6, 29.3, 31.6, 34.6, 29.8, 73.3], \"colorscale\": [[0.0, \"rgb(31, 119, 180)\"], [0.1111111111111111, \"rgb(255, 127, 14)\"], [0.2222222222222222, \"rgb(44, 160, 44)\"], [0.3333333333333333, \"rgb(214, 39, 40)\"], [0.4444444444444444, \"rgb(148, 103, 189)\"], [0.5555555555555556, \"rgb(140, 86, 75)\"], [0.6666666666666666, \"rgb(227, 119, 194)\"], [0.7777777777777777, \"rgb(127, 127, 127)\"], [0.8888888888888888, \"rgb(188, 189, 34)\"], [1.0, \"rgb(23, 190, 207)\"]], \"showscale\": false, \"size\": 6}, \"mode\": \"markers\", \"showlegend\": false, \"type\": \"scatter\", \"x\": [135.8, 134.1, 136.8, 137.7, 138.4, 138.0, 149.0, 138.1, 137.8, 137.6, 138.4, 135.3, 136.6, 135.9, 134.0, 136.6, 134.3, 133.8, 142.1, 134.1, 134.5, 134.1, 132.9, 134.6, 134.6, 133.9, 132.7, 132.5, 142.8, 140.4], \"xaxis\": \"x36\", \"y\": [28.0, 29.7, 27.0, 26.2, 25.6, 26.0, 17.0, 25.9, 26.1, 26.3, 25.6, 28.4, 27.2, 27.9, 29.7, 27.2, 29.4, 29.9, 22.6, 29.7, 29.3, 29.6, 30.9, 29.1, 29.1, 29.8, 31.0, 31.2, 22.0, 23.9], \"yaxis\": \"y36\"}, {\"marker\": {\"color\": [11.4, 24.4, 29.3, 28.5, 29.2, 28.5, 31.3, 29.9, 30.5, 31.0, 29.2, 35.3, 32.9, 34.3, 34.8, 36.0, 36.9, 40.2, 41.3, 24.4, 24.3, 25.2, 27.1, 30.8, 29.6, 29.3, 31.6, 34.6, 29.8, 73.3], \"colorscale\": [[0.0, \"rgb(31, 119, 180)\"], [0.1111111111111111, \"rgb(255, 127, 14)\"], [0.2222222222222222, \"rgb(44, 160, 44)\"], [0.3333333333333333, \"rgb(214, 39, 40)\"], [0.4444444444444444, \"rgb(148, 103, 189)\"], [0.5555555555555556, \"rgb(140, 86, 75)\"], [0.6666666666666666, \"rgb(227, 119, 194)\"], [0.7777777777777777, \"rgb(127, 127, 127)\"], [0.8888888888888888, \"rgb(188, 189, 34)\"], [1.0, \"rgb(23, 190, 207)\"]], \"showscale\": false, \"size\": 6}, \"mode\": \"markers\", \"showlegend\": false, \"type\": \"scatter\", \"x\": [40.6, 41.7, 40.0, 39.4, 39.0, 39.3, 34.1, 39.2, 39.4, 39.5, 39.0, 40.9, 40.1, 40.5, 41.8, 40.1, 41.5, 41.9, 37.1, 41.7, 41.5, 41.7, 42.6, 41.3, 41.4, 41.8, 42.7, 42.8, 36.8, 38.0], \"xaxis\": \"x37\", \"y\": [28.0, 29.7, 27.0, 26.2, 25.6, 26.0, 17.0, 25.9, 26.1, 26.3, 25.6, 28.4, 27.2, 27.9, 29.7, 27.2, 29.4, 29.9, 22.6, 29.7, 29.3, 29.6, 30.9, 29.1, 29.1, 29.8, 31.0, 31.2, 22.0, 23.9], \"yaxis\": \"y37\"}, {\"marker\": {\"color\": [11.4, 24.4, 29.3, 28.5, 29.2, 28.5, 31.3, 29.9, 30.5, 31.0, 29.2, 35.3, 32.9, 34.3, 34.8, 36.0, 36.9, 40.2, 41.3, 24.4, 24.3, 25.2, 27.1, 30.8, 29.6, 29.3, 31.6, 34.6, 29.8, 73.3], \"colorscale\": [[0.0, \"rgb(31, 119, 180)\"], [0.1111111111111111, \"rgb(255, 127, 14)\"], [0.2222222222222222, \"rgb(44, 160, 44)\"], [0.3333333333333333, \"rgb(214, 39, 40)\"], [0.4444444444444444, \"rgb(148, 103, 189)\"], [0.5555555555555556, \"rgb(140, 86, 75)\"], [0.6666666666666666, \"rgb(227, 119, 194)\"], [0.7777777777777777, \"rgb(127, 127, 127)\"], [0.8888888888888888, \"rgb(188, 189, 34)\"], [1.0, \"rgb(23, 190, 207)\"]], \"showscale\": false, \"size\": 6}, \"mode\": \"markers\", \"showlegend\": false, \"type\": \"scatter\", \"x\": [33.0, 6.0, 1.0, 0.0, 0.0, 0.0, 0.0, -1.7, -2.97, -4.0, 0.0, -11.2, -6.75, -9.1, -11.6, -11.8, -12.6, -16.6, -17.0, 6.0, 6.5, 5.0, 0.0, -2.0, -3.0, -2.0, -5.62, -10.7, 0.0, -54.4], \"xaxis\": \"x38\", \"y\": [28.0, 29.7, 27.0, 26.2, 25.6, 26.0, 17.0, 25.9, 26.1, 26.3, 25.6, 28.4, 27.2, 27.9, 29.7, 27.2, 29.4, 29.9, 22.6, 29.7, 29.3, 29.6, 30.9, 29.1, 29.1, 29.8, 31.0, 31.2, 22.0, 23.9], \"yaxis\": \"y38\"}, {\"marker\": {\"color\": [11.4, 24.4, 29.3, 28.5, 29.2, 28.5, 31.3, 29.9, 30.5, 31.0, 29.2, 35.3, 32.9, 34.3, 34.8, 36.0, 36.9, 40.2, 41.3, 24.4, 24.3, 25.2, 27.1, 30.8, 29.6, 29.3, 31.6, 34.6, 29.8, 73.3], \"colorscale\": [[0.0, \"rgb(31, 119, 180)\"], [0.1111111111111111, \"rgb(255, 127, 14)\"], [0.2222222222222222, \"rgb(44, 160, 44)\"], [0.3333333333333333, \"rgb(214, 39, 40)\"], [0.4444444444444444, \"rgb(148, 103, 189)\"], [0.5555555555555556, \"rgb(140, 86, 75)\"], [0.6666666666666666, \"rgb(227, 119, 194)\"], [0.7777777777777777, \"rgb(127, 127, 127)\"], [0.8888888888888888, \"rgb(188, 189, 34)\"], [1.0, \"rgb(23, 190, 207)\"]], \"showscale\": false, \"size\": 6}, \"mode\": \"markers\", \"showlegend\": false, \"type\": \"scatter\", \"x\": [20.0, 8.0, 8.59, 7.0, 7.0, 6.8, 16.6, 6.5, 6.43, 5.0, 6.0, 1.29, 10.8, 3.5, 0.0, 0.0, 0.0, 0.0, 2.0, 8.0, 8.5, 7.7, 6.0, 4.0, 4.4, 3.8, 3.0, 0.0, 10.2, -11.3], \"xaxis\": \"x39\", \"y\": [28.0, 29.7, 27.0, 26.2, 25.6, 26.0, 17.0, 25.9, 26.1, 26.3, 25.6, 28.4, 27.2, 27.9, 29.7, 27.2, 29.4, 29.9, 22.6, 29.7, 29.3, 29.6, 30.9, 29.1, 29.1, 29.8, 31.0, 31.2, 22.0, 23.9], \"yaxis\": \"y39\"}, {\"marker\": {\"color\": [11.4, 24.4, 29.3, 28.5, 29.2, 28.5, 31.3, 29.9, 30.5, 31.0, 29.2, 35.3, 32.9, 34.3, 34.8, 36.0, 36.9, 40.2, 41.3, 24.4, 24.3, 25.2, 27.1, 30.8, 29.6, 29.3, 31.6, 34.6, 29.8, 73.3], \"colorscale\": [[0.0, \"rgb(31, 119, 180)\"], [0.1111111111111111, \"rgb(255, 127, 14)\"], [0.2222222222222222, \"rgb(44, 160, 44)\"], [0.3333333333333333, \"rgb(214, 39, 40)\"], [0.4444444444444444, \"rgb(148, 103, 189)\"], [0.5555555555555556, \"rgb(140, 86, 75)\"], [0.6666666666666666, \"rgb(227, 119, 194)\"], [0.7777777777777777, \"rgb(127, 127, 127)\"], [0.8888888888888888, \"rgb(188, 189, 34)\"], [1.0, \"rgb(23, 190, 207)\"]], \"showscale\": false, \"size\": 6}, \"mode\": \"markers\", \"showlegend\": false, \"type\": \"scatter\", \"x\": [38.59, 10.0, 8.65, 7.0, 7.0, 6.8, 16.6, 6.72, 7.08, 6.4, 6.0, 11.27, 12.74, 9.75, 11.6, 11.8, 12.6, 16.6, 17.12, 10.0, 10.7, 9.18, 6.0, 4.47, 5.33, 4.29, 6.37, 10.7, 10.2, 55.56], \"xaxis\": \"x40\", \"y\": [28.0, 29.7, 27.0, 26.2, 25.6, 26.0, 17.0, 25.9, 26.1, 26.3, 25.6, 28.4, 27.2, 27.9, 29.7, 27.2, 29.4, 29.9, 22.6, 29.7, 29.3, 29.6, 30.9, 29.1, 29.1, 29.8, 31.0, 31.2, 22.0, 23.9], \"yaxis\": \"y40\"}, {\"marker\": {\"color\": [11.4, 24.4, 29.3, 28.5, 29.2, 28.5, 31.3, 29.9, 30.5, 31.0, 29.2, 35.3, 32.9, 34.3, 34.8, 36.0, 36.9, 40.2, 41.3, 24.4, 24.3, 25.2, 27.1, 30.8, 29.6, 29.3, 31.6, 34.6, 29.8, 73.3], \"colorscale\": [[0.0, \"rgb(31, 119, 180)\"], [0.1111111111111111, \"rgb(255, 127, 14)\"], [0.2222222222222222, \"rgb(44, 160, 44)\"], [0.3333333333333333, \"rgb(214, 39, 40)\"], [0.4444444444444444, \"rgb(148, 103, 189)\"], [0.5555555555555556, \"rgb(140, 86, 75)\"], [0.6666666666666666, \"rgb(227, 119, 194)\"], [0.7777777777777777, \"rgb(127, 127, 127)\"], [0.8888888888888888, \"rgb(188, 189, 34)\"], [1.0, \"rgb(23, 190, 207)\"]], \"showscale\": false, \"size\": 6}, \"mode\": \"markers\", \"showlegend\": false, \"type\": \"scatter\", \"x\": [27.1, 25.5, 22.0, 21.5, 22.0, 21.5, 14.0, 21.0, 21.0, 21.0, 21.0, 21.0, 21.0, 21.0, 22.0, 20.0, 21.0, 20.0, 15.5, 25.5, 25.2, 25.2, 25.5, 23.0, 23.4, 24.0, 24.0, 23.0, 18.2, 5.7], \"xaxis\": \"x41\", \"y\": [-15.7, -33.1, -37.6, -36.9, -36.8, -36.1, -35.3, -37.7, -38.5, -39.1, -36.8, -44.9, -41.7, -43.5, -45.0, -45.0, -47.0, -50.7, -48.1, -33.1, -32.8, -34.1, -37.0, -40.3, -39.0, -39.0, -42.2, -45.6, -35.7, -77.0], \"yaxis\": \"y41\"}, {\"marker\": {\"color\": [11.4, 24.4, 29.3, 28.5, 29.2, 28.5, 31.3, 29.9, 30.5, 31.0, 29.2, 35.3, 32.9, 34.3, 34.8, 36.0, 36.9, 40.2, 41.3, 24.4, 24.3, 25.2, 27.1, 30.8, 29.6, 29.3, 31.6, 34.6, 29.8, 73.3], \"colorscale\": [[0.0, \"rgb(31, 119, 180)\"], [0.1111111111111111, \"rgb(255, 127, 14)\"], [0.2222222222222222, \"rgb(44, 160, 44)\"], [0.3333333333333333, \"rgb(214, 39, 40)\"], [0.4444444444444444, \"rgb(148, 103, 189)\"], [0.5555555555555556, \"rgb(140, 86, 75)\"], [0.6666666666666666, \"rgb(227, 119, 194)\"], [0.7777777777777777, \"rgb(127, 127, 127)\"], [0.8888888888888888, \"rgb(188, 189, 34)\"], [1.0, \"rgb(23, 190, 207)\"]], \"showscale\": false, \"size\": 6}, \"mode\": \"markers\", \"showlegend\": false, \"type\": \"scatter\", \"x\": [-8.2, -17.3, -17.3, -16.5, -16.0, -16.0, -10.0, -16.5, -17.0, -17.3, -16.0, -20.9, -18.9, -20.0, -22.0, -20.0, -22.4, -24.0, -17.2, -17.3, -16.9, -17.7, -19.8, -19.8, -19.3, -19.8, -22.0, -23.4, -13.3, -23.4], \"xaxis\": \"x42\", \"y\": [-15.7, -33.1, -37.6, -36.9, -36.8, -36.1, -35.3, -37.7, -38.5, -39.1, -36.8, -44.9, -41.7, -43.5, -45.0, -45.0, -47.0, -50.7, -48.1, -33.1, -32.8, -34.1, -37.0, -40.3, -39.0, -39.0, -42.2, -45.6, -35.7, -77.0], \"yaxis\": \"y42\"}, {\"marker\": {\"color\": [11.4, 24.4, 29.3, 28.5, 29.2, 28.5, 31.3, 29.9, 30.5, 31.0, 29.2, 35.3, 32.9, 34.3, 34.8, 36.0, 36.9, 40.2, 41.3, 24.4, 24.3, 25.2, 27.1, 30.8, 29.6, 29.3, 31.6, 34.6, 29.8, 73.3], \"colorscale\": [[0.0, \"rgb(31, 119, 180)\"], [0.1111111111111111, \"rgb(255, 127, 14)\"], [0.2222222222222222, \"rgb(44, 160, 44)\"], [0.3333333333333333, \"rgb(214, 39, 40)\"], [0.4444444444444444, \"rgb(148, 103, 189)\"], [0.5555555555555556, \"rgb(140, 86, 75)\"], [0.6666666666666666, \"rgb(227, 119, 194)\"], [0.7777777777777777, \"rgb(127, 127, 127)\"], [0.8888888888888888, \"rgb(188, 189, 34)\"], [1.0, \"rgb(23, 190, 207)\"]], \"showscale\": false, \"size\": 6}, \"mode\": \"markers\", \"showlegend\": false, \"type\": \"scatter\", \"x\": [-29.7, -29.7, -29.7, -29.7, -29.7, -29.7, -29.7, -29.7, -29.7, -29.7, -29.7, -29.7, -29.7, -29.7, -29.7, -29.7, -29.7, -29.7, -29.7, -29.7, -29.7, -29.7, -29.7, -29.7, -29.7, -29.7, -29.7, -29.7, -29.7, -29.7], \"xaxis\": \"x43\", \"y\": [-15.7, -33.1, -37.6, -36.9, -36.8, -36.1, -35.3, -37.7, -38.5, -39.1, -36.8, -44.9, -41.7, -43.5, -45.0, -45.0, -47.0, -50.7, -48.1, -33.1, -32.8, -34.1, -37.0, -40.3, -39.0, -39.0, -42.2, -45.6, -35.7, -77.0], \"yaxis\": \"y43\"}, {\"marker\": {\"color\": [11.4, 24.4, 29.3, 28.5, 29.2, 28.5, 31.3, 29.9, 30.5, 31.0, 29.2, 35.3, 32.9, 34.3, 34.8, 36.0, 36.9, 40.2, 41.3, 24.4, 24.3, 25.2, 27.1, 30.8, 29.6, 29.3, 31.6, 34.6, 29.8, 73.3], \"colorscale\": [[0.0, \"rgb(31, 119, 180)\"], [0.1111111111111111, \"rgb(255, 127, 14)\"], [0.2222222222222222, \"rgb(44, 160, 44)\"], [0.3333333333333333, \"rgb(214, 39, 40)\"], [0.4444444444444444, \"rgb(148, 103, 189)\"], [0.5555555555555556, \"rgb(140, 86, 75)\"], [0.6666666666666666, \"rgb(227, 119, 194)\"], [0.7777777777777777, \"rgb(127, 127, 127)\"], [0.8888888888888888, \"rgb(188, 189, 34)\"], [1.0, \"rgb(23, 190, 207)\"]], \"showscale\": false, \"size\": 6}, \"mode\": \"markers\", \"showlegend\": false, \"type\": \"scatter\", \"x\": [28.0, 29.7, 27.0, 26.2, 25.6, 26.0, 17.0, 25.9, 26.1, 26.3, 25.6, 28.4, 27.2, 27.9, 29.7, 27.2, 29.4, 29.9, 22.6, 29.7, 29.3, 29.6, 30.9, 29.1, 29.1, 29.8, 31.0, 31.2, 22.0, 23.9], \"xaxis\": \"x44\", \"y\": [-15.7, -33.1, -37.6, -36.9, -36.8, -36.1, -35.3, -37.7, -38.5, -39.1, -36.8, -44.9, -41.7, -43.5, -45.0, -45.0, -47.0, -50.7, -48.1, -33.1, -32.8, -34.1, -37.0, -40.3, -39.0, -39.0, -42.2, -45.6, -35.7, -77.0], \"yaxis\": \"y44\"}, {\"marker\": {\"color\": \"rgb(31, 119, 180)\"}, \"showlegend\": false, \"type\": \"histogram\", \"x\": [-15.7, -33.1, -37.6, -36.9, -36.8, -36.1, -35.3, -37.7, -38.5, -39.1, -36.8, -44.9, -41.7, -43.5, -45.0, -45.0, -47.0, -50.7, -48.1, -33.1, -32.8, -34.1, -37.0, -40.3, -39.0, -39.0, -42.2, -45.6, -35.7, -77.0], \"xaxis\": \"x45\", \"yaxis\": \"y45\"}, {\"marker\": {\"color\": [11.4, 24.4, 29.3, 28.5, 29.2, 28.5, 31.3, 29.9, 30.5, 31.0, 29.2, 35.3, 32.9, 34.3, 34.8, 36.0, 36.9, 40.2, 41.3, 24.4, 24.3, 25.2, 27.1, 30.8, 29.6, 29.3, 31.6, 34.6, 29.8, 73.3], \"colorscale\": [[0.0, \"rgb(31, 119, 180)\"], [0.1111111111111111, \"rgb(255, 127, 14)\"], [0.2222222222222222, \"rgb(44, 160, 44)\"], [0.3333333333333333, \"rgb(214, 39, 40)\"], [0.4444444444444444, \"rgb(148, 103, 189)\"], [0.5555555555555556, \"rgb(140, 86, 75)\"], [0.6666666666666666, \"rgb(227, 119, 194)\"], [0.7777777777777777, \"rgb(127, 127, 127)\"], [0.8888888888888888, \"rgb(188, 189, 34)\"], [1.0, \"rgb(23, 190, 207)\"]], \"showscale\": false, \"size\": 6}, \"mode\": \"markers\", \"showlegend\": false, \"type\": \"scatter\", \"x\": [135.8, 134.1, 136.8, 137.7, 138.4, 138.0, 149.0, 138.1, 137.8, 137.6, 138.4, 135.3, 136.6, 135.9, 134.0, 136.6, 134.3, 133.8, 142.1, 134.1, 134.5, 134.1, 132.9, 134.6, 134.6, 133.9, 132.7, 132.5, 142.8, 140.4], \"xaxis\": \"x46\", \"y\": [-15.7, -33.1, -37.6, -36.9, -36.8, -36.1, -35.3, -37.7, -38.5, -39.1, -36.8, -44.9, -41.7, -43.5, -45.0, -45.0, -47.0, -50.7, -48.1, -33.1, -32.8, -34.1, -37.0, -40.3, -39.0, -39.0, -42.2, -45.6, -35.7, -77.0], \"yaxis\": \"y46\"}, {\"marker\": {\"color\": [11.4, 24.4, 29.3, 28.5, 29.2, 28.5, 31.3, 29.9, 30.5, 31.0, 29.2, 35.3, 32.9, 34.3, 34.8, 36.0, 36.9, 40.2, 41.3, 24.4, 24.3, 25.2, 27.1, 30.8, 29.6, 29.3, 31.6, 34.6, 29.8, 73.3], \"colorscale\": [[0.0, \"rgb(31, 119, 180)\"], [0.1111111111111111, \"rgb(255, 127, 14)\"], [0.2222222222222222, \"rgb(44, 160, 44)\"], [0.3333333333333333, \"rgb(214, 39, 40)\"], [0.4444444444444444, \"rgb(148, 103, 189)\"], [0.5555555555555556, \"rgb(140, 86, 75)\"], [0.6666666666666666, \"rgb(227, 119, 194)\"], [0.7777777777777777, \"rgb(127, 127, 127)\"], [0.8888888888888888, \"rgb(188, 189, 34)\"], [1.0, \"rgb(23, 190, 207)\"]], \"showscale\": false, \"size\": 6}, \"mode\": \"markers\", \"showlegend\": false, \"type\": \"scatter\", \"x\": [40.6, 41.7, 40.0, 39.4, 39.0, 39.3, 34.1, 39.2, 39.4, 39.5, 39.0, 40.9, 40.1, 40.5, 41.8, 40.1, 41.5, 41.9, 37.1, 41.7, 41.5, 41.7, 42.6, 41.3, 41.4, 41.8, 42.7, 42.8, 36.8, 38.0], \"xaxis\": \"x47\", \"y\": [-15.7, -33.1, -37.6, -36.9, -36.8, -36.1, -35.3, -37.7, -38.5, -39.1, -36.8, -44.9, -41.7, -43.5, -45.0, -45.0, -47.0, -50.7, -48.1, -33.1, -32.8, -34.1, -37.0, -40.3, -39.0, -39.0, -42.2, -45.6, -35.7, -77.0], \"yaxis\": \"y47\"}, {\"marker\": {\"color\": [11.4, 24.4, 29.3, 28.5, 29.2, 28.5, 31.3, 29.9, 30.5, 31.0, 29.2, 35.3, 32.9, 34.3, 34.8, 36.0, 36.9, 40.2, 41.3, 24.4, 24.3, 25.2, 27.1, 30.8, 29.6, 29.3, 31.6, 34.6, 29.8, 73.3], \"colorscale\": [[0.0, \"rgb(31, 119, 180)\"], [0.1111111111111111, \"rgb(255, 127, 14)\"], [0.2222222222222222, \"rgb(44, 160, 44)\"], [0.3333333333333333, \"rgb(214, 39, 40)\"], [0.4444444444444444, \"rgb(148, 103, 189)\"], [0.5555555555555556, \"rgb(140, 86, 75)\"], [0.6666666666666666, \"rgb(227, 119, 194)\"], [0.7777777777777777, \"rgb(127, 127, 127)\"], [0.8888888888888888, \"rgb(188, 189, 34)\"], [1.0, \"rgb(23, 190, 207)\"]], \"showscale\": false, \"size\": 6}, \"mode\": \"markers\", \"showlegend\": false, \"type\": \"scatter\", \"x\": [33.0, 6.0, 1.0, 0.0, 0.0, 0.0, 0.0, -1.7, -2.97, -4.0, 0.0, -11.2, -6.75, -9.1, -11.6, -11.8, -12.6, -16.6, -17.0, 6.0, 6.5, 5.0, 0.0, -2.0, -3.0, -2.0, -5.62, -10.7, 0.0, -54.4], \"xaxis\": \"x48\", \"y\": [-15.7, -33.1, -37.6, -36.9, -36.8, -36.1, -35.3, -37.7, -38.5, -39.1, -36.8, -44.9, -41.7, -43.5, -45.0, -45.0, -47.0, -50.7, -48.1, -33.1, -32.8, -34.1, -37.0, -40.3, -39.0, -39.0, -42.2, -45.6, -35.7, -77.0], \"yaxis\": \"y48\"}, {\"marker\": {\"color\": [11.4, 24.4, 29.3, 28.5, 29.2, 28.5, 31.3, 29.9, 30.5, 31.0, 29.2, 35.3, 32.9, 34.3, 34.8, 36.0, 36.9, 40.2, 41.3, 24.4, 24.3, 25.2, 27.1, 30.8, 29.6, 29.3, 31.6, 34.6, 29.8, 73.3], \"colorscale\": [[0.0, \"rgb(31, 119, 180)\"], [0.1111111111111111, \"rgb(255, 127, 14)\"], [0.2222222222222222, \"rgb(44, 160, 44)\"], [0.3333333333333333, \"rgb(214, 39, 40)\"], [0.4444444444444444, \"rgb(148, 103, 189)\"], [0.5555555555555556, \"rgb(140, 86, 75)\"], [0.6666666666666666, \"rgb(227, 119, 194)\"], [0.7777777777777777, \"rgb(127, 127, 127)\"], [0.8888888888888888, \"rgb(188, 189, 34)\"], [1.0, \"rgb(23, 190, 207)\"]], \"showscale\": false, \"size\": 6}, \"mode\": \"markers\", \"showlegend\": false, \"type\": \"scatter\", \"x\": [20.0, 8.0, 8.59, 7.0, 7.0, 6.8, 16.6, 6.5, 6.43, 5.0, 6.0, 1.29, 10.8, 3.5, 0.0, 0.0, 0.0, 0.0, 2.0, 8.0, 8.5, 7.7, 6.0, 4.0, 4.4, 3.8, 3.0, 0.0, 10.2, -11.3], \"xaxis\": \"x49\", \"y\": [-15.7, -33.1, -37.6, -36.9, -36.8, -36.1, -35.3, -37.7, -38.5, -39.1, -36.8, -44.9, -41.7, -43.5, -45.0, -45.0, -47.0, -50.7, -48.1, -33.1, -32.8, -34.1, -37.0, -40.3, -39.0, -39.0, -42.2, -45.6, -35.7, -77.0], \"yaxis\": \"y49\"}, {\"marker\": {\"color\": [11.4, 24.4, 29.3, 28.5, 29.2, 28.5, 31.3, 29.9, 30.5, 31.0, 29.2, 35.3, 32.9, 34.3, 34.8, 36.0, 36.9, 40.2, 41.3, 24.4, 24.3, 25.2, 27.1, 30.8, 29.6, 29.3, 31.6, 34.6, 29.8, 73.3], \"colorscale\": [[0.0, \"rgb(31, 119, 180)\"], [0.1111111111111111, \"rgb(255, 127, 14)\"], [0.2222222222222222, \"rgb(44, 160, 44)\"], [0.3333333333333333, \"rgb(214, 39, 40)\"], [0.4444444444444444, \"rgb(148, 103, 189)\"], [0.5555555555555556, \"rgb(140, 86, 75)\"], [0.6666666666666666, \"rgb(227, 119, 194)\"], [0.7777777777777777, \"rgb(127, 127, 127)\"], [0.8888888888888888, \"rgb(188, 189, 34)\"], [1.0, \"rgb(23, 190, 207)\"]], \"showscale\": false, \"size\": 6}, \"mode\": \"markers\", \"showlegend\": false, \"type\": \"scatter\", \"x\": [38.59, 10.0, 8.65, 7.0, 7.0, 6.8, 16.6, 6.72, 7.08, 6.4, 6.0, 11.27, 12.74, 9.75, 11.6, 11.8, 12.6, 16.6, 17.12, 10.0, 10.7, 9.18, 6.0, 4.47, 5.33, 4.29, 6.37, 10.7, 10.2, 55.56], \"xaxis\": \"x50\", \"y\": [-15.7, -33.1, -37.6, -36.9, -36.8, -36.1, -35.3, -37.7, -38.5, -39.1, -36.8, -44.9, -41.7, -43.5, -45.0, -45.0, -47.0, -50.7, -48.1, -33.1, -32.8, -34.1, -37.0, -40.3, -39.0, -39.0, -42.2, -45.6, -35.7, -77.0], \"yaxis\": \"y50\"}, {\"marker\": {\"color\": [11.4, 24.4, 29.3, 28.5, 29.2, 28.5, 31.3, 29.9, 30.5, 31.0, 29.2, 35.3, 32.9, 34.3, 34.8, 36.0, 36.9, 40.2, 41.3, 24.4, 24.3, 25.2, 27.1, 30.8, 29.6, 29.3, 31.6, 34.6, 29.8, 73.3], \"colorscale\": [[0.0, \"rgb(31, 119, 180)\"], [0.1111111111111111, \"rgb(255, 127, 14)\"], [0.2222222222222222, \"rgb(44, 160, 44)\"], [0.3333333333333333, \"rgb(214, 39, 40)\"], [0.4444444444444444, \"rgb(148, 103, 189)\"], [0.5555555555555556, \"rgb(140, 86, 75)\"], [0.6666666666666666, \"rgb(227, 119, 194)\"], [0.7777777777777777, \"rgb(127, 127, 127)\"], [0.8888888888888888, \"rgb(188, 189, 34)\"], [1.0, \"rgb(23, 190, 207)\"]], \"showscale\": false, \"size\": 6}, \"mode\": \"markers\", \"showlegend\": false, \"type\": \"scatter\", \"x\": [27.1, 25.5, 22.0, 21.5, 22.0, 21.5, 14.0, 21.0, 21.0, 21.0, 21.0, 21.0, 21.0, 21.0, 22.0, 20.0, 21.0, 20.0, 15.5, 25.5, 25.2, 25.2, 25.5, 23.0, 23.4, 24.0, 24.0, 23.0, 18.2, 5.7], \"xaxis\": \"x51\", \"y\": [135.8, 134.1, 136.8, 137.7, 138.4, 138.0, 149.0, 138.1, 137.8, 137.6, 138.4, 135.3, 136.6, 135.9, 134.0, 136.6, 134.3, 133.8, 142.1, 134.1, 134.5, 134.1, 132.9, 134.6, 134.6, 133.9, 132.7, 132.5, 142.8, 140.4], \"yaxis\": \"y51\"}, {\"marker\": {\"color\": [11.4, 24.4, 29.3, 28.5, 29.2, 28.5, 31.3, 29.9, 30.5, 31.0, 29.2, 35.3, 32.9, 34.3, 34.8, 36.0, 36.9, 40.2, 41.3, 24.4, 24.3, 25.2, 27.1, 30.8, 29.6, 29.3, 31.6, 34.6, 29.8, 73.3], \"colorscale\": [[0.0, \"rgb(31, 119, 180)\"], [0.1111111111111111, \"rgb(255, 127, 14)\"], [0.2222222222222222, \"rgb(44, 160, 44)\"], [0.3333333333333333, \"rgb(214, 39, 40)\"], [0.4444444444444444, \"rgb(148, 103, 189)\"], [0.5555555555555556, \"rgb(140, 86, 75)\"], [0.6666666666666666, \"rgb(227, 119, 194)\"], [0.7777777777777777, \"rgb(127, 127, 127)\"], [0.8888888888888888, \"rgb(188, 189, 34)\"], [1.0, \"rgb(23, 190, 207)\"]], \"showscale\": false, \"size\": 6}, \"mode\": \"markers\", \"showlegend\": false, \"type\": \"scatter\", \"x\": [-8.2, -17.3, -17.3, -16.5, -16.0, -16.0, -10.0, -16.5, -17.0, -17.3, -16.0, -20.9, -18.9, -20.0, -22.0, -20.0, -22.4, -24.0, -17.2, -17.3, -16.9, -17.7, -19.8, -19.8, -19.3, -19.8, -22.0, -23.4, -13.3, -23.4], \"xaxis\": \"x52\", \"y\": [135.8, 134.1, 136.8, 137.7, 138.4, 138.0, 149.0, 138.1, 137.8, 137.6, 138.4, 135.3, 136.6, 135.9, 134.0, 136.6, 134.3, 133.8, 142.1, 134.1, 134.5, 134.1, 132.9, 134.6, 134.6, 133.9, 132.7, 132.5, 142.8, 140.4], \"yaxis\": \"y52\"}, {\"marker\": {\"color\": [11.4, 24.4, 29.3, 28.5, 29.2, 28.5, 31.3, 29.9, 30.5, 31.0, 29.2, 35.3, 32.9, 34.3, 34.8, 36.0, 36.9, 40.2, 41.3, 24.4, 24.3, 25.2, 27.1, 30.8, 29.6, 29.3, 31.6, 34.6, 29.8, 73.3], \"colorscale\": [[0.0, \"rgb(31, 119, 180)\"], [0.1111111111111111, \"rgb(255, 127, 14)\"], [0.2222222222222222, \"rgb(44, 160, 44)\"], [0.3333333333333333, \"rgb(214, 39, 40)\"], [0.4444444444444444, \"rgb(148, 103, 189)\"], [0.5555555555555556, \"rgb(140, 86, 75)\"], [0.6666666666666666, \"rgb(227, 119, 194)\"], [0.7777777777777777, \"rgb(127, 127, 127)\"], [0.8888888888888888, \"rgb(188, 189, 34)\"], [1.0, \"rgb(23, 190, 207)\"]], \"showscale\": false, \"size\": 6}, \"mode\": \"markers\", \"showlegend\": false, \"type\": \"scatter\", \"x\": [-29.7, -29.7, -29.7, -29.7, -29.7, -29.7, -29.7, -29.7, -29.7, -29.7, -29.7, -29.7, -29.7, -29.7, -29.7, -29.7, -29.7, -29.7, -29.7, -29.7, -29.7, -29.7, -29.7, -29.7, -29.7, -29.7, -29.7, -29.7, -29.7, -29.7], \"xaxis\": \"x53\", \"y\": [135.8, 134.1, 136.8, 137.7, 138.4, 138.0, 149.0, 138.1, 137.8, 137.6, 138.4, 135.3, 136.6, 135.9, 134.0, 136.6, 134.3, 133.8, 142.1, 134.1, 134.5, 134.1, 132.9, 134.6, 134.6, 133.9, 132.7, 132.5, 142.8, 140.4], \"yaxis\": \"y53\"}, {\"marker\": {\"color\": [11.4, 24.4, 29.3, 28.5, 29.2, 28.5, 31.3, 29.9, 30.5, 31.0, 29.2, 35.3, 32.9, 34.3, 34.8, 36.0, 36.9, 40.2, 41.3, 24.4, 24.3, 25.2, 27.1, 30.8, 29.6, 29.3, 31.6, 34.6, 29.8, 73.3], \"colorscale\": [[0.0, \"rgb(31, 119, 180)\"], [0.1111111111111111, \"rgb(255, 127, 14)\"], [0.2222222222222222, \"rgb(44, 160, 44)\"], [0.3333333333333333, \"rgb(214, 39, 40)\"], [0.4444444444444444, \"rgb(148, 103, 189)\"], [0.5555555555555556, \"rgb(140, 86, 75)\"], [0.6666666666666666, \"rgb(227, 119, 194)\"], [0.7777777777777777, \"rgb(127, 127, 127)\"], [0.8888888888888888, \"rgb(188, 189, 34)\"], [1.0, \"rgb(23, 190, 207)\"]], \"showscale\": false, \"size\": 6}, \"mode\": \"markers\", \"showlegend\": false, \"type\": \"scatter\", \"x\": [28.0, 29.7, 27.0, 26.2, 25.6, 26.0, 17.0, 25.9, 26.1, 26.3, 25.6, 28.4, 27.2, 27.9, 29.7, 27.2, 29.4, 29.9, 22.6, 29.7, 29.3, 29.6, 30.9, 29.1, 29.1, 29.8, 31.0, 31.2, 22.0, 23.9], \"xaxis\": \"x54\", \"y\": [135.8, 134.1, 136.8, 137.7, 138.4, 138.0, 149.0, 138.1, 137.8, 137.6, 138.4, 135.3, 136.6, 135.9, 134.0, 136.6, 134.3, 133.8, 142.1, 134.1, 134.5, 134.1, 132.9, 134.6, 134.6, 133.9, 132.7, 132.5, 142.8, 140.4], \"yaxis\": \"y54\"}, {\"marker\": {\"color\": [11.4, 24.4, 29.3, 28.5, 29.2, 28.5, 31.3, 29.9, 30.5, 31.0, 29.2, 35.3, 32.9, 34.3, 34.8, 36.0, 36.9, 40.2, 41.3, 24.4, 24.3, 25.2, 27.1, 30.8, 29.6, 29.3, 31.6, 34.6, 29.8, 73.3], \"colorscale\": [[0.0, \"rgb(31, 119, 180)\"], [0.1111111111111111, \"rgb(255, 127, 14)\"], [0.2222222222222222, \"rgb(44, 160, 44)\"], [0.3333333333333333, \"rgb(214, 39, 40)\"], [0.4444444444444444, \"rgb(148, 103, 189)\"], [0.5555555555555556, \"rgb(140, 86, 75)\"], [0.6666666666666666, \"rgb(227, 119, 194)\"], [0.7777777777777777, \"rgb(127, 127, 127)\"], [0.8888888888888888, \"rgb(188, 189, 34)\"], [1.0, \"rgb(23, 190, 207)\"]], \"showscale\": false, \"size\": 6}, \"mode\": \"markers\", \"showlegend\": false, \"type\": \"scatter\", \"x\": [-15.7, -33.1, -37.6, -36.9, -36.8, -36.1, -35.3, -37.7, -38.5, -39.1, -36.8, -44.9, -41.7, -43.5, -45.0, -45.0, -47.0, -50.7, -48.1, -33.1, -32.8, -34.1, -37.0, -40.3, -39.0, -39.0, -42.2, -45.6, -35.7, -77.0], \"xaxis\": \"x55\", \"y\": [135.8, 134.1, 136.8, 137.7, 138.4, 138.0, 149.0, 138.1, 137.8, 137.6, 138.4, 135.3, 136.6, 135.9, 134.0, 136.6, 134.3, 133.8, 142.1, 134.1, 134.5, 134.1, 132.9, 134.6, 134.6, 133.9, 132.7, 132.5, 142.8, 140.4], \"yaxis\": \"y55\"}, {\"marker\": {\"color\": \"rgb(31, 119, 180)\"}, \"showlegend\": false, \"type\": \"histogram\", \"x\": [135.8, 134.1, 136.8, 137.7, 138.4, 138.0, 149.0, 138.1, 137.8, 137.6, 138.4, 135.3, 136.6, 135.9, 134.0, 136.6, 134.3, 133.8, 142.1, 134.1, 134.5, 134.1, 132.9, 134.6, 134.6, 133.9, 132.7, 132.5, 142.8, 140.4], \"xaxis\": \"x56\", \"yaxis\": \"y56\"}, {\"marker\": {\"color\": [11.4, 24.4, 29.3, 28.5, 29.2, 28.5, 31.3, 29.9, 30.5, 31.0, 29.2, 35.3, 32.9, 34.3, 34.8, 36.0, 36.9, 40.2, 41.3, 24.4, 24.3, 25.2, 27.1, 30.8, 29.6, 29.3, 31.6, 34.6, 29.8, 73.3], \"colorscale\": [[0.0, \"rgb(31, 119, 180)\"], [0.1111111111111111, \"rgb(255, 127, 14)\"], [0.2222222222222222, \"rgb(44, 160, 44)\"], [0.3333333333333333, \"rgb(214, 39, 40)\"], [0.4444444444444444, \"rgb(148, 103, 189)\"], [0.5555555555555556, \"rgb(140, 86, 75)\"], [0.6666666666666666, \"rgb(227, 119, 194)\"], [0.7777777777777777, \"rgb(127, 127, 127)\"], [0.8888888888888888, \"rgb(188, 189, 34)\"], [1.0, \"rgb(23, 190, 207)\"]], \"showscale\": false, \"size\": 6}, \"mode\": \"markers\", \"showlegend\": false, \"type\": \"scatter\", \"x\": [40.6, 41.7, 40.0, 39.4, 39.0, 39.3, 34.1, 39.2, 39.4, 39.5, 39.0, 40.9, 40.1, 40.5, 41.8, 40.1, 41.5, 41.9, 37.1, 41.7, 41.5, 41.7, 42.6, 41.3, 41.4, 41.8, 42.7, 42.8, 36.8, 38.0], \"xaxis\": \"x57\", \"y\": [135.8, 134.1, 136.8, 137.7, 138.4, 138.0, 149.0, 138.1, 137.8, 137.6, 138.4, 135.3, 136.6, 135.9, 134.0, 136.6, 134.3, 133.8, 142.1, 134.1, 134.5, 134.1, 132.9, 134.6, 134.6, 133.9, 132.7, 132.5, 142.8, 140.4], \"yaxis\": \"y57\"}, {\"marker\": {\"color\": [11.4, 24.4, 29.3, 28.5, 29.2, 28.5, 31.3, 29.9, 30.5, 31.0, 29.2, 35.3, 32.9, 34.3, 34.8, 36.0, 36.9, 40.2, 41.3, 24.4, 24.3, 25.2, 27.1, 30.8, 29.6, 29.3, 31.6, 34.6, 29.8, 73.3], \"colorscale\": [[0.0, \"rgb(31, 119, 180)\"], [0.1111111111111111, \"rgb(255, 127, 14)\"], [0.2222222222222222, \"rgb(44, 160, 44)\"], [0.3333333333333333, \"rgb(214, 39, 40)\"], [0.4444444444444444, \"rgb(148, 103, 189)\"], [0.5555555555555556, \"rgb(140, 86, 75)\"], [0.6666666666666666, \"rgb(227, 119, 194)\"], [0.7777777777777777, \"rgb(127, 127, 127)\"], [0.8888888888888888, \"rgb(188, 189, 34)\"], [1.0, \"rgb(23, 190, 207)\"]], \"showscale\": false, \"size\": 6}, \"mode\": \"markers\", \"showlegend\": false, \"type\": \"scatter\", \"x\": [33.0, 6.0, 1.0, 0.0, 0.0, 0.0, 0.0, -1.7, -2.97, -4.0, 0.0, -11.2, -6.75, -9.1, -11.6, -11.8, -12.6, -16.6, -17.0, 6.0, 6.5, 5.0, 0.0, -2.0, -3.0, -2.0, -5.62, -10.7, 0.0, -54.4], \"xaxis\": \"x58\", \"y\": [135.8, 134.1, 136.8, 137.7, 138.4, 138.0, 149.0, 138.1, 137.8, 137.6, 138.4, 135.3, 136.6, 135.9, 134.0, 136.6, 134.3, 133.8, 142.1, 134.1, 134.5, 134.1, 132.9, 134.6, 134.6, 133.9, 132.7, 132.5, 142.8, 140.4], \"yaxis\": \"y58\"}, {\"marker\": {\"color\": [11.4, 24.4, 29.3, 28.5, 29.2, 28.5, 31.3, 29.9, 30.5, 31.0, 29.2, 35.3, 32.9, 34.3, 34.8, 36.0, 36.9, 40.2, 41.3, 24.4, 24.3, 25.2, 27.1, 30.8, 29.6, 29.3, 31.6, 34.6, 29.8, 73.3], \"colorscale\": [[0.0, \"rgb(31, 119, 180)\"], [0.1111111111111111, \"rgb(255, 127, 14)\"], [0.2222222222222222, \"rgb(44, 160, 44)\"], [0.3333333333333333, \"rgb(214, 39, 40)\"], [0.4444444444444444, \"rgb(148, 103, 189)\"], [0.5555555555555556, \"rgb(140, 86, 75)\"], [0.6666666666666666, \"rgb(227, 119, 194)\"], [0.7777777777777777, \"rgb(127, 127, 127)\"], [0.8888888888888888, \"rgb(188, 189, 34)\"], [1.0, \"rgb(23, 190, 207)\"]], \"showscale\": false, \"size\": 6}, \"mode\": \"markers\", \"showlegend\": false, \"type\": \"scatter\", \"x\": [20.0, 8.0, 8.59, 7.0, 7.0, 6.8, 16.6, 6.5, 6.43, 5.0, 6.0, 1.29, 10.8, 3.5, 0.0, 0.0, 0.0, 0.0, 2.0, 8.0, 8.5, 7.7, 6.0, 4.0, 4.4, 3.8, 3.0, 0.0, 10.2, -11.3], \"xaxis\": \"x59\", \"y\": [135.8, 134.1, 136.8, 137.7, 138.4, 138.0, 149.0, 138.1, 137.8, 137.6, 138.4, 135.3, 136.6, 135.9, 134.0, 136.6, 134.3, 133.8, 142.1, 134.1, 134.5, 134.1, 132.9, 134.6, 134.6, 133.9, 132.7, 132.5, 142.8, 140.4], \"yaxis\": \"y59\"}, {\"marker\": {\"color\": [11.4, 24.4, 29.3, 28.5, 29.2, 28.5, 31.3, 29.9, 30.5, 31.0, 29.2, 35.3, 32.9, 34.3, 34.8, 36.0, 36.9, 40.2, 41.3, 24.4, 24.3, 25.2, 27.1, 30.8, 29.6, 29.3, 31.6, 34.6, 29.8, 73.3], \"colorscale\": [[0.0, \"rgb(31, 119, 180)\"], [0.1111111111111111, \"rgb(255, 127, 14)\"], [0.2222222222222222, \"rgb(44, 160, 44)\"], [0.3333333333333333, \"rgb(214, 39, 40)\"], [0.4444444444444444, \"rgb(148, 103, 189)\"], [0.5555555555555556, \"rgb(140, 86, 75)\"], [0.6666666666666666, \"rgb(227, 119, 194)\"], [0.7777777777777777, \"rgb(127, 127, 127)\"], [0.8888888888888888, \"rgb(188, 189, 34)\"], [1.0, \"rgb(23, 190, 207)\"]], \"showscale\": false, \"size\": 6}, \"mode\": \"markers\", \"showlegend\": false, \"type\": \"scatter\", \"x\": [38.59, 10.0, 8.65, 7.0, 7.0, 6.8, 16.6, 6.72, 7.08, 6.4, 6.0, 11.27, 12.74, 9.75, 11.6, 11.8, 12.6, 16.6, 17.12, 10.0, 10.7, 9.18, 6.0, 4.47, 5.33, 4.29, 6.37, 10.7, 10.2, 55.56], \"xaxis\": \"x60\", \"y\": [135.8, 134.1, 136.8, 137.7, 138.4, 138.0, 149.0, 138.1, 137.8, 137.6, 138.4, 135.3, 136.6, 135.9, 134.0, 136.6, 134.3, 133.8, 142.1, 134.1, 134.5, 134.1, 132.9, 134.6, 134.6, 133.9, 132.7, 132.5, 142.8, 140.4], \"yaxis\": \"y60\"}, {\"marker\": {\"color\": [11.4, 24.4, 29.3, 28.5, 29.2, 28.5, 31.3, 29.9, 30.5, 31.0, 29.2, 35.3, 32.9, 34.3, 34.8, 36.0, 36.9, 40.2, 41.3, 24.4, 24.3, 25.2, 27.1, 30.8, 29.6, 29.3, 31.6, 34.6, 29.8, 73.3], \"colorscale\": [[0.0, \"rgb(31, 119, 180)\"], [0.1111111111111111, \"rgb(255, 127, 14)\"], [0.2222222222222222, \"rgb(44, 160, 44)\"], [0.3333333333333333, \"rgb(214, 39, 40)\"], [0.4444444444444444, \"rgb(148, 103, 189)\"], [0.5555555555555556, \"rgb(140, 86, 75)\"], [0.6666666666666666, \"rgb(227, 119, 194)\"], [0.7777777777777777, \"rgb(127, 127, 127)\"], [0.8888888888888888, \"rgb(188, 189, 34)\"], [1.0, \"rgb(23, 190, 207)\"]], \"showscale\": false, \"size\": 6}, \"mode\": \"markers\", \"showlegend\": false, \"type\": \"scatter\", \"x\": [27.1, 25.5, 22.0, 21.5, 22.0, 21.5, 14.0, 21.0, 21.0, 21.0, 21.0, 21.0, 21.0, 21.0, 22.0, 20.0, 21.0, 20.0, 15.5, 25.5, 25.2, 25.2, 25.5, 23.0, 23.4, 24.0, 24.0, 23.0, 18.2, 5.7], \"xaxis\": \"x61\", \"y\": [40.6, 41.7, 40.0, 39.4, 39.0, 39.3, 34.1, 39.2, 39.4, 39.5, 39.0, 40.9, 40.1, 40.5, 41.8, 40.1, 41.5, 41.9, 37.1, 41.7, 41.5, 41.7, 42.6, 41.3, 41.4, 41.8, 42.7, 42.8, 36.8, 38.0], \"yaxis\": \"y61\"}, {\"marker\": {\"color\": [11.4, 24.4, 29.3, 28.5, 29.2, 28.5, 31.3, 29.9, 30.5, 31.0, 29.2, 35.3, 32.9, 34.3, 34.8, 36.0, 36.9, 40.2, 41.3, 24.4, 24.3, 25.2, 27.1, 30.8, 29.6, 29.3, 31.6, 34.6, 29.8, 73.3], \"colorscale\": [[0.0, \"rgb(31, 119, 180)\"], [0.1111111111111111, \"rgb(255, 127, 14)\"], [0.2222222222222222, \"rgb(44, 160, 44)\"], [0.3333333333333333, \"rgb(214, 39, 40)\"], [0.4444444444444444, \"rgb(148, 103, 189)\"], [0.5555555555555556, \"rgb(140, 86, 75)\"], [0.6666666666666666, \"rgb(227, 119, 194)\"], [0.7777777777777777, \"rgb(127, 127, 127)\"], [0.8888888888888888, \"rgb(188, 189, 34)\"], [1.0, \"rgb(23, 190, 207)\"]], \"showscale\": false, \"size\": 6}, \"mode\": \"markers\", \"showlegend\": false, \"type\": \"scatter\", \"x\": [-8.2, -17.3, -17.3, -16.5, -16.0, -16.0, -10.0, -16.5, -17.0, -17.3, -16.0, -20.9, -18.9, -20.0, -22.0, -20.0, -22.4, -24.0, -17.2, -17.3, -16.9, -17.7, -19.8, -19.8, -19.3, -19.8, -22.0, -23.4, -13.3, -23.4], \"xaxis\": \"x62\", \"y\": [40.6, 41.7, 40.0, 39.4, 39.0, 39.3, 34.1, 39.2, 39.4, 39.5, 39.0, 40.9, 40.1, 40.5, 41.8, 40.1, 41.5, 41.9, 37.1, 41.7, 41.5, 41.7, 42.6, 41.3, 41.4, 41.8, 42.7, 42.8, 36.8, 38.0], \"yaxis\": \"y62\"}, {\"marker\": {\"color\": [11.4, 24.4, 29.3, 28.5, 29.2, 28.5, 31.3, 29.9, 30.5, 31.0, 29.2, 35.3, 32.9, 34.3, 34.8, 36.0, 36.9, 40.2, 41.3, 24.4, 24.3, 25.2, 27.1, 30.8, 29.6, 29.3, 31.6, 34.6, 29.8, 73.3], \"colorscale\": [[0.0, \"rgb(31, 119, 180)\"], [0.1111111111111111, \"rgb(255, 127, 14)\"], [0.2222222222222222, \"rgb(44, 160, 44)\"], [0.3333333333333333, \"rgb(214, 39, 40)\"], [0.4444444444444444, \"rgb(148, 103, 189)\"], [0.5555555555555556, \"rgb(140, 86, 75)\"], [0.6666666666666666, \"rgb(227, 119, 194)\"], [0.7777777777777777, \"rgb(127, 127, 127)\"], [0.8888888888888888, \"rgb(188, 189, 34)\"], [1.0, \"rgb(23, 190, 207)\"]], \"showscale\": false, \"size\": 6}, \"mode\": \"markers\", \"showlegend\": false, \"type\": \"scatter\", \"x\": [-29.7, -29.7, -29.7, -29.7, -29.7, -29.7, -29.7, -29.7, -29.7, -29.7, -29.7, -29.7, -29.7, -29.7, -29.7, -29.7, -29.7, -29.7, -29.7, -29.7, -29.7, -29.7, -29.7, -29.7, -29.7, -29.7, -29.7, -29.7, -29.7, -29.7], \"xaxis\": \"x63\", \"y\": [40.6, 41.7, 40.0, 39.4, 39.0, 39.3, 34.1, 39.2, 39.4, 39.5, 39.0, 40.9, 40.1, 40.5, 41.8, 40.1, 41.5, 41.9, 37.1, 41.7, 41.5, 41.7, 42.6, 41.3, 41.4, 41.8, 42.7, 42.8, 36.8, 38.0], \"yaxis\": \"y63\"}, {\"marker\": {\"color\": [11.4, 24.4, 29.3, 28.5, 29.2, 28.5, 31.3, 29.9, 30.5, 31.0, 29.2, 35.3, 32.9, 34.3, 34.8, 36.0, 36.9, 40.2, 41.3, 24.4, 24.3, 25.2, 27.1, 30.8, 29.6, 29.3, 31.6, 34.6, 29.8, 73.3], \"colorscale\": [[0.0, \"rgb(31, 119, 180)\"], [0.1111111111111111, \"rgb(255, 127, 14)\"], [0.2222222222222222, \"rgb(44, 160, 44)\"], [0.3333333333333333, \"rgb(214, 39, 40)\"], [0.4444444444444444, \"rgb(148, 103, 189)\"], [0.5555555555555556, \"rgb(140, 86, 75)\"], [0.6666666666666666, \"rgb(227, 119, 194)\"], [0.7777777777777777, \"rgb(127, 127, 127)\"], [0.8888888888888888, \"rgb(188, 189, 34)\"], [1.0, \"rgb(23, 190, 207)\"]], \"showscale\": false, \"size\": 6}, \"mode\": \"markers\", \"showlegend\": false, \"type\": \"scatter\", \"x\": [28.0, 29.7, 27.0, 26.2, 25.6, 26.0, 17.0, 25.9, 26.1, 26.3, 25.6, 28.4, 27.2, 27.9, 29.7, 27.2, 29.4, 29.9, 22.6, 29.7, 29.3, 29.6, 30.9, 29.1, 29.1, 29.8, 31.0, 31.2, 22.0, 23.9], \"xaxis\": \"x64\", \"y\": [40.6, 41.7, 40.0, 39.4, 39.0, 39.3, 34.1, 39.2, 39.4, 39.5, 39.0, 40.9, 40.1, 40.5, 41.8, 40.1, 41.5, 41.9, 37.1, 41.7, 41.5, 41.7, 42.6, 41.3, 41.4, 41.8, 42.7, 42.8, 36.8, 38.0], \"yaxis\": \"y64\"}, {\"marker\": {\"color\": [11.4, 24.4, 29.3, 28.5, 29.2, 28.5, 31.3, 29.9, 30.5, 31.0, 29.2, 35.3, 32.9, 34.3, 34.8, 36.0, 36.9, 40.2, 41.3, 24.4, 24.3, 25.2, 27.1, 30.8, 29.6, 29.3, 31.6, 34.6, 29.8, 73.3], \"colorscale\": [[0.0, \"rgb(31, 119, 180)\"], [0.1111111111111111, \"rgb(255, 127, 14)\"], [0.2222222222222222, \"rgb(44, 160, 44)\"], [0.3333333333333333, \"rgb(214, 39, 40)\"], [0.4444444444444444, \"rgb(148, 103, 189)\"], [0.5555555555555556, \"rgb(140, 86, 75)\"], [0.6666666666666666, \"rgb(227, 119, 194)\"], [0.7777777777777777, \"rgb(127, 127, 127)\"], [0.8888888888888888, \"rgb(188, 189, 34)\"], [1.0, \"rgb(23, 190, 207)\"]], \"showscale\": false, \"size\": 6}, \"mode\": \"markers\", \"showlegend\": false, \"type\": \"scatter\", \"x\": [-15.7, -33.1, -37.6, -36.9, -36.8, -36.1, -35.3, -37.7, -38.5, -39.1, -36.8, -44.9, -41.7, -43.5, -45.0, -45.0, -47.0, -50.7, -48.1, -33.1, -32.8, -34.1, -37.0, -40.3, -39.0, -39.0, -42.2, -45.6, -35.7, -77.0], \"xaxis\": \"x65\", \"y\": [40.6, 41.7, 40.0, 39.4, 39.0, 39.3, 34.1, 39.2, 39.4, 39.5, 39.0, 40.9, 40.1, 40.5, 41.8, 40.1, 41.5, 41.9, 37.1, 41.7, 41.5, 41.7, 42.6, 41.3, 41.4, 41.8, 42.7, 42.8, 36.8, 38.0], \"yaxis\": \"y65\"}, {\"marker\": {\"color\": [11.4, 24.4, 29.3, 28.5, 29.2, 28.5, 31.3, 29.9, 30.5, 31.0, 29.2, 35.3, 32.9, 34.3, 34.8, 36.0, 36.9, 40.2, 41.3, 24.4, 24.3, 25.2, 27.1, 30.8, 29.6, 29.3, 31.6, 34.6, 29.8, 73.3], \"colorscale\": [[0.0, \"rgb(31, 119, 180)\"], [0.1111111111111111, \"rgb(255, 127, 14)\"], [0.2222222222222222, \"rgb(44, 160, 44)\"], [0.3333333333333333, \"rgb(214, 39, 40)\"], [0.4444444444444444, \"rgb(148, 103, 189)\"], [0.5555555555555556, \"rgb(140, 86, 75)\"], [0.6666666666666666, \"rgb(227, 119, 194)\"], [0.7777777777777777, \"rgb(127, 127, 127)\"], [0.8888888888888888, \"rgb(188, 189, 34)\"], [1.0, \"rgb(23, 190, 207)\"]], \"showscale\": false, \"size\": 6}, \"mode\": \"markers\", \"showlegend\": false, \"type\": \"scatter\", \"x\": [135.8, 134.1, 136.8, 137.7, 138.4, 138.0, 149.0, 138.1, 137.8, 137.6, 138.4, 135.3, 136.6, 135.9, 134.0, 136.6, 134.3, 133.8, 142.1, 134.1, 134.5, 134.1, 132.9, 134.6, 134.6, 133.9, 132.7, 132.5, 142.8, 140.4], \"xaxis\": \"x66\", \"y\": [40.6, 41.7, 40.0, 39.4, 39.0, 39.3, 34.1, 39.2, 39.4, 39.5, 39.0, 40.9, 40.1, 40.5, 41.8, 40.1, 41.5, 41.9, 37.1, 41.7, 41.5, 41.7, 42.6, 41.3, 41.4, 41.8, 42.7, 42.8, 36.8, 38.0], \"yaxis\": \"y66\"}, {\"marker\": {\"color\": \"rgb(31, 119, 180)\"}, \"showlegend\": false, \"type\": \"histogram\", \"x\": [40.6, 41.7, 40.0, 39.4, 39.0, 39.3, 34.1, 39.2, 39.4, 39.5, 39.0, 40.9, 40.1, 40.5, 41.8, 40.1, 41.5, 41.9, 37.1, 41.7, 41.5, 41.7, 42.6, 41.3, 41.4, 41.8, 42.7, 42.8, 36.8, 38.0], \"xaxis\": \"x67\", \"yaxis\": \"y67\"}, {\"marker\": {\"color\": [11.4, 24.4, 29.3, 28.5, 29.2, 28.5, 31.3, 29.9, 30.5, 31.0, 29.2, 35.3, 32.9, 34.3, 34.8, 36.0, 36.9, 40.2, 41.3, 24.4, 24.3, 25.2, 27.1, 30.8, 29.6, 29.3, 31.6, 34.6, 29.8, 73.3], \"colorscale\": [[0.0, \"rgb(31, 119, 180)\"], [0.1111111111111111, \"rgb(255, 127, 14)\"], [0.2222222222222222, \"rgb(44, 160, 44)\"], [0.3333333333333333, \"rgb(214, 39, 40)\"], [0.4444444444444444, \"rgb(148, 103, 189)\"], [0.5555555555555556, \"rgb(140, 86, 75)\"], [0.6666666666666666, \"rgb(227, 119, 194)\"], [0.7777777777777777, \"rgb(127, 127, 127)\"], [0.8888888888888888, \"rgb(188, 189, 34)\"], [1.0, \"rgb(23, 190, 207)\"]], \"showscale\": false, \"size\": 6}, \"mode\": \"markers\", \"showlegend\": false, \"type\": \"scatter\", \"x\": [33.0, 6.0, 1.0, 0.0, 0.0, 0.0, 0.0, -1.7, -2.97, -4.0, 0.0, -11.2, -6.75, -9.1, -11.6, -11.8, -12.6, -16.6, -17.0, 6.0, 6.5, 5.0, 0.0, -2.0, -3.0, -2.0, -5.62, -10.7, 0.0, -54.4], \"xaxis\": \"x68\", \"y\": [40.6, 41.7, 40.0, 39.4, 39.0, 39.3, 34.1, 39.2, 39.4, 39.5, 39.0, 40.9, 40.1, 40.5, 41.8, 40.1, 41.5, 41.9, 37.1, 41.7, 41.5, 41.7, 42.6, 41.3, 41.4, 41.8, 42.7, 42.8, 36.8, 38.0], \"yaxis\": \"y68\"}, {\"marker\": {\"color\": [11.4, 24.4, 29.3, 28.5, 29.2, 28.5, 31.3, 29.9, 30.5, 31.0, 29.2, 35.3, 32.9, 34.3, 34.8, 36.0, 36.9, 40.2, 41.3, 24.4, 24.3, 25.2, 27.1, 30.8, 29.6, 29.3, 31.6, 34.6, 29.8, 73.3], \"colorscale\": [[0.0, \"rgb(31, 119, 180)\"], [0.1111111111111111, \"rgb(255, 127, 14)\"], [0.2222222222222222, \"rgb(44, 160, 44)\"], [0.3333333333333333, \"rgb(214, 39, 40)\"], [0.4444444444444444, \"rgb(148, 103, 189)\"], [0.5555555555555556, \"rgb(140, 86, 75)\"], [0.6666666666666666, \"rgb(227, 119, 194)\"], [0.7777777777777777, \"rgb(127, 127, 127)\"], [0.8888888888888888, \"rgb(188, 189, 34)\"], [1.0, \"rgb(23, 190, 207)\"]], \"showscale\": false, \"size\": 6}, \"mode\": \"markers\", \"showlegend\": false, \"type\": \"scatter\", \"x\": [20.0, 8.0, 8.59, 7.0, 7.0, 6.8, 16.6, 6.5, 6.43, 5.0, 6.0, 1.29, 10.8, 3.5, 0.0, 0.0, 0.0, 0.0, 2.0, 8.0, 8.5, 7.7, 6.0, 4.0, 4.4, 3.8, 3.0, 0.0, 10.2, -11.3], \"xaxis\": \"x69\", \"y\": [40.6, 41.7, 40.0, 39.4, 39.0, 39.3, 34.1, 39.2, 39.4, 39.5, 39.0, 40.9, 40.1, 40.5, 41.8, 40.1, 41.5, 41.9, 37.1, 41.7, 41.5, 41.7, 42.6, 41.3, 41.4, 41.8, 42.7, 42.8, 36.8, 38.0], \"yaxis\": \"y69\"}, {\"marker\": {\"color\": [11.4, 24.4, 29.3, 28.5, 29.2, 28.5, 31.3, 29.9, 30.5, 31.0, 29.2, 35.3, 32.9, 34.3, 34.8, 36.0, 36.9, 40.2, 41.3, 24.4, 24.3, 25.2, 27.1, 30.8, 29.6, 29.3, 31.6, 34.6, 29.8, 73.3], \"colorscale\": [[0.0, \"rgb(31, 119, 180)\"], [0.1111111111111111, \"rgb(255, 127, 14)\"], [0.2222222222222222, \"rgb(44, 160, 44)\"], [0.3333333333333333, \"rgb(214, 39, 40)\"], [0.4444444444444444, \"rgb(148, 103, 189)\"], [0.5555555555555556, \"rgb(140, 86, 75)\"], [0.6666666666666666, \"rgb(227, 119, 194)\"], [0.7777777777777777, \"rgb(127, 127, 127)\"], [0.8888888888888888, \"rgb(188, 189, 34)\"], [1.0, \"rgb(23, 190, 207)\"]], \"showscale\": false, \"size\": 6}, \"mode\": \"markers\", \"showlegend\": false, \"type\": \"scatter\", \"x\": [38.59, 10.0, 8.65, 7.0, 7.0, 6.8, 16.6, 6.72, 7.08, 6.4, 6.0, 11.27, 12.74, 9.75, 11.6, 11.8, 12.6, 16.6, 17.12, 10.0, 10.7, 9.18, 6.0, 4.47, 5.33, 4.29, 6.37, 10.7, 10.2, 55.56], \"xaxis\": \"x70\", \"y\": [40.6, 41.7, 40.0, 39.4, 39.0, 39.3, 34.1, 39.2, 39.4, 39.5, 39.0, 40.9, 40.1, 40.5, 41.8, 40.1, 41.5, 41.9, 37.1, 41.7, 41.5, 41.7, 42.6, 41.3, 41.4, 41.8, 42.7, 42.8, 36.8, 38.0], \"yaxis\": \"y70\"}, {\"marker\": {\"color\": [11.4, 24.4, 29.3, 28.5, 29.2, 28.5, 31.3, 29.9, 30.5, 31.0, 29.2, 35.3, 32.9, 34.3, 34.8, 36.0, 36.9, 40.2, 41.3, 24.4, 24.3, 25.2, 27.1, 30.8, 29.6, 29.3, 31.6, 34.6, 29.8, 73.3], \"colorscale\": [[0.0, \"rgb(31, 119, 180)\"], [0.1111111111111111, \"rgb(255, 127, 14)\"], [0.2222222222222222, \"rgb(44, 160, 44)\"], [0.3333333333333333, \"rgb(214, 39, 40)\"], [0.4444444444444444, \"rgb(148, 103, 189)\"], [0.5555555555555556, \"rgb(140, 86, 75)\"], [0.6666666666666666, \"rgb(227, 119, 194)\"], [0.7777777777777777, \"rgb(127, 127, 127)\"], [0.8888888888888888, \"rgb(188, 189, 34)\"], [1.0, \"rgb(23, 190, 207)\"]], \"showscale\": false, \"size\": 6}, \"mode\": \"markers\", \"showlegend\": false, \"type\": \"scatter\", \"x\": [27.1, 25.5, 22.0, 21.5, 22.0, 21.5, 14.0, 21.0, 21.0, 21.0, 21.0, 21.0, 21.0, 21.0, 22.0, 20.0, 21.0, 20.0, 15.5, 25.5, 25.2, 25.2, 25.5, 23.0, 23.4, 24.0, 24.0, 23.0, 18.2, 5.7], \"xaxis\": \"x71\", \"y\": [33.0, 6.0, 1.0, 0.0, 0.0, 0.0, 0.0, -1.7, -2.97, -4.0, 0.0, -11.2, -6.75, -9.1, -11.6, -11.8, -12.6, -16.6, -17.0, 6.0, 6.5, 5.0, 0.0, -2.0, -3.0, -2.0, -5.62, -10.7, 0.0, -54.4], \"yaxis\": \"y71\"}, {\"marker\": {\"color\": [11.4, 24.4, 29.3, 28.5, 29.2, 28.5, 31.3, 29.9, 30.5, 31.0, 29.2, 35.3, 32.9, 34.3, 34.8, 36.0, 36.9, 40.2, 41.3, 24.4, 24.3, 25.2, 27.1, 30.8, 29.6, 29.3, 31.6, 34.6, 29.8, 73.3], \"colorscale\": [[0.0, \"rgb(31, 119, 180)\"], [0.1111111111111111, \"rgb(255, 127, 14)\"], [0.2222222222222222, \"rgb(44, 160, 44)\"], [0.3333333333333333, \"rgb(214, 39, 40)\"], [0.4444444444444444, \"rgb(148, 103, 189)\"], [0.5555555555555556, \"rgb(140, 86, 75)\"], [0.6666666666666666, \"rgb(227, 119, 194)\"], [0.7777777777777777, \"rgb(127, 127, 127)\"], [0.8888888888888888, \"rgb(188, 189, 34)\"], [1.0, \"rgb(23, 190, 207)\"]], \"showscale\": false, \"size\": 6}, \"mode\": \"markers\", \"showlegend\": false, \"type\": \"scatter\", \"x\": [-8.2, -17.3, -17.3, -16.5, -16.0, -16.0, -10.0, -16.5, -17.0, -17.3, -16.0, -20.9, -18.9, -20.0, -22.0, -20.0, -22.4, -24.0, -17.2, -17.3, -16.9, -17.7, -19.8, -19.8, -19.3, -19.8, -22.0, -23.4, -13.3, -23.4], \"xaxis\": \"x72\", \"y\": [33.0, 6.0, 1.0, 0.0, 0.0, 0.0, 0.0, -1.7, -2.97, -4.0, 0.0, -11.2, -6.75, -9.1, -11.6, -11.8, -12.6, -16.6, -17.0, 6.0, 6.5, 5.0, 0.0, -2.0, -3.0, -2.0, -5.62, -10.7, 0.0, -54.4], \"yaxis\": \"y72\"}, {\"marker\": {\"color\": [11.4, 24.4, 29.3, 28.5, 29.2, 28.5, 31.3, 29.9, 30.5, 31.0, 29.2, 35.3, 32.9, 34.3, 34.8, 36.0, 36.9, 40.2, 41.3, 24.4, 24.3, 25.2, 27.1, 30.8, 29.6, 29.3, 31.6, 34.6, 29.8, 73.3], \"colorscale\": [[0.0, \"rgb(31, 119, 180)\"], [0.1111111111111111, \"rgb(255, 127, 14)\"], [0.2222222222222222, \"rgb(44, 160, 44)\"], [0.3333333333333333, \"rgb(214, 39, 40)\"], [0.4444444444444444, \"rgb(148, 103, 189)\"], [0.5555555555555556, \"rgb(140, 86, 75)\"], [0.6666666666666666, \"rgb(227, 119, 194)\"], [0.7777777777777777, \"rgb(127, 127, 127)\"], [0.8888888888888888, \"rgb(188, 189, 34)\"], [1.0, \"rgb(23, 190, 207)\"]], \"showscale\": false, \"size\": 6}, \"mode\": \"markers\", \"showlegend\": false, \"type\": \"scatter\", \"x\": [-29.7, -29.7, -29.7, -29.7, -29.7, -29.7, -29.7, -29.7, -29.7, -29.7, -29.7, -29.7, -29.7, -29.7, -29.7, -29.7, -29.7, -29.7, -29.7, -29.7, -29.7, -29.7, -29.7, -29.7, -29.7, -29.7, -29.7, -29.7, -29.7, -29.7], \"xaxis\": \"x73\", \"y\": [33.0, 6.0, 1.0, 0.0, 0.0, 0.0, 0.0, -1.7, -2.97, -4.0, 0.0, -11.2, -6.75, -9.1, -11.6, -11.8, -12.6, -16.6, -17.0, 6.0, 6.5, 5.0, 0.0, -2.0, -3.0, -2.0, -5.62, -10.7, 0.0, -54.4], \"yaxis\": \"y73\"}, {\"marker\": {\"color\": [11.4, 24.4, 29.3, 28.5, 29.2, 28.5, 31.3, 29.9, 30.5, 31.0, 29.2, 35.3, 32.9, 34.3, 34.8, 36.0, 36.9, 40.2, 41.3, 24.4, 24.3, 25.2, 27.1, 30.8, 29.6, 29.3, 31.6, 34.6, 29.8, 73.3], \"colorscale\": [[0.0, \"rgb(31, 119, 180)\"], [0.1111111111111111, \"rgb(255, 127, 14)\"], [0.2222222222222222, \"rgb(44, 160, 44)\"], [0.3333333333333333, \"rgb(214, 39, 40)\"], [0.4444444444444444, \"rgb(148, 103, 189)\"], [0.5555555555555556, \"rgb(140, 86, 75)\"], [0.6666666666666666, \"rgb(227, 119, 194)\"], [0.7777777777777777, \"rgb(127, 127, 127)\"], [0.8888888888888888, \"rgb(188, 189, 34)\"], [1.0, \"rgb(23, 190, 207)\"]], \"showscale\": false, \"size\": 6}, \"mode\": \"markers\", \"showlegend\": false, \"type\": \"scatter\", \"x\": [28.0, 29.7, 27.0, 26.2, 25.6, 26.0, 17.0, 25.9, 26.1, 26.3, 25.6, 28.4, 27.2, 27.9, 29.7, 27.2, 29.4, 29.9, 22.6, 29.7, 29.3, 29.6, 30.9, 29.1, 29.1, 29.8, 31.0, 31.2, 22.0, 23.9], \"xaxis\": \"x74\", \"y\": [33.0, 6.0, 1.0, 0.0, 0.0, 0.0, 0.0, -1.7, -2.97, -4.0, 0.0, -11.2, -6.75, -9.1, -11.6, -11.8, -12.6, -16.6, -17.0, 6.0, 6.5, 5.0, 0.0, -2.0, -3.0, -2.0, -5.62, -10.7, 0.0, -54.4], \"yaxis\": \"y74\"}, {\"marker\": {\"color\": [11.4, 24.4, 29.3, 28.5, 29.2, 28.5, 31.3, 29.9, 30.5, 31.0, 29.2, 35.3, 32.9, 34.3, 34.8, 36.0, 36.9, 40.2, 41.3, 24.4, 24.3, 25.2, 27.1, 30.8, 29.6, 29.3, 31.6, 34.6, 29.8, 73.3], \"colorscale\": [[0.0, \"rgb(31, 119, 180)\"], [0.1111111111111111, \"rgb(255, 127, 14)\"], [0.2222222222222222, \"rgb(44, 160, 44)\"], [0.3333333333333333, \"rgb(214, 39, 40)\"], [0.4444444444444444, \"rgb(148, 103, 189)\"], [0.5555555555555556, \"rgb(140, 86, 75)\"], [0.6666666666666666, \"rgb(227, 119, 194)\"], [0.7777777777777777, \"rgb(127, 127, 127)\"], [0.8888888888888888, \"rgb(188, 189, 34)\"], [1.0, \"rgb(23, 190, 207)\"]], \"showscale\": false, \"size\": 6}, \"mode\": \"markers\", \"showlegend\": false, \"type\": \"scatter\", \"x\": [-15.7, -33.1, -37.6, -36.9, -36.8, -36.1, -35.3, -37.7, -38.5, -39.1, -36.8, -44.9, -41.7, -43.5, -45.0, -45.0, -47.0, -50.7, -48.1, -33.1, -32.8, -34.1, -37.0, -40.3, -39.0, -39.0, -42.2, -45.6, -35.7, -77.0], \"xaxis\": \"x75\", \"y\": [33.0, 6.0, 1.0, 0.0, 0.0, 0.0, 0.0, -1.7, -2.97, -4.0, 0.0, -11.2, -6.75, -9.1, -11.6, -11.8, -12.6, -16.6, -17.0, 6.0, 6.5, 5.0, 0.0, -2.0, -3.0, -2.0, -5.62, -10.7, 0.0, -54.4], \"yaxis\": \"y75\"}, {\"marker\": {\"color\": [11.4, 24.4, 29.3, 28.5, 29.2, 28.5, 31.3, 29.9, 30.5, 31.0, 29.2, 35.3, 32.9, 34.3, 34.8, 36.0, 36.9, 40.2, 41.3, 24.4, 24.3, 25.2, 27.1, 30.8, 29.6, 29.3, 31.6, 34.6, 29.8, 73.3], \"colorscale\": [[0.0, \"rgb(31, 119, 180)\"], [0.1111111111111111, \"rgb(255, 127, 14)\"], [0.2222222222222222, \"rgb(44, 160, 44)\"], [0.3333333333333333, \"rgb(214, 39, 40)\"], [0.4444444444444444, \"rgb(148, 103, 189)\"], [0.5555555555555556, \"rgb(140, 86, 75)\"], [0.6666666666666666, \"rgb(227, 119, 194)\"], [0.7777777777777777, \"rgb(127, 127, 127)\"], [0.8888888888888888, \"rgb(188, 189, 34)\"], [1.0, \"rgb(23, 190, 207)\"]], \"showscale\": false, \"size\": 6}, \"mode\": \"markers\", \"showlegend\": false, \"type\": \"scatter\", \"x\": [135.8, 134.1, 136.8, 137.7, 138.4, 138.0, 149.0, 138.1, 137.8, 137.6, 138.4, 135.3, 136.6, 135.9, 134.0, 136.6, 134.3, 133.8, 142.1, 134.1, 134.5, 134.1, 132.9, 134.6, 134.6, 133.9, 132.7, 132.5, 142.8, 140.4], \"xaxis\": \"x76\", \"y\": [33.0, 6.0, 1.0, 0.0, 0.0, 0.0, 0.0, -1.7, -2.97, -4.0, 0.0, -11.2, -6.75, -9.1, -11.6, -11.8, -12.6, -16.6, -17.0, 6.0, 6.5, 5.0, 0.0, -2.0, -3.0, -2.0, -5.62, -10.7, 0.0, -54.4], \"yaxis\": \"y76\"}, {\"marker\": {\"color\": [11.4, 24.4, 29.3, 28.5, 29.2, 28.5, 31.3, 29.9, 30.5, 31.0, 29.2, 35.3, 32.9, 34.3, 34.8, 36.0, 36.9, 40.2, 41.3, 24.4, 24.3, 25.2, 27.1, 30.8, 29.6, 29.3, 31.6, 34.6, 29.8, 73.3], \"colorscale\": [[0.0, \"rgb(31, 119, 180)\"], [0.1111111111111111, \"rgb(255, 127, 14)\"], [0.2222222222222222, \"rgb(44, 160, 44)\"], [0.3333333333333333, \"rgb(214, 39, 40)\"], [0.4444444444444444, \"rgb(148, 103, 189)\"], [0.5555555555555556, \"rgb(140, 86, 75)\"], [0.6666666666666666, \"rgb(227, 119, 194)\"], [0.7777777777777777, \"rgb(127, 127, 127)\"], [0.8888888888888888, \"rgb(188, 189, 34)\"], [1.0, \"rgb(23, 190, 207)\"]], \"showscale\": false, \"size\": 6}, \"mode\": \"markers\", \"showlegend\": false, \"type\": \"scatter\", \"x\": [40.6, 41.7, 40.0, 39.4, 39.0, 39.3, 34.1, 39.2, 39.4, 39.5, 39.0, 40.9, 40.1, 40.5, 41.8, 40.1, 41.5, 41.9, 37.1, 41.7, 41.5, 41.7, 42.6, 41.3, 41.4, 41.8, 42.7, 42.8, 36.8, 38.0], \"xaxis\": \"x77\", \"y\": [33.0, 6.0, 1.0, 0.0, 0.0, 0.0, 0.0, -1.7, -2.97, -4.0, 0.0, -11.2, -6.75, -9.1, -11.6, -11.8, -12.6, -16.6, -17.0, 6.0, 6.5, 5.0, 0.0, -2.0, -3.0, -2.0, -5.62, -10.7, 0.0, -54.4], \"yaxis\": \"y77\"}, {\"marker\": {\"color\": \"rgb(31, 119, 180)\"}, \"showlegend\": false, \"type\": \"histogram\", \"x\": [33.0, 6.0, 1.0, 0.0, 0.0, 0.0, 0.0, -1.7, -2.97, -4.0, 0.0, -11.2, -6.75, -9.1, -11.6, -11.8, -12.6, -16.6, -17.0, 6.0, 6.5, 5.0, 0.0, -2.0, -3.0, -2.0, -5.62, -10.7, 0.0, -54.4], \"xaxis\": \"x78\", \"yaxis\": \"y78\"}, {\"marker\": {\"color\": [11.4, 24.4, 29.3, 28.5, 29.2, 28.5, 31.3, 29.9, 30.5, 31.0, 29.2, 35.3, 32.9, 34.3, 34.8, 36.0, 36.9, 40.2, 41.3, 24.4, 24.3, 25.2, 27.1, 30.8, 29.6, 29.3, 31.6, 34.6, 29.8, 73.3], \"colorscale\": [[0.0, \"rgb(31, 119, 180)\"], [0.1111111111111111, \"rgb(255, 127, 14)\"], [0.2222222222222222, \"rgb(44, 160, 44)\"], [0.3333333333333333, \"rgb(214, 39, 40)\"], [0.4444444444444444, \"rgb(148, 103, 189)\"], [0.5555555555555556, \"rgb(140, 86, 75)\"], [0.6666666666666666, \"rgb(227, 119, 194)\"], [0.7777777777777777, \"rgb(127, 127, 127)\"], [0.8888888888888888, \"rgb(188, 189, 34)\"], [1.0, \"rgb(23, 190, 207)\"]], \"showscale\": false, \"size\": 6}, \"mode\": \"markers\", \"showlegend\": false, \"type\": \"scatter\", \"x\": [20.0, 8.0, 8.59, 7.0, 7.0, 6.8, 16.6, 6.5, 6.43, 5.0, 6.0, 1.29, 10.8, 3.5, 0.0, 0.0, 0.0, 0.0, 2.0, 8.0, 8.5, 7.7, 6.0, 4.0, 4.4, 3.8, 3.0, 0.0, 10.2, -11.3], \"xaxis\": \"x79\", \"y\": [33.0, 6.0, 1.0, 0.0, 0.0, 0.0, 0.0, -1.7, -2.97, -4.0, 0.0, -11.2, -6.75, -9.1, -11.6, -11.8, -12.6, -16.6, -17.0, 6.0, 6.5, 5.0, 0.0, -2.0, -3.0, -2.0, -5.62, -10.7, 0.0, -54.4], \"yaxis\": \"y79\"}, {\"marker\": {\"color\": [11.4, 24.4, 29.3, 28.5, 29.2, 28.5, 31.3, 29.9, 30.5, 31.0, 29.2, 35.3, 32.9, 34.3, 34.8, 36.0, 36.9, 40.2, 41.3, 24.4, 24.3, 25.2, 27.1, 30.8, 29.6, 29.3, 31.6, 34.6, 29.8, 73.3], \"colorscale\": [[0.0, \"rgb(31, 119, 180)\"], [0.1111111111111111, \"rgb(255, 127, 14)\"], [0.2222222222222222, \"rgb(44, 160, 44)\"], [0.3333333333333333, \"rgb(214, 39, 40)\"], [0.4444444444444444, \"rgb(148, 103, 189)\"], [0.5555555555555556, \"rgb(140, 86, 75)\"], [0.6666666666666666, \"rgb(227, 119, 194)\"], [0.7777777777777777, \"rgb(127, 127, 127)\"], [0.8888888888888888, \"rgb(188, 189, 34)\"], [1.0, \"rgb(23, 190, 207)\"]], \"showscale\": false, \"size\": 6}, \"mode\": \"markers\", \"showlegend\": false, \"type\": \"scatter\", \"x\": [38.59, 10.0, 8.65, 7.0, 7.0, 6.8, 16.6, 6.72, 7.08, 6.4, 6.0, 11.27, 12.74, 9.75, 11.6, 11.8, 12.6, 16.6, 17.12, 10.0, 10.7, 9.18, 6.0, 4.47, 5.33, 4.29, 6.37, 10.7, 10.2, 55.56], \"xaxis\": \"x80\", \"y\": [33.0, 6.0, 1.0, 0.0, 0.0, 0.0, 0.0, -1.7, -2.97, -4.0, 0.0, -11.2, -6.75, -9.1, -11.6, -11.8, -12.6, -16.6, -17.0, 6.0, 6.5, 5.0, 0.0, -2.0, -3.0, -2.0, -5.62, -10.7, 0.0, -54.4], \"yaxis\": \"y80\"}, {\"marker\": {\"color\": [11.4, 24.4, 29.3, 28.5, 29.2, 28.5, 31.3, 29.9, 30.5, 31.0, 29.2, 35.3, 32.9, 34.3, 34.8, 36.0, 36.9, 40.2, 41.3, 24.4, 24.3, 25.2, 27.1, 30.8, 29.6, 29.3, 31.6, 34.6, 29.8, 73.3], \"colorscale\": [[0.0, \"rgb(31, 119, 180)\"], [0.1111111111111111, \"rgb(255, 127, 14)\"], [0.2222222222222222, \"rgb(44, 160, 44)\"], [0.3333333333333333, \"rgb(214, 39, 40)\"], [0.4444444444444444, \"rgb(148, 103, 189)\"], [0.5555555555555556, \"rgb(140, 86, 75)\"], [0.6666666666666666, \"rgb(227, 119, 194)\"], [0.7777777777777777, \"rgb(127, 127, 127)\"], [0.8888888888888888, \"rgb(188, 189, 34)\"], [1.0, \"rgb(23, 190, 207)\"]], \"showscale\": false, \"size\": 6}, \"mode\": \"markers\", \"showlegend\": false, \"type\": \"scatter\", \"x\": [27.1, 25.5, 22.0, 21.5, 22.0, 21.5, 14.0, 21.0, 21.0, 21.0, 21.0, 21.0, 21.0, 21.0, 22.0, 20.0, 21.0, 20.0, 15.5, 25.5, 25.2, 25.2, 25.5, 23.0, 23.4, 24.0, 24.0, 23.0, 18.2, 5.7], \"xaxis\": \"x81\", \"y\": [20.0, 8.0, 8.59, 7.0, 7.0, 6.8, 16.6, 6.5, 6.43, 5.0, 6.0, 1.29, 10.8, 3.5, 0.0, 0.0, 0.0, 0.0, 2.0, 8.0, 8.5, 7.7, 6.0, 4.0, 4.4, 3.8, 3.0, 0.0, 10.2, -11.3], \"yaxis\": \"y81\"}, {\"marker\": {\"color\": [11.4, 24.4, 29.3, 28.5, 29.2, 28.5, 31.3, 29.9, 30.5, 31.0, 29.2, 35.3, 32.9, 34.3, 34.8, 36.0, 36.9, 40.2, 41.3, 24.4, 24.3, 25.2, 27.1, 30.8, 29.6, 29.3, 31.6, 34.6, 29.8, 73.3], \"colorscale\": [[0.0, \"rgb(31, 119, 180)\"], [0.1111111111111111, \"rgb(255, 127, 14)\"], [0.2222222222222222, \"rgb(44, 160, 44)\"], [0.3333333333333333, \"rgb(214, 39, 40)\"], [0.4444444444444444, \"rgb(148, 103, 189)\"], [0.5555555555555556, \"rgb(140, 86, 75)\"], [0.6666666666666666, \"rgb(227, 119, 194)\"], [0.7777777777777777, \"rgb(127, 127, 127)\"], [0.8888888888888888, \"rgb(188, 189, 34)\"], [1.0, \"rgb(23, 190, 207)\"]], \"showscale\": false, \"size\": 6}, \"mode\": \"markers\", \"showlegend\": false, \"type\": \"scatter\", \"x\": [-8.2, -17.3, -17.3, -16.5, -16.0, -16.0, -10.0, -16.5, -17.0, -17.3, -16.0, -20.9, -18.9, -20.0, -22.0, -20.0, -22.4, -24.0, -17.2, -17.3, -16.9, -17.7, -19.8, -19.8, -19.3, -19.8, -22.0, -23.4, -13.3, -23.4], \"xaxis\": \"x82\", \"y\": [20.0, 8.0, 8.59, 7.0, 7.0, 6.8, 16.6, 6.5, 6.43, 5.0, 6.0, 1.29, 10.8, 3.5, 0.0, 0.0, 0.0, 0.0, 2.0, 8.0, 8.5, 7.7, 6.0, 4.0, 4.4, 3.8, 3.0, 0.0, 10.2, -11.3], \"yaxis\": \"y82\"}, {\"marker\": {\"color\": [11.4, 24.4, 29.3, 28.5, 29.2, 28.5, 31.3, 29.9, 30.5, 31.0, 29.2, 35.3, 32.9, 34.3, 34.8, 36.0, 36.9, 40.2, 41.3, 24.4, 24.3, 25.2, 27.1, 30.8, 29.6, 29.3, 31.6, 34.6, 29.8, 73.3], \"colorscale\": [[0.0, \"rgb(31, 119, 180)\"], [0.1111111111111111, \"rgb(255, 127, 14)\"], [0.2222222222222222, \"rgb(44, 160, 44)\"], [0.3333333333333333, \"rgb(214, 39, 40)\"], [0.4444444444444444, \"rgb(148, 103, 189)\"], [0.5555555555555556, \"rgb(140, 86, 75)\"], [0.6666666666666666, \"rgb(227, 119, 194)\"], [0.7777777777777777, \"rgb(127, 127, 127)\"], [0.8888888888888888, \"rgb(188, 189, 34)\"], [1.0, \"rgb(23, 190, 207)\"]], \"showscale\": false, \"size\": 6}, \"mode\": \"markers\", \"showlegend\": false, \"type\": \"scatter\", \"x\": [-29.7, -29.7, -29.7, -29.7, -29.7, -29.7, -29.7, -29.7, -29.7, -29.7, -29.7, -29.7, -29.7, -29.7, -29.7, -29.7, -29.7, -29.7, -29.7, -29.7, -29.7, -29.7, -29.7, -29.7, -29.7, -29.7, -29.7, -29.7, -29.7, -29.7], \"xaxis\": \"x83\", \"y\": [20.0, 8.0, 8.59, 7.0, 7.0, 6.8, 16.6, 6.5, 6.43, 5.0, 6.0, 1.29, 10.8, 3.5, 0.0, 0.0, 0.0, 0.0, 2.0, 8.0, 8.5, 7.7, 6.0, 4.0, 4.4, 3.8, 3.0, 0.0, 10.2, -11.3], \"yaxis\": \"y83\"}, {\"marker\": {\"color\": [11.4, 24.4, 29.3, 28.5, 29.2, 28.5, 31.3, 29.9, 30.5, 31.0, 29.2, 35.3, 32.9, 34.3, 34.8, 36.0, 36.9, 40.2, 41.3, 24.4, 24.3, 25.2, 27.1, 30.8, 29.6, 29.3, 31.6, 34.6, 29.8, 73.3], \"colorscale\": [[0.0, \"rgb(31, 119, 180)\"], [0.1111111111111111, \"rgb(255, 127, 14)\"], [0.2222222222222222, \"rgb(44, 160, 44)\"], [0.3333333333333333, \"rgb(214, 39, 40)\"], [0.4444444444444444, \"rgb(148, 103, 189)\"], [0.5555555555555556, \"rgb(140, 86, 75)\"], [0.6666666666666666, \"rgb(227, 119, 194)\"], [0.7777777777777777, \"rgb(127, 127, 127)\"], [0.8888888888888888, \"rgb(188, 189, 34)\"], [1.0, \"rgb(23, 190, 207)\"]], \"showscale\": false, \"size\": 6}, \"mode\": \"markers\", \"showlegend\": false, \"type\": \"scatter\", \"x\": [28.0, 29.7, 27.0, 26.2, 25.6, 26.0, 17.0, 25.9, 26.1, 26.3, 25.6, 28.4, 27.2, 27.9, 29.7, 27.2, 29.4, 29.9, 22.6, 29.7, 29.3, 29.6, 30.9, 29.1, 29.1, 29.8, 31.0, 31.2, 22.0, 23.9], \"xaxis\": \"x84\", \"y\": [20.0, 8.0, 8.59, 7.0, 7.0, 6.8, 16.6, 6.5, 6.43, 5.0, 6.0, 1.29, 10.8, 3.5, 0.0, 0.0, 0.0, 0.0, 2.0, 8.0, 8.5, 7.7, 6.0, 4.0, 4.4, 3.8, 3.0, 0.0, 10.2, -11.3], \"yaxis\": \"y84\"}, {\"marker\": {\"color\": [11.4, 24.4, 29.3, 28.5, 29.2, 28.5, 31.3, 29.9, 30.5, 31.0, 29.2, 35.3, 32.9, 34.3, 34.8, 36.0, 36.9, 40.2, 41.3, 24.4, 24.3, 25.2, 27.1, 30.8, 29.6, 29.3, 31.6, 34.6, 29.8, 73.3], \"colorscale\": [[0.0, \"rgb(31, 119, 180)\"], [0.1111111111111111, \"rgb(255, 127, 14)\"], [0.2222222222222222, \"rgb(44, 160, 44)\"], [0.3333333333333333, \"rgb(214, 39, 40)\"], [0.4444444444444444, \"rgb(148, 103, 189)\"], [0.5555555555555556, \"rgb(140, 86, 75)\"], [0.6666666666666666, \"rgb(227, 119, 194)\"], [0.7777777777777777, \"rgb(127, 127, 127)\"], [0.8888888888888888, \"rgb(188, 189, 34)\"], [1.0, \"rgb(23, 190, 207)\"]], \"showscale\": false, \"size\": 6}, \"mode\": \"markers\", \"showlegend\": false, \"type\": \"scatter\", \"x\": [-15.7, -33.1, -37.6, -36.9, -36.8, -36.1, -35.3, -37.7, -38.5, -39.1, -36.8, -44.9, -41.7, -43.5, -45.0, -45.0, -47.0, -50.7, -48.1, -33.1, -32.8, -34.1, -37.0, -40.3, -39.0, -39.0, -42.2, -45.6, -35.7, -77.0], \"xaxis\": \"x85\", \"y\": [20.0, 8.0, 8.59, 7.0, 7.0, 6.8, 16.6, 6.5, 6.43, 5.0, 6.0, 1.29, 10.8, 3.5, 0.0, 0.0, 0.0, 0.0, 2.0, 8.0, 8.5, 7.7, 6.0, 4.0, 4.4, 3.8, 3.0, 0.0, 10.2, -11.3], \"yaxis\": \"y85\"}, {\"marker\": {\"color\": [11.4, 24.4, 29.3, 28.5, 29.2, 28.5, 31.3, 29.9, 30.5, 31.0, 29.2, 35.3, 32.9, 34.3, 34.8, 36.0, 36.9, 40.2, 41.3, 24.4, 24.3, 25.2, 27.1, 30.8, 29.6, 29.3, 31.6, 34.6, 29.8, 73.3], \"colorscale\": [[0.0, \"rgb(31, 119, 180)\"], [0.1111111111111111, \"rgb(255, 127, 14)\"], [0.2222222222222222, \"rgb(44, 160, 44)\"], [0.3333333333333333, \"rgb(214, 39, 40)\"], [0.4444444444444444, \"rgb(148, 103, 189)\"], [0.5555555555555556, \"rgb(140, 86, 75)\"], [0.6666666666666666, \"rgb(227, 119, 194)\"], [0.7777777777777777, \"rgb(127, 127, 127)\"], [0.8888888888888888, \"rgb(188, 189, 34)\"], [1.0, \"rgb(23, 190, 207)\"]], \"showscale\": false, \"size\": 6}, \"mode\": \"markers\", \"showlegend\": false, \"type\": \"scatter\", \"x\": [135.8, 134.1, 136.8, 137.7, 138.4, 138.0, 149.0, 138.1, 137.8, 137.6, 138.4, 135.3, 136.6, 135.9, 134.0, 136.6, 134.3, 133.8, 142.1, 134.1, 134.5, 134.1, 132.9, 134.6, 134.6, 133.9, 132.7, 132.5, 142.8, 140.4], \"xaxis\": \"x86\", \"y\": [20.0, 8.0, 8.59, 7.0, 7.0, 6.8, 16.6, 6.5, 6.43, 5.0, 6.0, 1.29, 10.8, 3.5, 0.0, 0.0, 0.0, 0.0, 2.0, 8.0, 8.5, 7.7, 6.0, 4.0, 4.4, 3.8, 3.0, 0.0, 10.2, -11.3], \"yaxis\": \"y86\"}, {\"marker\": {\"color\": [11.4, 24.4, 29.3, 28.5, 29.2, 28.5, 31.3, 29.9, 30.5, 31.0, 29.2, 35.3, 32.9, 34.3, 34.8, 36.0, 36.9, 40.2, 41.3, 24.4, 24.3, 25.2, 27.1, 30.8, 29.6, 29.3, 31.6, 34.6, 29.8, 73.3], \"colorscale\": [[0.0, \"rgb(31, 119, 180)\"], [0.1111111111111111, \"rgb(255, 127, 14)\"], [0.2222222222222222, \"rgb(44, 160, 44)\"], [0.3333333333333333, \"rgb(214, 39, 40)\"], [0.4444444444444444, \"rgb(148, 103, 189)\"], [0.5555555555555556, \"rgb(140, 86, 75)\"], [0.6666666666666666, \"rgb(227, 119, 194)\"], [0.7777777777777777, \"rgb(127, 127, 127)\"], [0.8888888888888888, \"rgb(188, 189, 34)\"], [1.0, \"rgb(23, 190, 207)\"]], \"showscale\": false, \"size\": 6}, \"mode\": \"markers\", \"showlegend\": false, \"type\": \"scatter\", \"x\": [40.6, 41.7, 40.0, 39.4, 39.0, 39.3, 34.1, 39.2, 39.4, 39.5, 39.0, 40.9, 40.1, 40.5, 41.8, 40.1, 41.5, 41.9, 37.1, 41.7, 41.5, 41.7, 42.6, 41.3, 41.4, 41.8, 42.7, 42.8, 36.8, 38.0], \"xaxis\": \"x87\", \"y\": [20.0, 8.0, 8.59, 7.0, 7.0, 6.8, 16.6, 6.5, 6.43, 5.0, 6.0, 1.29, 10.8, 3.5, 0.0, 0.0, 0.0, 0.0, 2.0, 8.0, 8.5, 7.7, 6.0, 4.0, 4.4, 3.8, 3.0, 0.0, 10.2, -11.3], \"yaxis\": \"y87\"}, {\"marker\": {\"color\": [11.4, 24.4, 29.3, 28.5, 29.2, 28.5, 31.3, 29.9, 30.5, 31.0, 29.2, 35.3, 32.9, 34.3, 34.8, 36.0, 36.9, 40.2, 41.3, 24.4, 24.3, 25.2, 27.1, 30.8, 29.6, 29.3, 31.6, 34.6, 29.8, 73.3], \"colorscale\": [[0.0, \"rgb(31, 119, 180)\"], [0.1111111111111111, \"rgb(255, 127, 14)\"], [0.2222222222222222, \"rgb(44, 160, 44)\"], [0.3333333333333333, \"rgb(214, 39, 40)\"], [0.4444444444444444, \"rgb(148, 103, 189)\"], [0.5555555555555556, \"rgb(140, 86, 75)\"], [0.6666666666666666, \"rgb(227, 119, 194)\"], [0.7777777777777777, \"rgb(127, 127, 127)\"], [0.8888888888888888, \"rgb(188, 189, 34)\"], [1.0, \"rgb(23, 190, 207)\"]], \"showscale\": false, \"size\": 6}, \"mode\": \"markers\", \"showlegend\": false, \"type\": \"scatter\", \"x\": [33.0, 6.0, 1.0, 0.0, 0.0, 0.0, 0.0, -1.7, -2.97, -4.0, 0.0, -11.2, -6.75, -9.1, -11.6, -11.8, -12.6, -16.6, -17.0, 6.0, 6.5, 5.0, 0.0, -2.0, -3.0, -2.0, -5.62, -10.7, 0.0, -54.4], \"xaxis\": \"x88\", \"y\": [20.0, 8.0, 8.59, 7.0, 7.0, 6.8, 16.6, 6.5, 6.43, 5.0, 6.0, 1.29, 10.8, 3.5, 0.0, 0.0, 0.0, 0.0, 2.0, 8.0, 8.5, 7.7, 6.0, 4.0, 4.4, 3.8, 3.0, 0.0, 10.2, -11.3], \"yaxis\": \"y88\"}, {\"marker\": {\"color\": \"rgb(31, 119, 180)\"}, \"showlegend\": false, \"type\": \"histogram\", \"x\": [20.0, 8.0, 8.59, 7.0, 7.0, 6.8, 16.6, 6.5, 6.43, 5.0, 6.0, 1.29, 10.8, 3.5, 0.0, 0.0, 0.0, 0.0, 2.0, 8.0, 8.5, 7.7, 6.0, 4.0, 4.4, 3.8, 3.0, 0.0, 10.2, -11.3], \"xaxis\": \"x89\", \"yaxis\": \"y89\"}, {\"marker\": {\"color\": [11.4, 24.4, 29.3, 28.5, 29.2, 28.5, 31.3, 29.9, 30.5, 31.0, 29.2, 35.3, 32.9, 34.3, 34.8, 36.0, 36.9, 40.2, 41.3, 24.4, 24.3, 25.2, 27.1, 30.8, 29.6, 29.3, 31.6, 34.6, 29.8, 73.3], \"colorscale\": [[0.0, \"rgb(31, 119, 180)\"], [0.1111111111111111, \"rgb(255, 127, 14)\"], [0.2222222222222222, \"rgb(44, 160, 44)\"], [0.3333333333333333, \"rgb(214, 39, 40)\"], [0.4444444444444444, \"rgb(148, 103, 189)\"], [0.5555555555555556, \"rgb(140, 86, 75)\"], [0.6666666666666666, \"rgb(227, 119, 194)\"], [0.7777777777777777, \"rgb(127, 127, 127)\"], [0.8888888888888888, \"rgb(188, 189, 34)\"], [1.0, \"rgb(23, 190, 207)\"]], \"showscale\": false, \"size\": 6}, \"mode\": \"markers\", \"showlegend\": false, \"type\": \"scatter\", \"x\": [38.59, 10.0, 8.65, 7.0, 7.0, 6.8, 16.6, 6.72, 7.08, 6.4, 6.0, 11.27, 12.74, 9.75, 11.6, 11.8, 12.6, 16.6, 17.12, 10.0, 10.7, 9.18, 6.0, 4.47, 5.33, 4.29, 6.37, 10.7, 10.2, 55.56], \"xaxis\": \"x90\", \"y\": [20.0, 8.0, 8.59, 7.0, 7.0, 6.8, 16.6, 6.5, 6.43, 5.0, 6.0, 1.29, 10.8, 3.5, 0.0, 0.0, 0.0, 0.0, 2.0, 8.0, 8.5, 7.7, 6.0, 4.0, 4.4, 3.8, 3.0, 0.0, 10.2, -11.3], \"yaxis\": \"y90\"}, {\"marker\": {\"color\": [11.4, 24.4, 29.3, 28.5, 29.2, 28.5, 31.3, 29.9, 30.5, 31.0, 29.2, 35.3, 32.9, 34.3, 34.8, 36.0, 36.9, 40.2, 41.3, 24.4, 24.3, 25.2, 27.1, 30.8, 29.6, 29.3, 31.6, 34.6, 29.8, 73.3], \"colorscale\": [[0.0, \"rgb(31, 119, 180)\"], [0.1111111111111111, \"rgb(255, 127, 14)\"], [0.2222222222222222, \"rgb(44, 160, 44)\"], [0.3333333333333333, \"rgb(214, 39, 40)\"], [0.4444444444444444, \"rgb(148, 103, 189)\"], [0.5555555555555556, \"rgb(140, 86, 75)\"], [0.6666666666666666, \"rgb(227, 119, 194)\"], [0.7777777777777777, \"rgb(127, 127, 127)\"], [0.8888888888888888, \"rgb(188, 189, 34)\"], [1.0, \"rgb(23, 190, 207)\"]], \"showscale\": false, \"size\": 6}, \"mode\": \"markers\", \"showlegend\": false, \"type\": \"scatter\", \"x\": [27.1, 25.5, 22.0, 21.5, 22.0, 21.5, 14.0, 21.0, 21.0, 21.0, 21.0, 21.0, 21.0, 21.0, 22.0, 20.0, 21.0, 20.0, 15.5, 25.5, 25.2, 25.2, 25.5, 23.0, 23.4, 24.0, 24.0, 23.0, 18.2, 5.7], \"xaxis\": \"x91\", \"y\": [38.59, 10.0, 8.65, 7.0, 7.0, 6.8, 16.6, 6.72, 7.08, 6.4, 6.0, 11.27, 12.74, 9.75, 11.6, 11.8, 12.6, 16.6, 17.12, 10.0, 10.7, 9.18, 6.0, 4.47, 5.33, 4.29, 6.37, 10.7, 10.2, 55.56], \"yaxis\": \"y91\"}, {\"marker\": {\"color\": [11.4, 24.4, 29.3, 28.5, 29.2, 28.5, 31.3, 29.9, 30.5, 31.0, 29.2, 35.3, 32.9, 34.3, 34.8, 36.0, 36.9, 40.2, 41.3, 24.4, 24.3, 25.2, 27.1, 30.8, 29.6, 29.3, 31.6, 34.6, 29.8, 73.3], \"colorscale\": [[0.0, \"rgb(31, 119, 180)\"], [0.1111111111111111, \"rgb(255, 127, 14)\"], [0.2222222222222222, \"rgb(44, 160, 44)\"], [0.3333333333333333, \"rgb(214, 39, 40)\"], [0.4444444444444444, \"rgb(148, 103, 189)\"], [0.5555555555555556, \"rgb(140, 86, 75)\"], [0.6666666666666666, \"rgb(227, 119, 194)\"], [0.7777777777777777, \"rgb(127, 127, 127)\"], [0.8888888888888888, \"rgb(188, 189, 34)\"], [1.0, \"rgb(23, 190, 207)\"]], \"showscale\": false, \"size\": 6}, \"mode\": \"markers\", \"showlegend\": false, \"type\": \"scatter\", \"x\": [-8.2, -17.3, -17.3, -16.5, -16.0, -16.0, -10.0, -16.5, -17.0, -17.3, -16.0, -20.9, -18.9, -20.0, -22.0, -20.0, -22.4, -24.0, -17.2, -17.3, -16.9, -17.7, -19.8, -19.8, -19.3, -19.8, -22.0, -23.4, -13.3, -23.4], \"xaxis\": \"x92\", \"y\": [38.59, 10.0, 8.65, 7.0, 7.0, 6.8, 16.6, 6.72, 7.08, 6.4, 6.0, 11.27, 12.74, 9.75, 11.6, 11.8, 12.6, 16.6, 17.12, 10.0, 10.7, 9.18, 6.0, 4.47, 5.33, 4.29, 6.37, 10.7, 10.2, 55.56], \"yaxis\": \"y92\"}, {\"marker\": {\"color\": [11.4, 24.4, 29.3, 28.5, 29.2, 28.5, 31.3, 29.9, 30.5, 31.0, 29.2, 35.3, 32.9, 34.3, 34.8, 36.0, 36.9, 40.2, 41.3, 24.4, 24.3, 25.2, 27.1, 30.8, 29.6, 29.3, 31.6, 34.6, 29.8, 73.3], \"colorscale\": [[0.0, \"rgb(31, 119, 180)\"], [0.1111111111111111, \"rgb(255, 127, 14)\"], [0.2222222222222222, \"rgb(44, 160, 44)\"], [0.3333333333333333, \"rgb(214, 39, 40)\"], [0.4444444444444444, \"rgb(148, 103, 189)\"], [0.5555555555555556, \"rgb(140, 86, 75)\"], [0.6666666666666666, \"rgb(227, 119, 194)\"], [0.7777777777777777, \"rgb(127, 127, 127)\"], [0.8888888888888888, \"rgb(188, 189, 34)\"], [1.0, \"rgb(23, 190, 207)\"]], \"showscale\": false, \"size\": 6}, \"mode\": \"markers\", \"showlegend\": false, \"type\": \"scatter\", \"x\": [-29.7, -29.7, -29.7, -29.7, -29.7, -29.7, -29.7, -29.7, -29.7, -29.7, -29.7, -29.7, -29.7, -29.7, -29.7, -29.7, -29.7, -29.7, -29.7, -29.7, -29.7, -29.7, -29.7, -29.7, -29.7, -29.7, -29.7, -29.7, -29.7, -29.7], \"xaxis\": \"x93\", \"y\": [38.59, 10.0, 8.65, 7.0, 7.0, 6.8, 16.6, 6.72, 7.08, 6.4, 6.0, 11.27, 12.74, 9.75, 11.6, 11.8, 12.6, 16.6, 17.12, 10.0, 10.7, 9.18, 6.0, 4.47, 5.33, 4.29, 6.37, 10.7, 10.2, 55.56], \"yaxis\": \"y93\"}, {\"marker\": {\"color\": [11.4, 24.4, 29.3, 28.5, 29.2, 28.5, 31.3, 29.9, 30.5, 31.0, 29.2, 35.3, 32.9, 34.3, 34.8, 36.0, 36.9, 40.2, 41.3, 24.4, 24.3, 25.2, 27.1, 30.8, 29.6, 29.3, 31.6, 34.6, 29.8, 73.3], \"colorscale\": [[0.0, \"rgb(31, 119, 180)\"], [0.1111111111111111, \"rgb(255, 127, 14)\"], [0.2222222222222222, \"rgb(44, 160, 44)\"], [0.3333333333333333, \"rgb(214, 39, 40)\"], [0.4444444444444444, \"rgb(148, 103, 189)\"], [0.5555555555555556, \"rgb(140, 86, 75)\"], [0.6666666666666666, \"rgb(227, 119, 194)\"], [0.7777777777777777, \"rgb(127, 127, 127)\"], [0.8888888888888888, \"rgb(188, 189, 34)\"], [1.0, \"rgb(23, 190, 207)\"]], \"showscale\": false, \"size\": 6}, \"mode\": \"markers\", \"showlegend\": false, \"type\": \"scatter\", \"x\": [28.0, 29.7, 27.0, 26.2, 25.6, 26.0, 17.0, 25.9, 26.1, 26.3, 25.6, 28.4, 27.2, 27.9, 29.7, 27.2, 29.4, 29.9, 22.6, 29.7, 29.3, 29.6, 30.9, 29.1, 29.1, 29.8, 31.0, 31.2, 22.0, 23.9], \"xaxis\": \"x94\", \"y\": [38.59, 10.0, 8.65, 7.0, 7.0, 6.8, 16.6, 6.72, 7.08, 6.4, 6.0, 11.27, 12.74, 9.75, 11.6, 11.8, 12.6, 16.6, 17.12, 10.0, 10.7, 9.18, 6.0, 4.47, 5.33, 4.29, 6.37, 10.7, 10.2, 55.56], \"yaxis\": \"y94\"}, {\"marker\": {\"color\": [11.4, 24.4, 29.3, 28.5, 29.2, 28.5, 31.3, 29.9, 30.5, 31.0, 29.2, 35.3, 32.9, 34.3, 34.8, 36.0, 36.9, 40.2, 41.3, 24.4, 24.3, 25.2, 27.1, 30.8, 29.6, 29.3, 31.6, 34.6, 29.8, 73.3], \"colorscale\": [[0.0, \"rgb(31, 119, 180)\"], [0.1111111111111111, \"rgb(255, 127, 14)\"], [0.2222222222222222, \"rgb(44, 160, 44)\"], [0.3333333333333333, \"rgb(214, 39, 40)\"], [0.4444444444444444, \"rgb(148, 103, 189)\"], [0.5555555555555556, \"rgb(140, 86, 75)\"], [0.6666666666666666, \"rgb(227, 119, 194)\"], [0.7777777777777777, \"rgb(127, 127, 127)\"], [0.8888888888888888, \"rgb(188, 189, 34)\"], [1.0, \"rgb(23, 190, 207)\"]], \"showscale\": false, \"size\": 6}, \"mode\": \"markers\", \"showlegend\": false, \"type\": \"scatter\", \"x\": [-15.7, -33.1, -37.6, -36.9, -36.8, -36.1, -35.3, -37.7, -38.5, -39.1, -36.8, -44.9, -41.7, -43.5, -45.0, -45.0, -47.0, -50.7, -48.1, -33.1, -32.8, -34.1, -37.0, -40.3, -39.0, -39.0, -42.2, -45.6, -35.7, -77.0], \"xaxis\": \"x95\", \"y\": [38.59, 10.0, 8.65, 7.0, 7.0, 6.8, 16.6, 6.72, 7.08, 6.4, 6.0, 11.27, 12.74, 9.75, 11.6, 11.8, 12.6, 16.6, 17.12, 10.0, 10.7, 9.18, 6.0, 4.47, 5.33, 4.29, 6.37, 10.7, 10.2, 55.56], \"yaxis\": \"y95\"}, {\"marker\": {\"color\": [11.4, 24.4, 29.3, 28.5, 29.2, 28.5, 31.3, 29.9, 30.5, 31.0, 29.2, 35.3, 32.9, 34.3, 34.8, 36.0, 36.9, 40.2, 41.3, 24.4, 24.3, 25.2, 27.1, 30.8, 29.6, 29.3, 31.6, 34.6, 29.8, 73.3], \"colorscale\": [[0.0, \"rgb(31, 119, 180)\"], [0.1111111111111111, \"rgb(255, 127, 14)\"], [0.2222222222222222, \"rgb(44, 160, 44)\"], [0.3333333333333333, \"rgb(214, 39, 40)\"], [0.4444444444444444, \"rgb(148, 103, 189)\"], [0.5555555555555556, \"rgb(140, 86, 75)\"], [0.6666666666666666, \"rgb(227, 119, 194)\"], [0.7777777777777777, \"rgb(127, 127, 127)\"], [0.8888888888888888, \"rgb(188, 189, 34)\"], [1.0, \"rgb(23, 190, 207)\"]], \"showscale\": false, \"size\": 6}, \"mode\": \"markers\", \"showlegend\": false, \"type\": \"scatter\", \"x\": [135.8, 134.1, 136.8, 137.7, 138.4, 138.0, 149.0, 138.1, 137.8, 137.6, 138.4, 135.3, 136.6, 135.9, 134.0, 136.6, 134.3, 133.8, 142.1, 134.1, 134.5, 134.1, 132.9, 134.6, 134.6, 133.9, 132.7, 132.5, 142.8, 140.4], \"xaxis\": \"x96\", \"y\": [38.59, 10.0, 8.65, 7.0, 7.0, 6.8, 16.6, 6.72, 7.08, 6.4, 6.0, 11.27, 12.74, 9.75, 11.6, 11.8, 12.6, 16.6, 17.12, 10.0, 10.7, 9.18, 6.0, 4.47, 5.33, 4.29, 6.37, 10.7, 10.2, 55.56], \"yaxis\": \"y96\"}, {\"marker\": {\"color\": [11.4, 24.4, 29.3, 28.5, 29.2, 28.5, 31.3, 29.9, 30.5, 31.0, 29.2, 35.3, 32.9, 34.3, 34.8, 36.0, 36.9, 40.2, 41.3, 24.4, 24.3, 25.2, 27.1, 30.8, 29.6, 29.3, 31.6, 34.6, 29.8, 73.3], \"colorscale\": [[0.0, \"rgb(31, 119, 180)\"], [0.1111111111111111, \"rgb(255, 127, 14)\"], [0.2222222222222222, \"rgb(44, 160, 44)\"], [0.3333333333333333, \"rgb(214, 39, 40)\"], [0.4444444444444444, \"rgb(148, 103, 189)\"], [0.5555555555555556, \"rgb(140, 86, 75)\"], [0.6666666666666666, \"rgb(227, 119, 194)\"], [0.7777777777777777, \"rgb(127, 127, 127)\"], [0.8888888888888888, \"rgb(188, 189, 34)\"], [1.0, \"rgb(23, 190, 207)\"]], \"showscale\": false, \"size\": 6}, \"mode\": \"markers\", \"showlegend\": false, \"type\": \"scatter\", \"x\": [40.6, 41.7, 40.0, 39.4, 39.0, 39.3, 34.1, 39.2, 39.4, 39.5, 39.0, 40.9, 40.1, 40.5, 41.8, 40.1, 41.5, 41.9, 37.1, 41.7, 41.5, 41.7, 42.6, 41.3, 41.4, 41.8, 42.7, 42.8, 36.8, 38.0], \"xaxis\": \"x97\", \"y\": [38.59, 10.0, 8.65, 7.0, 7.0, 6.8, 16.6, 6.72, 7.08, 6.4, 6.0, 11.27, 12.74, 9.75, 11.6, 11.8, 12.6, 16.6, 17.12, 10.0, 10.7, 9.18, 6.0, 4.47, 5.33, 4.29, 6.37, 10.7, 10.2, 55.56], \"yaxis\": \"y97\"}, {\"marker\": {\"color\": [11.4, 24.4, 29.3, 28.5, 29.2, 28.5, 31.3, 29.9, 30.5, 31.0, 29.2, 35.3, 32.9, 34.3, 34.8, 36.0, 36.9, 40.2, 41.3, 24.4, 24.3, 25.2, 27.1, 30.8, 29.6, 29.3, 31.6, 34.6, 29.8, 73.3], \"colorscale\": [[0.0, \"rgb(31, 119, 180)\"], [0.1111111111111111, \"rgb(255, 127, 14)\"], [0.2222222222222222, \"rgb(44, 160, 44)\"], [0.3333333333333333, \"rgb(214, 39, 40)\"], [0.4444444444444444, \"rgb(148, 103, 189)\"], [0.5555555555555556, \"rgb(140, 86, 75)\"], [0.6666666666666666, \"rgb(227, 119, 194)\"], [0.7777777777777777, \"rgb(127, 127, 127)\"], [0.8888888888888888, \"rgb(188, 189, 34)\"], [1.0, \"rgb(23, 190, 207)\"]], \"showscale\": false, \"size\": 6}, \"mode\": \"markers\", \"showlegend\": false, \"type\": \"scatter\", \"x\": [33.0, 6.0, 1.0, 0.0, 0.0, 0.0, 0.0, -1.7, -2.97, -4.0, 0.0, -11.2, -6.75, -9.1, -11.6, -11.8, -12.6, -16.6, -17.0, 6.0, 6.5, 5.0, 0.0, -2.0, -3.0, -2.0, -5.62, -10.7, 0.0, -54.4], \"xaxis\": \"x98\", \"y\": [38.59, 10.0, 8.65, 7.0, 7.0, 6.8, 16.6, 6.72, 7.08, 6.4, 6.0, 11.27, 12.74, 9.75, 11.6, 11.8, 12.6, 16.6, 17.12, 10.0, 10.7, 9.18, 6.0, 4.47, 5.33, 4.29, 6.37, 10.7, 10.2, 55.56], \"yaxis\": \"y98\"}, {\"marker\": {\"color\": [11.4, 24.4, 29.3, 28.5, 29.2, 28.5, 31.3, 29.9, 30.5, 31.0, 29.2, 35.3, 32.9, 34.3, 34.8, 36.0, 36.9, 40.2, 41.3, 24.4, 24.3, 25.2, 27.1, 30.8, 29.6, 29.3, 31.6, 34.6, 29.8, 73.3], \"colorscale\": [[0.0, \"rgb(31, 119, 180)\"], [0.1111111111111111, \"rgb(255, 127, 14)\"], [0.2222222222222222, \"rgb(44, 160, 44)\"], [0.3333333333333333, \"rgb(214, 39, 40)\"], [0.4444444444444444, \"rgb(148, 103, 189)\"], [0.5555555555555556, \"rgb(140, 86, 75)\"], [0.6666666666666666, \"rgb(227, 119, 194)\"], [0.7777777777777777, \"rgb(127, 127, 127)\"], [0.8888888888888888, \"rgb(188, 189, 34)\"], [1.0, \"rgb(23, 190, 207)\"]], \"showscale\": false, \"size\": 6}, \"mode\": \"markers\", \"showlegend\": false, \"type\": \"scatter\", \"x\": [20.0, 8.0, 8.59, 7.0, 7.0, 6.8, 16.6, 6.5, 6.43, 5.0, 6.0, 1.29, 10.8, 3.5, 0.0, 0.0, 0.0, 0.0, 2.0, 8.0, 8.5, 7.7, 6.0, 4.0, 4.4, 3.8, 3.0, 0.0, 10.2, -11.3], \"xaxis\": \"x99\", \"y\": [38.59, 10.0, 8.65, 7.0, 7.0, 6.8, 16.6, 6.72, 7.08, 6.4, 6.0, 11.27, 12.74, 9.75, 11.6, 11.8, 12.6, 16.6, 17.12, 10.0, 10.7, 9.18, 6.0, 4.47, 5.33, 4.29, 6.37, 10.7, 10.2, 55.56], \"yaxis\": \"y99\"}, {\"marker\": {\"color\": \"rgb(31, 119, 180)\"}, \"showlegend\": false, \"type\": \"histogram\", \"x\": [38.59, 10.0, 8.65, 7.0, 7.0, 6.8, 16.6, 6.72, 7.08, 6.4, 6.0, 11.27, 12.74, 9.75, 11.6, 11.8, 12.6, 16.6, 17.12, 10.0, 10.7, 9.18, 6.0, 4.47, 5.33, 4.29, 6.37, 10.7, 10.2, 55.56], \"xaxis\": \"x100\", \"yaxis\": \"y100\"}],\n                        {\"barmode\": \"stack\", \"height\": 2000, \"showlegend\": true, \"template\": {\"data\": {\"bar\": [{\"error_x\": {\"color\": \"#2a3f5f\"}, \"error_y\": {\"color\": \"#2a3f5f\"}, \"marker\": {\"line\": {\"color\": \"#E5ECF6\", \"width\": 0.5}}, \"type\": \"bar\"}], \"barpolar\": [{\"marker\": {\"line\": {\"color\": \"#E5ECF6\", \"width\": 0.5}}, \"type\": \"barpolar\"}], \"carpet\": [{\"aaxis\": {\"endlinecolor\": \"#2a3f5f\", \"gridcolor\": \"white\", \"linecolor\": \"white\", \"minorgridcolor\": \"white\", \"startlinecolor\": \"#2a3f5f\"}, \"baxis\": {\"endlinecolor\": \"#2a3f5f\", \"gridcolor\": \"white\", \"linecolor\": \"white\", \"minorgridcolor\": \"white\", \"startlinecolor\": \"#2a3f5f\"}, \"type\": \"carpet\"}], \"choropleth\": [{\"colorbar\": {\"outlinewidth\": 0, \"ticks\": \"\"}, \"type\": \"choropleth\"}], \"contour\": [{\"colorbar\": {\"outlinewidth\": 0, \"ticks\": \"\"}, \"colorscale\": [[0.0, \"#0d0887\"], [0.1111111111111111, \"#46039f\"], [0.2222222222222222, \"#7201a8\"], [0.3333333333333333, \"#9c179e\"], [0.4444444444444444, \"#bd3786\"], [0.5555555555555556, \"#d8576b\"], [0.6666666666666666, \"#ed7953\"], [0.7777777777777778, \"#fb9f3a\"], [0.8888888888888888, \"#fdca26\"], [1.0, \"#f0f921\"]], \"type\": \"contour\"}], \"contourcarpet\": [{\"colorbar\": {\"outlinewidth\": 0, \"ticks\": \"\"}, \"type\": \"contourcarpet\"}], \"heatmap\": [{\"colorbar\": {\"outlinewidth\": 0, \"ticks\": \"\"}, \"colorscale\": [[0.0, \"#0d0887\"], [0.1111111111111111, \"#46039f\"], [0.2222222222222222, \"#7201a8\"], [0.3333333333333333, \"#9c179e\"], [0.4444444444444444, \"#bd3786\"], [0.5555555555555556, \"#d8576b\"], [0.6666666666666666, \"#ed7953\"], [0.7777777777777778, \"#fb9f3a\"], [0.8888888888888888, \"#fdca26\"], [1.0, \"#f0f921\"]], \"type\": \"heatmap\"}], \"heatmapgl\": [{\"colorbar\": {\"outlinewidth\": 0, \"ticks\": \"\"}, \"colorscale\": [[0.0, \"#0d0887\"], [0.1111111111111111, \"#46039f\"], [0.2222222222222222, \"#7201a8\"], [0.3333333333333333, \"#9c179e\"], [0.4444444444444444, \"#bd3786\"], [0.5555555555555556, \"#d8576b\"], [0.6666666666666666, \"#ed7953\"], [0.7777777777777778, \"#fb9f3a\"], [0.8888888888888888, \"#fdca26\"], [1.0, \"#f0f921\"]], \"type\": \"heatmapgl\"}], \"histogram\": [{\"marker\": {\"colorbar\": {\"outlinewidth\": 0, \"ticks\": \"\"}}, \"type\": \"histogram\"}], \"histogram2d\": [{\"colorbar\": {\"outlinewidth\": 0, \"ticks\": \"\"}, \"colorscale\": [[0.0, \"#0d0887\"], [0.1111111111111111, \"#46039f\"], [0.2222222222222222, \"#7201a8\"], [0.3333333333333333, \"#9c179e\"], [0.4444444444444444, \"#bd3786\"], [0.5555555555555556, \"#d8576b\"], [0.6666666666666666, \"#ed7953\"], [0.7777777777777778, \"#fb9f3a\"], [0.8888888888888888, \"#fdca26\"], [1.0, \"#f0f921\"]], \"type\": \"histogram2d\"}], \"histogram2dcontour\": [{\"colorbar\": {\"outlinewidth\": 0, \"ticks\": \"\"}, \"colorscale\": [[0.0, \"#0d0887\"], [0.1111111111111111, \"#46039f\"], [0.2222222222222222, \"#7201a8\"], [0.3333333333333333, \"#9c179e\"], [0.4444444444444444, \"#bd3786\"], [0.5555555555555556, \"#d8576b\"], [0.6666666666666666, \"#ed7953\"], [0.7777777777777778, \"#fb9f3a\"], [0.8888888888888888, \"#fdca26\"], [1.0, \"#f0f921\"]], \"type\": \"histogram2dcontour\"}], \"mesh3d\": [{\"colorbar\": {\"outlinewidth\": 0, \"ticks\": \"\"}, \"type\": \"mesh3d\"}], \"parcoords\": [{\"line\": {\"colorbar\": {\"outlinewidth\": 0, \"ticks\": \"\"}}, \"type\": \"parcoords\"}], \"pie\": [{\"automargin\": true, \"type\": \"pie\"}], \"scatter\": [{\"marker\": {\"colorbar\": {\"outlinewidth\": 0, \"ticks\": \"\"}}, \"type\": \"scatter\"}], \"scatter3d\": [{\"line\": {\"colorbar\": {\"outlinewidth\": 0, \"ticks\": \"\"}}, \"marker\": {\"colorbar\": {\"outlinewidth\": 0, \"ticks\": \"\"}}, \"type\": \"scatter3d\"}], \"scattercarpet\": [{\"marker\": {\"colorbar\": {\"outlinewidth\": 0, \"ticks\": \"\"}}, \"type\": \"scattercarpet\"}], \"scattergeo\": [{\"marker\": {\"colorbar\": {\"outlinewidth\": 0, \"ticks\": \"\"}}, \"type\": \"scattergeo\"}], \"scattergl\": [{\"marker\": {\"colorbar\": {\"outlinewidth\": 0, \"ticks\": \"\"}}, \"type\": \"scattergl\"}], \"scattermapbox\": [{\"marker\": {\"colorbar\": {\"outlinewidth\": 0, \"ticks\": \"\"}}, \"type\": \"scattermapbox\"}], \"scatterpolar\": [{\"marker\": {\"colorbar\": {\"outlinewidth\": 0, \"ticks\": \"\"}}, \"type\": \"scatterpolar\"}], \"scatterpolargl\": [{\"marker\": {\"colorbar\": {\"outlinewidth\": 0, \"ticks\": \"\"}}, \"type\": \"scatterpolargl\"}], \"scatterternary\": [{\"marker\": {\"colorbar\": {\"outlinewidth\": 0, \"ticks\": \"\"}}, \"type\": \"scatterternary\"}], \"surface\": [{\"colorbar\": {\"outlinewidth\": 0, \"ticks\": \"\"}, \"colorscale\": [[0.0, \"#0d0887\"], [0.1111111111111111, \"#46039f\"], [0.2222222222222222, \"#7201a8\"], [0.3333333333333333, \"#9c179e\"], [0.4444444444444444, \"#bd3786\"], [0.5555555555555556, \"#d8576b\"], [0.6666666666666666, \"#ed7953\"], [0.7777777777777778, \"#fb9f3a\"], [0.8888888888888888, \"#fdca26\"], [1.0, \"#f0f921\"]], \"type\": \"surface\"}], \"table\": [{\"cells\": {\"fill\": {\"color\": \"#EBF0F8\"}, \"line\": {\"color\": \"white\"}}, \"header\": {\"fill\": {\"color\": \"#C8D4E3\"}, \"line\": {\"color\": \"white\"}}, \"type\": \"table\"}]}, \"layout\": {\"annotationdefaults\": {\"arrowcolor\": \"#2a3f5f\", \"arrowhead\": 0, \"arrowwidth\": 1}, \"coloraxis\": {\"colorbar\": {\"outlinewidth\": 0, \"ticks\": \"\"}}, \"colorscale\": {\"diverging\": [[0, \"#8e0152\"], [0.1, \"#c51b7d\"], [0.2, \"#de77ae\"], [0.3, \"#f1b6da\"], [0.4, \"#fde0ef\"], [0.5, \"#f7f7f7\"], [0.6, \"#e6f5d0\"], [0.7, \"#b8e186\"], [0.8, \"#7fbc41\"], [0.9, \"#4d9221\"], [1, \"#276419\"]], \"sequential\": [[0.0, \"#0d0887\"], [0.1111111111111111, \"#46039f\"], [0.2222222222222222, \"#7201a8\"], [0.3333333333333333, \"#9c179e\"], [0.4444444444444444, \"#bd3786\"], [0.5555555555555556, \"#d8576b\"], [0.6666666666666666, \"#ed7953\"], [0.7777777777777778, \"#fb9f3a\"], [0.8888888888888888, \"#fdca26\"], [1.0, \"#f0f921\"]], \"sequentialminus\": [[0.0, \"#0d0887\"], [0.1111111111111111, \"#46039f\"], [0.2222222222222222, \"#7201a8\"], [0.3333333333333333, \"#9c179e\"], [0.4444444444444444, \"#bd3786\"], [0.5555555555555556, \"#d8576b\"], [0.6666666666666666, \"#ed7953\"], [0.7777777777777778, \"#fb9f3a\"], [0.8888888888888888, \"#fdca26\"], [1.0, \"#f0f921\"]]}, \"colorway\": [\"#636efa\", \"#EF553B\", \"#00cc96\", \"#ab63fa\", \"#FFA15A\", \"#19d3f3\", \"#FF6692\", \"#B6E880\", \"#FF97FF\", \"#FECB52\"], \"font\": {\"color\": \"#2a3f5f\"}, \"geo\": {\"bgcolor\": \"white\", \"lakecolor\": \"white\", \"landcolor\": \"#E5ECF6\", \"showlakes\": true, \"showland\": true, \"subunitcolor\": \"white\"}, \"hoverlabel\": {\"align\": \"left\"}, \"hovermode\": \"closest\", \"mapbox\": {\"style\": \"light\"}, \"paper_bgcolor\": \"white\", \"plot_bgcolor\": \"#E5ECF6\", \"polar\": {\"angularaxis\": {\"gridcolor\": \"white\", \"linecolor\": \"white\", \"ticks\": \"\"}, \"bgcolor\": \"#E5ECF6\", \"radialaxis\": {\"gridcolor\": \"white\", \"linecolor\": \"white\", \"ticks\": \"\"}}, \"scene\": {\"xaxis\": {\"backgroundcolor\": \"#E5ECF6\", \"gridcolor\": \"white\", \"gridwidth\": 2, \"linecolor\": \"white\", \"showbackground\": true, \"ticks\": \"\", \"zerolinecolor\": \"white\"}, \"yaxis\": {\"backgroundcolor\": \"#E5ECF6\", \"gridcolor\": \"white\", \"gridwidth\": 2, \"linecolor\": \"white\", \"showbackground\": true, \"ticks\": \"\", \"zerolinecolor\": \"white\"}, \"zaxis\": {\"backgroundcolor\": \"#E5ECF6\", \"gridcolor\": \"white\", \"gridwidth\": 2, \"linecolor\": \"white\", \"showbackground\": true, \"ticks\": \"\", \"zerolinecolor\": \"white\"}}, \"shapedefaults\": {\"line\": {\"color\": \"#2a3f5f\"}}, \"ternary\": {\"aaxis\": {\"gridcolor\": \"white\", \"linecolor\": \"white\", \"ticks\": \"\"}, \"baxis\": {\"gridcolor\": \"white\", \"linecolor\": \"white\", \"ticks\": \"\"}, \"bgcolor\": \"#E5ECF6\", \"caxis\": {\"gridcolor\": \"white\", \"linecolor\": \"white\", \"ticks\": \"\"}}, \"title\": {\"x\": 0.05}, \"xaxis\": {\"automargin\": true, \"gridcolor\": \"white\", \"linecolor\": \"white\", \"ticks\": \"\", \"title\": {\"standoff\": 15}, \"zerolinecolor\": \"white\", \"zerolinewidth\": 2}, \"yaxis\": {\"automargin\": true, \"gridcolor\": \"white\", \"linecolor\": \"white\", \"ticks\": \"\", \"title\": {\"standoff\": 15}, \"zerolinecolor\": \"white\", \"zerolinewidth\": 2}}}, \"title\": {\"text\": \"Scatterplot Matrix\"}, \"width\": 2000, \"xaxis\": {\"anchor\": \"y\", \"domain\": [0.0, 0.082]}, \"xaxis10\": {\"anchor\": \"y10\", \"domain\": [0.9179999999999999, 0.9999999999999999]}, \"xaxis100\": {\"anchor\": \"y100\", \"domain\": [0.9179999999999999, 0.9999999999999999], \"title\": {\"text\": \"dCS\"}}, \"xaxis11\": {\"anchor\": \"y11\", \"domain\": [0.0, 0.082]}, \"xaxis12\": {\"anchor\": \"y12\", \"domain\": [0.10200000000000001, 0.184]}, \"xaxis13\": {\"anchor\": \"y13\", \"domain\": [0.20400000000000001, 0.28600000000000003]}, \"xaxis14\": {\"anchor\": \"y14\", \"domain\": [0.306, 0.388]}, \"xaxis15\": {\"anchor\": \"y15\", \"domain\": [0.40800000000000003, 0.49000000000000005]}, \"xaxis16\": {\"anchor\": \"y16\", \"domain\": [0.51, 0.592]}, \"xaxis17\": {\"anchor\": \"y17\", \"domain\": [0.6120000000000001, 0.6940000000000001]}, \"xaxis18\": {\"anchor\": \"y18\", \"domain\": [0.7140000000000001, 0.796]}, \"xaxis19\": {\"anchor\": \"y19\", \"domain\": [0.8160000000000001, 0.898]}, \"xaxis2\": {\"anchor\": \"y2\", \"domain\": [0.10200000000000001, 0.184]}, \"xaxis20\": {\"anchor\": \"y20\", \"domain\": [0.9179999999999999, 0.9999999999999999]}, \"xaxis21\": {\"anchor\": \"y21\", \"domain\": [0.0, 0.082]}, \"xaxis22\": {\"anchor\": \"y22\", \"domain\": [0.10200000000000001, 0.184]}, \"xaxis23\": {\"anchor\": \"y23\", \"domain\": [0.20400000000000001, 0.28600000000000003]}, \"xaxis24\": {\"anchor\": \"y24\", \"domain\": [0.306, 0.388]}, \"xaxis25\": {\"anchor\": \"y25\", \"domain\": [0.40800000000000003, 0.49000000000000005]}, \"xaxis26\": {\"anchor\": \"y26\", \"domain\": [0.51, 0.592]}, \"xaxis27\": {\"anchor\": \"y27\", \"domain\": [0.6120000000000001, 0.6940000000000001]}, \"xaxis28\": {\"anchor\": \"y28\", \"domain\": [0.7140000000000001, 0.796]}, \"xaxis29\": {\"anchor\": \"y29\", \"domain\": [0.8160000000000001, 0.898]}, \"xaxis3\": {\"anchor\": \"y3\", \"domain\": [0.20400000000000001, 0.28600000000000003]}, \"xaxis30\": {\"anchor\": \"y30\", \"domain\": [0.9179999999999999, 0.9999999999999999]}, \"xaxis31\": {\"anchor\": \"y31\", \"domain\": [0.0, 0.082]}, \"xaxis32\": {\"anchor\": \"y32\", \"domain\": [0.10200000000000001, 0.184]}, \"xaxis33\": {\"anchor\": \"y33\", \"domain\": [0.20400000000000001, 0.28600000000000003]}, \"xaxis34\": {\"anchor\": \"y34\", \"domain\": [0.306, 0.388]}, \"xaxis35\": {\"anchor\": \"y35\", \"domain\": [0.40800000000000003, 0.49000000000000005]}, \"xaxis36\": {\"anchor\": \"y36\", \"domain\": [0.51, 0.592]}, \"xaxis37\": {\"anchor\": \"y37\", \"domain\": [0.6120000000000001, 0.6940000000000001]}, \"xaxis38\": {\"anchor\": \"y38\", \"domain\": [0.7140000000000001, 0.796]}, \"xaxis39\": {\"anchor\": \"y39\", \"domain\": [0.8160000000000001, 0.898]}, \"xaxis4\": {\"anchor\": \"y4\", \"domain\": [0.306, 0.388]}, \"xaxis40\": {\"anchor\": \"y40\", \"domain\": [0.9179999999999999, 0.9999999999999999]}, \"xaxis41\": {\"anchor\": \"y41\", \"domain\": [0.0, 0.082]}, \"xaxis42\": {\"anchor\": \"y42\", \"domain\": [0.10200000000000001, 0.184]}, \"xaxis43\": {\"anchor\": \"y43\", \"domain\": [0.20400000000000001, 0.28600000000000003]}, \"xaxis44\": {\"anchor\": \"y44\", \"domain\": [0.306, 0.388]}, \"xaxis45\": {\"anchor\": \"y45\", \"domain\": [0.40800000000000003, 0.49000000000000005]}, \"xaxis46\": {\"anchor\": \"y46\", \"domain\": [0.51, 0.592]}, \"xaxis47\": {\"anchor\": \"y47\", \"domain\": [0.6120000000000001, 0.6940000000000001]}, \"xaxis48\": {\"anchor\": \"y48\", \"domain\": [0.7140000000000001, 0.796]}, \"xaxis49\": {\"anchor\": \"y49\", \"domain\": [0.8160000000000001, 0.898]}, \"xaxis5\": {\"anchor\": \"y5\", \"domain\": [0.40800000000000003, 0.49000000000000005]}, \"xaxis50\": {\"anchor\": \"y50\", \"domain\": [0.9179999999999999, 0.9999999999999999]}, \"xaxis51\": {\"anchor\": \"y51\", \"domain\": [0.0, 0.082]}, \"xaxis52\": {\"anchor\": \"y52\", \"domain\": [0.10200000000000001, 0.184]}, \"xaxis53\": {\"anchor\": \"y53\", \"domain\": [0.20400000000000001, 0.28600000000000003]}, \"xaxis54\": {\"anchor\": \"y54\", \"domain\": [0.306, 0.388]}, \"xaxis55\": {\"anchor\": \"y55\", \"domain\": [0.40800000000000003, 0.49000000000000005]}, \"xaxis56\": {\"anchor\": \"y56\", \"domain\": [0.51, 0.592]}, \"xaxis57\": {\"anchor\": \"y57\", \"domain\": [0.6120000000000001, 0.6940000000000001]}, \"xaxis58\": {\"anchor\": \"y58\", \"domain\": [0.7140000000000001, 0.796]}, \"xaxis59\": {\"anchor\": \"y59\", \"domain\": [0.8160000000000001, 0.898]}, \"xaxis6\": {\"anchor\": \"y6\", \"domain\": [0.51, 0.592]}, \"xaxis60\": {\"anchor\": \"y60\", \"domain\": [0.9179999999999999, 0.9999999999999999]}, \"xaxis61\": {\"anchor\": \"y61\", \"domain\": [0.0, 0.082]}, \"xaxis62\": {\"anchor\": \"y62\", \"domain\": [0.10200000000000001, 0.184]}, \"xaxis63\": {\"anchor\": \"y63\", \"domain\": [0.20400000000000001, 0.28600000000000003]}, \"xaxis64\": {\"anchor\": \"y64\", \"domain\": [0.306, 0.388]}, \"xaxis65\": {\"anchor\": \"y65\", \"domain\": [0.40800000000000003, 0.49000000000000005]}, \"xaxis66\": {\"anchor\": \"y66\", \"domain\": [0.51, 0.592]}, \"xaxis67\": {\"anchor\": \"y67\", \"domain\": [0.6120000000000001, 0.6940000000000001]}, \"xaxis68\": {\"anchor\": \"y68\", \"domain\": [0.7140000000000001, 0.796]}, \"xaxis69\": {\"anchor\": \"y69\", \"domain\": [0.8160000000000001, 0.898]}, \"xaxis7\": {\"anchor\": \"y7\", \"domain\": [0.6120000000000001, 0.6940000000000001]}, \"xaxis70\": {\"anchor\": \"y70\", \"domain\": [0.9179999999999999, 0.9999999999999999]}, \"xaxis71\": {\"anchor\": \"y71\", \"domain\": [0.0, 0.082]}, \"xaxis72\": {\"anchor\": \"y72\", \"domain\": [0.10200000000000001, 0.184]}, \"xaxis73\": {\"anchor\": \"y73\", \"domain\": [0.20400000000000001, 0.28600000000000003]}, \"xaxis74\": {\"anchor\": \"y74\", \"domain\": [0.306, 0.388]}, \"xaxis75\": {\"anchor\": \"y75\", \"domain\": [0.40800000000000003, 0.49000000000000005]}, \"xaxis76\": {\"anchor\": \"y76\", \"domain\": [0.51, 0.592]}, \"xaxis77\": {\"anchor\": \"y77\", \"domain\": [0.6120000000000001, 0.6940000000000001]}, \"xaxis78\": {\"anchor\": \"y78\", \"domain\": [0.7140000000000001, 0.796]}, \"xaxis79\": {\"anchor\": \"y79\", \"domain\": [0.8160000000000001, 0.898]}, \"xaxis8\": {\"anchor\": \"y8\", \"domain\": [0.7140000000000001, 0.796]}, \"xaxis80\": {\"anchor\": \"y80\", \"domain\": [0.9179999999999999, 0.9999999999999999]}, \"xaxis81\": {\"anchor\": \"y81\", \"domain\": [0.0, 0.082]}, \"xaxis82\": {\"anchor\": \"y82\", \"domain\": [0.10200000000000001, 0.184]}, \"xaxis83\": {\"anchor\": \"y83\", \"domain\": [0.20400000000000001, 0.28600000000000003]}, \"xaxis84\": {\"anchor\": \"y84\", \"domain\": [0.306, 0.388]}, \"xaxis85\": {\"anchor\": \"y85\", \"domain\": [0.40800000000000003, 0.49000000000000005]}, \"xaxis86\": {\"anchor\": \"y86\", \"domain\": [0.51, 0.592]}, \"xaxis87\": {\"anchor\": \"y87\", \"domain\": [0.6120000000000001, 0.6940000000000001]}, \"xaxis88\": {\"anchor\": \"y88\", \"domain\": [0.7140000000000001, 0.796]}, \"xaxis89\": {\"anchor\": \"y89\", \"domain\": [0.8160000000000001, 0.898]}, \"xaxis9\": {\"anchor\": \"y9\", \"domain\": [0.8160000000000001, 0.898]}, \"xaxis90\": {\"anchor\": \"y90\", \"domain\": [0.9179999999999999, 0.9999999999999999]}, \"xaxis91\": {\"anchor\": \"y91\", \"domain\": [0.0, 0.082], \"title\": {\"text\": \"C\"}}, \"xaxis92\": {\"anchor\": \"y92\", \"domain\": [0.10200000000000001, 0.184], \"title\": {\"text\": \"S\"}}, \"xaxis93\": {\"anchor\": \"y93\", \"domain\": [0.20400000000000001, 0.28600000000000003], \"title\": {\"text\": \"T\"}}, \"xaxis94\": {\"anchor\": \"y94\", \"domain\": [0.306, 0.388], \"title\": {\"text\": \"A\"}}, \"xaxis95\": {\"anchor\": \"y95\", \"domain\": [0.40800000000000003, 0.49000000000000005], \"title\": {\"text\": \"Alpha\"}}, \"xaxis96\": {\"anchor\": \"y96\", \"domain\": [0.51, 0.592], \"title\": {\"text\": \"Theta\"}}, \"xaxis97\": {\"anchor\": \"y97\", \"domain\": [0.6120000000000001, 0.6940000000000001], \"title\": {\"text\": \"beta\"}}, \"xaxis98\": {\"anchor\": \"y98\", \"domain\": [0.7140000000000001, 0.796], \"title\": {\"text\": \"dC\"}}, \"xaxis99\": {\"anchor\": \"y99\", \"domain\": [0.8160000000000001, 0.898], \"title\": {\"text\": \"dS\"}}, \"yaxis\": {\"anchor\": \"x\", \"domain\": [0.9269999999999999, 0.9999999999999999], \"title\": {\"text\": \"C\"}}, \"yaxis10\": {\"anchor\": \"x10\", \"domain\": [0.9269999999999999, 0.9999999999999999]}, \"yaxis100\": {\"anchor\": \"x100\", \"domain\": [0.0, 0.073]}, \"yaxis11\": {\"anchor\": \"x11\", \"domain\": [0.824, 0.8969999999999999], \"title\": {\"text\": \"S\"}}, \"yaxis12\": {\"anchor\": \"x12\", \"domain\": [0.824, 0.8969999999999999]}, \"yaxis13\": {\"anchor\": \"x13\", \"domain\": [0.824, 0.8969999999999999]}, \"yaxis14\": {\"anchor\": \"x14\", \"domain\": [0.824, 0.8969999999999999]}, \"yaxis15\": {\"anchor\": \"x15\", \"domain\": [0.824, 0.8969999999999999]}, \"yaxis16\": {\"anchor\": \"x16\", \"domain\": [0.824, 0.8969999999999999]}, \"yaxis17\": {\"anchor\": \"x17\", \"domain\": [0.824, 0.8969999999999999]}, \"yaxis18\": {\"anchor\": \"x18\", \"domain\": [0.824, 0.8969999999999999]}, \"yaxis19\": {\"anchor\": \"x19\", \"domain\": [0.824, 0.8969999999999999]}, \"yaxis2\": {\"anchor\": \"x2\", \"domain\": [0.9269999999999999, 0.9999999999999999]}, \"yaxis20\": {\"anchor\": \"x20\", \"domain\": [0.824, 0.8969999999999999]}, \"yaxis21\": {\"anchor\": \"x21\", \"domain\": [0.721, 0.7939999999999999], \"title\": {\"text\": \"T\"}}, \"yaxis22\": {\"anchor\": \"x22\", \"domain\": [0.721, 0.7939999999999999]}, \"yaxis23\": {\"anchor\": \"x23\", \"domain\": [0.721, 0.7939999999999999]}, \"yaxis24\": {\"anchor\": \"x24\", \"domain\": [0.721, 0.7939999999999999]}, \"yaxis25\": {\"anchor\": \"x25\", \"domain\": [0.721, 0.7939999999999999]}, \"yaxis26\": {\"anchor\": \"x26\", \"domain\": [0.721, 0.7939999999999999]}, \"yaxis27\": {\"anchor\": \"x27\", \"domain\": [0.721, 0.7939999999999999]}, \"yaxis28\": {\"anchor\": \"x28\", \"domain\": [0.721, 0.7939999999999999]}, \"yaxis29\": {\"anchor\": \"x29\", \"domain\": [0.721, 0.7939999999999999]}, \"yaxis3\": {\"anchor\": \"x3\", \"domain\": [0.9269999999999999, 0.9999999999999999]}, \"yaxis30\": {\"anchor\": \"x30\", \"domain\": [0.721, 0.7939999999999999]}, \"yaxis31\": {\"anchor\": \"x31\", \"domain\": [0.618, 0.691], \"title\": {\"text\": \"A\"}}, \"yaxis32\": {\"anchor\": \"x32\", \"domain\": [0.618, 0.691]}, \"yaxis33\": {\"anchor\": \"x33\", \"domain\": [0.618, 0.691]}, \"yaxis34\": {\"anchor\": \"x34\", \"domain\": [0.618, 0.691]}, \"yaxis35\": {\"anchor\": \"x35\", \"domain\": [0.618, 0.691]}, \"yaxis36\": {\"anchor\": \"x36\", \"domain\": [0.618, 0.691]}, \"yaxis37\": {\"anchor\": \"x37\", \"domain\": [0.618, 0.691]}, \"yaxis38\": {\"anchor\": \"x38\", \"domain\": [0.618, 0.691]}, \"yaxis39\": {\"anchor\": \"x39\", \"domain\": [0.618, 0.691]}, \"yaxis4\": {\"anchor\": \"x4\", \"domain\": [0.9269999999999999, 0.9999999999999999]}, \"yaxis40\": {\"anchor\": \"x40\", \"domain\": [0.618, 0.691]}, \"yaxis41\": {\"anchor\": \"x41\", \"domain\": [0.515, 0.588], \"title\": {\"text\": \"Alpha\"}}, \"yaxis42\": {\"anchor\": \"x42\", \"domain\": [0.515, 0.588]}, \"yaxis43\": {\"anchor\": \"x43\", \"domain\": [0.515, 0.588]}, \"yaxis44\": {\"anchor\": \"x44\", \"domain\": [0.515, 0.588]}, \"yaxis45\": {\"anchor\": \"x45\", \"domain\": [0.515, 0.588]}, \"yaxis46\": {\"anchor\": \"x46\", \"domain\": [0.515, 0.588]}, \"yaxis47\": {\"anchor\": \"x47\", \"domain\": [0.515, 0.588]}, \"yaxis48\": {\"anchor\": \"x48\", \"domain\": [0.515, 0.588]}, \"yaxis49\": {\"anchor\": \"x49\", \"domain\": [0.515, 0.588]}, \"yaxis5\": {\"anchor\": \"x5\", \"domain\": [0.9269999999999999, 0.9999999999999999]}, \"yaxis50\": {\"anchor\": \"x50\", \"domain\": [0.515, 0.588]}, \"yaxis51\": {\"anchor\": \"x51\", \"domain\": [0.412, 0.485], \"title\": {\"text\": \"Theta\"}}, \"yaxis52\": {\"anchor\": \"x52\", \"domain\": [0.412, 0.485]}, \"yaxis53\": {\"anchor\": \"x53\", \"domain\": [0.412, 0.485]}, \"yaxis54\": {\"anchor\": \"x54\", \"domain\": [0.412, 0.485]}, \"yaxis55\": {\"anchor\": \"x55\", \"domain\": [0.412, 0.485]}, \"yaxis56\": {\"anchor\": \"x56\", \"domain\": [0.412, 0.485]}, \"yaxis57\": {\"anchor\": \"x57\", \"domain\": [0.412, 0.485]}, \"yaxis58\": {\"anchor\": \"x58\", \"domain\": [0.412, 0.485]}, \"yaxis59\": {\"anchor\": \"x59\", \"domain\": [0.412, 0.485]}, \"yaxis6\": {\"anchor\": \"x6\", \"domain\": [0.9269999999999999, 0.9999999999999999]}, \"yaxis60\": {\"anchor\": \"x60\", \"domain\": [0.412, 0.485]}, \"yaxis61\": {\"anchor\": \"x61\", \"domain\": [0.30899999999999994, 0.38199999999999995], \"title\": {\"text\": \"beta\"}}, \"yaxis62\": {\"anchor\": \"x62\", \"domain\": [0.30899999999999994, 0.38199999999999995]}, \"yaxis63\": {\"anchor\": \"x63\", \"domain\": [0.30899999999999994, 0.38199999999999995]}, \"yaxis64\": {\"anchor\": \"x64\", \"domain\": [0.30899999999999994, 0.38199999999999995]}, \"yaxis65\": {\"anchor\": \"x65\", \"domain\": [0.30899999999999994, 0.38199999999999995]}, \"yaxis66\": {\"anchor\": \"x66\", \"domain\": [0.30899999999999994, 0.38199999999999995]}, \"yaxis67\": {\"anchor\": \"x67\", \"domain\": [0.30899999999999994, 0.38199999999999995]}, \"yaxis68\": {\"anchor\": \"x68\", \"domain\": [0.30899999999999994, 0.38199999999999995]}, \"yaxis69\": {\"anchor\": \"x69\", \"domain\": [0.30899999999999994, 0.38199999999999995]}, \"yaxis7\": {\"anchor\": \"x7\", \"domain\": [0.9269999999999999, 0.9999999999999999]}, \"yaxis70\": {\"anchor\": \"x70\", \"domain\": [0.30899999999999994, 0.38199999999999995]}, \"yaxis71\": {\"anchor\": \"x71\", \"domain\": [0.206, 0.27899999999999997], \"title\": {\"text\": \"dC\"}}, \"yaxis72\": {\"anchor\": \"x72\", \"domain\": [0.206, 0.27899999999999997]}, \"yaxis73\": {\"anchor\": \"x73\", \"domain\": [0.206, 0.27899999999999997]}, \"yaxis74\": {\"anchor\": \"x74\", \"domain\": [0.206, 0.27899999999999997]}, \"yaxis75\": {\"anchor\": \"x75\", \"domain\": [0.206, 0.27899999999999997]}, \"yaxis76\": {\"anchor\": \"x76\", \"domain\": [0.206, 0.27899999999999997]}, \"yaxis77\": {\"anchor\": \"x77\", \"domain\": [0.206, 0.27899999999999997]}, \"yaxis78\": {\"anchor\": \"x78\", \"domain\": [0.206, 0.27899999999999997]}, \"yaxis79\": {\"anchor\": \"x79\", \"domain\": [0.206, 0.27899999999999997]}, \"yaxis8\": {\"anchor\": \"x8\", \"domain\": [0.9269999999999999, 0.9999999999999999]}, \"yaxis80\": {\"anchor\": \"x80\", \"domain\": [0.206, 0.27899999999999997]}, \"yaxis81\": {\"anchor\": \"x81\", \"domain\": [0.103, 0.176], \"title\": {\"text\": \"dS\"}}, \"yaxis82\": {\"anchor\": \"x82\", \"domain\": [0.103, 0.176]}, \"yaxis83\": {\"anchor\": \"x83\", \"domain\": [0.103, 0.176]}, \"yaxis84\": {\"anchor\": \"x84\", \"domain\": [0.103, 0.176]}, \"yaxis85\": {\"anchor\": \"x85\", \"domain\": [0.103, 0.176]}, \"yaxis86\": {\"anchor\": \"x86\", \"domain\": [0.103, 0.176]}, \"yaxis87\": {\"anchor\": \"x87\", \"domain\": [0.103, 0.176]}, \"yaxis88\": {\"anchor\": \"x88\", \"domain\": [0.103, 0.176]}, \"yaxis89\": {\"anchor\": \"x89\", \"domain\": [0.103, 0.176]}, \"yaxis9\": {\"anchor\": \"x9\", \"domain\": [0.9269999999999999, 0.9999999999999999]}, \"yaxis90\": {\"anchor\": \"x90\", \"domain\": [0.103, 0.176]}, \"yaxis91\": {\"anchor\": \"x91\", \"domain\": [0.0, 0.073], \"title\": {\"text\": \"dCS\"}}, \"yaxis92\": {\"anchor\": \"x92\", \"domain\": [0.0, 0.073]}, \"yaxis93\": {\"anchor\": \"x93\", \"domain\": [0.0, 0.073]}, \"yaxis94\": {\"anchor\": \"x94\", \"domain\": [0.0, 0.073]}, \"yaxis95\": {\"anchor\": \"x95\", \"domain\": [0.0, 0.073]}, \"yaxis96\": {\"anchor\": \"x96\", \"domain\": [0.0, 0.073]}, \"yaxis97\": {\"anchor\": \"x97\", \"domain\": [0.0, 0.073]}, \"yaxis98\": {\"anchor\": \"x98\", \"domain\": [0.0, 0.073]}, \"yaxis99\": {\"anchor\": \"x99\", \"domain\": [0.0, 0.073]}},\n                        {\"responsive\": true}\n                    ).then(function(){\n                            \nvar gd = document.getElementById('6d9233cd-e211-488f-8264-d571e3214fc4');\nvar x = new MutationObserver(function (mutations, observer) {{\n        var display = window.getComputedStyle(gd).display;\n        if (!display || display === 'none') {{\n            console.log([gd, 'removed!']);\n            Plotly.purge(gd);\n            observer.disconnect();\n        }}\n}});\n\n// Listen for the removal of the full notebook cells\nvar notebookContainer = gd.closest('#notebook-container');\nif (notebookContainer) {{\n    x.observe(notebookContainer, {childList: true});\n}}\n\n// Listen for the clearing of the current output cell\nvar outputEl = gd.closest('.output');\nif (outputEl) {{\n    x.observe(outputEl, {childList: true});\n}}\n\n                        })\n                };\n                });\n            </script>\n        </div>"
     },
     "metadata": {},
     "output_type": "display_data"
    }
   ],
   "source": [
    "figure = ff.create_scatterplotmatrix(\n",
    "df[['C','S','T','A','Alpha','Theta','beta','dC','dS', 'zz', 'dCS']],\n",
    "width=2000, height=2000,\n",
    "diag='histogram',\n",
    "index='zz')\n",
    "plot(figure, filename='plotly_scatterplot_zz.html')\n",
    "figure.show()"
   ]
  },
  {
   "cell_type": "code",
   "execution_count": null,
   "outputs": [],
   "source": [
    "figure = ff.create_scatterplotmatrix(\n",
    "df[['C','S','T','A','Alpha','Theta','beta','dC','dS', 'zz', 'dCS']],\n",
    "width=2000, height=2000,\n",
    "diag='histogram',\n",
    "index='dS')\n",
    "plot(figure, filename='plotly_scatterplot_dS.html')\n",
    "figure.show()"
   ],
   "metadata": {
    "collapsed": false,
    "pycharm": {
     "name": "#%%\n"
    }
   }
  },
  {
   "cell_type": "code",
   "execution_count": null,
   "outputs": [],
   "source": [
    "# figure = ff.create_scatterplotmatrix(\n",
    "# df[['C','S','T','A','Alpha','Theta','beta','dC','dS']],\n",
    "# width=2000, height=2000,\n",
    "# diag='histogram',\n",
    "# index='A')\n",
    "# plot(figure, filename='plotly_scatterplot_A.html')\n",
    "# figure.show()"
   ],
   "metadata": {
    "collapsed": false,
    "pycharm": {
     "name": "#%%\n"
    }
   }
  },
  {
   "cell_type": "code",
   "execution_count": null,
   "outputs": [],
   "source": [
    "# figure = ff.create_scatterplotmatrix(\n",
    "# df[['C','S','T','A','Alpha','Theta','beta','dC','dS']],\n",
    "# width=2000, height=2000,\n",
    "# diag='histogram',\n",
    "# index='Alpha')\n",
    "# plot(figure, filename='plotly_scatterplot_Alpha.html')\n",
    "# figure.show()"
   ],
   "metadata": {
    "collapsed": false,
    "pycharm": {
     "name": "#%%\n"
    }
   }
  },
  {
   "cell_type": "code",
   "execution_count": null,
   "outputs": [],
   "source": [
    "# figure = ff.create_scatterplotmatrix(\n",
    "# df[['C','S','T','A','Alpha','Theta','beta','dC','dS']],\n",
    "# width=2000, height=2000,\n",
    "# diag='histogram',\n",
    "# index='beta')\n",
    "# plot(figure, filename='plotly_scatterplot_beta.html')\n",
    "# figure.show()"
   ],
   "metadata": {
    "collapsed": false,
    "pycharm": {
     "name": "#%%\n"
    }
   }
  },
  {
   "cell_type": "code",
   "execution_count": null,
   "outputs": [],
   "source": [
    "# figure = ff.create_scatterplotmatrix(\n",
    "# df[['C','S','T','A','Alpha','Theta','beta','dC','dS']],\n",
    "# # df[['C','S','A','Alpha','Theta','dC']],\n",
    "# width=2000, height=2000,\n",
    "# diag='histogram',\n",
    "# index='C')\n",
    "# plot(figure, filename='plotly_scatterplot_C.html')\n",
    "# figure.show()"
   ],
   "metadata": {
    "collapsed": false,
    "pycharm": {
     "name": "#%%\n"
    }
   }
  },
  {
   "cell_type": "code",
   "execution_count": null,
   "outputs": [],
   "source": [
    "# figure = ff.create_scatterplotmatrix(\n",
    "# df[['C','S','T','A','Alpha','Theta','beta','dC','dS']],\n",
    "# width=2000, height=2000,\n",
    "# diag='histogram',\n",
    "# index='S')\n",
    "# plot(figure, filename='plotly_scatterplot_S.html')\n",
    "# figure.show()"
   ],
   "metadata": {
    "collapsed": false,
    "pycharm": {
     "name": "#%%\n"
    }
   }
  },
  {
   "cell_type": "code",
   "execution_count": null,
   "outputs": [],
   "source": [
    "# figure = ff.create_scatterplotmatrix(\n",
    "# df[['C','S','T','A','Alpha','Theta','beta','dC','dS']],\n",
    "# # df[['C','S','A','Alpha','Theta','dC']],\n",
    "# width=2000, height=2000,\n",
    "# diag='histogram',\n",
    "# index='T')\n",
    "# plot(figure, filename='plotly_scatterplot_T.html')\n",
    "# figure.show()"
   ],
   "metadata": {
    "collapsed": false,
    "pycharm": {
     "name": "#%%\n"
    }
   }
  },
  {
   "cell_type": "code",
   "execution_count": null,
   "outputs": [],
   "source": [
    "# g = sns.PairGrid(df, diag_sharey=False)\n",
    "# g.map_lower(sns.kdeplot, )\n",
    "# g.map_upper(plt.scatter)\n",
    "# g.map_diag(sns.kdeplot)\n",
    "# plt.show()\n",
    "# g.savefig(\"pair_grid_C_S\")"
   ],
   "metadata": {
    "collapsed": false,
    "pycharm": {
     "name": "#%%\n"
    }
   }
  },
  {
   "cell_type": "code",
   "execution_count": null,
   "metadata": {},
   "outputs": [],
   "source": [
    "sns.countplot(y = 'C', data=df)\n",
    "plt.show()"
   ]
  },
  {
   "cell_type": "code",
   "execution_count": null,
   "metadata": {
    "pycharm": {
     "name": "#%%\n"
    }
   },
   "outputs": [],
   "source": [
    "sns.countplot(y = 'S', data=df)\n",
    "plt.show()"
   ]
  },
  {
   "cell_type": "code",
   "execution_count": null,
   "metadata": {},
   "outputs": [],
   "source": [
    "# fig = go.Figure(go.Box(\n",
    "#         x=df.C,\n",
    "#         y=df.S))\n",
    "# py.iplot(fig, filename='sns_boxplot_C_S.html')\n",
    "# fig.show()"
   ]
  },
  {
   "cell_type": "code",
   "execution_count": null,
   "metadata": {
    "pycharm": {
     "name": "#%%\n"
    }
   },
   "outputs": [],
   "source": [
    "corrs = df.corr()\n",
    "figure = ff.create_annotated_heatmap(\n",
    "z=corrs.values,\n",
    "x=list(corrs.columns),\n",
    "y=list(corrs.index),\n",
    "annotation_text=corrs.round(2).values,\n",
    "showscale=True)\n",
    "figure['layout']['yaxis']['autorange'] = \"reversed\"\n",
    "figure.savefig(\"plotly_heatmap_C_S\")\n",
    "figure.show()"
   ]
  },
  {
   "cell_type": "code",
   "execution_count": null,
   "metadata": {},
   "outputs": [],
   "source": [
    "# Correlation Matrix Heatmap\n",
    "f, ax = plt.subplots(figsize=(10, 6))\n",
    "corr = df.corr()\n",
    "hm = sns.heatmap(round(corr,2), annot=True, ax=ax, cmap=\"coolwarm\",fmt='.2f',\n",
    "linewidths=.05)\n",
    "f.subplots_adjust(top=0.93)\n",
    "t= f.suptitle('C-S Attributes Correlation Heatmap', fontsize=14)\n",
    "f.savefig(\"heatmap_C_S\")"
   ]
  },
  {
   "cell_type": "code",
   "execution_count": null,
   "metadata": {},
   "outputs": [],
   "source": [
    "model = smf.ols(formula='dS ~ S', data=df)\n",
    "results = model.fit()\n",
    "print(results.summary())\n",
    "print(results.params)\n",
    "print(results.conf_int())\n",
    "\n"
   ]
  },
  {
   "cell_type": "code",
   "execution_count": null,
   "metadata": {},
   "outputs": [],
   "source": [
    "model = smf.ols(formula='dC ~ C', data=df)\n",
    "results = model.fit()\n",
    "print(results.summary())\n",
    "print(results.params)\n",
    "print(results.conf_int())\n"
   ]
  },
  {
   "cell_type": "code",
   "execution_count": null,
   "metadata": {},
   "outputs": [],
   "source": [
    "model = smf.ols(formula='dC ~ C + S', data=df)\n",
    "results = model.fit()\n",
    "print(results.summary())\n",
    "print(results.params)\n",
    "print(results.conf_int())\n"
   ]
  },
  {
   "cell_type": "code",
   "execution_count": null,
   "metadata": {},
   "outputs": [],
   "source": [
    "model = smf.ols(formula='dC ~ Alpha', data=df)\n",
    "results = model.fit()\n",
    "print(results.summary())\n",
    "print(results.params)\n",
    "print(results.conf_int())\n"
   ]
  },
  {
   "cell_type": "code",
   "execution_count": null,
   "metadata": {},
   "outputs": [],
   "source": []
  },
  {
   "cell_type": "code",
   "execution_count": null,
   "metadata": {},
   "outputs": [],
   "source": []
  }
 ],
 "metadata": {
  "kernelspec": {
   "display_name": "Python 3",
   "language": "python",
   "name": "python3"
  },
  "language_info": {
   "codemirror_mode": {
    "name": "ipython",
    "version": 3
   },
   "file_extension": ".py",
   "mimetype": "text/x-python",
   "name": "python",
   "nbconvert_exporter": "python",
   "pygments_lexer": "ipython3",
   "version": "3.8.2"
  }
 },
 "nbformat": 4,
 "nbformat_minor": 2
}