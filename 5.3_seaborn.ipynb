{
 "cells": [
  {
   "cell_type": "code",
   "execution_count": 3,
   "metadata": {},
   "outputs": [],
   "source": [
    "import pandas as pd\n",
    "import numpy as np\n",
    "import matplotlib.pyplot as plt\n",
    "import seaborn as sns\n",
    "import warnings\n",
    "\n",
    "warnings.filterwarnings('ignore')\n",
    "%matplotlib inline"
   ]
  },
  {
   "cell_type": "code",
   "execution_count": 5,
   "metadata": {},
   "outputs": [],
   "source": [
    "df = pd.read_csv('data_files/Winkeldaten_analyse_punkt_01.csv')"
   ]
  },
  {
   "cell_type": "code",
   "execution_count": 6,
   "metadata": {},
   "outputs": [
    {
     "data": {
      "text/plain": "      C     S     T     A  Alpha  Theta  beta    dC     dS\n0  27.1  -8.2 -29.7  28.0  -15.7  135.8  40.6  33.0  20.00\n1  25.5 -17.3 -29.7  29.7  -33.1  134.1  41.7   6.0   8.00\n2  22.0 -17.3 -29.7  27.0  -37.6  136.8  40.0   1.0   8.59\n3  21.5 -16.5 -29.7  26.2  -36.9  137.7  39.4   0.0   7.00\n4  22.0 -16.0 -29.7  25.6  -36.8  138.4  39.0   0.0   7.00",
      "text/html": "<div>\n<style scoped>\n    .dataframe tbody tr th:only-of-type {\n        vertical-align: middle;\n    }\n\n    .dataframe tbody tr th {\n        vertical-align: top;\n    }\n\n    .dataframe thead th {\n        text-align: right;\n    }\n</style>\n<table border=\"1\" class=\"dataframe\">\n  <thead>\n    <tr style=\"text-align: right;\">\n      <th></th>\n      <th>C</th>\n      <th>S</th>\n      <th>T</th>\n      <th>A</th>\n      <th>Alpha</th>\n      <th>Theta</th>\n      <th>beta</th>\n      <th>dC</th>\n      <th>dS</th>\n    </tr>\n  </thead>\n  <tbody>\n    <tr>\n      <th>0</th>\n      <td>27.1</td>\n      <td>-8.2</td>\n      <td>-29.7</td>\n      <td>28.0</td>\n      <td>-15.7</td>\n      <td>135.8</td>\n      <td>40.6</td>\n      <td>33.0</td>\n      <td>20.00</td>\n    </tr>\n    <tr>\n      <th>1</th>\n      <td>25.5</td>\n      <td>-17.3</td>\n      <td>-29.7</td>\n      <td>29.7</td>\n      <td>-33.1</td>\n      <td>134.1</td>\n      <td>41.7</td>\n      <td>6.0</td>\n      <td>8.00</td>\n    </tr>\n    <tr>\n      <th>2</th>\n      <td>22.0</td>\n      <td>-17.3</td>\n      <td>-29.7</td>\n      <td>27.0</td>\n      <td>-37.6</td>\n      <td>136.8</td>\n      <td>40.0</td>\n      <td>1.0</td>\n      <td>8.59</td>\n    </tr>\n    <tr>\n      <th>3</th>\n      <td>21.5</td>\n      <td>-16.5</td>\n      <td>-29.7</td>\n      <td>26.2</td>\n      <td>-36.9</td>\n      <td>137.7</td>\n      <td>39.4</td>\n      <td>0.0</td>\n      <td>7.00</td>\n    </tr>\n    <tr>\n      <th>4</th>\n      <td>22.0</td>\n      <td>-16.0</td>\n      <td>-29.7</td>\n      <td>25.6</td>\n      <td>-36.8</td>\n      <td>138.4</td>\n      <td>39.0</td>\n      <td>0.0</td>\n      <td>7.00</td>\n    </tr>\n  </tbody>\n</table>\n</div>"
     },
     "execution_count": 6,
     "metadata": {},
     "output_type": "execute_result"
    }
   ],
   "source": [
    "df.head()"
   ]
  },
  {
   "cell_type": "code",
   "execution_count": null,
   "metadata": {},
   "outputs": [],
   "source": [
    "sns.distplot(df['mpg'], kde=False, bins=20)\n",
    "plt.show()"
   ]
  },
  {
   "cell_type": "code",
   "execution_count": null,
   "metadata": {},
   "outputs": [],
   "source": [
    "plt.figure(figsize=[10,6])\n",
    "sns.distplot(df['mpg'], kde=False, bins=20)\n",
    "plt.show()"
   ]
  },
  {
   "cell_type": "code",
   "execution_count": null,
   "metadata": {},
   "outputs": [],
   "source": [
    "sns.lmplot('weight', 'mpg', data=df, fit_reg= False, aspect=2, size =4)\n",
    "plt.show()"
   ]
  },
  {
   "cell_type": "code",
   "execution_count": null,
   "metadata": {},
   "outputs": [],
   "source": [
    "sns.lmplot('weight', 'mpg', data=df, fit_reg= False, aspect=2, size =4, hue='cylinders')\n",
    "plt.show()"
   ]
  },
  {
   "cell_type": "code",
   "execution_count": null,
   "metadata": {},
   "outputs": [],
   "source": [
    "sns.lmplot('weight', 'mpg', data=df, fit_reg= False, aspect=1, size =5, hue='cylinders', col='origin')\n",
    "plt.show()"
   ]
  },
  {
   "cell_type": "code",
   "execution_count": null,
   "metadata": {},
   "outputs": [],
   "source": [
    "sns.kdeplot(df['weight'], df['mpg'], shade=True)\n",
    "plt.show()"
   ]
  },
  {
   "cell_type": "code",
   "execution_count": null,
   "metadata": {},
   "outputs": [],
   "source": [
    "sns.jointplot('weight', 'mpg', data=df, alpha=0.4)\n",
    "plt.show()"
   ]
  },
  {
   "cell_type": "code",
   "execution_count": null,
   "metadata": {},
   "outputs": [],
   "source": [
    "g = sns.PairGrid(df, diag_sharey=False)\n",
    "g.map_lower(sns.kdeplot, )\n",
    "g.map_upper(plt.scatter)\n",
    "g.map_diag(sns.kdeplot)\n",
    "plt.show()"
   ]
  },
  {
   "cell_type": "code",
   "execution_count": null,
   "metadata": {},
   "outputs": [],
   "source": [
    "sns.countplot(y = 'cylinders', data=df)\n",
    "plt.show()"
   ]
  },
  {
   "cell_type": "code",
   "execution_count": null,
   "metadata": {},
   "outputs": [],
   "source": [
    "sns.boxplot(x='origin', y='mpg', data=df, hue='cylinders')\n",
    "plt.show()"
   ]
  },
  {
   "cell_type": "code",
   "execution_count": null,
   "metadata": {},
   "outputs": [],
   "source": []
  },
  {
   "cell_type": "code",
   "execution_count": null,
   "metadata": {},
   "outputs": [],
   "source": []
  },
  {
   "cell_type": "code",
   "execution_count": null,
   "metadata": {},
   "outputs": [],
   "source": []
  },
  {
   "cell_type": "code",
   "execution_count": null,
   "metadata": {},
   "outputs": [],
   "source": []
  },
  {
   "cell_type": "code",
   "execution_count": null,
   "metadata": {},
   "outputs": [],
   "source": []
  },
  {
   "cell_type": "code",
   "execution_count": null,
   "metadata": {},
   "outputs": [],
   "source": []
  },
  {
   "cell_type": "code",
   "execution_count": null,
   "metadata": {},
   "outputs": [],
   "source": []
  }
 ],
 "metadata": {
  "kernelspec": {
   "display_name": "Python 3",
   "language": "python",
   "name": "python3"
  },
  "language_info": {
   "codemirror_mode": {
    "name": "ipython",
    "version": 3
   },
   "file_extension": ".py",
   "mimetype": "text/x-python",
   "name": "python",
   "nbconvert_exporter": "python",
   "pygments_lexer": "ipython3",
   "version": "3.8.0"
  }
 },
 "nbformat": 4,
 "nbformat_minor": 2
}